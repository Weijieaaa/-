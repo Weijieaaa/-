{
  "nbformat": 4,
  "nbformat_minor": 0,
  "metadata": {
    "colab": {
      "name": "Stanza-CoreNLP-Interface.ipynb",
      "provenance": [],
      "include_colab_link": true
    },
    "kernelspec": {
      "name": "python3",
      "display_name": "Python 3"
    }
  },
  "cells": [
    {
      "cell_type": "markdown",
      "metadata": {
        "id": "view-in-github",
        "colab_type": "text"
      },
      "source": [
        "<a href=\"https://colab.research.google.com/github/Weijieaaa/-/blob/main/demo/Stanza_CoreNLP_Interface.ipynb\" target=\"_parent\"><img src=\"https://colab.research.google.com/assets/colab-badge.svg\" alt=\"Open In Colab\"/></a>"
      ]
    },
    {
      "cell_type": "markdown",
      "metadata": {
        "id": "2-4lzQTC9yxG"
      },
      "source": [
        "# Stanza: A Tutorial on the Python CoreNLP Interface\n",
        "\n",
        "![Latest Version](https://img.shields.io/pypi/v/stanza.svg?colorB=bc4545)\n",
        "![Python Versions](https://img.shields.io/pypi/pyversions/stanza.svg?colorB=bc4545)\n",
        "\n",
        "While the Stanza library implements accurate neural network modules for basic functionalities such as part-of-speech tagging and dependency parsing, the [Stanford CoreNLP Java library](https://stanfordnlp.github.io/CoreNLP/) has been developed for years and offers more complementary features such as coreference resolution and relation extraction. To unlock these features, the Stanza library also offers an officially maintained Python interface to the CoreNLP Java library. This interface allows you to get NLP anntotations from CoreNLP by writing native Python code.\n",
        "\n",
        "\n",
        "This tutorial walks you through the installation, setup and basic usage of this Python CoreNLP interface. If you want to learn how to use the neural network components in Stanza, please refer to other tutorials."
      ]
    },
    {
      "cell_type": "markdown",
      "metadata": {
        "id": "YpKwWeVkASGt"
      },
      "source": [
        "## 1. Installation\n",
        "\n",
        "Before the installation starts, please make sure that you have Python 3 and Java installed on your computer. Since Colab already has them installed, we'll skip this procedure in this notebook."
      ]
    },
    {
      "cell_type": "markdown",
      "metadata": {
        "id": "k1Az2ECuAfG8"
      },
      "source": [
        "### Installing Stanza\n",
        "\n",
        "Installing and importing Stanza are as simple as running the following commands:"
      ]
    },
    {
      "cell_type": "code",
      "metadata": {
        "id": "xiFwYAgW4Mss",
        "colab": {
          "base_uri": "https://localhost:8080/"
        },
        "outputId": "db4fd296-9879-404a-e56a-1c3ee3426a93"
      },
      "source": [
        "# Install stanza; note that the prefix \"!\" is not needed if you are running in a terminal\n",
        "!pip install stanza\n",
        "\n",
        "# Import stanza\n",
        "import stanza"
      ],
      "execution_count": 6,
      "outputs": [
        {
          "output_type": "stream",
          "name": "stdout",
          "text": [
            "Requirement already satisfied: stanza in /usr/local/lib/python3.10/dist-packages (1.9.2)\n",
            "Requirement already satisfied: emoji in /usr/local/lib/python3.10/dist-packages (from stanza) (2.14.0)\n",
            "Requirement already satisfied: numpy in /usr/local/lib/python3.10/dist-packages (from stanza) (1.26.4)\n",
            "Requirement already satisfied: protobuf>=3.15.0 in /usr/local/lib/python3.10/dist-packages (from stanza) (4.25.5)\n",
            "Requirement already satisfied: requests in /usr/local/lib/python3.10/dist-packages (from stanza) (2.32.3)\n",
            "Requirement already satisfied: networkx in /usr/local/lib/python3.10/dist-packages (from stanza) (3.4.2)\n",
            "Requirement already satisfied: torch>=1.3.0 in /usr/local/lib/python3.10/dist-packages (from stanza) (2.5.1+cu121)\n",
            "Requirement already satisfied: tqdm in /usr/local/lib/python3.10/dist-packages (from stanza) (4.66.6)\n",
            "Requirement already satisfied: tomli in /usr/local/lib/python3.10/dist-packages (from stanza) (2.2.1)\n",
            "Requirement already satisfied: filelock in /usr/local/lib/python3.10/dist-packages (from torch>=1.3.0->stanza) (3.16.1)\n",
            "Requirement already satisfied: typing-extensions>=4.8.0 in /usr/local/lib/python3.10/dist-packages (from torch>=1.3.0->stanza) (4.12.2)\n",
            "Requirement already satisfied: jinja2 in /usr/local/lib/python3.10/dist-packages (from torch>=1.3.0->stanza) (3.1.4)\n",
            "Requirement already satisfied: fsspec in /usr/local/lib/python3.10/dist-packages (from torch>=1.3.0->stanza) (2024.10.0)\n",
            "Requirement already satisfied: sympy==1.13.1 in /usr/local/lib/python3.10/dist-packages (from torch>=1.3.0->stanza) (1.13.1)\n",
            "Requirement already satisfied: mpmath<1.4,>=1.1.0 in /usr/local/lib/python3.10/dist-packages (from sympy==1.13.1->torch>=1.3.0->stanza) (1.3.0)\n",
            "Requirement already satisfied: charset-normalizer<4,>=2 in /usr/local/lib/python3.10/dist-packages (from requests->stanza) (3.4.0)\n",
            "Requirement already satisfied: idna<4,>=2.5 in /usr/local/lib/python3.10/dist-packages (from requests->stanza) (3.10)\n",
            "Requirement already satisfied: urllib3<3,>=1.21.1 in /usr/local/lib/python3.10/dist-packages (from requests->stanza) (2.2.3)\n",
            "Requirement already satisfied: certifi>=2017.4.17 in /usr/local/lib/python3.10/dist-packages (from requests->stanza) (2024.8.30)\n",
            "Requirement already satisfied: MarkupSafe>=2.0 in /usr/local/lib/python3.10/dist-packages (from jinja2->torch>=1.3.0->stanza) (3.0.2)\n"
          ]
        }
      ]
    },
    {
      "cell_type": "markdown",
      "metadata": {
        "id": "2zFvaA8_A32_"
      },
      "source": [
        "### Setting up Stanford CoreNLP\n",
        "\n",
        "In order for the interface to work, the Stanford CoreNLP library has to be installed and a `CORENLP_HOME` environment variable has to be pointed to the installation location.\n",
        "\n",
        "Here we are going to show you how to download and install the CoreNLP library on your machine, with Stanza's installation command:"
      ]
    },
    {
      "cell_type": "code",
      "metadata": {
        "id": "MgK6-LPV-OdA",
        "colab": {
          "base_uri": "https://localhost:8080/"
        },
        "outputId": "4d1e1aa3-6709-4b1e-c648-0cfc1247eaf7"
      },
      "source": [
        "# Download the Stanford CoreNLP package with Stanza's installation command\n",
        "# This'll take several minutes, depending on the network speed\n",
        "corenlp_dir = './corenlp'\n",
        "stanza.install_corenlp(dir=corenlp_dir)\n",
        "\n",
        "# Set the CORENLP_HOME environment variable to point to the installation location\n",
        "import os\n",
        "os.environ[\"CORENLP_HOME\"] = corenlp_dir"
      ],
      "execution_count": 7,
      "outputs": [
        {
          "output_type": "stream",
          "name": "stderr",
          "text": [
            "WARNING:stanza:Directory ./corenlp already exists. Please install CoreNLP to a new directory.\n"
          ]
        }
      ]
    },
    {
      "cell_type": "markdown",
      "metadata": {
        "id": "Jdq8MT-NAhKj"
      },
      "source": [
        "That's all for the installation! 🎉  We can now double check if the installation is successful by listing files in the CoreNLP directory. You should be able to see a number of `.jar` files by running the following command:"
      ]
    },
    {
      "cell_type": "code",
      "metadata": {
        "id": "K5eIOaJp_tuo",
        "colab": {
          "base_uri": "https://localhost:8080/"
        },
        "outputId": "aaf7c866-641e-4097-bc0b-edae4a8b49b8"
      },
      "source": [
        "# Examine the CoreNLP installation folder to make sure the installation is successful\n",
        "!ls $CORENLP_HOME"
      ],
      "execution_count": 3,
      "outputs": [
        {
          "output_type": "stream",
          "name": "stdout",
          "text": [
            "build.xml\t\t\t\t  LIBRARY-LICENSES\n",
            "corenlp.sh\t\t\t\t  LICENSE.txt\n",
            "CoreNLP-to-HTML.xsl\t\t\t  Makefile\n",
            "ejml-core-0.39.jar\t\t\t  patterns\n",
            "ejml-core-0.39-sources.jar\t\t  pom-java-11.xml\n",
            "ejml-ddense-0.39.jar\t\t\t  pom-java-17.xml\n",
            "ejml-ddense-0.39-sources.jar\t\t  pom.xml\n",
            "ejml-simple-0.39.jar\t\t\t  protobuf-java-3.19.6.jar\n",
            "ejml-simple-0.39-sources.jar\t\t  README.txt\n",
            "input.txt\t\t\t\t  RESOURCE-LICENSES\n",
            "input.txt.out\t\t\t\t  sample-project-pom.xml\n",
            "input.txt.xml\t\t\t\t  SemgrexDemo.java\n",
            "istack-commons-runtime-3.0.7.jar\t  ShiftReduceDemo.java\n",
            "istack-commons-runtime-3.0.7-sources.jar  slf4j-api.jar\n",
            "javax.activation-api-1.2.0.jar\t\t  slf4j-simple.jar\n",
            "javax.activation-api-1.2.0-sources.jar\t  stanford-corenlp-4.5.7.jar\n",
            "javax.json-api-1.0-sources.jar\t\t  stanford-corenlp-4.5.7-javadoc.jar\n",
            "javax.json.jar\t\t\t\t  stanford-corenlp-4.5.7-models.jar\n",
            "jaxb-api-2.4.0-b180830.0359.jar\t\t  stanford-corenlp-4.5.7-sources.jar\n",
            "jaxb-api-2.4.0-b180830.0359-sources.jar   StanfordCoreNlpDemo.java\n",
            "jaxb-impl-2.4.0-b180830.0438.jar\t  StanfordDependenciesManual.pdf\n",
            "jaxb-impl-2.4.0-b180830.0438-sources.jar  sutime\n",
            "joda-time-2.10.5-sources.jar\t\t  tokensregex\n",
            "joda-time.jar\t\t\t\t  xom-1.3.9-sources.jar\n",
            "jollyday-0.4.9-sources.jar\t\t  xom.jar\n",
            "jollyday.jar\n"
          ]
        }
      ]
    },
    {
      "cell_type": "markdown",
      "metadata": {
        "id": "S0xb9BHt__gx"
      },
      "source": [
        "**Note 1**:\n",
        "If you are want to use the interface in a terminal (instead of a Colab notebook), you can properly set the `CORENLP_HOME` environment variable with:\n",
        "\n",
        "```bash\n",
        "export CORENLP_HOME=path_to_corenlp_dir\n",
        "```\n",
        "\n",
        "Here we instead set this variable with the Python `os` library, simply because `export` command is not well-supported in Colab notebook.\n",
        "\n",
        "\n",
        "**Note 2**:\n",
        "The `stanza.install_corenlp()` function is only available since Stanza v1.1.1. If you are using an earlier version of Stanza, please check out our [manual installation page](https://stanfordnlp.github.io/stanza/client_setup.html#manual-installation) for how to install CoreNLP on your computer.\n",
        "\n",
        "**Note 3**:\n",
        "Besides the installation function, we also provide a `stanza.download_corenlp_models()` function to help you download additional CoreNLP models for different languages that are not shipped with the default installation. Check out our [automatic installation website page](https://stanfordnlp.github.io/stanza/client_setup.html#automated-installation) for more information on how to use it."
      ]
    },
    {
      "cell_type": "markdown",
      "metadata": {
        "id": "xJsuO6D8D05q"
      },
      "source": [
        "## 2. Annotating Text with CoreNLP Interface"
      ]
    },
    {
      "cell_type": "markdown",
      "metadata": {
        "id": "dZNHxXHkH1K2"
      },
      "source": [
        "### Constructing CoreNLPClient\n",
        "\n",
        "At a high level, the CoreNLP Python interface works by first starting a background Java CoreNLP server process, and then initializing a client instance in Python which can pass the text to the background server process, and accept the returned annotation results.\n",
        "\n",
        "We wrap these functionalities in a `CoreNLPClient` class. Therefore, we need to start by importing this class from Stanza."
      ]
    },
    {
      "cell_type": "code",
      "metadata": {
        "id": "LS4OKnqJ8wui"
      },
      "source": [
        "# Import client module\n",
        "from stanza.server import CoreNLPClient"
      ],
      "execution_count": 2,
      "outputs": []
    },
    {
      "cell_type": "markdown",
      "metadata": {
        "id": "WP4Dz6PIJHeL"
      },
      "source": [
        "After the import is done, we can construct a `CoreNLPClient` instance. The constructor method takes a Python list of annotator names as argument. Here let's explore some basic annotators including tokenization, sentence split, part-of-speech tagging, lemmatization and named entity recognition (NER).\n",
        "\n",
        "Additionally, the client constructor accepts a `memory` argument, which specifies how much memory will be allocated to the background Java process. An `endpoint` option can be used to specify a port number used by the communication between the server and the client. The default port is 9000. However, since this port is pre-occupied by a system process in Colab, we'll manually set it to 9001 in the following example.\n",
        "\n",
        "Also, here we manually set `be_quiet=True` to avoid an IO issue in colab notebook. You should be able to use `be_quiet=False` on your own computer, which will print detailed logging information from CoreNLP during usage.\n",
        "\n",
        "For more options in constructing the clients, please refer to the [CoreNLP Client Options List](https://stanfordnlp.github.io/stanza/corenlp_client.html#corenlp-client-options)."
      ]
    },
    {
      "cell_type": "code",
      "metadata": {
        "id": "mbOBugvd9JaM",
        "colab": {
          "base_uri": "https://localhost:8080/"
        },
        "outputId": "4c15b826-e742-42fe-893a-568f150056e1"
      },
      "source": [
        "# Construct a CoreNLPClient with some basic annotators, a memory allocation of 4GB, and port number 9001\n",
        "client = CoreNLPClient(\n",
        "    annotators=['tokenize','ssplit', 'pos', 'lemma', 'ner'],\n",
        "    memory='4G',\n",
        "    endpoint='http://localhost:9001',\n",
        "    be_quiet=True)\n",
        "print(client)\n",
        "\n",
        "# Start the background server and wait for some time\n",
        "# Note that in practice this is totally optional, as by default the server will be started when the first annotation is performed\n",
        "client.start()\n",
        "import time; time.sleep(10)"
      ],
      "execution_count": 5,
      "outputs": [
        {
          "output_type": "stream",
          "name": "stderr",
          "text": [
            "INFO:stanza:Writing properties to tmp file: corenlp_server-76e938a6f4fd46e2.props\n",
            "INFO:stanza:Starting server with command: java -Xmx4G -cp ./corenlp/* edu.stanford.nlp.pipeline.StanfordCoreNLPServer -port 9001 -timeout 60000 -threads 5 -maxCharLength 100000 -quiet True -serverProperties corenlp_server-76e938a6f4fd46e2.props -annotators tokenize,ssplit,pos,lemma,ner -preload -outputFormat serialized\n"
          ]
        },
        {
          "output_type": "stream",
          "name": "stdout",
          "text": [
            "<stanza.server.client.CoreNLPClient object at 0x7c6650ebe830>\n"
          ]
        }
      ]
    },
    {
      "cell_type": "markdown",
      "metadata": {
        "id": "kgTiVjNydmIW"
      },
      "source": [
        "After the above code block finishes executing, if you print the background processes, you should be able to find the Java CoreNLP server running."
      ]
    },
    {
      "cell_type": "code",
      "metadata": {
        "id": "spZrJ-oFdkdF",
        "colab": {
          "base_uri": "https://localhost:8080/"
        },
        "outputId": "5b1a580a-dc80-4854-f897-cbde72c568d2"
      },
      "source": [
        "# Print background processes and look for java\n",
        "# You should be able to see a StanfordCoreNLPServer java process running in the background\n",
        "!ps -o pid,cmd | grep java"
      ],
      "execution_count": 6,
      "outputs": [
        {
          "output_type": "stream",
          "name": "stdout",
          "text": [
            "   3151 java -Xmx4G -cp ./corenlp/* edu.stanford.nlp.pipeline.StanfordCoreNLPServer -port 9001 -time\n",
            "   3210 /bin/bash -c ps -o pid,cmd | grep java\n",
            "   3212 grep java\n"
          ]
        }
      ]
    },
    {
      "cell_type": "markdown",
      "metadata": {
        "id": "KxJeJ0D2LoOs"
      },
      "source": [
        "### Annotating Text\n",
        "\n",
        "Annotating a piece of text is as simple as passing the text into an `annotate` function of the client object. After the annotation is complete, a `Document`  object will be returned with all annotations.\n",
        "\n",
        "Note that although in general annotations are very fast, the first annotation might take a while to complete in the notebook. Please stay patient."
      ]
    },
    {
      "cell_type": "code",
      "metadata": {
        "id": "s194RnNg5z95",
        "colab": {
          "base_uri": "https://localhost:8080/"
        },
        "outputId": "c192270a-a0a2-4287-de94-71135645caee"
      },
      "source": [
        "# Annotate some text\n",
        "text = \"Albert Einstein was a German-born theoretical physicist. He developed the theory of relativity.\"\n",
        "document = client.annotate(text)\n",
        "print(type(document))"
      ],
      "execution_count": 7,
      "outputs": [
        {
          "output_type": "stream",
          "name": "stdout",
          "text": [
            "<class 'CoreNLP_pb2.Document'>\n"
          ]
        }
      ]
    },
    {
      "cell_type": "code",
      "source": [
        "document"
      ],
      "metadata": {
        "collapsed": true,
        "id": "zKW93s8uMyJs",
        "outputId": "de189fd5-45b2-4615-d21c-9d7bcd7602f0",
        "colab": {
          "base_uri": "https://localhost:8080/"
        }
      },
      "execution_count": 8,
      "outputs": [
        {
          "output_type": "execute_result",
          "data": {
            "text/plain": [
              "text: \"Albert Einstein was a German-born theoretical physicist. He developed the theory of relativity.\"\n",
              "sentence {\n",
              "  token {\n",
              "    word: \"Albert\"\n",
              "    pos: \"NNP\"\n",
              "    value: \"Albert\"\n",
              "    before: \"\"\n",
              "    after: \" \"\n",
              "    originalText: \"Albert\"\n",
              "    ner: \"PERSON\"\n",
              "    coarseNER: \"PERSON\"\n",
              "    fineGrainedNER: \"PERSON\"\n",
              "    nerLabelProbs: \"PERSON=0.9999331283889166\"\n",
              "    lemma: \"Albert\"\n",
              "    beginChar: 0\n",
              "    endChar: 6\n",
              "    tokenBeginIndex: 0\n",
              "    tokenEndIndex: 1\n",
              "    hasXmlContext: false\n",
              "    isNewline: false\n",
              "    entityMentionIndex: 0\n",
              "  }\n",
              "  token {\n",
              "    word: \"Einstein\"\n",
              "    pos: \"NNP\"\n",
              "    value: \"Einstein\"\n",
              "    before: \" \"\n",
              "    after: \" \"\n",
              "    originalText: \"Einstein\"\n",
              "    ner: \"PERSON\"\n",
              "    coarseNER: \"PERSON\"\n",
              "    fineGrainedNER: \"PERSON\"\n",
              "    nerLabelProbs: \"PERSON=0.9999992044892745\"\n",
              "    lemma: \"Einstein\"\n",
              "    beginChar: 7\n",
              "    endChar: 15\n",
              "    tokenBeginIndex: 1\n",
              "    tokenEndIndex: 2\n",
              "    hasXmlContext: false\n",
              "    isNewline: false\n",
              "    entityMentionIndex: 0\n",
              "  }\n",
              "  token {\n",
              "    word: \"was\"\n",
              "    pos: \"VBD\"\n",
              "    value: \"was\"\n",
              "    before: \" \"\n",
              "    after: \" \"\n",
              "    originalText: \"was\"\n",
              "    ner: \"O\"\n",
              "    coarseNER: \"O\"\n",
              "    fineGrainedNER: \"O\"\n",
              "    nerLabelProbs: \"O=0.9999932789559319\"\n",
              "    lemma: \"be\"\n",
              "    beginChar: 16\n",
              "    endChar: 19\n",
              "    tokenBeginIndex: 2\n",
              "    tokenEndIndex: 3\n",
              "    hasXmlContext: false\n",
              "    isNewline: false\n",
              "  }\n",
              "  token {\n",
              "    word: \"a\"\n",
              "    pos: \"DT\"\n",
              "    value: \"a\"\n",
              "    before: \" \"\n",
              "    after: \" \"\n",
              "    originalText: \"a\"\n",
              "    ner: \"O\"\n",
              "    coarseNER: \"O\"\n",
              "    fineGrainedNER: \"O\"\n",
              "    nerLabelProbs: \"O=0.9999927468825828\"\n",
              "    lemma: \"a\"\n",
              "    beginChar: 20\n",
              "    endChar: 21\n",
              "    tokenBeginIndex: 3\n",
              "    tokenEndIndex: 4\n",
              "    hasXmlContext: false\n",
              "    isNewline: false\n",
              "  }\n",
              "  token {\n",
              "    word: \"German\"\n",
              "    pos: \"JJ\"\n",
              "    value: \"German\"\n",
              "    before: \" \"\n",
              "    after: \"\"\n",
              "    originalText: \"German\"\n",
              "    ner: \"NATIONALITY\"\n",
              "    coarseNER: \"MISC\"\n",
              "    fineGrainedNER: \"NATIONALITY\"\n",
              "    nerLabelProbs: \"MISC=0.9999987842676035\"\n",
              "    lemma: \"German\"\n",
              "    beginChar: 22\n",
              "    endChar: 28\n",
              "    tokenBeginIndex: 4\n",
              "    tokenEndIndex: 5\n",
              "    hasXmlContext: false\n",
              "    isNewline: false\n",
              "    entityMentionIndex: 1\n",
              "  }\n",
              "  token {\n",
              "    word: \"-\"\n",
              "    pos: \"HYPH\"\n",
              "    value: \"-\"\n",
              "    before: \"\"\n",
              "    after: \"\"\n",
              "    originalText: \"-\"\n",
              "    ner: \"O\"\n",
              "    coarseNER: \"O\"\n",
              "    fineGrainedNER: \"O\"\n",
              "    nerLabelProbs: \"O=0.9998765802180007\"\n",
              "    lemma: \"-\"\n",
              "    beginChar: 28\n",
              "    endChar: 29\n",
              "    tokenBeginIndex: 5\n",
              "    tokenEndIndex: 6\n",
              "    hasXmlContext: false\n",
              "    isNewline: false\n",
              "  }\n",
              "  token {\n",
              "    word: \"born\"\n",
              "    pos: \"VBN\"\n",
              "    value: \"born\"\n",
              "    before: \"\"\n",
              "    after: \" \"\n",
              "    originalText: \"born\"\n",
              "    ner: \"O\"\n",
              "    coarseNER: \"O\"\n",
              "    fineGrainedNER: \"O\"\n",
              "    nerLabelProbs: \"O=0.9998956433598255\"\n",
              "    lemma: \"bear\"\n",
              "    beginChar: 29\n",
              "    endChar: 33\n",
              "    tokenBeginIndex: 6\n",
              "    tokenEndIndex: 7\n",
              "    hasXmlContext: false\n",
              "    isNewline: false\n",
              "  }\n",
              "  token {\n",
              "    word: \"theoretical\"\n",
              "    pos: \"JJ\"\n",
              "    value: \"theoretical\"\n",
              "    before: \" \"\n",
              "    after: \" \"\n",
              "    originalText: \"theoretical\"\n",
              "    ner: \"TITLE\"\n",
              "    coarseNER: \"O\"\n",
              "    fineGrainedNER: \"TITLE\"\n",
              "    nerLabelProbs: \"O=0.9999947872437227\"\n",
              "    lemma: \"theoretical\"\n",
              "    beginChar: 34\n",
              "    endChar: 45\n",
              "    tokenBeginIndex: 7\n",
              "    tokenEndIndex: 8\n",
              "    hasXmlContext: false\n",
              "    isNewline: false\n",
              "    entityMentionIndex: 2\n",
              "  }\n",
              "  token {\n",
              "    word: \"physicist\"\n",
              "    pos: \"NN\"\n",
              "    value: \"physicist\"\n",
              "    before: \" \"\n",
              "    after: \"\"\n",
              "    originalText: \"physicist\"\n",
              "    ner: \"TITLE\"\n",
              "    coarseNER: \"O\"\n",
              "    fineGrainedNER: \"TITLE\"\n",
              "    nerLabelProbs: \"O=0.9999861020678511\"\n",
              "    lemma: \"physicist\"\n",
              "    beginChar: 46\n",
              "    endChar: 55\n",
              "    tokenBeginIndex: 8\n",
              "    tokenEndIndex: 9\n",
              "    hasXmlContext: false\n",
              "    isNewline: false\n",
              "    entityMentionIndex: 2\n",
              "  }\n",
              "  token {\n",
              "    word: \".\"\n",
              "    pos: \".\"\n",
              "    value: \".\"\n",
              "    before: \"\"\n",
              "    after: \" \"\n",
              "    originalText: \".\"\n",
              "    ner: \"O\"\n",
              "    coarseNER: \"O\"\n",
              "    fineGrainedNER: \"O\"\n",
              "    nerLabelProbs: \"O=0.9999991921578578\"\n",
              "    lemma: \".\"\n",
              "    beginChar: 55\n",
              "    endChar: 56\n",
              "    tokenBeginIndex: 9\n",
              "    tokenEndIndex: 10\n",
              "    hasXmlContext: false\n",
              "    isNewline: false\n",
              "  }\n",
              "  tokenOffsetBegin: 0\n",
              "  tokenOffsetEnd: 10\n",
              "  sentenceIndex: 0\n",
              "  characterOffsetBegin: 0\n",
              "  characterOffsetEnd: 56\n",
              "  hasRelationAnnotations: false\n",
              "  hasNumerizedTokensAnnotation: false\n",
              "  mentions {\n",
              "    sentenceIndex: 0\n",
              "    tokenStartInSentenceInclusive: 0\n",
              "    tokenEndInSentenceExclusive: 2\n",
              "    ner: \"PERSON\"\n",
              "    entityType: \"PERSON\"\n",
              "    entityMentionIndex: 0\n",
              "    canonicalEntityMentionIndex: 0\n",
              "    entityMentionText: \"Albert Einstein\"\n",
              "  }\n",
              "  mentions {\n",
              "    sentenceIndex: 0\n",
              "    tokenStartInSentenceInclusive: 4\n",
              "    tokenEndInSentenceExclusive: 5\n",
              "    ner: \"NATIONALITY\"\n",
              "    entityType: \"NATIONALITY\"\n",
              "    entityMentionIndex: 1\n",
              "    canonicalEntityMentionIndex: 1\n",
              "    entityMentionText: \"German\"\n",
              "  }\n",
              "  mentions {\n",
              "    sentenceIndex: 0\n",
              "    tokenStartInSentenceInclusive: 7\n",
              "    tokenEndInSentenceExclusive: 9\n",
              "    ner: \"TITLE\"\n",
              "    entityType: \"TITLE\"\n",
              "    entityMentionIndex: 2\n",
              "    canonicalEntityMentionIndex: 2\n",
              "    entityMentionText: \"theoretical physicist\"\n",
              "  }\n",
              "  hasEntityMentionsAnnotation: true\n",
              "}\n",
              "sentence {\n",
              "  token {\n",
              "    word: \"He\"\n",
              "    pos: \"PRP\"\n",
              "    value: \"He\"\n",
              "    before: \" \"\n",
              "    after: \" \"\n",
              "    originalText: \"He\"\n",
              "    ner: \"O\"\n",
              "    coarseNER: \"O\"\n",
              "    fineGrainedNER: \"O\"\n",
              "    nerLabelProbs: \"O=0.9999729421729151\"\n",
              "    lemma: \"he\"\n",
              "    beginChar: 57\n",
              "    endChar: 59\n",
              "    tokenBeginIndex: 10\n",
              "    tokenEndIndex: 11\n",
              "    hasXmlContext: false\n",
              "    isNewline: false\n",
              "    gender: \"MALE\"\n",
              "    entityMentionIndex: 3\n",
              "  }\n",
              "  token {\n",
              "    word: \"developed\"\n",
              "    pos: \"VBD\"\n",
              "    value: \"developed\"\n",
              "    before: \" \"\n",
              "    after: \" \"\n",
              "    originalText: \"developed\"\n",
              "    ner: \"O\"\n",
              "    coarseNER: \"O\"\n",
              "    fineGrainedNER: \"O\"\n",
              "    nerLabelProbs: \"O=0.999998247370159\"\n",
              "    lemma: \"develop\"\n",
              "    beginChar: 60\n",
              "    endChar: 69\n",
              "    tokenBeginIndex: 11\n",
              "    tokenEndIndex: 12\n",
              "    hasXmlContext: false\n",
              "    isNewline: false\n",
              "  }\n",
              "  token {\n",
              "    word: \"the\"\n",
              "    pos: \"DT\"\n",
              "    value: \"the\"\n",
              "    before: \" \"\n",
              "    after: \" \"\n",
              "    originalText: \"the\"\n",
              "    ner: \"O\"\n",
              "    coarseNER: \"O\"\n",
              "    fineGrainedNER: \"O\"\n",
              "    nerLabelProbs: \"O=0.9999996050163914\"\n",
              "    lemma: \"the\"\n",
              "    beginChar: 70\n",
              "    endChar: 73\n",
              "    tokenBeginIndex: 12\n",
              "    tokenEndIndex: 13\n",
              "    hasXmlContext: false\n",
              "    isNewline: false\n",
              "  }\n",
              "  token {\n",
              "    word: \"theory\"\n",
              "    pos: \"NN\"\n",
              "    value: \"theory\"\n",
              "    before: \" \"\n",
              "    after: \" \"\n",
              "    originalText: \"theory\"\n",
              "    ner: \"O\"\n",
              "    coarseNER: \"O\"\n",
              "    fineGrainedNER: \"O\"\n",
              "    nerLabelProbs: \"O=0.9999955206946957\"\n",
              "    lemma: \"theory\"\n",
              "    beginChar: 74\n",
              "    endChar: 80\n",
              "    tokenBeginIndex: 13\n",
              "    tokenEndIndex: 14\n",
              "    hasXmlContext: false\n",
              "    isNewline: false\n",
              "  }\n",
              "  token {\n",
              "    word: \"of\"\n",
              "    pos: \"IN\"\n",
              "    value: \"of\"\n",
              "    before: \" \"\n",
              "    after: \" \"\n",
              "    originalText: \"of\"\n",
              "    ner: \"O\"\n",
              "    coarseNER: \"O\"\n",
              "    fineGrainedNER: \"O\"\n",
              "    nerLabelProbs: \"O=0.9999998701306025\"\n",
              "    lemma: \"of\"\n",
              "    beginChar: 81\n",
              "    endChar: 83\n",
              "    tokenBeginIndex: 14\n",
              "    tokenEndIndex: 15\n",
              "    hasXmlContext: false\n",
              "    isNewline: false\n",
              "  }\n",
              "  token {\n",
              "    word: \"relativity\"\n",
              "    pos: \"NN\"\n",
              "    value: \"relativity\"\n",
              "    before: \" \"\n",
              "    after: \"\"\n",
              "    originalText: \"relativity\"\n",
              "    ner: \"O\"\n",
              "    coarseNER: \"O\"\n",
              "    fineGrainedNER: \"O\"\n",
              "    nerLabelProbs: \"O=0.9999834854333183\"\n",
              "    lemma: \"relativity\"\n",
              "    beginChar: 84\n",
              "    endChar: 94\n",
              "    tokenBeginIndex: 15\n",
              "    tokenEndIndex: 16\n",
              "    hasXmlContext: false\n",
              "    isNewline: false\n",
              "  }\n",
              "  token {\n",
              "    word: \".\"\n",
              "    pos: \".\"\n",
              "    value: \".\"\n",
              "    before: \"\"\n",
              "    after: \"\"\n",
              "    originalText: \".\"\n",
              "    ner: \"O\"\n",
              "    coarseNER: \"O\"\n",
              "    fineGrainedNER: \"O\"\n",
              "    nerLabelProbs: \"O=0.9999997199188294\"\n",
              "    lemma: \".\"\n",
              "    beginChar: 94\n",
              "    endChar: 95\n",
              "    tokenBeginIndex: 16\n",
              "    tokenEndIndex: 17\n",
              "    hasXmlContext: false\n",
              "    isNewline: false\n",
              "  }\n",
              "  tokenOffsetBegin: 10\n",
              "  tokenOffsetEnd: 17\n",
              "  sentenceIndex: 1\n",
              "  characterOffsetBegin: 57\n",
              "  characterOffsetEnd: 95\n",
              "  hasRelationAnnotations: false\n",
              "  hasNumerizedTokensAnnotation: false\n",
              "  mentions {\n",
              "    sentenceIndex: 1\n",
              "    tokenStartInSentenceInclusive: 10\n",
              "    tokenEndInSentenceExclusive: 11\n",
              "    ner: \"PERSON\"\n",
              "    entityType: \"PERSON\"\n",
              "    gender: \"MALE\"\n",
              "    entityMentionIndex: 3\n",
              "    canonicalEntityMentionIndex: 3\n",
              "    entityMentionText: \"He\"\n",
              "  }\n",
              "  hasEntityMentionsAnnotation: true\n",
              "}\n",
              "mentions {\n",
              "  sentenceIndex: 0\n",
              "  tokenStartInSentenceInclusive: 0\n",
              "  tokenEndInSentenceExclusive: 2\n",
              "  ner: \"PERSON\"\n",
              "  entityType: \"PERSON\"\n",
              "  entityMentionIndex: 0\n",
              "  canonicalEntityMentionIndex: 0\n",
              "  entityMentionText: \"Albert Einstein\"\n",
              "}\n",
              "mentions {\n",
              "  sentenceIndex: 0\n",
              "  tokenStartInSentenceInclusive: 4\n",
              "  tokenEndInSentenceExclusive: 5\n",
              "  ner: \"NATIONALITY\"\n",
              "  entityType: \"NATIONALITY\"\n",
              "  entityMentionIndex: 1\n",
              "  canonicalEntityMentionIndex: 1\n",
              "  entityMentionText: \"German\"\n",
              "}\n",
              "mentions {\n",
              "  sentenceIndex: 0\n",
              "  tokenStartInSentenceInclusive: 7\n",
              "  tokenEndInSentenceExclusive: 9\n",
              "  ner: \"TITLE\"\n",
              "  entityType: \"TITLE\"\n",
              "  entityMentionIndex: 2\n",
              "  canonicalEntityMentionIndex: 2\n",
              "  entityMentionText: \"theoretical physicist\"\n",
              "}\n",
              "mentions {\n",
              "  sentenceIndex: 1\n",
              "  tokenStartInSentenceInclusive: 10\n",
              "  tokenEndInSentenceExclusive: 11\n",
              "  ner: \"PERSON\"\n",
              "  entityType: \"PERSON\"\n",
              "  gender: \"MALE\"\n",
              "  entityMentionIndex: 3\n",
              "  canonicalEntityMentionIndex: 3\n",
              "  entityMentionText: \"He\"\n",
              "}\n",
              "hasEntityMentionsAnnotation: true\n",
              "xmlDoc: false\n",
              "hasCorefMentionAnnotation: false\n",
              "hasCorefAnnotation: false"
            ]
          },
          "metadata": {},
          "execution_count": 8
        }
      ]
    },
    {
      "cell_type": "markdown",
      "metadata": {
        "id": "semmA3e0TcM1"
      },
      "source": [
        "## 3. Accessing Annotations\n",
        "\n",
        "Annotations can be accessed from the returned `Document` object.\n",
        "\n",
        "A `Document` contains a list of `Sentence`s, which contain a list of `Token`s. Here let's first explore the annotations stored in all tokens."
      ]
    },
    {
      "cell_type": "code",
      "metadata": {
        "id": "lIO4B5d6Rk4I",
        "colab": {
          "base_uri": "https://localhost:8080/"
        },
        "outputId": "b45621f0-8632-424b-d5d3-dcee517531bf"
      },
      "source": [
        "# Iterate over all tokens in all sentences, and print out the word, lemma, pos and ner tags\n",
        "print(\"{:12s}\\t{:12s}\\t{:6s}\\t{}\".format(\"Word\", \"Lemma\", \"POS\", \"NER\"))\n",
        "\n",
        "for i, sent in enumerate(document.sentence):\n",
        "    print(\"[Sentence {}]\".format(i+1))\n",
        "    for t in sent.token:\n",
        "        print(\"{:12s}\\t{:12s}\\t{:6s}\\t{}\".format(t.word, t.lemma, t.pos, t.ner))\n",
        "    print(\"\")"
      ],
      "execution_count": 9,
      "outputs": [
        {
          "output_type": "stream",
          "name": "stdout",
          "text": [
            "Word        \tLemma       \tPOS   \tNER\n",
            "[Sentence 1]\n",
            "Albert      \tAlbert      \tNNP   \tPERSON\n",
            "Einstein    \tEinstein    \tNNP   \tPERSON\n",
            "was         \tbe          \tVBD   \tO\n",
            "a           \ta           \tDT    \tO\n",
            "German      \tGerman      \tJJ    \tNATIONALITY\n",
            "-           \t-           \tHYPH  \tO\n",
            "born        \tbear        \tVBN   \tO\n",
            "theoretical \ttheoretical \tJJ    \tTITLE\n",
            "physicist   \tphysicist   \tNN    \tTITLE\n",
            ".           \t.           \t.     \tO\n",
            "\n",
            "[Sentence 2]\n",
            "He          \the          \tPRP   \tO\n",
            "developed   \tdevelop     \tVBD   \tO\n",
            "the         \tthe         \tDT    \tO\n",
            "theory      \ttheory      \tNN    \tO\n",
            "of          \tof          \tIN    \tO\n",
            "relativity  \trelativity  \tNN    \tO\n",
            ".           \t.           \t.     \tO\n",
            "\n"
          ]
        }
      ]
    },
    {
      "cell_type": "markdown",
      "metadata": {
        "id": "msrJfvu8VV9m"
      },
      "source": [
        "Alternatively, you can also browse the NER results by iterating over entity mentions over the sentences. For example:"
      ]
    },
    {
      "cell_type": "code",
      "metadata": {
        "id": "ezEjc9LeV2Xs",
        "colab": {
          "base_uri": "https://localhost:8080/"
        },
        "outputId": "af76049c-40a8-4523-c463-4347660f58a7"
      },
      "source": [
        "# Iterate over all detected entity mentions\n",
        "print(\"{:30s}\\t{}\".format(\"Mention\", \"Type\"))\n",
        "\n",
        "for sent in document.sentence:\n",
        "    for m in sent.mentions:\n",
        "        print(\"{:30s}\\t{}\".format(m.entityMentionText, m.entityType))"
      ],
      "execution_count": 10,
      "outputs": [
        {
          "output_type": "stream",
          "name": "stdout",
          "text": [
            "Mention                       \tType\n",
            "Albert Einstein               \tPERSON\n",
            "German                        \tNATIONALITY\n",
            "theoretical physicist         \tTITLE\n",
            "He                            \tPERSON\n"
          ]
        }
      ]
    },
    {
      "cell_type": "markdown",
      "metadata": {
        "id": "ueGzBZ3hWzkN"
      },
      "source": [
        "To print all annotations a sentence, token or mention has, you can simply print the corresponding obejct."
      ]
    },
    {
      "cell_type": "code",
      "metadata": {
        "id": "4_S8o2BHXIed",
        "colab": {
          "base_uri": "https://localhost:8080/"
        },
        "outputId": "83b7402d-2c59-4817-b431-6b28372877c6"
      },
      "source": [
        "# Print annotations of a token\n",
        "print(document.sentence[0].token[0])\n",
        "\n",
        "# Print annotations of a mention\n",
        "print(document.sentence[0].mentions[0])"
      ],
      "execution_count": 11,
      "outputs": [
        {
          "output_type": "stream",
          "name": "stdout",
          "text": [
            "word: \"Albert\"\n",
            "pos: \"NNP\"\n",
            "value: \"Albert\"\n",
            "before: \"\"\n",
            "after: \" \"\n",
            "originalText: \"Albert\"\n",
            "ner: \"PERSON\"\n",
            "coarseNER: \"PERSON\"\n",
            "fineGrainedNER: \"PERSON\"\n",
            "nerLabelProbs: \"PERSON=0.9999331283889166\"\n",
            "lemma: \"Albert\"\n",
            "beginChar: 0\n",
            "endChar: 6\n",
            "tokenBeginIndex: 0\n",
            "tokenEndIndex: 1\n",
            "hasXmlContext: false\n",
            "isNewline: false\n",
            "entityMentionIndex: 0\n",
            "\n",
            "sentenceIndex: 0\n",
            "tokenStartInSentenceInclusive: 0\n",
            "tokenEndInSentenceExclusive: 2\n",
            "ner: \"PERSON\"\n",
            "entityType: \"PERSON\"\n",
            "entityMentionIndex: 0\n",
            "canonicalEntityMentionIndex: 0\n",
            "entityMentionText: \"Albert Einstein\"\n",
            "\n"
          ]
        }
      ]
    },
    {
      "cell_type": "markdown",
      "metadata": {
        "id": "Qp66wjZ10xia"
      },
      "source": [
        "**Note**: Since the Stanza CoreNLP client interface simply ports the CoreNLP annotation results to native Python objects, for a comprehensive lists of available annotators and how their annotation results can be accessed, you will need to visit the [Stanford CoreNLP website](https://stanfordnlp.github.io/CoreNLP/)."
      ]
    },
    {
      "cell_type": "markdown",
      "metadata": {
        "id": "IPqzMK90X0w3"
      },
      "source": [
        "## 4. Shutting Down the CoreNLP Server\n",
        "\n",
        "To shut down the background CoreNLP server process, simply call the `stop` function of the client. Note that once a server is shutdown, you'll have to restart the server with the `start()` function before any annotation is requested."
      ]
    },
    {
      "cell_type": "code",
      "metadata": {
        "id": "xrJq8lZ3Nw7b",
        "colab": {
          "base_uri": "https://localhost:8080/"
        },
        "outputId": "84b88078-1664-4553-91a9-be46c4f467c0"
      },
      "source": [
        "# Shut down the background CoreNLP server\n",
        "client.stop()\n",
        "\n",
        "time.sleep(10)\n",
        "!ps -o pid,cmd | grep java"
      ],
      "execution_count": 18,
      "outputs": [
        {
          "output_type": "stream",
          "name": "stdout",
          "text": [
            "   5625 /bin/bash -c ps -o pid,cmd | grep java\n",
            "   5627 grep java\n"
          ]
        }
      ]
    },
    {
      "cell_type": "markdown",
      "metadata": {
        "id": "23Vwa_ifYfF7"
      },
      "source": [
        "### More Information\n",
        "\n",
        "For more information on how to use the `CoreNLPClient`, please go to the [CoreNLPClient documentation page](https://stanfordnlp.github.io/stanza/corenlp_client.html)."
      ]
    },
    {
      "cell_type": "markdown",
      "metadata": {
        "id": "YUrVT6kA_Bzx"
      },
      "source": [
        "## 5. Simplifying Client Usage with the Python `with` statement\n",
        "\n",
        "In the above demo, we explicitly called the `client.start()` and `client.stop()` functions to start and stop a client-server connection. However, doing this in practice is usually suboptimal, since you may forget to call the `stop()` function at the end, resulting in an unused server process occupying your machine memory.\n",
        "\n",
        "To solve is, a simple solution is to use the client interface with the [Python `with` statement](https://docs.python.org/3/reference/compound_stmts.html#the-with-statement). The `with` statement provides an elegant way to automatically start and stop the server process in your Python program, without you needing to worry about this. The following code snippet demonstrates how to establish a client, annotate an example text and then stop the server with a simple `with` statement. Note that we **always recommend** you to use the `with` statement when working with the Stanza CoreNLP client interface."
      ]
    },
    {
      "cell_type": "code",
      "metadata": {
        "id": "H0ct2-R4AvJh",
        "colab": {
          "base_uri": "https://localhost:8080/"
        },
        "outputId": "a11b4dc4-fc0f-46d7-964f-d663c80d827e"
      },
      "source": [
        "print(\"Starting a server with the Python \\\"with\\\" statement...\")\n",
        "with CoreNLPClient(annotators=['tokenize','ssplit', 'pos', 'lemma', 'ner'],\n",
        "                   memory='4G', endpoint='http://localhost:9001', be_quiet=True) as client:\n",
        "    text = \"Albert Einstein was a German-born theoretical physicist.\"\n",
        "    document = client.annotate(text)\n",
        "\n",
        "    print(\"{:30s}\\t{}\".format(\"Mention\", \"Type\"))\n",
        "    for sent in document.sentence:\n",
        "        for m in sent.mentions:\n",
        "            print(\"{:30s}\\t{}\".format(m.entityMentionText, m.entityType))\n",
        "\n",
        "print(\"\\nThe server should be stopped upon exit from the \\\"with\\\" statement.\")"
      ],
      "execution_count": 14,
      "outputs": [
        {
          "output_type": "stream",
          "name": "stderr",
          "text": [
            "INFO:stanza:Writing properties to tmp file: corenlp_server-9540d3fa061f47c3.props\n",
            "INFO:stanza:Starting server with command: java -Xmx4G -cp ./corenlp/* edu.stanford.nlp.pipeline.StanfordCoreNLPServer -port 9001 -timeout 60000 -threads 5 -maxCharLength 100000 -quiet True -serverProperties corenlp_server-9540d3fa061f47c3.props -annotators tokenize,ssplit,pos,lemma,ner -preload -outputFormat serialized\n"
          ]
        },
        {
          "output_type": "stream",
          "name": "stdout",
          "text": [
            "Starting a server with the Python \"with\" statement...\n",
            "Mention                       \tType\n",
            "Albert Einstein               \tPERSON\n",
            "German                        \tNATIONALITY\n",
            "theoretical physicist         \tTITLE\n",
            "\n",
            "The server should be stopped upon exit from the \"with\" statement.\n"
          ]
        }
      ]
    },
    {
      "cell_type": "code",
      "source": [],
      "metadata": {
        "id": "E5ovpDLOQ9XS"
      },
      "execution_count": null,
      "outputs": []
    },
    {
      "cell_type": "code",
      "source": [
        "import json\n",
        "import networkx as nx\n",
        "from pathlib import Path\n",
        "from tqdm import tqdm\n",
        "# Path to the input file\n",
        "load_file = \"/content/twitter/train.txt\"\n",
        "# Output directory for JSON files\n",
        "output_dir = Path(\"/content/output\")\n",
        "output_dir.mkdir(parents=True, exist_ok=True)\n",
        "# Function to process a single sentence and extract entities and relations\n",
        "def process_sentence(client, sentence):\n",
        "    document = client.annotate(sentence)\n",
        "\n",
        "    # Create a directed graph to store entities and relations\n",
        "    G = nx.DiGraph()\n",
        "\n",
        "    entities = []\n",
        "    relations = []\n",
        "\n",
        "    for sent in document.sentence:\n",
        "        tokens = sent.token\n",
        "        dependencies = sent.basicDependencies.edge\n",
        "\n",
        "        # Extract entities\n",
        "        if hasattr(sent, 'mentions'):\n",
        "            for m in sent.mentions:\n",
        "                entity = {\n",
        "                    'text': m.entityMentionText,\n",
        "                    'type': m.entityType\n",
        "                }\n",
        "                entities.append(entity)\n",
        "                G.add_node(entity['text'], type=entity['type'])\n",
        "\n",
        "        # Extract relations using dependency parsing\n",
        "        for dep in dependencies:\n",
        "            dep_type = dep.dep\n",
        "            governor = tokens[dep.source - 1].word\n",
        "            dependent = tokens[dep.target - 1].word\n",
        "\n",
        "            if dep_type == 'nsubj':\n",
        "                subject = dependent\n",
        "                predicate = governor\n",
        "            elif dep_type in ['dobj', 'obj']:\n",
        "                object_ = dependent\n",
        "                predicate = governor\n",
        "                relations.append({\n",
        "                    'predicate': predicate,\n",
        "                    'relation': dep_type,\n",
        "                    'object': object_\n",
        "                })\n",
        "                G.add_edge(predicate, object_, relation=dep_type)\n",
        "            elif dep_type == 'amod':\n",
        "                # Modifier relationship, e.g., adjective modifying a noun\n",
        "                object_ = governor\n",
        "                modifier = dependent\n",
        "                relations.append({\n",
        "                    'predicate': modifier,\n",
        "                    'relation': dep_type,\n",
        "                    'object': object_\n",
        "                })\n",
        "                G.add_edge(modifier, object_, relation=dep_type)\n",
        "            elif dep_type == 'cop':\n",
        "                # Copula relation, e.g., \"was\"\n",
        "                predicate = governor\n",
        "                object_ = dependent\n",
        "                relations.append({\n",
        "                    'predicate': predicate,\n",
        "                    'relation': dep_type,\n",
        "                    'object': object_\n",
        "                })\n",
        "                G.add_edge(predicate, object_, relation=dep_type)\n",
        "\n",
        "    return {\n",
        "        \"entities\": entities,\n",
        "        \"relations\": relations\n",
        "    }\n",
        "# Read and parse the input file\n",
        "with open(load_file, \"r\", encoding=\"utf-8\") as f:\n",
        "    lines = f.readlines()\n",
        "    raw_words, raw_targets = [], []\n",
        "    raw_word, raw_target = [], []\n",
        "    imgs = []\n",
        "\n",
        "    for line in lines:\n",
        "        if line.startswith(\"IMGID:\"):\n",
        "            img_id = line.strip().split('IMGID:')[1]\n",
        "            imgs.append(img_id)\n",
        "            continue\n",
        "        if line.strip() != \"\":\n",
        "            parts = line.strip().split('\\t')\n",
        "            if len(parts) >= 2:\n",
        "                raw_word.append(parts[0])\n",
        "                label = parts[1]\n",
        "                if 'OTHER' in label:\n",
        "                    label = label.replace('OTHER', 'MISC')\n",
        "                raw_target.append(label)\n",
        "        else:\n",
        "            if raw_word and raw_target:\n",
        "                raw_words.append(raw_word)\n",
        "                raw_targets.append(raw_target)\n",
        "                raw_word, raw_target = [], []\n",
        "    # Handle the last sentence if the file doesn't end with a newline\n",
        "    if raw_word and raw_target:\n",
        "        raw_words.append(raw_word)\n",
        "        raw_targets.append(raw_target)\n",
        "# Initialize the CoreNLPClient once for efficiency\n",
        "with CoreNLPClient(\n",
        "    annotators=['tokenize', 'ssplit', 'pos', 'depparse', 'lemma', 'ner'],\n",
        "    memory='4G',\n",
        "    endpoint='http://localhost:9004',\n",
        "    be_quiet=True\n",
        ") as client:\n",
        "    for i in tqdm(range(len(raw_words))):\n",
        "        sentence = \" \".join(raw_words[i]).strip()\n",
        "        img_id = imgs[i] if i < len(imgs) else f\"unknown_{i}.jpg\"\n",
        "\n",
        "        if not sentence:\n",
        "            print(f\"Skipping empty sentence for image {img_id}.\")\n",
        "            continue\n",
        "\n",
        "        try:\n",
        "            output = process_sentence(client, sentence)\n",
        "        except Exception as e:\n",
        "            print(f\"Error processing sentence for image {img_id}: {e}\")\n",
        "            output = {\"entities\": [], \"relations\": []}\n",
        "\n",
        "        # Define the output JSON file path\n",
        "        json_file_path = output_dir / f\"{img_id}.json\"\n",
        "\n",
        "        # Write the JSON output to the file\n",
        "        with open(json_file_path, \"w\", encoding=\"utf-8\") as json_file:\n",
        "            json.dump(output, json_file, ensure_ascii=False, indent=4)\n",
        "\n",
        "        print(f\"Processed and saved JSON for image {img_id}.\")\n",
        "print(\"All sentences have been processed and JSON files have been saved.\")"
      ],
      "metadata": {
        "id": "du3op4fvOw_3",
        "outputId": "6fde90a2-d449-409f-c4ff-c23f1f65f2db",
        "colab": {
          "base_uri": "https://localhost:8080/"
        }
      },
      "execution_count": null,
      "outputs": [
        {
          "output_type": "stream",
          "name": "stderr",
          "text": [
            "INFO:stanza:Writing properties to tmp file: corenlp_server-07378623176d4625.props\n",
            "INFO:stanza:Starting server with command: java -Xmx4G -cp ./corenlp/* edu.stanford.nlp.pipeline.StanfordCoreNLPServer -port 9004 -timeout 60000 -threads 5 -maxCharLength 100000 -quiet True -serverProperties corenlp_server-07378623176d4625.props -annotators tokenize,ssplit,pos,depparse,lemma,ner -preload -outputFormat serialized\n",
            "  0%|          | 0/4000 [00:00<?, ?it/s]"
          ]
        }
      ]
    },
    {
      "cell_type": "markdown",
      "metadata": {
        "id": "W435Lwc4YqKb"
      },
      "source": [
        "## 6. Other Resources\n",
        "\n",
        "- [Stanza Homepage](https://stanfordnlp.github.io/stanza/)\n",
        "- [FAQs](https://stanfordnlp.github.io/stanza/faq.html)\n",
        "- [GitHub Repo](https://github.com/stanfordnlp/stanza)\n",
        "- [Reporting Issues](https://github.com/stanfordnlp/stanza/issues)\n"
      ]
    }
  ]
}