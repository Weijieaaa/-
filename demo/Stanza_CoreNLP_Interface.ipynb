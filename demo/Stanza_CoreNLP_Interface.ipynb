{
  "nbformat": 4,
  "nbformat_minor": 0,
  "metadata": {
    "colab": {
      "name": "Stanza-CoreNLP-Interface.ipynb",
      "provenance": []
    },
    "kernelspec": {
      "name": "python3",
      "display_name": "Python 3"
    }
  },
  "cells": [
    {
      "cell_type": "markdown",
      "metadata": {
        "id": "2-4lzQTC9yxG"
      },
      "source": [
        "# Stanza: A Tutorial on the Python CoreNLP Interface\n",
        "\n",
        "![Latest Version](https://img.shields.io/pypi/v/stanza.svg?colorB=bc4545)\n",
        "![Python Versions](https://img.shields.io/pypi/pyversions/stanza.svg?colorB=bc4545)\n",
        "\n",
        "While the Stanza library implements accurate neural network modules for basic functionalities such as part-of-speech tagging and dependency parsing, the [Stanford CoreNLP Java library](https://stanfordnlp.github.io/CoreNLP/) has been developed for years and offers more complementary features such as coreference resolution and relation extraction. To unlock these features, the Stanza library also offers an officially maintained Python interface to the CoreNLP Java library. This interface allows you to get NLP anntotations from CoreNLP by writing native Python code.\n",
        "\n",
        "\n",
        "This tutorial walks you through the installation, setup and basic usage of this Python CoreNLP interface. If you want to learn how to use the neural network components in Stanza, please refer to other tutorials."
      ]
    },
    {
      "cell_type": "markdown",
      "metadata": {
        "id": "YpKwWeVkASGt"
      },
      "source": [
        "## 1. Installation\n",
        "\n",
        "Before the installation starts, please make sure that you have Python 3 and Java installed on your computer. Since Colab already has them installed, we'll skip this procedure in this notebook."
      ]
    },
    {
      "cell_type": "markdown",
      "metadata": {
        "id": "k1Az2ECuAfG8"
      },
      "source": [
        "### Installing Stanza\n",
        "\n",
        "Installing and importing Stanza are as simple as running the following commands:"
      ]
    },
    {
      "cell_type": "code",
      "metadata": {
        "id": "xiFwYAgW4Mss",
        "colab": {
          "base_uri": "https://localhost:8080/"
        },
        "outputId": "db4fd296-9879-404a-e56a-1c3ee3426a93"
      },
      "source": [
        "# Install stanza; note that the prefix \"!\" is not needed if you are running in a terminal\n",
        "!pip install stanza\n",
        "\n",
        "# Import stanza\n",
        "import stanza"
      ],
      "execution_count": 6,
      "outputs": [
        {
          "output_type": "stream",
          "name": "stdout",
          "text": [
            "Requirement already satisfied: stanza in /usr/local/lib/python3.10/dist-packages (1.9.2)\n",
            "Requirement already satisfied: emoji in /usr/local/lib/python3.10/dist-packages (from stanza) (2.14.0)\n",
            "Requirement already satisfied: numpy in /usr/local/lib/python3.10/dist-packages (from stanza) (1.26.4)\n",
            "Requirement already satisfied: protobuf>=3.15.0 in /usr/local/lib/python3.10/dist-packages (from stanza) (4.25.5)\n",
            "Requirement already satisfied: requests in /usr/local/lib/python3.10/dist-packages (from stanza) (2.32.3)\n",
            "Requirement already satisfied: networkx in /usr/local/lib/python3.10/dist-packages (from stanza) (3.4.2)\n",
            "Requirement already satisfied: torch>=1.3.0 in /usr/local/lib/python3.10/dist-packages (from stanza) (2.5.1+cu121)\n",
            "Requirement already satisfied: tqdm in /usr/local/lib/python3.10/dist-packages (from stanza) (4.66.6)\n",
            "Requirement already satisfied: tomli in /usr/local/lib/python3.10/dist-packages (from stanza) (2.2.1)\n",
            "Requirement already satisfied: filelock in /usr/local/lib/python3.10/dist-packages (from torch>=1.3.0->stanza) (3.16.1)\n",
            "Requirement already satisfied: typing-extensions>=4.8.0 in /usr/local/lib/python3.10/dist-packages (from torch>=1.3.0->stanza) (4.12.2)\n",
            "Requirement already satisfied: jinja2 in /usr/local/lib/python3.10/dist-packages (from torch>=1.3.0->stanza) (3.1.4)\n",
            "Requirement already satisfied: fsspec in /usr/local/lib/python3.10/dist-packages (from torch>=1.3.0->stanza) (2024.10.0)\n",
            "Requirement already satisfied: sympy==1.13.1 in /usr/local/lib/python3.10/dist-packages (from torch>=1.3.0->stanza) (1.13.1)\n",
            "Requirement already satisfied: mpmath<1.4,>=1.1.0 in /usr/local/lib/python3.10/dist-packages (from sympy==1.13.1->torch>=1.3.0->stanza) (1.3.0)\n",
            "Requirement already satisfied: charset-normalizer<4,>=2 in /usr/local/lib/python3.10/dist-packages (from requests->stanza) (3.4.0)\n",
            "Requirement already satisfied: idna<4,>=2.5 in /usr/local/lib/python3.10/dist-packages (from requests->stanza) (3.10)\n",
            "Requirement already satisfied: urllib3<3,>=1.21.1 in /usr/local/lib/python3.10/dist-packages (from requests->stanza) (2.2.3)\n",
            "Requirement already satisfied: certifi>=2017.4.17 in /usr/local/lib/python3.10/dist-packages (from requests->stanza) (2024.8.30)\n",
            "Requirement already satisfied: MarkupSafe>=2.0 in /usr/local/lib/python3.10/dist-packages (from jinja2->torch>=1.3.0->stanza) (3.0.2)\n"
          ]
        }
      ]
    },
    {
      "cell_type": "markdown",
      "metadata": {
        "id": "2zFvaA8_A32_"
      },
      "source": [
        "### Setting up Stanford CoreNLP\n",
        "\n",
        "In order for the interface to work, the Stanford CoreNLP library has to be installed and a `CORENLP_HOME` environment variable has to be pointed to the installation location.\n",
        "\n",
        "Here we are going to show you how to download and install the CoreNLP library on your machine, with Stanza's installation command:"
      ]
    },
    {
      "cell_type": "code",
      "metadata": {
        "id": "MgK6-LPV-OdA",
        "colab": {
          "base_uri": "https://localhost:8080/"
        },
        "outputId": "4d1e1aa3-6709-4b1e-c648-0cfc1247eaf7"
      },
      "source": [
        "# Download the Stanford CoreNLP package with Stanza's installation command\n",
        "# This'll take several minutes, depending on the network speed\n",
        "corenlp_dir = './corenlp'\n",
        "stanza.install_corenlp(dir=corenlp_dir)\n",
        "\n",
        "# Set the CORENLP_HOME environment variable to point to the installation location\n",
        "import os\n",
        "os.environ[\"CORENLP_HOME\"] = corenlp_dir"
      ],
      "execution_count": 7,
      "outputs": [
        {
          "output_type": "stream",
          "name": "stderr",
          "text": [
            "WARNING:stanza:Directory ./corenlp already exists. Please install CoreNLP to a new directory.\n"
          ]
        }
      ]
    },
    {
      "cell_type": "markdown",
      "metadata": {
        "id": "Jdq8MT-NAhKj"
      },
      "source": [
        "That's all for the installation! 🎉  We can now double check if the installation is successful by listing files in the CoreNLP directory. You should be able to see a number of `.jar` files by running the following command:"
      ]
    },
    {
      "cell_type": "code",
      "metadata": {
        "id": "K5eIOaJp_tuo",
        "colab": {
          "base_uri": "https://localhost:8080/"
        },
        "outputId": "aaf7c866-641e-4097-bc0b-edae4a8b49b8"
      },
      "source": [
        "# Examine the CoreNLP installation folder to make sure the installation is successful\n",
        "!ls $CORENLP_HOME"
      ],
      "execution_count": 3,
      "outputs": [
        {
          "output_type": "stream",
          "name": "stdout",
          "text": [
            "build.xml\t\t\t\t  LIBRARY-LICENSES\n",
            "corenlp.sh\t\t\t\t  LICENSE.txt\n",
            "CoreNLP-to-HTML.xsl\t\t\t  Makefile\n",
            "ejml-core-0.39.jar\t\t\t  patterns\n",
            "ejml-core-0.39-sources.jar\t\t  pom-java-11.xml\n",
            "ejml-ddense-0.39.jar\t\t\t  pom-java-17.xml\n",
            "ejml-ddense-0.39-sources.jar\t\t  pom.xml\n",
            "ejml-simple-0.39.jar\t\t\t  protobuf-java-3.19.6.jar\n",
            "ejml-simple-0.39-sources.jar\t\t  README.txt\n",
            "input.txt\t\t\t\t  RESOURCE-LICENSES\n",
            "input.txt.out\t\t\t\t  sample-project-pom.xml\n",
            "input.txt.xml\t\t\t\t  SemgrexDemo.java\n",
            "istack-commons-runtime-3.0.7.jar\t  ShiftReduceDemo.java\n",
            "istack-commons-runtime-3.0.7-sources.jar  slf4j-api.jar\n",
            "javax.activation-api-1.2.0.jar\t\t  slf4j-simple.jar\n",
            "javax.activation-api-1.2.0-sources.jar\t  stanford-corenlp-4.5.7.jar\n",
            "javax.json-api-1.0-sources.jar\t\t  stanford-corenlp-4.5.7-javadoc.jar\n",
            "javax.json.jar\t\t\t\t  stanford-corenlp-4.5.7-models.jar\n",
            "jaxb-api-2.4.0-b180830.0359.jar\t\t  stanford-corenlp-4.5.7-sources.jar\n",
            "jaxb-api-2.4.0-b180830.0359-sources.jar   StanfordCoreNlpDemo.java\n",
            "jaxb-impl-2.4.0-b180830.0438.jar\t  StanfordDependenciesManual.pdf\n",
            "jaxb-impl-2.4.0-b180830.0438-sources.jar  sutime\n",
            "joda-time-2.10.5-sources.jar\t\t  tokensregex\n",
            "joda-time.jar\t\t\t\t  xom-1.3.9-sources.jar\n",
            "jollyday-0.4.9-sources.jar\t\t  xom.jar\n",
            "jollyday.jar\n"
          ]
        }
      ]
    },
    {
      "cell_type": "markdown",
      "metadata": {
        "id": "S0xb9BHt__gx"
      },
      "source": [
        "**Note 1**:\n",
        "If you are want to use the interface in a terminal (instead of a Colab notebook), you can properly set the `CORENLP_HOME` environment variable with:\n",
        "\n",
        "```bash\n",
        "export CORENLP_HOME=path_to_corenlp_dir\n",
        "```\n",
        "\n",
        "Here we instead set this variable with the Python `os` library, simply because `export` command is not well-supported in Colab notebook.\n",
        "\n",
        "\n",
        "**Note 2**:\n",
        "The `stanza.install_corenlp()` function is only available since Stanza v1.1.1. If you are using an earlier version of Stanza, please check out our [manual installation page](https://stanfordnlp.github.io/stanza/client_setup.html#manual-installation) for how to install CoreNLP on your computer.\n",
        "\n",
        "**Note 3**:\n",
        "Besides the installation function, we also provide a `stanza.download_corenlp_models()` function to help you download additional CoreNLP models for different languages that are not shipped with the default installation. Check out our [automatic installation website page](https://stanfordnlp.github.io/stanza/client_setup.html#automated-installation) for more information on how to use it."
      ]
    },
    {
      "cell_type": "markdown",
      "metadata": {
        "id": "xJsuO6D8D05q"
      },
      "source": [
        "## 2. Annotating Text with CoreNLP Interface"
      ]
    },
    {
      "cell_type": "markdown",
      "metadata": {
        "id": "dZNHxXHkH1K2"
      },
      "source": [
        "### Constructing CoreNLPClient\n",
        "\n",
        "At a high level, the CoreNLP Python interface works by first starting a background Java CoreNLP server process, and then initializing a client instance in Python which can pass the text to the background server process, and accept the returned annotation results.\n",
        "\n",
        "We wrap these functionalities in a `CoreNLPClient` class. Therefore, we need to start by importing this class from Stanza."
      ]
    },
    {
      "cell_type": "code",
      "metadata": {
        "id": "LS4OKnqJ8wui"
      },
      "source": [
        "# Import client module\n",
        "from stanza.server import CoreNLPClient"
      ],
      "execution_count": 2,
      "outputs": []
    },
    {
      "cell_type": "markdown",
      "metadata": {
        "id": "WP4Dz6PIJHeL"
      },
      "source": [
        "After the import is done, we can construct a `CoreNLPClient` instance. The constructor method takes a Python list of annotator names as argument. Here let's explore some basic annotators including tokenization, sentence split, part-of-speech tagging, lemmatization and named entity recognition (NER).\n",
        "\n",
        "Additionally, the client constructor accepts a `memory` argument, which specifies how much memory will be allocated to the background Java process. An `endpoint` option can be used to specify a port number used by the communication between the server and the client. The default port is 9000. However, since this port is pre-occupied by a system process in Colab, we'll manually set it to 9001 in the following example.\n",
        "\n",
        "Also, here we manually set `be_quiet=True` to avoid an IO issue in colab notebook. You should be able to use `be_quiet=False` on your own computer, which will print detailed logging information from CoreNLP during usage.\n",
        "\n",
        "For more options in constructing the clients, please refer to the [CoreNLP Client Options List](https://stanfordnlp.github.io/stanza/corenlp_client.html#corenlp-client-options)."
      ]
    },
    {
      "cell_type": "code",
      "metadata": {
        "id": "mbOBugvd9JaM",
        "colab": {
          "base_uri": "https://localhost:8080/"
        },
        "outputId": "4c15b826-e742-42fe-893a-568f150056e1"
      },
      "source": [
        "# Construct a CoreNLPClient with some basic annotators, a memory allocation of 4GB, and port number 9001\n",
        "client = CoreNLPClient(\n",
        "    annotators=['tokenize','ssplit', 'pos', 'lemma', 'ner'],\n",
        "    memory='4G',\n",
        "    endpoint='http://localhost:9001',\n",
        "    be_quiet=True)\n",
        "print(client)\n",
        "\n",
        "# Start the background server and wait for some time\n",
        "# Note that in practice this is totally optional, as by default the server will be started when the first annotation is performed\n",
        "client.start()\n",
        "import time; time.sleep(10)"
      ],
      "execution_count": 5,
      "outputs": [
        {
          "output_type": "stream",
          "name": "stderr",
          "text": [
            "INFO:stanza:Writing properties to tmp file: corenlp_server-76e938a6f4fd46e2.props\n",
            "INFO:stanza:Starting server with command: java -Xmx4G -cp ./corenlp/* edu.stanford.nlp.pipeline.StanfordCoreNLPServer -port 9001 -timeout 60000 -threads 5 -maxCharLength 100000 -quiet True -serverProperties corenlp_server-76e938a6f4fd46e2.props -annotators tokenize,ssplit,pos,lemma,ner -preload -outputFormat serialized\n"
          ]
        },
        {
          "output_type": "stream",
          "name": "stdout",
          "text": [
            "<stanza.server.client.CoreNLPClient object at 0x7c6650ebe830>\n"
          ]
        }
      ]
    },
    {
      "cell_type": "markdown",
      "metadata": {
        "id": "kgTiVjNydmIW"
      },
      "source": [
        "After the above code block finishes executing, if you print the background processes, you should be able to find the Java CoreNLP server running."
      ]
    },
    {
      "cell_type": "code",
      "metadata": {
        "id": "spZrJ-oFdkdF",
        "colab": {
          "base_uri": "https://localhost:8080/"
        },
        "outputId": "5b1a580a-dc80-4854-f897-cbde72c568d2"
      },
      "source": [
        "# Print background processes and look for java\n",
        "# You should be able to see a StanfordCoreNLPServer java process running in the background\n",
        "!ps -o pid,cmd | grep java"
      ],
      "execution_count": 6,
      "outputs": [
        {
          "output_type": "stream",
          "name": "stdout",
          "text": [
            "   3151 java -Xmx4G -cp ./corenlp/* edu.stanford.nlp.pipeline.StanfordCoreNLPServer -port 9001 -time\n",
            "   3210 /bin/bash -c ps -o pid,cmd | grep java\n",
            "   3212 grep java\n"
          ]
        }
      ]
    },
    {
      "cell_type": "markdown",
      "metadata": {
        "id": "KxJeJ0D2LoOs"
      },
      "source": [
        "### Annotating Text\n",
        "\n",
        "Annotating a piece of text is as simple as passing the text into an `annotate` function of the client object. After the annotation is complete, a `Document`  object will be returned with all annotations.\n",
        "\n",
        "Note that although in general annotations are very fast, the first annotation might take a while to complete in the notebook. Please stay patient."
      ]
    },
    {
      "cell_type": "code",
      "metadata": {
        "id": "s194RnNg5z95",
        "colab": {
          "base_uri": "https://localhost:8080/"
        },
        "outputId": "c192270a-a0a2-4287-de94-71135645caee"
      },
      "source": [
        "# Annotate some text\n",
        "text = \"Albert Einstein was a German-born theoretical physicist. He developed the theory of relativity.\"\n",
        "document = client.annotate(text)\n",
        "print(type(document))"
      ],
      "execution_count": 7,
      "outputs": [
        {
          "output_type": "stream",
          "name": "stdout",
          "text": [
            "<class 'CoreNLP_pb2.Document'>\n"
          ]
        }
      ]
    },
    {
      "cell_type": "code",
      "source": [
        "document"
      ],
      "metadata": {
        "collapsed": true,
        "colab": {
          "base_uri": "https://localhost:8080/"
        },
        "id": "zKW93s8uMyJs",
        "outputId": "de189fd5-45b2-4615-d21c-9d7bcd7602f0"
      },
      "execution_count": 8,
      "outputs": [
        {
          "output_type": "execute_result",
          "data": {
            "text/plain": [
              "text: \"Albert Einstein was a German-born theoretical physicist. He developed the theory of relativity.\"\n",
              "sentence {\n",
              "  token {\n",
              "    word: \"Albert\"\n",
              "    pos: \"NNP\"\n",
              "    value: \"Albert\"\n",
              "    before: \"\"\n",
              "    after: \" \"\n",
              "    originalText: \"Albert\"\n",
              "    ner: \"PERSON\"\n",
              "    coarseNER: \"PERSON\"\n",
              "    fineGrainedNER: \"PERSON\"\n",
              "    nerLabelProbs: \"PERSON=0.9999331283889166\"\n",
              "    lemma: \"Albert\"\n",
              "    beginChar: 0\n",
              "    endChar: 6\n",
              "    tokenBeginIndex: 0\n",
              "    tokenEndIndex: 1\n",
              "    hasXmlContext: false\n",
              "    isNewline: false\n",
              "    entityMentionIndex: 0\n",
              "  }\n",
              "  token {\n",
              "    word: \"Einstein\"\n",
              "    pos: \"NNP\"\n",
              "    value: \"Einstein\"\n",
              "    before: \" \"\n",
              "    after: \" \"\n",
              "    originalText: \"Einstein\"\n",
              "    ner: \"PERSON\"\n",
              "    coarseNER: \"PERSON\"\n",
              "    fineGrainedNER: \"PERSON\"\n",
              "    nerLabelProbs: \"PERSON=0.9999992044892745\"\n",
              "    lemma: \"Einstein\"\n",
              "    beginChar: 7\n",
              "    endChar: 15\n",
              "    tokenBeginIndex: 1\n",
              "    tokenEndIndex: 2\n",
              "    hasXmlContext: false\n",
              "    isNewline: false\n",
              "    entityMentionIndex: 0\n",
              "  }\n",
              "  token {\n",
              "    word: \"was\"\n",
              "    pos: \"VBD\"\n",
              "    value: \"was\"\n",
              "    before: \" \"\n",
              "    after: \" \"\n",
              "    originalText: \"was\"\n",
              "    ner: \"O\"\n",
              "    coarseNER: \"O\"\n",
              "    fineGrainedNER: \"O\"\n",
              "    nerLabelProbs: \"O=0.9999932789559319\"\n",
              "    lemma: \"be\"\n",
              "    beginChar: 16\n",
              "    endChar: 19\n",
              "    tokenBeginIndex: 2\n",
              "    tokenEndIndex: 3\n",
              "    hasXmlContext: false\n",
              "    isNewline: false\n",
              "  }\n",
              "  token {\n",
              "    word: \"a\"\n",
              "    pos: \"DT\"\n",
              "    value: \"a\"\n",
              "    before: \" \"\n",
              "    after: \" \"\n",
              "    originalText: \"a\"\n",
              "    ner: \"O\"\n",
              "    coarseNER: \"O\"\n",
              "    fineGrainedNER: \"O\"\n",
              "    nerLabelProbs: \"O=0.9999927468825828\"\n",
              "    lemma: \"a\"\n",
              "    beginChar: 20\n",
              "    endChar: 21\n",
              "    tokenBeginIndex: 3\n",
              "    tokenEndIndex: 4\n",
              "    hasXmlContext: false\n",
              "    isNewline: false\n",
              "  }\n",
              "  token {\n",
              "    word: \"German\"\n",
              "    pos: \"JJ\"\n",
              "    value: \"German\"\n",
              "    before: \" \"\n",
              "    after: \"\"\n",
              "    originalText: \"German\"\n",
              "    ner: \"NATIONALITY\"\n",
              "    coarseNER: \"MISC\"\n",
              "    fineGrainedNER: \"NATIONALITY\"\n",
              "    nerLabelProbs: \"MISC=0.9999987842676035\"\n",
              "    lemma: \"German\"\n",
              "    beginChar: 22\n",
              "    endChar: 28\n",
              "    tokenBeginIndex: 4\n",
              "    tokenEndIndex: 5\n",
              "    hasXmlContext: false\n",
              "    isNewline: false\n",
              "    entityMentionIndex: 1\n",
              "  }\n",
              "  token {\n",
              "    word: \"-\"\n",
              "    pos: \"HYPH\"\n",
              "    value: \"-\"\n",
              "    before: \"\"\n",
              "    after: \"\"\n",
              "    originalText: \"-\"\n",
              "    ner: \"O\"\n",
              "    coarseNER: \"O\"\n",
              "    fineGrainedNER: \"O\"\n",
              "    nerLabelProbs: \"O=0.9998765802180007\"\n",
              "    lemma: \"-\"\n",
              "    beginChar: 28\n",
              "    endChar: 29\n",
              "    tokenBeginIndex: 5\n",
              "    tokenEndIndex: 6\n",
              "    hasXmlContext: false\n",
              "    isNewline: false\n",
              "  }\n",
              "  token {\n",
              "    word: \"born\"\n",
              "    pos: \"VBN\"\n",
              "    value: \"born\"\n",
              "    before: \"\"\n",
              "    after: \" \"\n",
              "    originalText: \"born\"\n",
              "    ner: \"O\"\n",
              "    coarseNER: \"O\"\n",
              "    fineGrainedNER: \"O\"\n",
              "    nerLabelProbs: \"O=0.9998956433598255\"\n",
              "    lemma: \"bear\"\n",
              "    beginChar: 29\n",
              "    endChar: 33\n",
              "    tokenBeginIndex: 6\n",
              "    tokenEndIndex: 7\n",
              "    hasXmlContext: false\n",
              "    isNewline: false\n",
              "  }\n",
              "  token {\n",
              "    word: \"theoretical\"\n",
              "    pos: \"JJ\"\n",
              "    value: \"theoretical\"\n",
              "    before: \" \"\n",
              "    after: \" \"\n",
              "    originalText: \"theoretical\"\n",
              "    ner: \"TITLE\"\n",
              "    coarseNER: \"O\"\n",
              "    fineGrainedNER: \"TITLE\"\n",
              "    nerLabelProbs: \"O=0.9999947872437227\"\n",
              "    lemma: \"theoretical\"\n",
              "    beginChar: 34\n",
              "    endChar: 45\n",
              "    tokenBeginIndex: 7\n",
              "    tokenEndIndex: 8\n",
              "    hasXmlContext: false\n",
              "    isNewline: false\n",
              "    entityMentionIndex: 2\n",
              "  }\n",
              "  token {\n",
              "    word: \"physicist\"\n",
              "    pos: \"NN\"\n",
              "    value: \"physicist\"\n",
              "    before: \" \"\n",
              "    after: \"\"\n",
              "    originalText: \"physicist\"\n",
              "    ner: \"TITLE\"\n",
              "    coarseNER: \"O\"\n",
              "    fineGrainedNER: \"TITLE\"\n",
              "    nerLabelProbs: \"O=0.9999861020678511\"\n",
              "    lemma: \"physicist\"\n",
              "    beginChar: 46\n",
              "    endChar: 55\n",
              "    tokenBeginIndex: 8\n",
              "    tokenEndIndex: 9\n",
              "    hasXmlContext: false\n",
              "    isNewline: false\n",
              "    entityMentionIndex: 2\n",
              "  }\n",
              "  token {\n",
              "    word: \".\"\n",
              "    pos: \".\"\n",
              "    value: \".\"\n",
              "    before: \"\"\n",
              "    after: \" \"\n",
              "    originalText: \".\"\n",
              "    ner: \"O\"\n",
              "    coarseNER: \"O\"\n",
              "    fineGrainedNER: \"O\"\n",
              "    nerLabelProbs: \"O=0.9999991921578578\"\n",
              "    lemma: \".\"\n",
              "    beginChar: 55\n",
              "    endChar: 56\n",
              "    tokenBeginIndex: 9\n",
              "    tokenEndIndex: 10\n",
              "    hasXmlContext: false\n",
              "    isNewline: false\n",
              "  }\n",
              "  tokenOffsetBegin: 0\n",
              "  tokenOffsetEnd: 10\n",
              "  sentenceIndex: 0\n",
              "  characterOffsetBegin: 0\n",
              "  characterOffsetEnd: 56\n",
              "  hasRelationAnnotations: false\n",
              "  hasNumerizedTokensAnnotation: false\n",
              "  mentions {\n",
              "    sentenceIndex: 0\n",
              "    tokenStartInSentenceInclusive: 0\n",
              "    tokenEndInSentenceExclusive: 2\n",
              "    ner: \"PERSON\"\n",
              "    entityType: \"PERSON\"\n",
              "    entityMentionIndex: 0\n",
              "    canonicalEntityMentionIndex: 0\n",
              "    entityMentionText: \"Albert Einstein\"\n",
              "  }\n",
              "  mentions {\n",
              "    sentenceIndex: 0\n",
              "    tokenStartInSentenceInclusive: 4\n",
              "    tokenEndInSentenceExclusive: 5\n",
              "    ner: \"NATIONALITY\"\n",
              "    entityType: \"NATIONALITY\"\n",
              "    entityMentionIndex: 1\n",
              "    canonicalEntityMentionIndex: 1\n",
              "    entityMentionText: \"German\"\n",
              "  }\n",
              "  mentions {\n",
              "    sentenceIndex: 0\n",
              "    tokenStartInSentenceInclusive: 7\n",
              "    tokenEndInSentenceExclusive: 9\n",
              "    ner: \"TITLE\"\n",
              "    entityType: \"TITLE\"\n",
              "    entityMentionIndex: 2\n",
              "    canonicalEntityMentionIndex: 2\n",
              "    entityMentionText: \"theoretical physicist\"\n",
              "  }\n",
              "  hasEntityMentionsAnnotation: true\n",
              "}\n",
              "sentence {\n",
              "  token {\n",
              "    word: \"He\"\n",
              "    pos: \"PRP\"\n",
              "    value: \"He\"\n",
              "    before: \" \"\n",
              "    after: \" \"\n",
              "    originalText: \"He\"\n",
              "    ner: \"O\"\n",
              "    coarseNER: \"O\"\n",
              "    fineGrainedNER: \"O\"\n",
              "    nerLabelProbs: \"O=0.9999729421729151\"\n",
              "    lemma: \"he\"\n",
              "    beginChar: 57\n",
              "    endChar: 59\n",
              "    tokenBeginIndex: 10\n",
              "    tokenEndIndex: 11\n",
              "    hasXmlContext: false\n",
              "    isNewline: false\n",
              "    gender: \"MALE\"\n",
              "    entityMentionIndex: 3\n",
              "  }\n",
              "  token {\n",
              "    word: \"developed\"\n",
              "    pos: \"VBD\"\n",
              "    value: \"developed\"\n",
              "    before: \" \"\n",
              "    after: \" \"\n",
              "    originalText: \"developed\"\n",
              "    ner: \"O\"\n",
              "    coarseNER: \"O\"\n",
              "    fineGrainedNER: \"O\"\n",
              "    nerLabelProbs: \"O=0.999998247370159\"\n",
              "    lemma: \"develop\"\n",
              "    beginChar: 60\n",
              "    endChar: 69\n",
              "    tokenBeginIndex: 11\n",
              "    tokenEndIndex: 12\n",
              "    hasXmlContext: false\n",
              "    isNewline: false\n",
              "  }\n",
              "  token {\n",
              "    word: \"the\"\n",
              "    pos: \"DT\"\n",
              "    value: \"the\"\n",
              "    before: \" \"\n",
              "    after: \" \"\n",
              "    originalText: \"the\"\n",
              "    ner: \"O\"\n",
              "    coarseNER: \"O\"\n",
              "    fineGrainedNER: \"O\"\n",
              "    nerLabelProbs: \"O=0.9999996050163914\"\n",
              "    lemma: \"the\"\n",
              "    beginChar: 70\n",
              "    endChar: 73\n",
              "    tokenBeginIndex: 12\n",
              "    tokenEndIndex: 13\n",
              "    hasXmlContext: false\n",
              "    isNewline: false\n",
              "  }\n",
              "  token {\n",
              "    word: \"theory\"\n",
              "    pos: \"NN\"\n",
              "    value: \"theory\"\n",
              "    before: \" \"\n",
              "    after: \" \"\n",
              "    originalText: \"theory\"\n",
              "    ner: \"O\"\n",
              "    coarseNER: \"O\"\n",
              "    fineGrainedNER: \"O\"\n",
              "    nerLabelProbs: \"O=0.9999955206946957\"\n",
              "    lemma: \"theory\"\n",
              "    beginChar: 74\n",
              "    endChar: 80\n",
              "    tokenBeginIndex: 13\n",
              "    tokenEndIndex: 14\n",
              "    hasXmlContext: false\n",
              "    isNewline: false\n",
              "  }\n",
              "  token {\n",
              "    word: \"of\"\n",
              "    pos: \"IN\"\n",
              "    value: \"of\"\n",
              "    before: \" \"\n",
              "    after: \" \"\n",
              "    originalText: \"of\"\n",
              "    ner: \"O\"\n",
              "    coarseNER: \"O\"\n",
              "    fineGrainedNER: \"O\"\n",
              "    nerLabelProbs: \"O=0.9999998701306025\"\n",
              "    lemma: \"of\"\n",
              "    beginChar: 81\n",
              "    endChar: 83\n",
              "    tokenBeginIndex: 14\n",
              "    tokenEndIndex: 15\n",
              "    hasXmlContext: false\n",
              "    isNewline: false\n",
              "  }\n",
              "  token {\n",
              "    word: \"relativity\"\n",
              "    pos: \"NN\"\n",
              "    value: \"relativity\"\n",
              "    before: \" \"\n",
              "    after: \"\"\n",
              "    originalText: \"relativity\"\n",
              "    ner: \"O\"\n",
              "    coarseNER: \"O\"\n",
              "    fineGrainedNER: \"O\"\n",
              "    nerLabelProbs: \"O=0.9999834854333183\"\n",
              "    lemma: \"relativity\"\n",
              "    beginChar: 84\n",
              "    endChar: 94\n",
              "    tokenBeginIndex: 15\n",
              "    tokenEndIndex: 16\n",
              "    hasXmlContext: false\n",
              "    isNewline: false\n",
              "  }\n",
              "  token {\n",
              "    word: \".\"\n",
              "    pos: \".\"\n",
              "    value: \".\"\n",
              "    before: \"\"\n",
              "    after: \"\"\n",
              "    originalText: \".\"\n",
              "    ner: \"O\"\n",
              "    coarseNER: \"O\"\n",
              "    fineGrainedNER: \"O\"\n",
              "    nerLabelProbs: \"O=0.9999997199188294\"\n",
              "    lemma: \".\"\n",
              "    beginChar: 94\n",
              "    endChar: 95\n",
              "    tokenBeginIndex: 16\n",
              "    tokenEndIndex: 17\n",
              "    hasXmlContext: false\n",
              "    isNewline: false\n",
              "  }\n",
              "  tokenOffsetBegin: 10\n",
              "  tokenOffsetEnd: 17\n",
              "  sentenceIndex: 1\n",
              "  characterOffsetBegin: 57\n",
              "  characterOffsetEnd: 95\n",
              "  hasRelationAnnotations: false\n",
              "  hasNumerizedTokensAnnotation: false\n",
              "  mentions {\n",
              "    sentenceIndex: 1\n",
              "    tokenStartInSentenceInclusive: 10\n",
              "    tokenEndInSentenceExclusive: 11\n",
              "    ner: \"PERSON\"\n",
              "    entityType: \"PERSON\"\n",
              "    gender: \"MALE\"\n",
              "    entityMentionIndex: 3\n",
              "    canonicalEntityMentionIndex: 3\n",
              "    entityMentionText: \"He\"\n",
              "  }\n",
              "  hasEntityMentionsAnnotation: true\n",
              "}\n",
              "mentions {\n",
              "  sentenceIndex: 0\n",
              "  tokenStartInSentenceInclusive: 0\n",
              "  tokenEndInSentenceExclusive: 2\n",
              "  ner: \"PERSON\"\n",
              "  entityType: \"PERSON\"\n",
              "  entityMentionIndex: 0\n",
              "  canonicalEntityMentionIndex: 0\n",
              "  entityMentionText: \"Albert Einstein\"\n",
              "}\n",
              "mentions {\n",
              "  sentenceIndex: 0\n",
              "  tokenStartInSentenceInclusive: 4\n",
              "  tokenEndInSentenceExclusive: 5\n",
              "  ner: \"NATIONALITY\"\n",
              "  entityType: \"NATIONALITY\"\n",
              "  entityMentionIndex: 1\n",
              "  canonicalEntityMentionIndex: 1\n",
              "  entityMentionText: \"German\"\n",
              "}\n",
              "mentions {\n",
              "  sentenceIndex: 0\n",
              "  tokenStartInSentenceInclusive: 7\n",
              "  tokenEndInSentenceExclusive: 9\n",
              "  ner: \"TITLE\"\n",
              "  entityType: \"TITLE\"\n",
              "  entityMentionIndex: 2\n",
              "  canonicalEntityMentionIndex: 2\n",
              "  entityMentionText: \"theoretical physicist\"\n",
              "}\n",
              "mentions {\n",
              "  sentenceIndex: 1\n",
              "  tokenStartInSentenceInclusive: 10\n",
              "  tokenEndInSentenceExclusive: 11\n",
              "  ner: \"PERSON\"\n",
              "  entityType: \"PERSON\"\n",
              "  gender: \"MALE\"\n",
              "  entityMentionIndex: 3\n",
              "  canonicalEntityMentionIndex: 3\n",
              "  entityMentionText: \"He\"\n",
              "}\n",
              "hasEntityMentionsAnnotation: true\n",
              "xmlDoc: false\n",
              "hasCorefMentionAnnotation: false\n",
              "hasCorefAnnotation: false"
            ]
          },
          "metadata": {},
          "execution_count": 8
        }
      ]
    },
    {
      "cell_type": "markdown",
      "metadata": {
        "id": "semmA3e0TcM1"
      },
      "source": [
        "## 3. Accessing Annotations\n",
        "\n",
        "Annotations can be accessed from the returned `Document` object.\n",
        "\n",
        "A `Document` contains a list of `Sentence`s, which contain a list of `Token`s. Here let's first explore the annotations stored in all tokens."
      ]
    },
    {
      "cell_type": "code",
      "metadata": {
        "id": "lIO4B5d6Rk4I",
        "colab": {
          "base_uri": "https://localhost:8080/"
        },
        "outputId": "b45621f0-8632-424b-d5d3-dcee517531bf"
      },
      "source": [
        "# Iterate over all tokens in all sentences, and print out the word, lemma, pos and ner tags\n",
        "print(\"{:12s}\\t{:12s}\\t{:6s}\\t{}\".format(\"Word\", \"Lemma\", \"POS\", \"NER\"))\n",
        "\n",
        "for i, sent in enumerate(document.sentence):\n",
        "    print(\"[Sentence {}]\".format(i+1))\n",
        "    for t in sent.token:\n",
        "        print(\"{:12s}\\t{:12s}\\t{:6s}\\t{}\".format(t.word, t.lemma, t.pos, t.ner))\n",
        "    print(\"\")"
      ],
      "execution_count": 9,
      "outputs": [
        {
          "output_type": "stream",
          "name": "stdout",
          "text": [
            "Word        \tLemma       \tPOS   \tNER\n",
            "[Sentence 1]\n",
            "Albert      \tAlbert      \tNNP   \tPERSON\n",
            "Einstein    \tEinstein    \tNNP   \tPERSON\n",
            "was         \tbe          \tVBD   \tO\n",
            "a           \ta           \tDT    \tO\n",
            "German      \tGerman      \tJJ    \tNATIONALITY\n",
            "-           \t-           \tHYPH  \tO\n",
            "born        \tbear        \tVBN   \tO\n",
            "theoretical \ttheoretical \tJJ    \tTITLE\n",
            "physicist   \tphysicist   \tNN    \tTITLE\n",
            ".           \t.           \t.     \tO\n",
            "\n",
            "[Sentence 2]\n",
            "He          \the          \tPRP   \tO\n",
            "developed   \tdevelop     \tVBD   \tO\n",
            "the         \tthe         \tDT    \tO\n",
            "theory      \ttheory      \tNN    \tO\n",
            "of          \tof          \tIN    \tO\n",
            "relativity  \trelativity  \tNN    \tO\n",
            ".           \t.           \t.     \tO\n",
            "\n"
          ]
        }
      ]
    },
    {
      "cell_type": "markdown",
      "metadata": {
        "id": "msrJfvu8VV9m"
      },
      "source": [
        "Alternatively, you can also browse the NER results by iterating over entity mentions over the sentences. For example:"
      ]
    },
    {
      "cell_type": "code",
      "metadata": {
        "id": "ezEjc9LeV2Xs",
        "colab": {
          "base_uri": "https://localhost:8080/"
        },
        "outputId": "af76049c-40a8-4523-c463-4347660f58a7"
      },
      "source": [
        "# Iterate over all detected entity mentions\n",
        "print(\"{:30s}\\t{}\".format(\"Mention\", \"Type\"))\n",
        "\n",
        "for sent in document.sentence:\n",
        "    for m in sent.mentions:\n",
        "        print(\"{:30s}\\t{}\".format(m.entityMentionText, m.entityType))"
      ],
      "execution_count": 10,
      "outputs": [
        {
          "output_type": "stream",
          "name": "stdout",
          "text": [
            "Mention                       \tType\n",
            "Albert Einstein               \tPERSON\n",
            "German                        \tNATIONALITY\n",
            "theoretical physicist         \tTITLE\n",
            "He                            \tPERSON\n"
          ]
        }
      ]
    },
    {
      "cell_type": "markdown",
      "metadata": {
        "id": "ueGzBZ3hWzkN"
      },
      "source": [
        "To print all annotations a sentence, token or mention has, you can simply print the corresponding obejct."
      ]
    },
    {
      "cell_type": "code",
      "metadata": {
        "id": "4_S8o2BHXIed",
        "colab": {
          "base_uri": "https://localhost:8080/"
        },
        "outputId": "83b7402d-2c59-4817-b431-6b28372877c6"
      },
      "source": [
        "# Print annotations of a token\n",
        "print(document.sentence[0].token[0])\n",
        "\n",
        "# Print annotations of a mention\n",
        "print(document.sentence[0].mentions[0])"
      ],
      "execution_count": 11,
      "outputs": [
        {
          "output_type": "stream",
          "name": "stdout",
          "text": [
            "word: \"Albert\"\n",
            "pos: \"NNP\"\n",
            "value: \"Albert\"\n",
            "before: \"\"\n",
            "after: \" \"\n",
            "originalText: \"Albert\"\n",
            "ner: \"PERSON\"\n",
            "coarseNER: \"PERSON\"\n",
            "fineGrainedNER: \"PERSON\"\n",
            "nerLabelProbs: \"PERSON=0.9999331283889166\"\n",
            "lemma: \"Albert\"\n",
            "beginChar: 0\n",
            "endChar: 6\n",
            "tokenBeginIndex: 0\n",
            "tokenEndIndex: 1\n",
            "hasXmlContext: false\n",
            "isNewline: false\n",
            "entityMentionIndex: 0\n",
            "\n",
            "sentenceIndex: 0\n",
            "tokenStartInSentenceInclusive: 0\n",
            "tokenEndInSentenceExclusive: 2\n",
            "ner: \"PERSON\"\n",
            "entityType: \"PERSON\"\n",
            "entityMentionIndex: 0\n",
            "canonicalEntityMentionIndex: 0\n",
            "entityMentionText: \"Albert Einstein\"\n",
            "\n"
          ]
        }
      ]
    },
    {
      "cell_type": "markdown",
      "metadata": {
        "id": "Qp66wjZ10xia"
      },
      "source": [
        "**Note**: Since the Stanza CoreNLP client interface simply ports the CoreNLP annotation results to native Python objects, for a comprehensive lists of available annotators and how their annotation results can be accessed, you will need to visit the [Stanford CoreNLP website](https://stanfordnlp.github.io/CoreNLP/)."
      ]
    },
    {
      "cell_type": "markdown",
      "metadata": {
        "id": "IPqzMK90X0w3"
      },
      "source": [
        "## 4. Shutting Down the CoreNLP Server\n",
        "\n",
        "To shut down the background CoreNLP server process, simply call the `stop` function of the client. Note that once a server is shutdown, you'll have to restart the server with the `start()` function before any annotation is requested."
      ]
    },
    {
      "cell_type": "code",
      "metadata": {
        "id": "xrJq8lZ3Nw7b",
        "colab": {
          "base_uri": "https://localhost:8080/"
        },
        "outputId": "84b88078-1664-4553-91a9-be46c4f467c0"
      },
      "source": [
        "# Shut down the background CoreNLP server\n",
        "client.stop()\n",
        "\n",
        "time.sleep(10)\n",
        "!ps -o pid,cmd | grep java"
      ],
      "execution_count": 18,
      "outputs": [
        {
          "output_type": "stream",
          "name": "stdout",
          "text": [
            "   5625 /bin/bash -c ps -o pid,cmd | grep java\n",
            "   5627 grep java\n"
          ]
        }
      ]
    },
    {
      "cell_type": "markdown",
      "metadata": {
        "id": "23Vwa_ifYfF7"
      },
      "source": [
        "### More Information\n",
        "\n",
        "For more information on how to use the `CoreNLPClient`, please go to the [CoreNLPClient documentation page](https://stanfordnlp.github.io/stanza/corenlp_client.html)."
      ]
    },
    {
      "cell_type": "markdown",
      "metadata": {
        "id": "YUrVT6kA_Bzx"
      },
      "source": [
        "## 5. Simplifying Client Usage with the Python `with` statement\n",
        "\n",
        "In the above demo, we explicitly called the `client.start()` and `client.stop()` functions to start and stop a client-server connection. However, doing this in practice is usually suboptimal, since you may forget to call the `stop()` function at the end, resulting in an unused server process occupying your machine memory.\n",
        "\n",
        "To solve is, a simple solution is to use the client interface with the [Python `with` statement](https://docs.python.org/3/reference/compound_stmts.html#the-with-statement). The `with` statement provides an elegant way to automatically start and stop the server process in your Python program, without you needing to worry about this. The following code snippet demonstrates how to establish a client, annotate an example text and then stop the server with a simple `with` statement. Note that we **always recommend** you to use the `with` statement when working with the Stanza CoreNLP client interface."
      ]
    },
    {
      "cell_type": "code",
      "metadata": {
        "id": "H0ct2-R4AvJh",
        "colab": {
          "base_uri": "https://localhost:8080/"
        },
        "outputId": "a11b4dc4-fc0f-46d7-964f-d663c80d827e"
      },
      "source": [
        "print(\"Starting a server with the Python \\\"with\\\" statement...\")\n",
        "with CoreNLPClient(annotators=['tokenize','ssplit', 'pos', 'lemma', 'ner'],\n",
        "                   memory='4G', endpoint='http://localhost:9001', be_quiet=True) as client:\n",
        "    text = \"Albert Einstein was a German-born theoretical physicist.\"\n",
        "    document = client.annotate(text)\n",
        "\n",
        "    print(\"{:30s}\\t{}\".format(\"Mention\", \"Type\"))\n",
        "    for sent in document.sentence:\n",
        "        for m in sent.mentions:\n",
        "            print(\"{:30s}\\t{}\".format(m.entityMentionText, m.entityType))\n",
        "\n",
        "print(\"\\nThe server should be stopped upon exit from the \\\"with\\\" statement.\")"
      ],
      "execution_count": 14,
      "outputs": [
        {
          "output_type": "stream",
          "name": "stderr",
          "text": [
            "INFO:stanza:Writing properties to tmp file: corenlp_server-9540d3fa061f47c3.props\n",
            "INFO:stanza:Starting server with command: java -Xmx4G -cp ./corenlp/* edu.stanford.nlp.pipeline.StanfordCoreNLPServer -port 9001 -timeout 60000 -threads 5 -maxCharLength 100000 -quiet True -serverProperties corenlp_server-9540d3fa061f47c3.props -annotators tokenize,ssplit,pos,lemma,ner -preload -outputFormat serialized\n"
          ]
        },
        {
          "output_type": "stream",
          "name": "stdout",
          "text": [
            "Starting a server with the Python \"with\" statement...\n",
            "Mention                       \tType\n",
            "Albert Einstein               \tPERSON\n",
            "German                        \tNATIONALITY\n",
            "theoretical physicist         \tTITLE\n",
            "\n",
            "The server should be stopped upon exit from the \"with\" statement.\n"
          ]
        }
      ]
    },
    {
      "cell_type": "code",
      "source": [],
      "metadata": {
        "id": "E5ovpDLOQ9XS"
      },
      "execution_count": null,
      "outputs": []
    },
    {
      "cell_type": "code",
      "source": [
        "import json\n",
        "import networkx as nx\n",
        "from pathlib import Path\n",
        "from tqdm import tqdm\n",
        "# Path to the input file\n",
        "load_file = \"/content/twitter/test.txt\"\n",
        "# Output file for the consolidated JSON results\n",
        "output_file = Path(\"/content/twitter15_test.json\")\n",
        "# Ensure the output directory exists\n",
        "output_file.parent.mkdir(parents=True, exist_ok=True)\n",
        "# Function to process a single sentence and extract entities and relations\n",
        "def process_sentence(client, sentence):\n",
        "    document = client.annotate(sentence)\n",
        "\n",
        "    # Create a directed graph to store entities and relations\n",
        "    G = nx.DiGraph()\n",
        "\n",
        "    entities = []\n",
        "    relations = []\n",
        "\n",
        "    for sent in document.sentence:\n",
        "        tokens = sent.token\n",
        "        dependencies = sent.basicDependencies.edge\n",
        "\n",
        "        # Extract entities\n",
        "        if hasattr(sent, 'mentions'):\n",
        "            for m in sent.mentions:\n",
        "                entity = {\n",
        "                    'text': m.entityMentionText,\n",
        "                    'type': m.entityType\n",
        "                }\n",
        "                entities.append(entity)\n",
        "                G.add_node(entity['text'], type=entity['type'])\n",
        "\n",
        "        # Extract relations using dependency parsing\n",
        "        for dep in dependencies:\n",
        "            dep_type = dep.dep\n",
        "            governor = tokens[dep.source - 1].word\n",
        "            dependent = tokens[dep.target - 1].word\n",
        "\n",
        "            if dep_type == 'nsubj':\n",
        "                subject = dependent\n",
        "                predicate = governor\n",
        "            elif dep_type in ['dobj', 'obj']:\n",
        "                object_ = dependent\n",
        "                predicate = governor\n",
        "                relations.append({\n",
        "                    'predicate': predicate,\n",
        "                    'relation': dep_type,\n",
        "                    'object': object_\n",
        "                })\n",
        "                G.add_edge(predicate, object_, relation=dep_type)\n",
        "            elif dep_type == 'amod':\n",
        "                # Modifier relationship, e.g., adjective modifying a noun\n",
        "                object_ = governor\n",
        "                modifier = dependent\n",
        "                relations.append({\n",
        "                    'predicate': modifier,\n",
        "                    'relation': dep_type,\n",
        "                    'object': object_\n",
        "                })\n",
        "                G.add_edge(modifier, object_, relation=dep_type)\n",
        "            elif dep_type == 'cop':\n",
        "                # Copula relation, e.g., \"was\"\n",
        "                predicate = governor\n",
        "                object_ = dependent\n",
        "                relations.append({\n",
        "                    'predicate': predicate,\n",
        "                    'relation': dep_type,\n",
        "                    'object': object_\n",
        "                })\n",
        "                G.add_edge(predicate, object_, relation=dep_type)\n",
        "\n",
        "    return {\n",
        "        \"entities\": entities,\n",
        "        \"relations\": relations\n",
        "    }\n",
        "# Read and parse the input file\n",
        "with open(load_file, \"r\", encoding=\"utf-8\") as f:\n",
        "    lines = f.readlines()\n",
        "    raw_words, raw_targets = [], []\n",
        "    raw_word, raw_target = [], []\n",
        "    imgs = []\n",
        "    current_img_id = None\n",
        "    for line in lines:\n",
        "        if line.startswith(\"IMGID:\"):\n",
        "            current_img_id = line.strip().split('IMGID:')[1]\n",
        "            imgs.append(current_img_id)\n",
        "            continue\n",
        "        if line.strip() != \"\":\n",
        "            parts = line.strip().split('\\t')\n",
        "            if len(parts) >= 2:\n",
        "                raw_word.append(parts[0])\n",
        "                label = parts[1]\n",
        "                if 'OTHER' in label:\n",
        "                    label = label.replace('OTHER', 'MISC')\n",
        "                raw_target.append(label)\n",
        "        else:\n",
        "            if raw_word and raw_target:\n",
        "                raw_words.append(raw_word)\n",
        "                raw_targets.append(raw_target)\n",
        "                raw_word, raw_target = [], []\n",
        "    # Handle the last sentence if the file doesn't end with a newline\n",
        "    if raw_word and raw_target:\n",
        "        raw_words.append(raw_word)\n",
        "        raw_targets.append(raw_target)\n",
        "# Initialize the CoreNLPClient once for efficiency\n",
        "with CoreNLPClient(\n",
        "    annotators=['tokenize', 'ssplit', 'pos', 'depparse', 'lemma', 'ner'],\n",
        "    memory='4G',\n",
        "    endpoint='http://localhost:9005',\n",
        "    be_quiet=True\n",
        ") as client:\n",
        "    output_dict = {}\n",
        "    for i in tqdm(range(len(raw_words))):\n",
        "        sentence = \" \".join(raw_words[i]).strip()\n",
        "        img_id = imgs[i] if i < len(imgs) else f\"unknown_{i}.jpg\"\n",
        "        if not sentence:\n",
        "            print(f\"Skipping empty sentence for image {img_id}.\")\n",
        "            continue\n",
        "        try:\n",
        "            output = process_sentence(client, sentence)\n",
        "        except Exception as e:\n",
        "            print(f\"Error processing sentence for image {img_id}: {e}\")\n",
        "            output = {\"entities\": [], \"relations\": []}\n",
        "        # If an img_id appears multiple times, store results in a list\n",
        "        if img_id in output_dict:\n",
        "            if isinstance(output_dict[img_id], list):\n",
        "                output_dict[img_id].append(output)\n",
        "            else:\n",
        "                output_dict[img_id] = [output_dict[img_id], output]\n",
        "        else:\n",
        "            output_dict[img_id] = output\n",
        "    with open(output_file, \"w\", encoding=\"utf-8\") as json_file:\n",
        "        json.dump(output_dict, json_file, ensure_ascii=False, indent=4)\n",
        "print(\"All sentences have been processed and the consolidated JSON file has been saved.\")"
      ],
      "metadata": {
        "colab": {
          "base_uri": "https://localhost:8080/"
        },
        "collapsed": true,
        "id": "du3op4fvOw_3",
        "outputId": "41b458ff-a5a4-4d93-fca3-c1a95e8bea3a"
      },
      "execution_count": 39,
      "outputs": [
        {
          "output_type": "stream",
          "name": "stderr",
          "text": [
            "INFO:stanza:Writing properties to tmp file: corenlp_server-02524f9def5c4e92.props\n",
            "INFO:stanza:Starting server with command: java -Xmx4G -cp ./corenlp/* edu.stanford.nlp.pipeline.StanfordCoreNLPServer -port 9005 -timeout 60000 -threads 5 -maxCharLength 100000 -quiet True -serverProperties corenlp_server-02524f9def5c4e92.props -annotators tokenize,ssplit,pos,depparse,lemma,ner -preload -outputFormat serialized\n",
            "  0%|          | 1/4000 [00:34<38:14:37, 34.43s/it]"
          ]
        },
        {
          "output_type": "stream",
          "name": "stdout",
          "text": [
            "Processed sentence for image 1015799.\n"
          ]
        },
        {
          "output_type": "stream",
          "name": "stderr",
          "text": [
            "\r  0%|          | 2/4000 [00:34<15:57:18, 14.37s/it]"
          ]
        },
        {
          "output_type": "stream",
          "name": "stdout",
          "text": [
            "Processed sentence for image 1109405.\n"
          ]
        },
        {
          "output_type": "stream",
          "name": "stderr",
          "text": [
            "\r  0%|          | 3/4000 [00:35<8:55:53,  8.04s/it] "
          ]
        },
        {
          "output_type": "stream",
          "name": "stdout",
          "text": [
            "Processed sentence for image 563049.\n"
          ]
        },
        {
          "output_type": "stream",
          "name": "stderr",
          "text": [
            "\r  0%|          | 4/4000 [00:35<5:31:11,  4.97s/it]"
          ]
        },
        {
          "output_type": "stream",
          "name": "stdout",
          "text": [
            "Processed sentence for image 50447.\n"
          ]
        },
        {
          "output_type": "stream",
          "name": "stderr",
          "text": [
            "  0%|          | 6/4000 [00:36<2:28:55,  2.24s/it]"
          ]
        },
        {
          "output_type": "stream",
          "name": "stdout",
          "text": [
            "Processed sentence for image 418340.\n",
            "Processed sentence for image 50168.\n"
          ]
        },
        {
          "output_type": "stream",
          "name": "stderr",
          "text": [
            "\r  0%|          | 7/4000 [00:36<1:50:38,  1.66s/it]"
          ]
        },
        {
          "output_type": "stream",
          "name": "stdout",
          "text": [
            "Processed sentence for image 684051.\n"
          ]
        },
        {
          "output_type": "stream",
          "name": "stderr",
          "text": [
            "  0%|          | 9/4000 [00:37<1:00:43,  1.10it/s]"
          ]
        },
        {
          "output_type": "stream",
          "name": "stdout",
          "text": [
            "Processed sentence for image 1351124.\n",
            "Processed sentence for image 94770.\n"
          ]
        },
        {
          "output_type": "stream",
          "name": "stderr",
          "text": [
            "\r  0%|          | 10/4000 [00:37<51:04,  1.30it/s] "
          ]
        },
        {
          "output_type": "stream",
          "name": "stdout",
          "text": [
            "Processed sentence for image 64931.\n"
          ]
        },
        {
          "output_type": "stream",
          "name": "stderr",
          "text": [
            "\r  0%|          | 11/4000 [00:38<49:12,  1.35it/s]"
          ]
        },
        {
          "output_type": "stream",
          "name": "stdout",
          "text": [
            "Processed sentence for image 63944.\n"
          ]
        },
        {
          "output_type": "stream",
          "name": "stderr",
          "text": [
            "\r  0%|          | 12/4000 [00:39<51:59,  1.28it/s]"
          ]
        },
        {
          "output_type": "stream",
          "name": "stdout",
          "text": [
            "Processed sentence for image 1285253.\n"
          ]
        },
        {
          "output_type": "stream",
          "name": "stderr",
          "text": [
            "\r  0%|          | 13/4000 [00:39<41:09,  1.61it/s]"
          ]
        },
        {
          "output_type": "stream",
          "name": "stdout",
          "text": [
            "Processed sentence for image 1330809.\n"
          ]
        },
        {
          "output_type": "stream",
          "name": "stderr",
          "text": [
            "\r  0%|          | 14/4000 [00:40<42:55,  1.55it/s]"
          ]
        },
        {
          "output_type": "stream",
          "name": "stdout",
          "text": [
            "Processed sentence for image 317066.\n"
          ]
        },
        {
          "output_type": "stream",
          "name": "stderr",
          "text": [
            "\r  0%|          | 15/4000 [00:40<49:42,  1.34it/s]"
          ]
        },
        {
          "output_type": "stream",
          "name": "stdout",
          "text": [
            "Processed sentence for image 589703.\n"
          ]
        },
        {
          "output_type": "stream",
          "name": "stderr",
          "text": [
            "\r  0%|          | 16/4000 [00:41<41:44,  1.59it/s]"
          ]
        },
        {
          "output_type": "stream",
          "name": "stdout",
          "text": [
            "Processed sentence for image 72512.\n"
          ]
        },
        {
          "output_type": "stream",
          "name": "stderr",
          "text": [
            "\r  0%|          | 17/4000 [00:42<1:00:05,  1.10it/s]"
          ]
        },
        {
          "output_type": "stream",
          "name": "stdout",
          "text": [
            "Processed sentence for image 1299485.\n"
          ]
        },
        {
          "output_type": "stream",
          "name": "stderr",
          "text": [
            "\r  0%|          | 18/4000 [00:43<53:30,  1.24it/s]  "
          ]
        },
        {
          "output_type": "stream",
          "name": "stdout",
          "text": [
            "Processed sentence for image 268501.\n"
          ]
        },
        {
          "output_type": "stream",
          "name": "stderr",
          "text": [
            "\r  0%|          | 19/4000 [00:44<50:55,  1.30it/s]"
          ]
        },
        {
          "output_type": "stream",
          "name": "stdout",
          "text": [
            "Processed sentence for image 151567.\n"
          ]
        },
        {
          "output_type": "stream",
          "name": "stderr",
          "text": [
            "\r  0%|          | 20/4000 [00:44<41:07,  1.61it/s]"
          ]
        },
        {
          "output_type": "stream",
          "name": "stdout",
          "text": [
            "Processed sentence for image 12609.\n"
          ]
        },
        {
          "output_type": "stream",
          "name": "stderr",
          "text": [
            "\r  1%|          | 21/4000 [00:44<35:51,  1.85it/s]"
          ]
        },
        {
          "output_type": "stream",
          "name": "stdout",
          "text": [
            "Processed sentence for image 140364.\n"
          ]
        },
        {
          "output_type": "stream",
          "name": "stderr",
          "text": [
            "\r  1%|          | 22/4000 [00:45<34:11,  1.94it/s]"
          ]
        },
        {
          "output_type": "stream",
          "name": "stdout",
          "text": [
            "Processed sentence for image 15424.\n"
          ]
        },
        {
          "output_type": "stream",
          "name": "stderr",
          "text": [
            "\r  1%|          | 23/4000 [00:45<31:19,  2.12it/s]"
          ]
        },
        {
          "output_type": "stream",
          "name": "stdout",
          "text": [
            "Processed sentence for image 213820.\n"
          ]
        },
        {
          "output_type": "stream",
          "name": "stderr",
          "text": [
            "\r  1%|          | 24/4000 [00:46<39:04,  1.70it/s]"
          ]
        },
        {
          "output_type": "stream",
          "name": "stdout",
          "text": [
            "Processed sentence for image 323182.\n"
          ]
        },
        {
          "output_type": "stream",
          "name": "stderr",
          "text": [
            "\r  1%|          | 25/4000 [00:47<38:05,  1.74it/s]"
          ]
        },
        {
          "output_type": "stream",
          "name": "stdout",
          "text": [
            "Processed sentence for image 750200.\n"
          ]
        },
        {
          "output_type": "stream",
          "name": "stderr",
          "text": [
            "\r  1%|          | 26/4000 [00:47<36:39,  1.81it/s]"
          ]
        },
        {
          "output_type": "stream",
          "name": "stdout",
          "text": [
            "Processed sentence for image 282116.\n"
          ]
        },
        {
          "output_type": "stream",
          "name": "stderr",
          "text": [
            "\r  1%|          | 27/4000 [00:47<31:13,  2.12it/s]"
          ]
        },
        {
          "output_type": "stream",
          "name": "stdout",
          "text": [
            "Processed sentence for image 12615.\n"
          ]
        },
        {
          "output_type": "stream",
          "name": "stderr",
          "text": [
            "  1%|          | 29/4000 [00:48<22:18,  2.97it/s]"
          ]
        },
        {
          "output_type": "stream",
          "name": "stdout",
          "text": [
            "Processed sentence for image 10964.\n",
            "Processed sentence for image 856183.\n"
          ]
        },
        {
          "output_type": "stream",
          "name": "stderr",
          "text": [
            "\r  1%|          | 30/4000 [00:48<20:55,  3.16it/s]"
          ]
        },
        {
          "output_type": "stream",
          "name": "stdout",
          "text": [
            "Processed sentence for image 1482819.\n"
          ]
        },
        {
          "output_type": "stream",
          "name": "stderr",
          "text": [
            "\r  1%|          | 31/4000 [00:48<19:14,  3.44it/s]"
          ]
        },
        {
          "output_type": "stream",
          "name": "stdout",
          "text": [
            "Processed sentence for image 859931.\n"
          ]
        },
        {
          "output_type": "stream",
          "name": "stderr",
          "text": [
            "  1%|          | 33/4000 [00:49<16:24,  4.03it/s]"
          ]
        },
        {
          "output_type": "stream",
          "name": "stdout",
          "text": [
            "Processed sentence for image 627764.\n",
            "Processed sentence for image 1061636.\n"
          ]
        },
        {
          "output_type": "stream",
          "name": "stderr",
          "text": [
            "  1%|          | 35/4000 [00:49<13:21,  4.95it/s]"
          ]
        },
        {
          "output_type": "stream",
          "name": "stdout",
          "text": [
            "Processed sentence for image 117075.\n",
            "Processed sentence for image 1486617.\n"
          ]
        },
        {
          "output_type": "stream",
          "name": "stderr",
          "text": [
            "\r  1%|          | 36/4000 [00:49<15:11,  4.35it/s]"
          ]
        },
        {
          "output_type": "stream",
          "name": "stdout",
          "text": [
            "Processed sentence for image 369143.\n"
          ]
        },
        {
          "output_type": "stream",
          "name": "stderr",
          "text": [
            "\r  1%|          | 37/4000 [00:50<16:29,  4.00it/s]"
          ]
        },
        {
          "output_type": "stream",
          "name": "stdout",
          "text": [
            "Processed sentence for image 23954.\n"
          ]
        },
        {
          "output_type": "stream",
          "name": "stderr",
          "text": [
            "  1%|          | 39/4000 [00:50<14:59,  4.40it/s]"
          ]
        },
        {
          "output_type": "stream",
          "name": "stdout",
          "text": [
            "Processed sentence for image 1495458.\n",
            "Processed sentence for image 65245.\n"
          ]
        },
        {
          "output_type": "stream",
          "name": "stderr",
          "text": [
            "\r  1%|          | 40/4000 [00:50<17:57,  3.67it/s]"
          ]
        },
        {
          "output_type": "stream",
          "name": "stdout",
          "text": [
            "Processed sentence for image 113422.\n"
          ]
        },
        {
          "output_type": "stream",
          "name": "stderr",
          "text": [
            "\r  1%|          | 41/4000 [00:51<20:27,  3.23it/s]"
          ]
        },
        {
          "output_type": "stream",
          "name": "stdout",
          "text": [
            "Processed sentence for image 534625.\n"
          ]
        },
        {
          "output_type": "stream",
          "name": "stderr",
          "text": [
            "  1%|          | 43/4000 [00:51<20:25,  3.23it/s]"
          ]
        },
        {
          "output_type": "stream",
          "name": "stdout",
          "text": [
            "Processed sentence for image 1113803.\n",
            "Processed sentence for image 15272.\n"
          ]
        },
        {
          "output_type": "stream",
          "name": "stderr",
          "text": [
            "\r  1%|          | 44/4000 [00:52<17:24,  3.79it/s]"
          ]
        },
        {
          "output_type": "stream",
          "name": "stdout",
          "text": [
            "Processed sentence for image 65565.\n"
          ]
        },
        {
          "output_type": "stream",
          "name": "stderr",
          "text": [
            "\r  1%|          | 45/4000 [00:52<20:38,  3.19it/s]"
          ]
        },
        {
          "output_type": "stream",
          "name": "stdout",
          "text": [
            "Processed sentence for image 869732.\n"
          ]
        },
        {
          "output_type": "stream",
          "name": "stderr",
          "text": [
            "\r  1%|          | 46/4000 [00:53<25:52,  2.55it/s]"
          ]
        },
        {
          "output_type": "stream",
          "name": "stdout",
          "text": [
            "Processed sentence for image 995927.\n"
          ]
        },
        {
          "output_type": "stream",
          "name": "stderr",
          "text": [
            "\r  1%|          | 47/4000 [00:53<24:03,  2.74it/s]"
          ]
        },
        {
          "output_type": "stream",
          "name": "stdout",
          "text": [
            "Processed sentence for image 971737.\n"
          ]
        },
        {
          "output_type": "stream",
          "name": "stderr",
          "text": [
            "\r  1%|          | 48/4000 [00:53<21:47,  3.02it/s]"
          ]
        },
        {
          "output_type": "stream",
          "name": "stdout",
          "text": [
            "Processed sentence for image 556964.\n"
          ]
        },
        {
          "output_type": "stream",
          "name": "stderr",
          "text": [
            "\r  1%|          | 49/4000 [00:53<19:20,  3.41it/s]"
          ]
        },
        {
          "output_type": "stream",
          "name": "stdout",
          "text": [
            "Processed sentence for image 689063.\n"
          ]
        },
        {
          "output_type": "stream",
          "name": "stderr",
          "text": [
            "  1%|▏         | 51/4000 [00:54<16:29,  3.99it/s]"
          ]
        },
        {
          "output_type": "stream",
          "name": "stdout",
          "text": [
            "Processed sentence for image 810107.\n",
            "Processed sentence for image 555689.\n"
          ]
        },
        {
          "output_type": "stream",
          "name": "stderr",
          "text": [
            "\r  1%|▏         | 52/4000 [00:54<15:02,  4.37it/s]"
          ]
        },
        {
          "output_type": "stream",
          "name": "stdout",
          "text": [
            "Processed sentence for image 146252.\n"
          ]
        },
        {
          "output_type": "stream",
          "name": "stderr",
          "text": [
            "\r  1%|▏         | 53/4000 [00:54<15:20,  4.29it/s]"
          ]
        },
        {
          "output_type": "stream",
          "name": "stdout",
          "text": [
            "Processed sentence for image 62358.\n"
          ]
        },
        {
          "output_type": "stream",
          "name": "stderr",
          "text": [
            "\r  1%|▏         | 54/4000 [00:55<18:02,  3.65it/s]"
          ]
        },
        {
          "output_type": "stream",
          "name": "stdout",
          "text": [
            "Processed sentence for image 70048.\n"
          ]
        },
        {
          "output_type": "stream",
          "name": "stderr",
          "text": [
            "  1%|▏         | 56/4000 [00:55<14:58,  4.39it/s]"
          ]
        },
        {
          "output_type": "stream",
          "name": "stdout",
          "text": [
            "Processed sentence for image 62273.\n",
            "Processed sentence for image 73702.\n"
          ]
        },
        {
          "output_type": "stream",
          "name": "stderr",
          "text": [
            "  1%|▏         | 58/4000 [00:55<14:05,  4.66it/s]"
          ]
        },
        {
          "output_type": "stream",
          "name": "stdout",
          "text": [
            "Processed sentence for image 1304513.\n",
            "Processed sentence for image 70417.\n"
          ]
        },
        {
          "output_type": "stream",
          "name": "stderr",
          "text": [
            "\r  1%|▏         | 59/4000 [00:56<12:44,  5.16it/s]"
          ]
        },
        {
          "output_type": "stream",
          "name": "stdout",
          "text": [
            "Processed sentence for image 15454.\n"
          ]
        },
        {
          "output_type": "stream",
          "name": "stderr",
          "text": [
            "\r  2%|▏         | 60/4000 [00:56<20:04,  3.27it/s]"
          ]
        },
        {
          "output_type": "stream",
          "name": "stdout",
          "text": [
            "Processed sentence for image 73691.\n"
          ]
        },
        {
          "output_type": "stream",
          "name": "stderr",
          "text": [
            "\r  2%|▏         | 61/4000 [00:56<21:10,  3.10it/s]"
          ]
        },
        {
          "output_type": "stream",
          "name": "stdout",
          "text": [
            "Processed sentence for image 65347.\n"
          ]
        },
        {
          "output_type": "stream",
          "name": "stderr",
          "text": [
            "\r  2%|▏         | 62/4000 [00:57<21:45,  3.02it/s]"
          ]
        },
        {
          "output_type": "stream",
          "name": "stdout",
          "text": [
            "Processed sentence for image 68397.\n"
          ]
        },
        {
          "output_type": "stream",
          "name": "stderr",
          "text": [
            "\r  2%|▏         | 63/4000 [00:57<24:08,  2.72it/s]"
          ]
        },
        {
          "output_type": "stream",
          "name": "stdout",
          "text": [
            "Processed sentence for image 1045634.\n"
          ]
        },
        {
          "output_type": "stream",
          "name": "stderr",
          "text": [
            "  2%|▏         | 65/4000 [00:58<22:31,  2.91it/s]"
          ]
        },
        {
          "output_type": "stream",
          "name": "stdout",
          "text": [
            "Processed sentence for image 1792882.\n",
            "Processed sentence for image 1413062.\n"
          ]
        },
        {
          "output_type": "stream",
          "name": "stderr",
          "text": [
            "\r  2%|▏         | 66/4000 [00:59<27:41,  2.37it/s]"
          ]
        },
        {
          "output_type": "stream",
          "name": "stdout",
          "text": [
            "Processed sentence for image 93460.\n"
          ]
        },
        {
          "output_type": "stream",
          "name": "stderr",
          "text": [
            "\r  2%|▏         | 67/4000 [00:59<23:42,  2.76it/s]"
          ]
        },
        {
          "output_type": "stream",
          "name": "stdout",
          "text": [
            "Processed sentence for image 407264.\n"
          ]
        },
        {
          "output_type": "stream",
          "name": "stderr",
          "text": [
            "\r  2%|▏         | 68/4000 [00:59<24:11,  2.71it/s]"
          ]
        },
        {
          "output_type": "stream",
          "name": "stdout",
          "text": [
            "Processed sentence for image 575711.\n"
          ]
        },
        {
          "output_type": "stream",
          "name": "stderr",
          "text": [
            "  2%|▏         | 70/4000 [01:00<19:43,  3.32it/s]"
          ]
        },
        {
          "output_type": "stream",
          "name": "stdout",
          "text": [
            "Processed sentence for image 840854.\n",
            "Processed sentence for image 495612.\n"
          ]
        },
        {
          "output_type": "stream",
          "name": "stderr",
          "text": [
            "\r  2%|▏         | 71/4000 [01:00<16:00,  4.09it/s]"
          ]
        },
        {
          "output_type": "stream",
          "name": "stdout",
          "text": [
            "Processed sentence for image 670554.\n",
            "Processed sentence for image 425740.\n"
          ]
        },
        {
          "output_type": "stream",
          "name": "stderr",
          "text": [
            "  2%|▏         | 74/4000 [01:00<12:10,  5.37it/s]"
          ]
        },
        {
          "output_type": "stream",
          "name": "stdout",
          "text": [
            "Processed sentence for image 70920.\n",
            "Processed sentence for image 70666.\n"
          ]
        },
        {
          "output_type": "stream",
          "name": "stderr",
          "text": [
            "\r  2%|▏         | 75/4000 [01:01<14:43,  4.44it/s]"
          ]
        },
        {
          "output_type": "stream",
          "name": "stdout",
          "text": [
            "Processed sentence for image 477288.\n"
          ]
        },
        {
          "output_type": "stream",
          "name": "stderr",
          "text": [
            "\r  2%|▏         | 76/4000 [01:01<16:42,  3.91it/s]"
          ]
        },
        {
          "output_type": "stream",
          "name": "stdout",
          "text": [
            "Processed sentence for image 1051340.\n"
          ]
        },
        {
          "output_type": "stream",
          "name": "stderr",
          "text": [
            "\r  2%|▏         | 77/4000 [01:01<17:11,  3.80it/s]"
          ]
        },
        {
          "output_type": "stream",
          "name": "stdout",
          "text": [
            "Processed sentence for image 50167.\n"
          ]
        },
        {
          "output_type": "stream",
          "name": "stderr",
          "text": [
            "  2%|▏         | 79/4000 [01:02<13:58,  4.68it/s]"
          ]
        },
        {
          "output_type": "stream",
          "name": "stdout",
          "text": [
            "Processed sentence for image 134113.\n",
            "Processed sentence for image 619286.\n"
          ]
        },
        {
          "output_type": "stream",
          "name": "stderr",
          "text": [
            "  2%|▏         | 81/4000 [01:02<18:06,  3.61it/s]"
          ]
        },
        {
          "output_type": "stream",
          "name": "stdout",
          "text": [
            "Processed sentence for image 403578.\n",
            "Processed sentence for image 90403.\n"
          ]
        },
        {
          "output_type": "stream",
          "name": "stderr",
          "text": [
            "  2%|▏         | 83/4000 [01:03<19:54,  3.28it/s]"
          ]
        },
        {
          "output_type": "stream",
          "name": "stdout",
          "text": [
            "Processed sentence for image 689339.\n",
            "Processed sentence for image 245058.\n"
          ]
        },
        {
          "output_type": "stream",
          "name": "stderr",
          "text": [
            "\r  2%|▏         | 84/4000 [01:04<23:49,  2.74it/s]"
          ]
        },
        {
          "output_type": "stream",
          "name": "stdout",
          "text": [
            "Processed sentence for image 1834906.\n"
          ]
        },
        {
          "output_type": "stream",
          "name": "stderr",
          "text": [
            "\r  2%|▏         | 85/4000 [01:04<21:50,  2.99it/s]"
          ]
        },
        {
          "output_type": "stream",
          "name": "stdout",
          "text": [
            "Processed sentence for image 1866367.\n"
          ]
        },
        {
          "output_type": "stream",
          "name": "stderr",
          "text": [
            "  2%|▏         | 88/4000 [01:04<13:33,  4.81it/s]"
          ]
        },
        {
          "output_type": "stream",
          "name": "stdout",
          "text": [
            "Processed sentence for image 559524.\n",
            "Processed sentence for image 1388738.\n",
            "Processed sentence for image 1771502.\n"
          ]
        },
        {
          "output_type": "stream",
          "name": "stderr",
          "text": [
            "  2%|▏         | 90/4000 [01:05<12:08,  5.37it/s]"
          ]
        },
        {
          "output_type": "stream",
          "name": "stdout",
          "text": [
            "Processed sentence for image 379928.\n",
            "Processed sentence for image 1359666.\n"
          ]
        },
        {
          "output_type": "stream",
          "name": "stderr",
          "text": [
            "  2%|▏         | 92/4000 [01:05<09:50,  6.61it/s]"
          ]
        },
        {
          "output_type": "stream",
          "name": "stdout",
          "text": [
            "Processed sentence for image 917882.\n",
            "Processed sentence for image 70789.\n"
          ]
        },
        {
          "output_type": "stream",
          "name": "stderr",
          "text": [
            "\r  2%|▏         | 94/4000 [01:05<08:31,  7.64it/s]"
          ]
        },
        {
          "output_type": "stream",
          "name": "stdout",
          "text": [
            "Processed sentence for image 363969.\n",
            "Processed sentence for image 1342471.\n"
          ]
        },
        {
          "output_type": "stream",
          "name": "stderr",
          "text": [
            "  2%|▏         | 97/4000 [01:05<06:11, 10.52it/s]"
          ]
        },
        {
          "output_type": "stream",
          "name": "stdout",
          "text": [
            "Processed sentence for image 36563.\n",
            "Processed sentence for image 93913.\n",
            "Processed sentence for image 517964.\n"
          ]
        },
        {
          "output_type": "stream",
          "name": "stderr",
          "text": [
            "\r  2%|▏         | 99/4000 [01:05<07:18,  8.90it/s]"
          ]
        },
        {
          "output_type": "stream",
          "name": "stdout",
          "text": [
            "Processed sentence for image 1794188.\n",
            "Processed sentence for image 92140.\n"
          ]
        },
        {
          "output_type": "stream",
          "name": "stderr",
          "text": [
            "\r  3%|▎         | 101/4000 [01:06<06:36,  9.83it/s]"
          ]
        },
        {
          "output_type": "stream",
          "name": "stdout",
          "text": [
            "Processed sentence for image 63645.\n",
            "Processed sentence for image 120153.\n",
            "Processed sentence for image 302030.\n"
          ]
        },
        {
          "output_type": "stream",
          "name": "stderr",
          "text": [
            "\r  3%|▎         | 103/4000 [01:06<06:27, 10.05it/s]"
          ]
        },
        {
          "output_type": "stream",
          "name": "stdout",
          "text": [
            "Processed sentence for image 1405149.\n",
            "Processed sentence for image 29193.\n"
          ]
        },
        {
          "output_type": "stream",
          "name": "stderr",
          "text": [
            "\r  3%|▎         | 105/4000 [01:06<06:42,  9.67it/s]"
          ]
        },
        {
          "output_type": "stream",
          "name": "stdout",
          "text": [
            "Processed sentence for image 2026961.\n",
            "Processed sentence for image 1350772.\n"
          ]
        },
        {
          "output_type": "stream",
          "name": "stderr",
          "text": [
            "  3%|▎         | 108/4000 [01:06<07:05,  9.14it/s]"
          ]
        },
        {
          "output_type": "stream",
          "name": "stdout",
          "text": [
            "Processed sentence for image 65339.\n",
            "Processed sentence for image 91551.\n"
          ]
        },
        {
          "output_type": "stream",
          "name": "stderr",
          "text": [
            "\r  3%|▎         | 110/4000 [01:07<06:33,  9.89it/s]"
          ]
        },
        {
          "output_type": "stream",
          "name": "stdout",
          "text": [
            "Processed sentence for image 760088.\n",
            "Processed sentence for image 113307.\n"
          ]
        },
        {
          "output_type": "stream",
          "name": "stderr",
          "text": [
            "\r  3%|▎         | 112/4000 [01:07<07:17,  8.89it/s]"
          ]
        },
        {
          "output_type": "stream",
          "name": "stdout",
          "text": [
            "Processed sentence for image 71567.\n",
            "Processed sentence for image 90471.\n",
            "Processed sentence for image 414512.\n"
          ]
        },
        {
          "output_type": "stream",
          "name": "stderr",
          "text": [
            "  3%|▎         | 115/4000 [01:07<07:12,  8.99it/s]"
          ]
        },
        {
          "output_type": "stream",
          "name": "stdout",
          "text": [
            "Processed sentence for image 493590.\n",
            "Processed sentence for image 13913.\n"
          ]
        },
        {
          "output_type": "stream",
          "name": "stderr",
          "text": [
            "\r  3%|▎         | 116/4000 [01:07<07:23,  8.77it/s]"
          ]
        },
        {
          "output_type": "stream",
          "name": "stdout",
          "text": [
            "Processed sentence for image 119897.\n",
            "Processed sentence for image 30481.\n"
          ]
        },
        {
          "output_type": "stream",
          "name": "stderr",
          "text": [
            "  3%|▎         | 119/4000 [01:08<08:06,  7.97it/s]"
          ]
        },
        {
          "output_type": "stream",
          "name": "stdout",
          "text": [
            "Processed sentence for image 67344.\n",
            "Processed sentence for image 746962.\n"
          ]
        },
        {
          "output_type": "stream",
          "name": "stderr",
          "text": [
            "  3%|▎         | 121/4000 [01:08<08:12,  7.88it/s]"
          ]
        },
        {
          "output_type": "stream",
          "name": "stdout",
          "text": [
            "Processed sentence for image 1321600.\n",
            "Processed sentence for image 464838.\n"
          ]
        },
        {
          "output_type": "stream",
          "name": "stderr",
          "text": [
            "  3%|▎         | 123/4000 [01:08<07:33,  8.55it/s]"
          ]
        },
        {
          "output_type": "stream",
          "name": "stdout",
          "text": [
            "Processed sentence for image 662863.\n",
            "Processed sentence for image 195497.\n",
            "Processed sentence for image 10344.\n"
          ]
        },
        {
          "output_type": "stream",
          "name": "stderr",
          "text": [
            "  3%|▎         | 127/4000 [01:08<05:42, 11.31it/s]"
          ]
        },
        {
          "output_type": "stream",
          "name": "stdout",
          "text": [
            "Processed sentence for image 986156.\n",
            "Processed sentence for image 20276.\n",
            "Processed sentence for image 120280.\n"
          ]
        },
        {
          "output_type": "stream",
          "name": "stderr",
          "text": [
            "\r  3%|▎         | 129/4000 [01:09<06:10, 10.46it/s]"
          ]
        },
        {
          "output_type": "stream",
          "name": "stdout",
          "text": [
            "Processed sentence for image 14388.\n",
            "Processed sentence for image 13569.\n",
            "Processed sentence for image 22005.\n"
          ]
        },
        {
          "output_type": "stream",
          "name": "stderr",
          "text": [
            "  3%|▎         | 133/4000 [01:09<06:26,  9.99it/s]"
          ]
        },
        {
          "output_type": "stream",
          "name": "stdout",
          "text": [
            "Processed sentence for image 1097672.\n",
            "Processed sentence for image 682208.\n",
            "Processed sentence for image 280626.\n"
          ]
        },
        {
          "output_type": "stream",
          "name": "stderr",
          "text": [
            "\r  3%|▎         | 135/4000 [01:09<07:13,  8.92it/s]"
          ]
        },
        {
          "output_type": "stream",
          "name": "stdout",
          "text": [
            "Processed sentence for image 682357.\n",
            "Processed sentence for image 418314.\n"
          ]
        },
        {
          "output_type": "stream",
          "name": "stderr",
          "text": [
            "  3%|▎         | 138/4000 [01:10<06:35,  9.76it/s]"
          ]
        },
        {
          "output_type": "stream",
          "name": "stdout",
          "text": [
            "Processed sentence for image 71244.\n",
            "Processed sentence for image 30136.\n",
            "Processed sentence for image 50186.\n",
            "Processed sentence for image 63446.\n"
          ]
        },
        {
          "output_type": "stream",
          "name": "stderr",
          "text": [
            "\r  4%|▎         | 140/4000 [01:10<06:01, 10.66it/s]"
          ]
        },
        {
          "output_type": "stream",
          "name": "stdout",
          "text": [
            "Processed sentence for image 6329.\n",
            "Processed sentence for image 237510.\n"
          ]
        },
        {
          "output_type": "stream",
          "name": "stderr",
          "text": [
            "  4%|▎         | 143/4000 [01:10<07:44,  8.31it/s]"
          ]
        },
        {
          "output_type": "stream",
          "name": "stdout",
          "text": [
            "Processed sentence for image 71407.\n",
            "Processed sentence for image 67960.\n"
          ]
        },
        {
          "output_type": "stream",
          "name": "stderr",
          "text": [
            "  4%|▎         | 146/4000 [01:11<07:13,  8.89it/s]"
          ]
        },
        {
          "output_type": "stream",
          "name": "stdout",
          "text": [
            "Processed sentence for image 67864.\n",
            "Processed sentence for image 501321.\n",
            "Processed sentence for image 1443312.\n"
          ]
        },
        {
          "output_type": "stream",
          "name": "stderr",
          "text": [
            "  4%|▎         | 148/4000 [01:11<07:19,  8.77it/s]"
          ]
        },
        {
          "output_type": "stream",
          "name": "stdout",
          "text": [
            "Processed sentence for image 116476.\n",
            "Processed sentence for image 74439.\n",
            "Processed sentence for image 539593.\n"
          ]
        },
        {
          "output_type": "stream",
          "name": "stderr",
          "text": [
            "  4%|▍         | 151/4000 [01:11<07:12,  8.89it/s]"
          ]
        },
        {
          "output_type": "stream",
          "name": "stdout",
          "text": [
            "Processed sentence for image 1028891.\n",
            "Processed sentence for image 73944.\n"
          ]
        },
        {
          "output_type": "stream",
          "name": "stderr",
          "text": [
            "\r  4%|▍         | 152/4000 [01:11<07:29,  8.56it/s]"
          ]
        },
        {
          "output_type": "stream",
          "name": "stdout",
          "text": [
            "Processed sentence for image 13468.\n",
            "Processed sentence for image 72915.\n"
          ]
        },
        {
          "output_type": "stream",
          "name": "stderr",
          "text": [
            "  4%|▍         | 156/4000 [01:12<06:28,  9.88it/s]"
          ]
        },
        {
          "output_type": "stream",
          "name": "stdout",
          "text": [
            "Processed sentence for image 124220.\n",
            "Processed sentence for image 1375217.\n",
            "Processed sentence for image 125882.\n"
          ]
        },
        {
          "output_type": "stream",
          "name": "stderr",
          "text": [
            "\r  4%|▍         | 158/4000 [01:12<05:47, 11.05it/s]"
          ]
        },
        {
          "output_type": "stream",
          "name": "stdout",
          "text": [
            "Processed sentence for image 458804.\n",
            "Processed sentence for image 769904.\n",
            "Processed sentence for image 412568.\n"
          ]
        },
        {
          "output_type": "stream",
          "name": "stderr",
          "text": [
            "  4%|▍         | 162/4000 [01:12<04:52, 13.12it/s]"
          ]
        },
        {
          "output_type": "stream",
          "name": "stdout",
          "text": [
            "Processed sentence for image 24431.\n",
            "Processed sentence for image 1925565.\n",
            "Processed sentence for image 67406.\n"
          ]
        },
        {
          "output_type": "stream",
          "name": "stderr",
          "text": [
            "\r  4%|▍         | 164/4000 [01:12<05:25, 11.78it/s]"
          ]
        },
        {
          "output_type": "stream",
          "name": "stdout",
          "text": [
            "Processed sentence for image 493756.\n",
            "Processed sentence for image 953369.\n",
            "Processed sentence for image 1745869.\n"
          ]
        },
        {
          "output_type": "stream",
          "name": "stderr",
          "text": [
            "  4%|▍         | 168/4000 [01:13<05:04, 12.58it/s]"
          ]
        },
        {
          "output_type": "stream",
          "name": "stdout",
          "text": [
            "Processed sentence for image 72625.\n",
            "Processed sentence for image 70291.\n",
            "Processed sentence for image 694025.\n"
          ]
        },
        {
          "output_type": "stream",
          "name": "stderr",
          "text": [
            "\r  4%|▍         | 170/4000 [01:13<06:23,  9.98it/s]"
          ]
        },
        {
          "output_type": "stream",
          "name": "stdout",
          "text": [
            "Processed sentence for image 417429.\n",
            "Processed sentence for image 65091.\n"
          ]
        },
        {
          "output_type": "stream",
          "name": "stderr",
          "text": [
            "\r  4%|▍         | 172/4000 [01:13<06:41,  9.53it/s]"
          ]
        },
        {
          "output_type": "stream",
          "name": "stdout",
          "text": [
            "Processed sentence for image 109931.\n",
            "Processed sentence for image 16026.\n"
          ]
        },
        {
          "output_type": "stream",
          "name": "stderr",
          "text": [
            "\r  4%|▍         | 174/4000 [01:13<06:45,  9.43it/s]"
          ]
        },
        {
          "output_type": "stream",
          "name": "stdout",
          "text": [
            "Processed sentence for image 1127618.\n",
            "Processed sentence for image 1687527.\n",
            "Processed sentence for image 537701.\n"
          ]
        },
        {
          "output_type": "stream",
          "name": "stderr",
          "text": [
            "  4%|▍         | 178/4000 [01:14<06:30,  9.79it/s]"
          ]
        },
        {
          "output_type": "stream",
          "name": "stdout",
          "text": [
            "Processed sentence for image 1717443.\n",
            "Processed sentence for image 15996.\n",
            "Processed sentence for image 377.\n"
          ]
        },
        {
          "output_type": "stream",
          "name": "stderr",
          "text": [
            "\r  4%|▍         | 180/4000 [01:14<05:58, 10.66it/s]"
          ]
        },
        {
          "output_type": "stream",
          "name": "stdout",
          "text": [
            "Processed sentence for image 74236.\n",
            "Processed sentence for image 372474.\n",
            "Processed sentence for image 35327.\n"
          ]
        },
        {
          "output_type": "stream",
          "name": "stderr",
          "text": [
            "\r  5%|▍         | 182/4000 [01:14<05:48, 10.95it/s]"
          ]
        },
        {
          "output_type": "stream",
          "name": "stdout",
          "text": [
            "Processed sentence for image 1285681.\n",
            "Processed sentence for image 70513.\n"
          ]
        },
        {
          "output_type": "stream",
          "name": "stderr",
          "text": [
            "\r  5%|▍         | 184/4000 [01:14<06:32,  9.73it/s]"
          ]
        },
        {
          "output_type": "stream",
          "name": "stdout",
          "text": [
            "Processed sentence for image 899319.\n",
            "Processed sentence for image 421004.\n"
          ]
        },
        {
          "output_type": "stream",
          "name": "stderr",
          "text": [
            "  5%|▍         | 187/4000 [01:15<08:09,  7.79it/s]"
          ]
        },
        {
          "output_type": "stream",
          "name": "stdout",
          "text": [
            "Processed sentence for image 809755.\n",
            "Processed sentence for image 539866.\n"
          ]
        },
        {
          "output_type": "stream",
          "name": "stderr",
          "text": [
            "\r  5%|▍         | 188/4000 [01:15<09:18,  6.82it/s]"
          ]
        },
        {
          "output_type": "stream",
          "name": "stdout",
          "text": [
            "Processed sentence for image 1287451.\n"
          ]
        },
        {
          "output_type": "stream",
          "name": "stderr",
          "text": [
            "  5%|▍         | 190/4000 [01:15<09:45,  6.51it/s]"
          ]
        },
        {
          "output_type": "stream",
          "name": "stdout",
          "text": [
            "Processed sentence for image 414371.\n",
            "Processed sentence for image 623283.\n"
          ]
        },
        {
          "output_type": "stream",
          "name": "stderr",
          "text": [
            "\r  5%|▍         | 191/4000 [01:16<09:51,  6.44it/s]"
          ]
        },
        {
          "output_type": "stream",
          "name": "stdout",
          "text": [
            "Processed sentence for image 820543.\n"
          ]
        },
        {
          "output_type": "stream",
          "name": "stderr",
          "text": [
            "  5%|▍         | 193/4000 [01:16<11:31,  5.51it/s]"
          ]
        },
        {
          "output_type": "stream",
          "name": "stdout",
          "text": [
            "Processed sentence for image 1297424.\n",
            "Processed sentence for image 833453.\n"
          ]
        },
        {
          "output_type": "stream",
          "name": "stderr",
          "text": [
            "\r  5%|▍         | 194/4000 [01:16<11:08,  5.69it/s]"
          ]
        },
        {
          "output_type": "stream",
          "name": "stdout",
          "text": [
            "Processed sentence for image 1813077.\n",
            "Processed sentence for image 21311.\n"
          ]
        },
        {
          "output_type": "stream",
          "name": "stderr",
          "text": [
            "  5%|▍         | 197/4000 [01:16<08:38,  7.33it/s]"
          ]
        },
        {
          "output_type": "stream",
          "name": "stdout",
          "text": [
            "Processed sentence for image 864143.\n",
            "Processed sentence for image 304783.\n"
          ]
        },
        {
          "output_type": "stream",
          "name": "stderr",
          "text": [
            "  5%|▍         | 199/4000 [01:17<09:59,  6.34it/s]"
          ]
        },
        {
          "output_type": "stream",
          "name": "stdout",
          "text": [
            "Processed sentence for image 119081.\n",
            "Processed sentence for image 499573.\n"
          ]
        },
        {
          "output_type": "stream",
          "name": "stderr",
          "text": [
            "  5%|▌         | 202/4000 [01:17<07:50,  8.08it/s]"
          ]
        },
        {
          "output_type": "stream",
          "name": "stdout",
          "text": [
            "Processed sentence for image 1100609.\n",
            "Processed sentence for image 421295.\n",
            "Processed sentence for image 314073.\n"
          ]
        },
        {
          "output_type": "stream",
          "name": "stderr",
          "text": [
            "\r  5%|▌         | 203/4000 [01:17<08:47,  7.20it/s]"
          ]
        },
        {
          "output_type": "stream",
          "name": "stdout",
          "text": [
            "Processed sentence for image 72188.\n",
            "Processed sentence for image 660798.\n",
            "Processed sentence for image 142287.\n"
          ]
        },
        {
          "output_type": "stream",
          "name": "stderr",
          "text": [
            "  5%|▌         | 208/4000 [01:18<05:58, 10.56it/s]"
          ]
        },
        {
          "output_type": "stream",
          "name": "stdout",
          "text": [
            "Processed sentence for image 21499.\n",
            "Processed sentence for image 588.\n",
            "Processed sentence for image 6570.\n",
            "Processed sentence for image 617679.\n"
          ]
        },
        {
          "output_type": "stream",
          "name": "stderr",
          "text": [
            "\r  5%|▌         | 210/4000 [01:18<06:00, 10.52it/s]"
          ]
        },
        {
          "output_type": "stream",
          "name": "stdout",
          "text": [
            "Processed sentence for image 72036.\n",
            "Processed sentence for image 45806.\n"
          ]
        },
        {
          "output_type": "stream",
          "name": "stderr",
          "text": [
            "  5%|▌         | 214/4000 [01:18<07:27,  8.45it/s]"
          ]
        },
        {
          "output_type": "stream",
          "name": "stdout",
          "text": [
            "Processed sentence for image 872892.\n",
            "Processed sentence for image 70126.\n",
            "Processed sentence for image 118201.\n"
          ]
        },
        {
          "output_type": "stream",
          "name": "stderr",
          "text": [
            "  5%|▌         | 216/4000 [01:19<09:11,  6.86it/s]"
          ]
        },
        {
          "output_type": "stream",
          "name": "stdout",
          "text": [
            "Processed sentence for image 32490.\n",
            "Processed sentence for image 1966014.\n"
          ]
        },
        {
          "output_type": "stream",
          "name": "stderr",
          "text": [
            "  5%|▌         | 219/4000 [01:19<07:38,  8.24it/s]"
          ]
        },
        {
          "output_type": "stream",
          "name": "stdout",
          "text": [
            "Processed sentence for image 66076.\n",
            "Processed sentence for image 62786.\n",
            "Processed sentence for image 30342.\n"
          ]
        },
        {
          "output_type": "stream",
          "name": "stderr",
          "text": [
            "\r  6%|▌         | 221/4000 [01:19<07:09,  8.79it/s]"
          ]
        },
        {
          "output_type": "stream",
          "name": "stdout",
          "text": [
            "Processed sentence for image 33240.\n",
            "Processed sentence for image 816171.\n"
          ]
        },
        {
          "output_type": "stream",
          "name": "stderr",
          "text": [
            "  6%|▌         | 223/4000 [01:20<06:53,  9.13it/s]"
          ]
        },
        {
          "output_type": "stream",
          "name": "stdout",
          "text": [
            "Processed sentence for image 50407.\n",
            "Processed sentence for image 34390.\n"
          ]
        },
        {
          "output_type": "stream",
          "name": "stderr",
          "text": [
            "  6%|▌         | 226/4000 [01:20<06:16, 10.02it/s]"
          ]
        },
        {
          "output_type": "stream",
          "name": "stdout",
          "text": [
            "Processed sentence for image 830659.\n",
            "Processed sentence for image 458635.\n",
            "Processed sentence for image 73790.\n"
          ]
        },
        {
          "output_type": "stream",
          "name": "stderr",
          "text": [
            "\r  6%|▌         | 228/4000 [01:20<05:33, 11.30it/s]"
          ]
        },
        {
          "output_type": "stream",
          "name": "stdout",
          "text": [
            "Processed sentence for image 441238.\n",
            "Processed sentence for image 90744.\n",
            "Processed sentence for image 72856.\n"
          ]
        },
        {
          "output_type": "stream",
          "name": "stderr",
          "text": [
            "  6%|▌         | 232/4000 [01:20<05:35, 11.22it/s]"
          ]
        },
        {
          "output_type": "stream",
          "name": "stdout",
          "text": [
            "Processed sentence for image 24251.\n",
            "Processed sentence for image 46536.\n",
            "Processed sentence for image 590905.\n"
          ]
        },
        {
          "output_type": "stream",
          "name": "stderr",
          "text": [
            "\r  6%|▌         | 235/4000 [01:20<04:26, 14.12it/s]"
          ]
        },
        {
          "output_type": "stream",
          "name": "stdout",
          "text": [
            "Processed sentence for image 459275.\n",
            "Processed sentence for image 126772.\n",
            "Processed sentence for image 1357925.\n",
            "Processed sentence for image 1776712.\n"
          ]
        },
        {
          "output_type": "stream",
          "name": "stderr",
          "text": [
            "  6%|▌         | 239/4000 [01:21<05:02, 12.43it/s]"
          ]
        },
        {
          "output_type": "stream",
          "name": "stdout",
          "text": [
            "Processed sentence for image 423411.\n",
            "Processed sentence for image 72648.\n",
            "Processed sentence for image 116444.\n"
          ]
        },
        {
          "output_type": "stream",
          "name": "stderr",
          "text": [
            "\r  6%|▌         | 241/4000 [01:21<05:54, 10.60it/s]"
          ]
        },
        {
          "output_type": "stream",
          "name": "stdout",
          "text": [
            "Processed sentence for image 63047.\n",
            "Processed sentence for image 64738.\n"
          ]
        },
        {
          "output_type": "stream",
          "name": "stderr",
          "text": [
            "\r  6%|▌         | 243/4000 [01:21<05:30, 11.38it/s]"
          ]
        },
        {
          "output_type": "stream",
          "name": "stdout",
          "text": [
            "Processed sentence for image 623109.\n",
            "Processed sentence for image 429743.\n",
            "Processed sentence for image 90083.\n"
          ]
        },
        {
          "output_type": "stream",
          "name": "stderr",
          "text": [
            "  6%|▌         | 247/4000 [01:22<04:55, 12.72it/s]"
          ]
        },
        {
          "output_type": "stream",
          "name": "stdout",
          "text": [
            "Processed sentence for image 416197.\n",
            "Processed sentence for image 112877.\n",
            "Processed sentence for image 1928637.\n"
          ]
        },
        {
          "output_type": "stream",
          "name": "stderr",
          "text": [
            "\r  6%|▌         | 249/4000 [01:22<04:37, 13.53it/s]"
          ]
        },
        {
          "output_type": "stream",
          "name": "stdout",
          "text": [
            "Processed sentence for image 116990.\n",
            "Processed sentence for image 314302.\n",
            "Processed sentence for image 1699403.\n"
          ]
        },
        {
          "output_type": "stream",
          "name": "stderr",
          "text": [
            "  6%|▋         | 253/4000 [01:22<04:54, 12.70it/s]"
          ]
        },
        {
          "output_type": "stream",
          "name": "stdout",
          "text": [
            "Processed sentence for image 70145.\n",
            "Processed sentence for image 464397.\n",
            "Processed sentence for image 1375644.\n"
          ]
        },
        {
          "output_type": "stream",
          "name": "stderr",
          "text": [
            "\r  6%|▋         | 255/4000 [01:22<04:54, 12.70it/s]"
          ]
        },
        {
          "output_type": "stream",
          "name": "stdout",
          "text": [
            "Processed sentence for image 90812.\n",
            "Processed sentence for image 1020552.\n",
            "Processed sentence for image 73595.\n"
          ]
        },
        {
          "output_type": "stream",
          "name": "stderr",
          "text": [
            "  6%|▋         | 259/4000 [01:22<04:54, 12.70it/s]"
          ]
        },
        {
          "output_type": "stream",
          "name": "stdout",
          "text": [
            "Processed sentence for image 91939.\n",
            "Processed sentence for image 118061.\n",
            "Processed sentence for image 423017.\n"
          ]
        },
        {
          "output_type": "stream",
          "name": "stderr",
          "text": [
            "\r  7%|▋         | 261/4000 [01:23<04:40, 13.32it/s]"
          ]
        },
        {
          "output_type": "stream",
          "name": "stdout",
          "text": [
            "Processed sentence for image 64617.\n",
            "Processed sentence for image 1700095.\n",
            "Processed sentence for image 73183.\n"
          ]
        },
        {
          "output_type": "stream",
          "name": "stderr",
          "text": [
            "  7%|▋         | 265/4000 [01:23<04:57, 12.56it/s]"
          ]
        },
        {
          "output_type": "stream",
          "name": "stdout",
          "text": [
            "Processed sentence for image 71477.\n",
            "Processed sentence for image 544831.\n",
            "Processed sentence for image 656412.\n"
          ]
        },
        {
          "output_type": "stream",
          "name": "stderr",
          "text": [
            "\r  7%|▋         | 267/4000 [01:23<05:01, 12.37it/s]"
          ]
        },
        {
          "output_type": "stream",
          "name": "stdout",
          "text": [
            "Processed sentence for image 689115.\n",
            "Processed sentence for image 72018.\n"
          ]
        },
        {
          "output_type": "stream",
          "name": "stderr",
          "text": [
            "  7%|▋         | 271/4000 [01:23<04:58, 12.49it/s]"
          ]
        },
        {
          "output_type": "stream",
          "name": "stdout",
          "text": [
            "Processed sentence for image 34822.\n",
            "Processed sentence for image 1752217.\n",
            "Processed sentence for image 523400.\n",
            "Processed sentence for image 478919.\n"
          ]
        },
        {
          "output_type": "stream",
          "name": "stderr",
          "text": [
            "  7%|▋         | 275/4000 [01:24<04:29, 13.80it/s]"
          ]
        },
        {
          "output_type": "stream",
          "name": "stdout",
          "text": [
            "Processed sentence for image 616876.\n",
            "Processed sentence for image 1778893.\n",
            "Processed sentence for image 13293.\n",
            "Processed sentence for image 1450983.\n"
          ]
        },
        {
          "output_type": "stream",
          "name": "stderr",
          "text": [
            "\r  7%|▋         | 277/4000 [01:24<04:27, 13.92it/s]"
          ]
        },
        {
          "output_type": "stream",
          "name": "stdout",
          "text": [
            "Processed sentence for image 813550.\n",
            "Processed sentence for image 500405.\n",
            "Processed sentence for image 446463.\n"
          ]
        },
        {
          "output_type": "stream",
          "name": "stderr",
          "text": [
            "  7%|▋         | 281/4000 [01:24<04:23, 14.12it/s]"
          ]
        },
        {
          "output_type": "stream",
          "name": "stdout",
          "text": [
            "Processed sentence for image 728695.\n",
            "Processed sentence for image 31921.\n",
            "Processed sentence for image 130765.\n",
            "Processed sentence for image 1947120.\n"
          ]
        },
        {
          "output_type": "stream",
          "name": "stderr",
          "text": [
            "  7%|▋         | 285/4000 [01:24<04:26, 13.94it/s]"
          ]
        },
        {
          "output_type": "stream",
          "name": "stdout",
          "text": [
            "Processed sentence for image 1826807.\n",
            "Processed sentence for image 73371.\n",
            "Processed sentence for image 35600.\n"
          ]
        },
        {
          "output_type": "stream",
          "name": "stderr",
          "text": [
            "\r  7%|▋         | 287/4000 [01:25<04:56, 12.51it/s]"
          ]
        },
        {
          "output_type": "stream",
          "name": "stdout",
          "text": [
            "Processed sentence for image 14478.\n",
            "Processed sentence for image 1064107.\n"
          ]
        },
        {
          "output_type": "stream",
          "name": "stderr",
          "text": [
            "\r  7%|▋         | 289/4000 [01:25<05:28, 11.29it/s]"
          ]
        },
        {
          "output_type": "stream",
          "name": "stdout",
          "text": [
            "Processed sentence for image 811913.\n",
            "Processed sentence for image 137669.\n",
            "Processed sentence for image 7780.\n"
          ]
        },
        {
          "output_type": "stream",
          "name": "stderr",
          "text": [
            "  7%|▋         | 293/4000 [01:25<04:32, 13.59it/s]"
          ]
        },
        {
          "output_type": "stream",
          "name": "stdout",
          "text": [
            "Processed sentence for image 16131.\n",
            "Processed sentence for image 109233.\n",
            "Processed sentence for image 1290540.\n",
            "Processed sentence for image 1764202.\n"
          ]
        },
        {
          "output_type": "stream",
          "name": "stderr",
          "text": [
            "\r  7%|▋         | 295/4000 [01:25<04:26, 13.88it/s]"
          ]
        },
        {
          "output_type": "stream",
          "name": "stdout",
          "text": [
            "Processed sentence for image 10215.\n",
            "Processed sentence for image 64468.\n"
          ]
        },
        {
          "output_type": "stream",
          "name": "stderr",
          "text": [
            "\r  7%|▋         | 297/4000 [01:25<05:08, 12.02it/s]"
          ]
        },
        {
          "output_type": "stream",
          "name": "stdout",
          "text": [
            "Processed sentence for image 1751885.\n",
            "Processed sentence for image 73331.\n"
          ]
        },
        {
          "output_type": "stream",
          "name": "stderr",
          "text": [
            "\r  7%|▋         | 299/4000 [01:26<05:32, 11.12it/s]"
          ]
        },
        {
          "output_type": "stream",
          "name": "stdout",
          "text": [
            "Processed sentence for image 421386.\n",
            "Processed sentence for image 679062.\n"
          ]
        },
        {
          "output_type": "stream",
          "name": "stderr",
          "text": [
            "  8%|▊         | 303/4000 [01:26<05:47, 10.64it/s]"
          ]
        },
        {
          "output_type": "stream",
          "name": "stdout",
          "text": [
            "Processed sentence for image 125859.\n",
            "Processed sentence for image 139042.\n",
            "Processed sentence for image 1034584.\n"
          ]
        },
        {
          "output_type": "stream",
          "name": "stderr",
          "text": [
            "\r  8%|▊         | 305/4000 [01:26<05:40, 10.84it/s]"
          ]
        },
        {
          "output_type": "stream",
          "name": "stdout",
          "text": [
            "Processed sentence for image 116815.\n",
            "Processed sentence for image 705570.\n"
          ]
        },
        {
          "output_type": "stream",
          "name": "stderr",
          "text": [
            "\r  8%|▊         | 307/4000 [01:26<05:58, 10.29it/s]"
          ]
        },
        {
          "output_type": "stream",
          "name": "stdout",
          "text": [
            "Processed sentence for image 373935.\n",
            "Processed sentence for image 922717.\n",
            "Processed sentence for image 1081804.\n"
          ]
        },
        {
          "output_type": "stream",
          "name": "stderr",
          "text": [
            "  8%|▊         | 311/4000 [01:27<05:33, 11.05it/s]"
          ]
        },
        {
          "output_type": "stream",
          "name": "stdout",
          "text": [
            "Processed sentence for image 1326656.\n",
            "Processed sentence for image 810527.\n",
            "Processed sentence for image 115643.\n"
          ]
        },
        {
          "output_type": "stream",
          "name": "stderr",
          "text": [
            "\r  8%|▊         | 313/4000 [01:27<05:06, 12.02it/s]"
          ]
        },
        {
          "output_type": "stream",
          "name": "stdout",
          "text": [
            "Processed sentence for image 32928.\n",
            "Processed sentence for image 116340.\n",
            "Processed sentence for image 110622.\n"
          ]
        },
        {
          "output_type": "stream",
          "name": "stderr",
          "text": [
            "  8%|▊         | 317/4000 [01:27<04:59, 12.30it/s]"
          ]
        },
        {
          "output_type": "stream",
          "name": "stdout",
          "text": [
            "Processed sentence for image 24022.\n",
            "Processed sentence for image 1032690.\n",
            "Processed sentence for image 127300.\n"
          ]
        },
        {
          "output_type": "stream",
          "name": "stderr",
          "text": [
            "  8%|▊         | 321/4000 [01:28<04:38, 13.19it/s]"
          ]
        },
        {
          "output_type": "stream",
          "name": "stdout",
          "text": [
            "Processed sentence for image 68069.\n",
            "Processed sentence for image 727561.\n",
            "Processed sentence for image 131187.\n",
            "Processed sentence for image 7081.\n"
          ]
        },
        {
          "output_type": "stream",
          "name": "stderr",
          "text": [
            "\r  8%|▊         | 323/4000 [01:28<04:43, 12.98it/s]"
          ]
        },
        {
          "output_type": "stream",
          "name": "stdout",
          "text": [
            "Processed sentence for image 858471.\n",
            "Processed sentence for image 72988.\n",
            "Processed sentence for image 1718398.\n",
            "Processed sentence for image 1034154.\n"
          ]
        },
        {
          "output_type": "stream",
          "name": "stderr",
          "text": [
            "\r  8%|▊         | 326/4000 [01:28<04:06, 14.92it/s]"
          ]
        },
        {
          "output_type": "stream",
          "name": "stdout",
          "text": [
            "Processed sentence for image 111515.\n",
            "Processed sentence for image 638621.\n"
          ]
        },
        {
          "output_type": "stream",
          "name": "stderr",
          "text": [
            "  8%|▊         | 330/4000 [01:28<05:26, 11.25it/s]"
          ]
        },
        {
          "output_type": "stream",
          "name": "stdout",
          "text": [
            "Processed sentence for image 62954.\n",
            "Processed sentence for image 991099.\n",
            "Processed sentence for image 1026486.\n"
          ]
        },
        {
          "output_type": "stream",
          "name": "stderr",
          "text": [
            "  8%|▊         | 334/4000 [01:29<04:40, 13.08it/s]"
          ]
        },
        {
          "output_type": "stream",
          "name": "stdout",
          "text": [
            "Processed sentence for image 73858.\n",
            "Processed sentence for image 1007125.\n",
            "Processed sentence for image 682333.\n",
            "Processed sentence for image 71161.\n"
          ]
        },
        {
          "output_type": "stream",
          "name": "stderr",
          "text": [
            "\r  8%|▊         | 336/4000 [01:29<05:11, 11.75it/s]"
          ]
        },
        {
          "output_type": "stream",
          "name": "stdout",
          "text": [
            "Processed sentence for image 72404.\n",
            "Processed sentence for image 70118.\n",
            "Processed sentence for image 552098.\n"
          ]
        },
        {
          "output_type": "stream",
          "name": "stderr",
          "text": [
            "  8%|▊         | 340/4000 [01:29<04:57, 12.29it/s]"
          ]
        },
        {
          "output_type": "stream",
          "name": "stdout",
          "text": [
            "Processed sentence for image 423797.\n",
            "Processed sentence for image 71911.\n",
            "Processed sentence for image 71765.\n",
            "Processed sentence for image 118442.\n"
          ]
        },
        {
          "output_type": "stream",
          "name": "stderr",
          "text": [
            "  9%|▊         | 344/4000 [01:29<04:41, 12.99it/s]"
          ]
        },
        {
          "output_type": "stream",
          "name": "stdout",
          "text": [
            "Processed sentence for image 747252.\n",
            "Processed sentence for image 115300.\n",
            "Processed sentence for image 737427.\n"
          ]
        },
        {
          "output_type": "stream",
          "name": "stderr",
          "text": [
            "  9%|▊         | 348/4000 [01:30<04:43, 12.88it/s]"
          ]
        },
        {
          "output_type": "stream",
          "name": "stdout",
          "text": [
            "Processed sentence for image 1007890.\n",
            "Processed sentence for image 1684450.\n",
            "Processed sentence for image 64757.\n",
            "Processed sentence for image 73344.\n"
          ]
        },
        {
          "output_type": "stream",
          "name": "stderr",
          "text": [
            "\r  9%|▉         | 350/4000 [01:30<04:53, 12.45it/s]"
          ]
        },
        {
          "output_type": "stream",
          "name": "stdout",
          "text": [
            "Processed sentence for image 268433.\n",
            "Processed sentence for image 1359058.\n",
            "Processed sentence for image 770085.\n"
          ]
        },
        {
          "output_type": "stream",
          "name": "stderr",
          "text": [
            "\r  9%|▉         | 352/4000 [01:30<05:16, 11.51it/s]"
          ]
        },
        {
          "output_type": "stream",
          "name": "stdout",
          "text": [
            "Processed sentence for image 822028.\n",
            "Processed sentence for image 62696.\n"
          ]
        },
        {
          "output_type": "stream",
          "name": "stderr",
          "text": [
            "  9%|▉         | 356/4000 [01:30<05:45, 10.56it/s]"
          ]
        },
        {
          "output_type": "stream",
          "name": "stdout",
          "text": [
            "Processed sentence for image 383155.\n",
            "Processed sentence for image 301499.\n",
            "Processed sentence for image 14205.\n"
          ]
        },
        {
          "output_type": "stream",
          "name": "stderr",
          "text": [
            "\r  9%|▉         | 358/4000 [01:31<07:33,  8.03it/s]"
          ]
        },
        {
          "output_type": "stream",
          "name": "stdout",
          "text": [
            "Processed sentence for image 1405319.\n",
            "Processed sentence for image 469802.\n",
            "Processed sentence for image 596037.\n"
          ]
        },
        {
          "output_type": "stream",
          "name": "stderr",
          "text": [
            "  9%|▉         | 362/4000 [01:31<06:15,  9.68it/s]"
          ]
        },
        {
          "output_type": "stream",
          "name": "stdout",
          "text": [
            "Processed sentence for image 797970.\n",
            "Processed sentence for image 390975.\n",
            "Processed sentence for image 1743102.\n"
          ]
        },
        {
          "output_type": "stream",
          "name": "stderr",
          "text": [
            "\r  9%|▉         | 364/4000 [01:31<05:50, 10.38it/s]"
          ]
        },
        {
          "output_type": "stream",
          "name": "stdout",
          "text": [
            "Processed sentence for image 172076.\n",
            "Processed sentence for image 581799.\n"
          ]
        },
        {
          "output_type": "stream",
          "name": "stderr",
          "text": [
            "\r  9%|▉         | 366/4000 [01:32<06:18,  9.59it/s]"
          ]
        },
        {
          "output_type": "stream",
          "name": "stdout",
          "text": [
            "Processed sentence for image 93783.\n",
            "Processed sentence for image 74039.\n"
          ]
        },
        {
          "output_type": "stream",
          "name": "stderr",
          "text": [
            "\r  9%|▉         | 368/4000 [01:32<06:12,  9.76it/s]"
          ]
        },
        {
          "output_type": "stream",
          "name": "stdout",
          "text": [
            "Processed sentence for image 24294.\n",
            "Processed sentence for image 547277.\n",
            "Processed sentence for image 35639.\n"
          ]
        },
        {
          "output_type": "stream",
          "name": "stderr",
          "text": [
            "\r  9%|▉         | 370/4000 [01:32<06:06,  9.91it/s]"
          ]
        },
        {
          "output_type": "stream",
          "name": "stdout",
          "text": [
            "Processed sentence for image 72561.\n",
            "Processed sentence for image 49671.\n"
          ]
        },
        {
          "output_type": "stream",
          "name": "stderr",
          "text": [
            "\r  9%|▉         | 372/4000 [01:32<06:31,  9.26it/s]"
          ]
        },
        {
          "output_type": "stream",
          "name": "stdout",
          "text": [
            "Processed sentence for image 909861.\n",
            "Processed sentence for image 673571.\n"
          ]
        },
        {
          "output_type": "stream",
          "name": "stderr",
          "text": [
            "  9%|▉         | 375/4000 [01:33<06:24,  9.42it/s]"
          ]
        },
        {
          "output_type": "stream",
          "name": "stdout",
          "text": [
            "Processed sentence for image 93184.\n",
            "Processed sentence for image 248503.\n"
          ]
        },
        {
          "output_type": "stream",
          "name": "stderr",
          "text": [
            "  9%|▉         | 377/4000 [01:33<07:13,  8.35it/s]"
          ]
        },
        {
          "output_type": "stream",
          "name": "stdout",
          "text": [
            "Processed sentence for image 67867.\n",
            "Processed sentence for image 115137.\n"
          ]
        },
        {
          "output_type": "stream",
          "name": "stderr",
          "text": [
            "  9%|▉         | 379/4000 [01:33<08:13,  7.34it/s]"
          ]
        },
        {
          "output_type": "stream",
          "name": "stdout",
          "text": [
            "Processed sentence for image 637366.\n",
            "Processed sentence for image 8052.\n"
          ]
        },
        {
          "output_type": "stream",
          "name": "stderr",
          "text": [
            "\r 10%|▉         | 380/4000 [01:33<08:20,  7.23it/s]"
          ]
        },
        {
          "output_type": "stream",
          "name": "stdout",
          "text": [
            "Processed sentence for image 73732.\n",
            "Processed sentence for image 693105.\n"
          ]
        },
        {
          "output_type": "stream",
          "name": "stderr",
          "text": [
            " 10%|▉         | 383/4000 [01:34<07:20,  8.22it/s]"
          ]
        },
        {
          "output_type": "stream",
          "name": "stdout",
          "text": [
            "Processed sentence for image 90550.\n",
            "Processed sentence for image 65470.\n"
          ]
        },
        {
          "output_type": "stream",
          "name": "stderr",
          "text": [
            " 10%|▉         | 385/4000 [01:34<07:17,  8.27it/s]"
          ]
        },
        {
          "output_type": "stream",
          "name": "stdout",
          "text": [
            "Processed sentence for image 33502.\n",
            "Processed sentence for image 145105.\n"
          ]
        },
        {
          "output_type": "stream",
          "name": "stderr",
          "text": [
            " 10%|▉         | 388/4000 [01:34<06:42,  8.97it/s]"
          ]
        },
        {
          "output_type": "stream",
          "name": "stdout",
          "text": [
            "Processed sentence for image 1298125.\n",
            "Processed sentence for image 123416.\n",
            "Processed sentence for image 93980.\n"
          ]
        },
        {
          "output_type": "stream",
          "name": "stderr",
          "text": [
            " 10%|▉         | 391/4000 [01:35<05:55, 10.14it/s]"
          ]
        },
        {
          "output_type": "stream",
          "name": "stdout",
          "text": [
            "Processed sentence for image 71865.\n",
            "Processed sentence for image 1073787.\n",
            "Processed sentence for image 852981.\n"
          ]
        },
        {
          "output_type": "stream",
          "name": "stderr",
          "text": [
            "\r 10%|▉         | 393/4000 [01:35<05:52, 10.24it/s]"
          ]
        },
        {
          "output_type": "stream",
          "name": "stdout",
          "text": [
            "Processed sentence for image 90582.\n",
            "Processed sentence for image 887.\n"
          ]
        },
        {
          "output_type": "stream",
          "name": "stderr",
          "text": [
            "\r 10%|▉         | 395/4000 [01:35<06:19,  9.51it/s]"
          ]
        },
        {
          "output_type": "stream",
          "name": "stdout",
          "text": [
            "Processed sentence for image 416896.\n",
            "Processed sentence for image 37500.\n"
          ]
        },
        {
          "output_type": "stream",
          "name": "stderr",
          "text": [
            "\r 10%|▉         | 396/4000 [01:35<06:55,  8.68it/s]"
          ]
        },
        {
          "output_type": "stream",
          "name": "stdout",
          "text": [
            "Processed sentence for image 627325.\n"
          ]
        },
        {
          "output_type": "stream",
          "name": "stderr",
          "text": [
            " 10%|▉         | 398/4000 [01:35<08:31,  7.04it/s]"
          ]
        },
        {
          "output_type": "stream",
          "name": "stdout",
          "text": [
            "Processed sentence for image 1450514.\n",
            "Processed sentence for image 1046679.\n"
          ]
        },
        {
          "output_type": "stream",
          "name": "stderr",
          "text": [
            " 10%|█         | 400/4000 [01:36<09:55,  6.04it/s]"
          ]
        },
        {
          "output_type": "stream",
          "name": "stdout",
          "text": [
            "Processed sentence for image 93985.\n",
            "Processed sentence for image 117602.\n"
          ]
        },
        {
          "output_type": "stream",
          "name": "stderr",
          "text": [
            "\r 10%|█         | 401/4000 [01:36<08:54,  6.73it/s]"
          ]
        },
        {
          "output_type": "stream",
          "name": "stdout",
          "text": [
            "Processed sentence for image 278.\n",
            "Processed sentence for image 74090.\n"
          ]
        },
        {
          "output_type": "stream",
          "name": "stderr",
          "text": [
            " 10%|█         | 405/4000 [01:36<06:43,  8.91it/s]"
          ]
        },
        {
          "output_type": "stream",
          "name": "stdout",
          "text": [
            "Processed sentence for image 70480.\n",
            "Processed sentence for image 1330869.\n",
            "Processed sentence for image 1359311.\n"
          ]
        },
        {
          "output_type": "stream",
          "name": "stderr",
          "text": [
            "\r 10%|█         | 406/4000 [01:37<06:58,  8.58it/s]"
          ]
        },
        {
          "output_type": "stream",
          "name": "stdout",
          "text": [
            "Processed sentence for image 74257.\n",
            "Processed sentence for image 50567.\n"
          ]
        },
        {
          "output_type": "stream",
          "name": "stderr",
          "text": [
            " 10%|█         | 410/4000 [01:37<06:21,  9.41it/s]"
          ]
        },
        {
          "output_type": "stream",
          "name": "stdout",
          "text": [
            "Processed sentence for image 71184.\n",
            "Processed sentence for image 1796810.\n",
            "Processed sentence for image 385088.\n"
          ]
        },
        {
          "output_type": "stream",
          "name": "stderr",
          "text": [
            " 10%|█         | 412/4000 [01:37<06:32,  9.13it/s]"
          ]
        },
        {
          "output_type": "stream",
          "name": "stdout",
          "text": [
            "Processed sentence for image 427591.\n",
            "Processed sentence for image 272531.\n",
            "Processed sentence for image 332783.\n"
          ]
        },
        {
          "output_type": "stream",
          "name": "stderr",
          "text": [
            " 10%|█         | 415/4000 [01:37<06:23,  9.36it/s]"
          ]
        },
        {
          "output_type": "stream",
          "name": "stdout",
          "text": [
            "Processed sentence for image 646932.\n",
            "Processed sentence for image 97230.\n",
            "Processed sentence for image 1357029.\n"
          ]
        },
        {
          "output_type": "stream",
          "name": "stderr",
          "text": [
            " 10%|█         | 419/4000 [01:38<05:36, 10.65it/s]"
          ]
        },
        {
          "output_type": "stream",
          "name": "stdout",
          "text": [
            "Processed sentence for image 31865.\n",
            "Processed sentence for image 74019.\n",
            "Processed sentence for image 70034.\n"
          ]
        },
        {
          "output_type": "stream",
          "name": "stderr",
          "text": [
            "\r 11%|█         | 421/4000 [01:38<06:23,  9.32it/s]"
          ]
        },
        {
          "output_type": "stream",
          "name": "stdout",
          "text": [
            "Processed sentence for image 93389.\n",
            "Processed sentence for image 8736.\n"
          ]
        },
        {
          "output_type": "stream",
          "name": "stderr",
          "text": [
            " 11%|█         | 424/4000 [01:38<06:17,  9.47it/s]"
          ]
        },
        {
          "output_type": "stream",
          "name": "stdout",
          "text": [
            "Processed sentence for image 14151.\n",
            "Processed sentence for image 1757950.\n",
            "Processed sentence for image 70830.\n"
          ]
        },
        {
          "output_type": "stream",
          "name": "stderr",
          "text": [
            "\r 11%|█         | 426/4000 [01:39<06:44,  8.84it/s]"
          ]
        },
        {
          "output_type": "stream",
          "name": "stdout",
          "text": [
            "Processed sentence for image 122378.\n",
            "Processed sentence for image 71255.\n"
          ]
        },
        {
          "output_type": "stream",
          "name": "stderr",
          "text": [
            " 11%|█         | 429/4000 [01:39<05:47, 10.26it/s]"
          ]
        },
        {
          "output_type": "stream",
          "name": "stdout",
          "text": [
            "Processed sentence for image 71553.\n",
            "Processed sentence for image 1044009.\n",
            "Processed sentence for image 45722.\n",
            "Processed sentence for image 13009.\n"
          ]
        },
        {
          "output_type": "stream",
          "name": "stderr",
          "text": [
            " 11%|█         | 433/4000 [01:39<05:37, 10.58it/s]"
          ]
        },
        {
          "output_type": "stream",
          "name": "stdout",
          "text": [
            "Processed sentence for image 1009352.\n",
            "Processed sentence for image 46293.\n",
            "Processed sentence for image 23460.\n"
          ]
        },
        {
          "output_type": "stream",
          "name": "stderr",
          "text": [
            "\r 11%|█         | 435/4000 [01:39<04:58, 11.93it/s]"
          ]
        },
        {
          "output_type": "stream",
          "name": "stdout",
          "text": [
            "Processed sentence for image 815666.\n",
            "Processed sentence for image 1798138.\n",
            "Processed sentence for image 270677.\n"
          ]
        },
        {
          "output_type": "stream",
          "name": "stderr",
          "text": [
            " 11%|█         | 439/4000 [01:40<04:40, 12.68it/s]"
          ]
        },
        {
          "output_type": "stream",
          "name": "stdout",
          "text": [
            "Processed sentence for image 1029553.\n",
            "Processed sentence for image 1327229.\n",
            "Processed sentence for image 332831.\n"
          ]
        },
        {
          "output_type": "stream",
          "name": "stderr",
          "text": [
            "\r 11%|█         | 441/4000 [01:40<05:10, 11.46it/s]"
          ]
        },
        {
          "output_type": "stream",
          "name": "stdout",
          "text": [
            "Processed sentence for image 93240.\n",
            "Processed sentence for image 1787595.\n",
            "Processed sentence for image 120222.\n"
          ]
        },
        {
          "output_type": "stream",
          "name": "stderr",
          "text": [
            " 11%|█         | 445/4000 [01:40<04:56, 11.97it/s]"
          ]
        },
        {
          "output_type": "stream",
          "name": "stdout",
          "text": [
            "Processed sentence for image 174079.\n",
            "Processed sentence for image 14203.\n",
            "Processed sentence for image 1076865.\n"
          ]
        },
        {
          "output_type": "stream",
          "name": "stderr",
          "text": [
            "\r 11%|█         | 447/4000 [01:40<05:11, 11.42it/s]"
          ]
        },
        {
          "output_type": "stream",
          "name": "stdout",
          "text": [
            "Processed sentence for image 1085054.\n",
            "Processed sentence for image 13680.\n",
            "Processed sentence for image 72001.\n"
          ]
        },
        {
          "output_type": "stream",
          "name": "stderr",
          "text": [
            " 11%|█▏        | 451/4000 [01:41<05:17, 11.16it/s]"
          ]
        },
        {
          "output_type": "stream",
          "name": "stdout",
          "text": [
            "Processed sentence for image 181698.\n",
            "Processed sentence for image 1118969.\n",
            "Processed sentence for image 1314515.\n"
          ]
        },
        {
          "output_type": "stream",
          "name": "stderr",
          "text": [
            "\r 11%|█▏        | 453/4000 [01:41<04:59, 11.83it/s]"
          ]
        },
        {
          "output_type": "stream",
          "name": "stdout",
          "text": [
            "Processed sentence for image 62651.\n",
            "Processed sentence for image 108810.\n",
            "Processed sentence for image 856010.\n"
          ]
        },
        {
          "output_type": "stream",
          "name": "stderr",
          "text": [
            " 11%|█▏        | 457/4000 [01:41<05:17, 11.15it/s]"
          ]
        },
        {
          "output_type": "stream",
          "name": "stdout",
          "text": [
            "Processed sentence for image 1490725.\n",
            "Processed sentence for image 163925.\n",
            "Processed sentence for image 617017.\n"
          ]
        },
        {
          "output_type": "stream",
          "name": "stderr",
          "text": [
            "\r 11%|█▏        | 459/4000 [01:42<05:48, 10.16it/s]"
          ]
        },
        {
          "output_type": "stream",
          "name": "stdout",
          "text": [
            "Processed sentence for image 15196.\n",
            "Processed sentence for image 63386.\n"
          ]
        },
        {
          "output_type": "stream",
          "name": "stderr",
          "text": [
            " 12%|█▏        | 462/4000 [01:42<06:10,  9.54it/s]"
          ]
        },
        {
          "output_type": "stream",
          "name": "stdout",
          "text": [
            "Processed sentence for image 414719.\n",
            "Processed sentence for image 1132156.\n",
            "Processed sentence for image 1923142.\n"
          ]
        },
        {
          "output_type": "stream",
          "name": "stderr",
          "text": [
            " 12%|█▏        | 464/4000 [01:42<06:42,  8.78it/s]"
          ]
        },
        {
          "output_type": "stream",
          "name": "stdout",
          "text": [
            "Processed sentence for image 62459.\n",
            "Processed sentence for image 1700511.\n"
          ]
        },
        {
          "output_type": "stream",
          "name": "stderr",
          "text": [
            "\r 12%|█▏        | 466/4000 [01:42<05:54,  9.97it/s]"
          ]
        },
        {
          "output_type": "stream",
          "name": "stdout",
          "text": [
            "Processed sentence for image 1748621.\n",
            "Processed sentence for image 419392.\n",
            "Processed sentence for image 660234.\n"
          ]
        },
        {
          "output_type": "stream",
          "name": "stderr",
          "text": [
            " 12%|█▏        | 470/4000 [01:43<04:53, 12.03it/s]"
          ]
        },
        {
          "output_type": "stream",
          "name": "stdout",
          "text": [
            "Processed sentence for image 1010770.\n",
            "Processed sentence for image 70943.\n",
            "Processed sentence for image 15730.\n"
          ]
        },
        {
          "output_type": "stream",
          "name": "stderr",
          "text": [
            " 12%|█▏        | 474/4000 [01:43<03:59, 14.70it/s]"
          ]
        },
        {
          "output_type": "stream",
          "name": "stdout",
          "text": [
            "Processed sentence for image 1816308.\n",
            "Processed sentence for image 74208.\n",
            "Processed sentence for image 591281.\n",
            "Processed sentence for image 29728.\n",
            "Processed sentence for image 1846238.\n"
          ]
        },
        {
          "output_type": "stream",
          "name": "stderr",
          "text": [
            " 12%|█▏        | 478/4000 [01:43<04:22, 13.42it/s]"
          ]
        },
        {
          "output_type": "stream",
          "name": "stdout",
          "text": [
            "Processed sentence for image 1114121.\n",
            "Processed sentence for image 1107891.\n",
            "Processed sentence for image 534543.\n"
          ]
        },
        {
          "output_type": "stream",
          "name": "stderr",
          "text": [
            "\r 12%|█▏        | 480/4000 [01:43<04:51, 12.07it/s]"
          ]
        },
        {
          "output_type": "stream",
          "name": "stdout",
          "text": [
            "Processed sentence for image 536482.\n",
            "Processed sentence for image 92007.\n",
            "Processed sentence for image 30133.\n"
          ]
        },
        {
          "output_type": "stream",
          "name": "stderr",
          "text": [
            " 12%|█▏        | 484/4000 [01:44<04:03, 14.42it/s]"
          ]
        },
        {
          "output_type": "stream",
          "name": "stdout",
          "text": [
            "Processed sentence for image 480117.\n",
            "Processed sentence for image 71427.\n",
            "Processed sentence for image 513696.\n"
          ]
        },
        {
          "output_type": "stream",
          "name": "stderr",
          "text": [
            "\r 12%|█▏        | 486/4000 [01:44<04:12, 13.93it/s]"
          ]
        },
        {
          "output_type": "stream",
          "name": "stdout",
          "text": [
            "Processed sentence for image 1072361.\n",
            "Processed sentence for image 791590.\n",
            "Processed sentence for image 1389557.\n"
          ]
        },
        {
          "output_type": "stream",
          "name": "stderr",
          "text": [
            " 12%|█▏        | 490/4000 [01:44<04:17, 13.61it/s]"
          ]
        },
        {
          "output_type": "stream",
          "name": "stdout",
          "text": [
            "Processed sentence for image 1109921.\n",
            "Processed sentence for image 1430359.\n",
            "Processed sentence for image 24114.\n",
            "Processed sentence for image 503992.\n"
          ]
        },
        {
          "output_type": "stream",
          "name": "stderr",
          "text": [
            " 12%|█▏        | 494/4000 [01:44<04:15, 13.72it/s]"
          ]
        },
        {
          "output_type": "stream",
          "name": "stdout",
          "text": [
            "Processed sentence for image 1693561.\n",
            "Processed sentence for image 1993341.\n",
            "Processed sentence for image 117256.\n",
            "Processed sentence for image 484641.\n"
          ]
        },
        {
          "output_type": "stream",
          "name": "stderr",
          "text": [
            " 12%|█▏        | 498/4000 [01:45<04:31, 12.90it/s]"
          ]
        },
        {
          "output_type": "stream",
          "name": "stdout",
          "text": [
            "Processed sentence for image 62391.\n",
            "Processed sentence for image 20244.\n",
            "Processed sentence for image 115039.\n"
          ]
        },
        {
          "output_type": "stream",
          "name": "stderr",
          "text": [
            "\r 12%|█▎        | 500/4000 [01:45<04:58, 11.74it/s]"
          ]
        },
        {
          "output_type": "stream",
          "name": "stdout",
          "text": [
            "Processed sentence for image 74618.\n",
            "Processed sentence for image 15129.\n",
            "Processed sentence for image 970850.\n"
          ]
        },
        {
          "output_type": "stream",
          "name": "stderr",
          "text": [
            "\r 13%|█▎        | 502/4000 [01:45<05:22, 10.86it/s]"
          ]
        },
        {
          "output_type": "stream",
          "name": "stdout",
          "text": [
            "Processed sentence for image 522489.\n",
            "Processed sentence for image 73177.\n"
          ]
        },
        {
          "output_type": "stream",
          "name": "stderr",
          "text": [
            " 13%|█▎        | 506/4000 [01:45<05:10, 11.27it/s]"
          ]
        },
        {
          "output_type": "stream",
          "name": "stdout",
          "text": [
            "Processed sentence for image 1284965.\n",
            "Processed sentence for image 1038311.\n",
            "Processed sentence for image 966817.\n",
            "Processed sentence for image 1723336.\n"
          ]
        },
        {
          "output_type": "stream",
          "name": "stderr",
          "text": [
            " 13%|█▎        | 510/4000 [01:46<04:45, 12.23it/s]"
          ]
        },
        {
          "output_type": "stream",
          "name": "stdout",
          "text": [
            "Processed sentence for image 71779.\n",
            "Processed sentence for image 478945.\n",
            "Processed sentence for image 1020871.\n"
          ]
        },
        {
          "output_type": "stream",
          "name": "stderr",
          "text": [
            " 13%|█▎        | 514/4000 [01:46<04:12, 13.80it/s]"
          ]
        },
        {
          "output_type": "stream",
          "name": "stdout",
          "text": [
            "Processed sentence for image 609504.\n",
            "Processed sentence for image 533932.\n",
            "Processed sentence for image 117947.\n",
            "Processed sentence for image 72978.\n"
          ]
        },
        {
          "output_type": "stream",
          "name": "stderr",
          "text": [
            "\r 13%|█▎        | 516/4000 [01:46<04:14, 13.70it/s]"
          ]
        },
        {
          "output_type": "stream",
          "name": "stdout",
          "text": [
            "Processed sentence for image 10315.\n",
            "Processed sentence for image 1025886.\n",
            "Processed sentence for image 363561.\n"
          ]
        },
        {
          "output_type": "stream",
          "name": "stderr",
          "text": [
            " 13%|█▎        | 520/4000 [01:46<03:54, 14.81it/s]"
          ]
        },
        {
          "output_type": "stream",
          "name": "stdout",
          "text": [
            "Processed sentence for image 606.\n",
            "Processed sentence for image 317890.\n",
            "Processed sentence for image 35049.\n",
            "Processed sentence for image 13990.\n",
            "Processed sentence for image 1083172.\n"
          ]
        },
        {
          "output_type": "stream",
          "name": "stderr",
          "text": [
            " 13%|█▎        | 525/4000 [01:47<04:00, 14.45it/s]"
          ]
        },
        {
          "output_type": "stream",
          "name": "stdout",
          "text": [
            "Processed sentence for image 1340509.\n",
            "Processed sentence for image 414281.\n",
            "Processed sentence for image 1019833.\n"
          ]
        },
        {
          "output_type": "stream",
          "name": "stderr",
          "text": [
            "\r 13%|█▎        | 527/4000 [01:47<03:57, 14.61it/s]"
          ]
        },
        {
          "output_type": "stream",
          "name": "stdout",
          "text": [
            "Processed sentence for image 466853.\n",
            "Processed sentence for image 1320540.\n",
            "Processed sentence for image 1439611.\n"
          ]
        },
        {
          "output_type": "stream",
          "name": "stderr",
          "text": [
            " 13%|█▎        | 531/4000 [01:47<04:13, 13.67it/s]"
          ]
        },
        {
          "output_type": "stream",
          "name": "stdout",
          "text": [
            "Processed sentence for image 1786952.\n",
            "Processed sentence for image 1098612.\n",
            "Processed sentence for image 794787.\n"
          ]
        },
        {
          "output_type": "stream",
          "name": "stderr",
          "text": [
            "\r 13%|█▎        | 533/4000 [01:47<04:33, 12.66it/s]"
          ]
        },
        {
          "output_type": "stream",
          "name": "stdout",
          "text": [
            "Processed sentence for image 63109.\n",
            "Processed sentence for image 423085.\n",
            "Processed sentence for image 51190.\n"
          ]
        },
        {
          "output_type": "stream",
          "name": "stderr",
          "text": [
            " 13%|█▎        | 537/4000 [01:48<04:40, 12.37it/s]"
          ]
        },
        {
          "output_type": "stream",
          "name": "stdout",
          "text": [
            "Processed sentence for image 1476249.\n",
            "Processed sentence for image 44773.\n",
            "Processed sentence for image 33015.\n"
          ]
        },
        {
          "output_type": "stream",
          "name": "stderr",
          "text": [
            "\r 13%|█▎        | 539/4000 [01:48<05:03, 11.40it/s]"
          ]
        },
        {
          "output_type": "stream",
          "name": "stdout",
          "text": [
            "Processed sentence for image 64467.\n",
            "Processed sentence for image 1772399.\n",
            "Processed sentence for image 73391.\n"
          ]
        },
        {
          "output_type": "stream",
          "name": "stderr",
          "text": [
            "\r 14%|█▎        | 541/4000 [01:48<05:27, 10.55it/s]"
          ]
        },
        {
          "output_type": "stream",
          "name": "stdout",
          "text": [
            "Processed sentence for image 564725.\n",
            "Processed sentence for image 45852.\n"
          ]
        },
        {
          "output_type": "stream",
          "name": "stderr",
          "text": [
            " 14%|█▎        | 545/4000 [01:48<05:16, 10.92it/s]"
          ]
        },
        {
          "output_type": "stream",
          "name": "stdout",
          "text": [
            "Processed sentence for image 48457.\n",
            "Processed sentence for image 65253.\n",
            "Processed sentence for image 1814943.\n",
            "Processed sentence for image 74091.\n"
          ]
        },
        {
          "output_type": "stream",
          "name": "stderr",
          "text": [
            " 14%|█▎        | 549/4000 [01:49<04:51, 11.84it/s]"
          ]
        },
        {
          "output_type": "stream",
          "name": "stdout",
          "text": [
            "Processed sentence for image 1815599.\n",
            "Processed sentence for image 190.\n",
            "Processed sentence for image 36634.\n"
          ]
        },
        {
          "output_type": "stream",
          "name": "stderr",
          "text": [
            "\r 14%|█▍        | 551/4000 [01:49<04:52, 11.79it/s]"
          ]
        },
        {
          "output_type": "stream",
          "name": "stdout",
          "text": [
            "Processed sentence for image 330476.\n",
            "Processed sentence for image 96568.\n",
            "Processed sentence for image 128094.\n",
            "Processed sentence for image 13485.\n"
          ]
        },
        {
          "output_type": "stream",
          "name": "stderr",
          "text": [
            " 14%|█▍        | 556/4000 [01:49<04:15, 13.49it/s]"
          ]
        },
        {
          "output_type": "stream",
          "name": "stdout",
          "text": [
            "Processed sentence for image 259016.\n",
            "Processed sentence for image 146390.\n",
            "Processed sentence for image 552740.\n"
          ]
        },
        {
          "output_type": "stream",
          "name": "stderr",
          "text": [
            "\r 14%|█▍        | 558/4000 [01:49<04:30, 12.73it/s]"
          ]
        },
        {
          "output_type": "stream",
          "name": "stdout",
          "text": [
            "Processed sentence for image 214951.\n",
            "Processed sentence for image 1807373.\n",
            "Processed sentence for image 71150.\n"
          ]
        },
        {
          "output_type": "stream",
          "name": "stderr",
          "text": [
            " 14%|█▍        | 562/4000 [01:50<05:05, 11.25it/s]"
          ]
        },
        {
          "output_type": "stream",
          "name": "stdout",
          "text": [
            "Processed sentence for image 93309.\n",
            "Processed sentence for image 409855.\n",
            "Processed sentence for image 73086.\n"
          ]
        },
        {
          "output_type": "stream",
          "name": "stderr",
          "text": [
            "\r 14%|█▍        | 564/4000 [01:50<05:21, 10.68it/s]"
          ]
        },
        {
          "output_type": "stream",
          "name": "stdout",
          "text": [
            "Processed sentence for image 71804.\n",
            "Processed sentence for image 114749.\n",
            "Processed sentence for image 1970636.\n"
          ]
        },
        {
          "output_type": "stream",
          "name": "stderr",
          "text": [
            "\r 14%|█▍        | 566/4000 [01:50<05:46,  9.90it/s]"
          ]
        },
        {
          "output_type": "stream",
          "name": "stdout",
          "text": [
            "Processed sentence for image 1120612.\n",
            "Processed sentence for image 1070462.\n"
          ]
        },
        {
          "output_type": "stream",
          "name": "stderr",
          "text": [
            " 14%|█▍        | 569/4000 [01:51<07:23,  7.73it/s]"
          ]
        },
        {
          "output_type": "stream",
          "name": "stdout",
          "text": [
            "Processed sentence for image 621724.\n",
            "Processed sentence for image 72943.\n"
          ]
        },
        {
          "output_type": "stream",
          "name": "stderr",
          "text": [
            "\r 14%|█▍        | 571/4000 [01:51<06:36,  8.65it/s]"
          ]
        },
        {
          "output_type": "stream",
          "name": "stdout",
          "text": [
            "Processed sentence for image 1338699.\n",
            "Processed sentence for image 321830.\n"
          ]
        },
        {
          "output_type": "stream",
          "name": "stderr",
          "text": [
            " 14%|█▍        | 573/4000 [01:51<06:58,  8.18it/s]"
          ]
        },
        {
          "output_type": "stream",
          "name": "stdout",
          "text": [
            "Processed sentence for image 669523.\n",
            "Processed sentence for image 430766.\n"
          ]
        },
        {
          "output_type": "stream",
          "name": "stderr",
          "text": [
            " 14%|█▍        | 575/4000 [01:52<07:00,  8.15it/s]"
          ]
        },
        {
          "output_type": "stream",
          "name": "stdout",
          "text": [
            "Processed sentence for image 14148.\n",
            "Processed sentence for image 865163.\n"
          ]
        },
        {
          "output_type": "stream",
          "name": "stderr",
          "text": [
            "\r 14%|█▍        | 576/4000 [01:52<07:18,  7.82it/s]"
          ]
        },
        {
          "output_type": "stream",
          "name": "stdout",
          "text": [
            "Processed sentence for image 144639.\n",
            "Processed sentence for image 577913.\n"
          ]
        },
        {
          "output_type": "stream",
          "name": "stderr",
          "text": [
            "\r 14%|█▍        | 578/4000 [01:52<07:25,  7.68it/s]"
          ]
        },
        {
          "output_type": "stream",
          "name": "stdout",
          "text": [
            "Processed sentence for image 415551.\n"
          ]
        },
        {
          "output_type": "stream",
          "name": "stderr",
          "text": [
            " 14%|█▍        | 580/4000 [01:52<09:05,  6.27it/s]"
          ]
        },
        {
          "output_type": "stream",
          "name": "stdout",
          "text": [
            "Processed sentence for image 73226.\n",
            "Processed sentence for image 1395273.\n"
          ]
        },
        {
          "output_type": "stream",
          "name": "stderr",
          "text": [
            " 15%|█▍        | 582/4000 [01:53<07:50,  7.26it/s]"
          ]
        },
        {
          "output_type": "stream",
          "name": "stdout",
          "text": [
            "Processed sentence for image 13291.\n",
            "Processed sentence for image 73004.\n"
          ]
        },
        {
          "output_type": "stream",
          "name": "stderr",
          "text": [
            " 15%|█▍        | 584/4000 [01:53<07:22,  7.71it/s]"
          ]
        },
        {
          "output_type": "stream",
          "name": "stdout",
          "text": [
            "Processed sentence for image 92321.\n",
            "Processed sentence for image 1366065.\n"
          ]
        },
        {
          "output_type": "stream",
          "name": "stderr",
          "text": [
            " 15%|█▍        | 586/4000 [01:53<07:25,  7.66it/s]"
          ]
        },
        {
          "output_type": "stream",
          "name": "stdout",
          "text": [
            "Processed sentence for image 506812.\n",
            "Processed sentence for image 74960.\n"
          ]
        },
        {
          "output_type": "stream",
          "name": "stderr",
          "text": [
            " 15%|█▍        | 590/4000 [01:53<05:01, 11.30it/s]"
          ]
        },
        {
          "output_type": "stream",
          "name": "stdout",
          "text": [
            "Processed sentence for image 251918.\n",
            "Processed sentence for image 144309.\n",
            "Processed sentence for image 701630.\n",
            "Processed sentence for image 35642.\n"
          ]
        },
        {
          "output_type": "stream",
          "name": "stderr",
          "text": [
            "\r 15%|█▍        | 592/4000 [01:54<05:19, 10.67it/s]"
          ]
        },
        {
          "output_type": "stream",
          "name": "stdout",
          "text": [
            "Processed sentence for image 49782.\n",
            "Processed sentence for image 34586.\n"
          ]
        },
        {
          "output_type": "stream",
          "name": "stderr",
          "text": [
            "\r 15%|█▍        | 594/4000 [01:54<05:53,  9.64it/s]"
          ]
        },
        {
          "output_type": "stream",
          "name": "stdout",
          "text": [
            "Processed sentence for image 144955.\n",
            "Processed sentence for image 777980.\n"
          ]
        },
        {
          "output_type": "stream",
          "name": "stderr",
          "text": [
            "\r 15%|█▍        | 596/4000 [01:54<06:05,  9.30it/s]"
          ]
        },
        {
          "output_type": "stream",
          "name": "stdout",
          "text": [
            "Processed sentence for image 791697.\n",
            "Processed sentence for image 791165.\n",
            "Processed sentence for image 73364.\n"
          ]
        },
        {
          "output_type": "stream",
          "name": "stderr",
          "text": [
            "\r 15%|█▍        | 598/4000 [01:54<05:57,  9.50it/s]"
          ]
        },
        {
          "output_type": "stream",
          "name": "stdout",
          "text": [
            "Processed sentence for image 692649.\n"
          ]
        },
        {
          "output_type": "stream",
          "name": "stderr",
          "text": [
            " 15%|█▌        | 600/4000 [01:55<06:53,  8.22it/s]"
          ]
        },
        {
          "output_type": "stream",
          "name": "stdout",
          "text": [
            "Processed sentence for image 506639.\n",
            "Processed sentence for image 1412668.\n"
          ]
        },
        {
          "output_type": "stream",
          "name": "stderr",
          "text": [
            " 15%|█▌        | 602/4000 [01:55<08:08,  6.95it/s]"
          ]
        },
        {
          "output_type": "stream",
          "name": "stdout",
          "text": [
            "Processed sentence for image 29257.\n",
            "Processed sentence for image 111402.\n"
          ]
        },
        {
          "output_type": "stream",
          "name": "stderr",
          "text": [
            " 15%|█▌        | 604/4000 [01:55<07:08,  7.93it/s]"
          ]
        },
        {
          "output_type": "stream",
          "name": "stdout",
          "text": [
            "Processed sentence for image 711521.\n",
            "Processed sentence for image 609247.\n"
          ]
        },
        {
          "output_type": "stream",
          "name": "stderr",
          "text": [
            "\r 15%|█▌        | 605/4000 [01:55<07:06,  7.97it/s]"
          ]
        },
        {
          "output_type": "stream",
          "name": "stdout",
          "text": [
            "Processed sentence for image 1141954.\n",
            "Processed sentence for image 127557.\n"
          ]
        },
        {
          "output_type": "stream",
          "name": "stderr",
          "text": [
            " 15%|█▌        | 609/4000 [01:56<06:05,  9.28it/s]"
          ]
        },
        {
          "output_type": "stream",
          "name": "stdout",
          "text": [
            "Processed sentence for image 631334.\n",
            "Processed sentence for image 70217.\n",
            "Processed sentence for image 116331.\n"
          ]
        },
        {
          "output_type": "stream",
          "name": "stderr",
          "text": [
            "\r 15%|█▌        | 610/4000 [01:56<06:10,  9.15it/s]"
          ]
        },
        {
          "output_type": "stream",
          "name": "stdout",
          "text": [
            "Processed sentence for image 64918.\n",
            "Processed sentence for image 445423.\n"
          ]
        },
        {
          "output_type": "stream",
          "name": "stderr",
          "text": [
            "\r 15%|█▌        | 612/4000 [01:56<06:00,  9.39it/s]"
          ]
        },
        {
          "output_type": "stream",
          "name": "stdout",
          "text": [
            "Processed sentence for image 857141.\n",
            "Processed sentence for image 67570.\n",
            "Processed sentence for image 1345686.\n"
          ]
        },
        {
          "output_type": "stream",
          "name": "stderr",
          "text": [
            " 15%|█▌        | 617/4000 [01:56<05:14, 10.76it/s]"
          ]
        },
        {
          "output_type": "stream",
          "name": "stdout",
          "text": [
            "Processed sentence for image 734605.\n",
            "Processed sentence for image 402186.\n",
            "Processed sentence for image 38075.\n"
          ]
        },
        {
          "output_type": "stream",
          "name": "stderr",
          "text": [
            "\r 15%|█▌        | 619/4000 [01:56<04:49, 11.69it/s]"
          ]
        },
        {
          "output_type": "stream",
          "name": "stdout",
          "text": [
            "Processed sentence for image 1022229.\n",
            "Processed sentence for image 95026.\n",
            "Processed sentence for image 1347104.\n"
          ]
        },
        {
          "output_type": "stream",
          "name": "stderr",
          "text": [
            "\r 16%|█▌        | 621/4000 [01:57<05:04, 11.08it/s]"
          ]
        },
        {
          "output_type": "stream",
          "name": "stdout",
          "text": [
            "Processed sentence for image 964242.\n",
            "Processed sentence for image 70522.\n"
          ]
        },
        {
          "output_type": "stream",
          "name": "stderr",
          "text": [
            " 16%|█▌        | 624/4000 [01:57<05:56,  9.46it/s]"
          ]
        },
        {
          "output_type": "stream",
          "name": "stdout",
          "text": [
            "Processed sentence for image 245534.\n",
            "Processed sentence for image 117346.\n"
          ]
        },
        {
          "output_type": "stream",
          "name": "stderr",
          "text": [
            "\r 16%|█▌        | 625/4000 [01:57<06:10,  9.10it/s]"
          ]
        },
        {
          "output_type": "stream",
          "name": "stdout",
          "text": [
            "Processed sentence for image 72315.\n",
            "Processed sentence for image 1489804.\n"
          ]
        },
        {
          "output_type": "stream",
          "name": "stderr",
          "text": [
            " 16%|█▌        | 628/4000 [01:58<06:09,  9.13it/s]"
          ]
        },
        {
          "output_type": "stream",
          "name": "stdout",
          "text": [
            "Processed sentence for image 560581.\n",
            "Processed sentence for image 64695.\n"
          ]
        },
        {
          "output_type": "stream",
          "name": "stderr",
          "text": [
            "\r 16%|█▌        | 629/4000 [01:58<06:19,  8.88it/s]"
          ]
        },
        {
          "output_type": "stream",
          "name": "stdout",
          "text": [
            "Processed sentence for image 587305.\n",
            "Processed sentence for image 469236.\n"
          ]
        },
        {
          "output_type": "stream",
          "name": "stderr",
          "text": [
            " 16%|█▌        | 632/4000 [01:58<08:03,  6.97it/s]"
          ]
        },
        {
          "output_type": "stream",
          "name": "stdout",
          "text": [
            "Processed sentence for image 13075.\n",
            "Processed sentence for image 401826.\n"
          ]
        },
        {
          "output_type": "stream",
          "name": "stderr",
          "text": [
            " 16%|█▌        | 634/4000 [01:58<08:44,  6.41it/s]"
          ]
        },
        {
          "output_type": "stream",
          "name": "stdout",
          "text": [
            "Processed sentence for image 725064.\n",
            "Processed sentence for image 13989.\n"
          ]
        },
        {
          "output_type": "stream",
          "name": "stderr",
          "text": [
            " 16%|█▌        | 636/4000 [01:59<08:34,  6.54it/s]"
          ]
        },
        {
          "output_type": "stream",
          "name": "stdout",
          "text": [
            "Processed sentence for image 1008980.\n",
            "Processed sentence for image 561453.\n"
          ]
        },
        {
          "output_type": "stream",
          "name": "stderr",
          "text": [
            " 16%|█▌        | 638/4000 [01:59<07:36,  7.36it/s]"
          ]
        },
        {
          "output_type": "stream",
          "name": "stdout",
          "text": [
            "Processed sentence for image 1794386.\n",
            "Processed sentence for image 96000.\n"
          ]
        },
        {
          "output_type": "stream",
          "name": "stderr",
          "text": [
            "\r 16%|█▌        | 640/4000 [01:59<06:16,  8.93it/s]"
          ]
        },
        {
          "output_type": "stream",
          "name": "stdout",
          "text": [
            "Processed sentence for image 1468812.\n",
            "Processed sentence for image 13987.\n",
            "Processed sentence for image 1345437.\n"
          ]
        },
        {
          "output_type": "stream",
          "name": "stderr",
          "text": [
            "\r 16%|█▌        | 642/4000 [01:59<05:19, 10.50it/s]"
          ]
        },
        {
          "output_type": "stream",
          "name": "stdout",
          "text": [
            "Processed sentence for image 542081.\n",
            "Processed sentence for image 1133046.\n"
          ]
        },
        {
          "output_type": "stream",
          "name": "stderr",
          "text": [
            " 16%|█▌        | 646/4000 [02:00<05:15, 10.64it/s]"
          ]
        },
        {
          "output_type": "stream",
          "name": "stdout",
          "text": [
            "Processed sentence for image 36785.\n",
            "Processed sentence for image 95299.\n",
            "Processed sentence for image 114933.\n"
          ]
        },
        {
          "output_type": "stream",
          "name": "stderr",
          "text": [
            "\r 16%|█▌        | 648/4000 [02:00<05:29, 10.16it/s]"
          ]
        },
        {
          "output_type": "stream",
          "name": "stdout",
          "text": [
            "Processed sentence for image 1946351.\n",
            "Processed sentence for image 64346.\n",
            "Processed sentence for image 45650.\n"
          ]
        },
        {
          "output_type": "stream",
          "name": "stderr",
          "text": [
            " 16%|█▋        | 652/4000 [02:00<05:08, 10.85it/s]"
          ]
        },
        {
          "output_type": "stream",
          "name": "stdout",
          "text": [
            "Processed sentence for image 34064.\n",
            "Processed sentence for image 521360.\n",
            "Processed sentence for image 42094.\n"
          ]
        },
        {
          "output_type": "stream",
          "name": "stderr",
          "text": [
            "\r 16%|█▋        | 654/4000 [02:01<05:23, 10.36it/s]"
          ]
        },
        {
          "output_type": "stream",
          "name": "stdout",
          "text": [
            "Processed sentence for image 115136.\n",
            "Processed sentence for image 636958.\n"
          ]
        },
        {
          "output_type": "stream",
          "name": "stderr",
          "text": [
            "\r 16%|█▋        | 656/4000 [02:01<07:15,  7.68it/s]"
          ]
        },
        {
          "output_type": "stream",
          "name": "stdout",
          "text": [
            "Processed sentence for image 917146.\n",
            "Processed sentence for image 73133.\n"
          ]
        },
        {
          "output_type": "stream",
          "name": "stderr",
          "text": [
            " 16%|█▋        | 658/4000 [02:01<06:54,  8.07it/s]"
          ]
        },
        {
          "output_type": "stream",
          "name": "stdout",
          "text": [
            "Processed sentence for image 535038.\n",
            "Processed sentence for image 1295332.\n"
          ]
        },
        {
          "output_type": "stream",
          "name": "stderr",
          "text": [
            " 17%|█▋        | 661/4000 [02:01<05:26, 10.22it/s]"
          ]
        },
        {
          "output_type": "stream",
          "name": "stdout",
          "text": [
            "Processed sentence for image 650520.\n",
            "Processed sentence for image 128613.\n",
            "Processed sentence for image 603511.\n",
            "Processed sentence for image 548055.\n"
          ]
        },
        {
          "output_type": "stream",
          "name": "stderr",
          "text": [
            " 17%|█▋        | 665/4000 [02:02<04:37, 12.02it/s]"
          ]
        },
        {
          "output_type": "stream",
          "name": "stdout",
          "text": [
            "Processed sentence for image 150131.\n",
            "Processed sentence for image 630835.\n",
            "Processed sentence for image 140788.\n"
          ]
        },
        {
          "output_type": "stream",
          "name": "stderr",
          "text": [
            "\r 17%|█▋        | 667/4000 [02:02<04:24, 12.59it/s]"
          ]
        },
        {
          "output_type": "stream",
          "name": "stdout",
          "text": [
            "Processed sentence for image 64536.\n",
            "Processed sentence for image 1310063.\n",
            "Processed sentence for image 1459831.\n"
          ]
        },
        {
          "output_type": "stream",
          "name": "stderr",
          "text": [
            " 17%|█▋        | 671/4000 [02:02<04:52, 11.37it/s]"
          ]
        },
        {
          "output_type": "stream",
          "name": "stdout",
          "text": [
            "Processed sentence for image 917304.\n",
            "Processed sentence for image 34987.\n",
            "Processed sentence for image 1043018.\n"
          ]
        },
        {
          "output_type": "stream",
          "name": "stderr",
          "text": [
            "\r 17%|█▋        | 673/4000 [02:02<04:42, 11.78it/s]"
          ]
        },
        {
          "output_type": "stream",
          "name": "stdout",
          "text": [
            "Processed sentence for image 423153.\n",
            "Processed sentence for image 736840.\n"
          ]
        },
        {
          "output_type": "stream",
          "name": "stderr",
          "text": [
            " 17%|█▋        | 677/4000 [02:03<04:18, 12.85it/s]"
          ]
        },
        {
          "output_type": "stream",
          "name": "stdout",
          "text": [
            "Processed sentence for image 312112.\n",
            "Processed sentence for image 1773394.\n",
            "Processed sentence for image 746847.\n",
            "Processed sentence for image 153305.\n"
          ]
        },
        {
          "output_type": "stream",
          "name": "stderr",
          "text": [
            "\r 17%|█▋        | 679/4000 [02:03<04:18, 12.83it/s]"
          ]
        },
        {
          "output_type": "stream",
          "name": "stdout",
          "text": [
            "Processed sentence for image 67574.\n",
            "Processed sentence for image 67483.\n",
            "Processed sentence for image 112960.\n"
          ]
        },
        {
          "output_type": "stream",
          "name": "stderr",
          "text": [
            " 17%|█▋        | 683/4000 [02:03<03:46, 14.64it/s]"
          ]
        },
        {
          "output_type": "stream",
          "name": "stdout",
          "text": [
            "Processed sentence for image 559.\n",
            "Processed sentence for image 1439157.\n",
            "Processed sentence for image 13299.\n"
          ]
        },
        {
          "output_type": "stream",
          "name": "stderr",
          "text": [
            "\r 17%|█▋        | 685/4000 [02:03<04:01, 13.74it/s]"
          ]
        },
        {
          "output_type": "stream",
          "name": "stdout",
          "text": [
            "Processed sentence for image 73378.\n",
            "Processed sentence for image 942100.\n",
            "Processed sentence for image 73521.\n"
          ]
        },
        {
          "output_type": "stream",
          "name": "stderr",
          "text": [
            " 17%|█▋        | 689/4000 [02:03<04:00, 13.78it/s]"
          ]
        },
        {
          "output_type": "stream",
          "name": "stdout",
          "text": [
            "Processed sentence for image 7865.\n",
            "Processed sentence for image 694859.\n",
            "Processed sentence for image 72540.\n"
          ]
        },
        {
          "output_type": "stream",
          "name": "stderr",
          "text": [
            "\r 17%|█▋        | 691/4000 [02:04<04:10, 13.23it/s]"
          ]
        },
        {
          "output_type": "stream",
          "name": "stdout",
          "text": [
            "Processed sentence for image 1011219.\n",
            "Processed sentence for image 454568.\n",
            "Processed sentence for image 26830.\n"
          ]
        },
        {
          "output_type": "stream",
          "name": "stderr",
          "text": [
            " 17%|█▋        | 695/4000 [02:04<04:18, 12.78it/s]"
          ]
        },
        {
          "output_type": "stream",
          "name": "stdout",
          "text": [
            "Processed sentence for image 442115.\n",
            "Processed sentence for image 15136.\n",
            "Processed sentence for image 114009.\n"
          ]
        },
        {
          "output_type": "stream",
          "name": "stderr",
          "text": [
            "\r 17%|█▋        | 697/4000 [02:04<04:51, 11.35it/s]"
          ]
        },
        {
          "output_type": "stream",
          "name": "stdout",
          "text": [
            "Processed sentence for image 12849.\n",
            "Processed sentence for image 771669.\n",
            "Processed sentence for image 93708.\n"
          ]
        },
        {
          "output_type": "stream",
          "name": "stderr",
          "text": [
            " 18%|█▊        | 701/4000 [02:05<04:29, 12.22it/s]"
          ]
        },
        {
          "output_type": "stream",
          "name": "stdout",
          "text": [
            "Processed sentence for image 171434.\n",
            "Processed sentence for image 746036.\n",
            "Processed sentence for image 119727.\n"
          ]
        },
        {
          "output_type": "stream",
          "name": "stderr",
          "text": [
            "\r 18%|█▊        | 703/4000 [02:05<04:23, 12.52it/s]"
          ]
        },
        {
          "output_type": "stream",
          "name": "stdout",
          "text": [
            "Processed sentence for image 414117.\n",
            "Processed sentence for image 1014745.\n",
            "Processed sentence for image 735257.\n"
          ]
        },
        {
          "output_type": "stream",
          "name": "stderr",
          "text": [
            " 18%|█▊        | 707/4000 [02:05<04:08, 13.23it/s]"
          ]
        },
        {
          "output_type": "stream",
          "name": "stdout",
          "text": [
            "Processed sentence for image 712218.\n",
            "Processed sentence for image 72227.\n",
            "Processed sentence for image 715277.\n"
          ]
        },
        {
          "output_type": "stream",
          "name": "stderr",
          "text": [
            "\r 18%|█▊        | 709/4000 [02:05<04:14, 12.91it/s]"
          ]
        },
        {
          "output_type": "stream",
          "name": "stdout",
          "text": [
            "Processed sentence for image 1295200.\n",
            "Processed sentence for image 673088.\n",
            "Processed sentence for image 116985.\n"
          ]
        },
        {
          "output_type": "stream",
          "name": "stderr",
          "text": [
            " 18%|█▊        | 713/4000 [02:05<04:25, 12.40it/s]"
          ]
        },
        {
          "output_type": "stream",
          "name": "stdout",
          "text": [
            "Processed sentence for image 820380.\n",
            "Processed sentence for image 1334622.\n",
            "Processed sentence for image 517613.\n"
          ]
        },
        {
          "output_type": "stream",
          "name": "stderr",
          "text": [
            " 18%|█▊        | 718/4000 [02:06<03:35, 15.24it/s]"
          ]
        },
        {
          "output_type": "stream",
          "name": "stdout",
          "text": [
            "Processed sentence for image 1285562.\n",
            "Processed sentence for image 281756.\n",
            "Processed sentence for image 124339.\n",
            "Processed sentence for image 71394.\n",
            "Processed sentence for image 31581.\n"
          ]
        },
        {
          "output_type": "stream",
          "name": "stderr",
          "text": [
            " 18%|█▊        | 722/4000 [02:06<03:45, 14.51it/s]"
          ]
        },
        {
          "output_type": "stream",
          "name": "stdout",
          "text": [
            "Processed sentence for image 8594.\n",
            "Processed sentence for image 71004.\n",
            "Processed sentence for image 1320318.\n",
            "Processed sentence for image 1310536.\n"
          ]
        },
        {
          "output_type": "stream",
          "name": "stderr",
          "text": [
            " 18%|█▊        | 726/4000 [02:06<03:47, 14.36it/s]"
          ]
        },
        {
          "output_type": "stream",
          "name": "stdout",
          "text": [
            "Processed sentence for image 517053.\n",
            "Processed sentence for image 1296916.\n",
            "Processed sentence for image 1087217.\n",
            "Processed sentence for image 834514.\n"
          ]
        },
        {
          "output_type": "stream",
          "name": "stderr",
          "text": [
            "\r 18%|█▊        | 728/4000 [02:06<03:50, 14.17it/s]"
          ]
        },
        {
          "output_type": "stream",
          "name": "stdout",
          "text": [
            "Processed sentence for image 544020.\n",
            "Processed sentence for image 647812.\n",
            "Processed sentence for image 41632.\n"
          ]
        },
        {
          "output_type": "stream",
          "name": "stderr",
          "text": [
            " 18%|█▊        | 733/4000 [02:07<04:12, 12.93it/s]"
          ]
        },
        {
          "output_type": "stream",
          "name": "stdout",
          "text": [
            "Processed sentence for image 1699331.\n",
            "Processed sentence for image 74707.\n",
            "Processed sentence for image 20162.\n",
            "Processed sentence for image 139296.\n"
          ]
        },
        {
          "output_type": "stream",
          "name": "stderr",
          "text": [
            "\r 18%|█▊        | 735/4000 [02:07<04:04, 13.35it/s]"
          ]
        },
        {
          "output_type": "stream",
          "name": "stdout",
          "text": [
            "Processed sentence for image 1759454.\n",
            "Processed sentence for image 74074.\n",
            "Processed sentence for image 2127760.\n"
          ]
        },
        {
          "output_type": "stream",
          "name": "stderr",
          "text": [
            " 18%|█▊        | 739/4000 [02:07<04:42, 11.54it/s]"
          ]
        },
        {
          "output_type": "stream",
          "name": "stdout",
          "text": [
            "Processed sentence for image 73134.\n",
            "Processed sentence for image 71453.\n",
            "Processed sentence for image 12628.\n"
          ]
        },
        {
          "output_type": "stream",
          "name": "stderr",
          "text": [
            "\r 19%|█▊        | 741/4000 [02:08<04:21, 12.46it/s]"
          ]
        },
        {
          "output_type": "stream",
          "name": "stdout",
          "text": [
            "Processed sentence for image 1035303.\n",
            "Processed sentence for image 463995.\n",
            "Processed sentence for image 715610.\n",
            "Processed sentence for image 1787734.\n"
          ]
        },
        {
          "output_type": "stream",
          "name": "stderr",
          "text": [
            " 19%|█▊        | 746/4000 [02:08<03:50, 14.10it/s]"
          ]
        },
        {
          "output_type": "stream",
          "name": "stdout",
          "text": [
            "Processed sentence for image 27823.\n",
            "Processed sentence for image 118742.\n",
            "Processed sentence for image 62573.\n"
          ]
        },
        {
          "output_type": "stream",
          "name": "stderr",
          "text": [
            "\r 19%|█▊        | 748/4000 [02:08<03:47, 14.32it/s]"
          ]
        },
        {
          "output_type": "stream",
          "name": "stdout",
          "text": [
            "Processed sentence for image 544094.\n",
            "Processed sentence for image 94407.\n",
            "Processed sentence for image 1018601.\n"
          ]
        },
        {
          "output_type": "stream",
          "name": "stderr",
          "text": [
            "\r 19%|█▉        | 750/4000 [02:08<03:58, 13.64it/s]"
          ]
        },
        {
          "output_type": "stream",
          "name": "stdout",
          "text": [
            "Processed sentence for image 1106693.\n",
            "Processed sentence for image 15240.\n"
          ]
        },
        {
          "output_type": "stream",
          "name": "stderr",
          "text": [
            " 19%|█▉        | 754/4000 [02:09<04:25, 12.24it/s]"
          ]
        },
        {
          "output_type": "stream",
          "name": "stdout",
          "text": [
            "Processed sentence for image 585055.\n",
            "Processed sentence for image 722635.\n",
            "Processed sentence for image 1062763.\n"
          ]
        },
        {
          "output_type": "stream",
          "name": "stderr",
          "text": [
            " 19%|█▉        | 758/4000 [02:09<03:48, 14.17it/s]"
          ]
        },
        {
          "output_type": "stream",
          "name": "stdout",
          "text": [
            "Processed sentence for image 125027.\n",
            "Processed sentence for image 1301432.\n",
            "Processed sentence for image 1114704.\n",
            "Processed sentence for image 1752571.\n"
          ]
        },
        {
          "output_type": "stream",
          "name": "stderr",
          "text": [
            " 19%|█▉        | 762/4000 [02:09<03:35, 15.03it/s]"
          ]
        },
        {
          "output_type": "stream",
          "name": "stdout",
          "text": [
            "Processed sentence for image 1291956.\n",
            "Processed sentence for image 8285.\n",
            "Processed sentence for image 153888.\n",
            "Processed sentence for image 1355398.\n"
          ]
        },
        {
          "output_type": "stream",
          "name": "stderr",
          "text": [
            "\r 19%|█▉        | 764/4000 [02:09<03:41, 14.59it/s]"
          ]
        },
        {
          "output_type": "stream",
          "name": "stdout",
          "text": [
            "Processed sentence for image 971712.\n",
            "Processed sentence for image 1132709.\n",
            "Processed sentence for image 296962.\n"
          ]
        },
        {
          "output_type": "stream",
          "name": "stderr",
          "text": [
            " 19%|█▉        | 768/4000 [02:09<03:49, 14.11it/s]"
          ]
        },
        {
          "output_type": "stream",
          "name": "stdout",
          "text": [
            "Processed sentence for image 1796104.\n",
            "Processed sentence for image 30354.\n",
            "Processed sentence for image 492949.\n"
          ]
        },
        {
          "output_type": "stream",
          "name": "stderr",
          "text": [
            " 19%|█▉        | 772/4000 [02:10<03:43, 14.43it/s]"
          ]
        },
        {
          "output_type": "stream",
          "name": "stdout",
          "text": [
            "Processed sentence for image 865877.\n",
            "Processed sentence for image 120316.\n",
            "Processed sentence for image 717807.\n",
            "Processed sentence for image 478434.\n"
          ]
        },
        {
          "output_type": "stream",
          "name": "stderr",
          "text": [
            "\r 19%|█▉        | 774/4000 [02:10<03:42, 14.47it/s]"
          ]
        },
        {
          "output_type": "stream",
          "name": "stdout",
          "text": [
            "Processed sentence for image 35603.\n",
            "Processed sentence for image 440621.\n",
            "Processed sentence for image 62720.\n"
          ]
        },
        {
          "output_type": "stream",
          "name": "stderr",
          "text": [
            "\r 19%|█▉        | 776/4000 [02:10<04:03, 13.24it/s]"
          ]
        },
        {
          "output_type": "stream",
          "name": "stdout",
          "text": [
            "Processed sentence for image 1005869.\n",
            "Processed sentence for image 715543.\n"
          ]
        },
        {
          "output_type": "stream",
          "name": "stderr",
          "text": [
            " 20%|█▉        | 780/4000 [02:10<04:09, 12.92it/s]"
          ]
        },
        {
          "output_type": "stream",
          "name": "stdout",
          "text": [
            "Processed sentence for image 189641.\n",
            "Processed sentence for image 1406677.\n",
            "Processed sentence for image 93760.\n"
          ]
        },
        {
          "output_type": "stream",
          "name": "stderr",
          "text": [
            "\r 20%|█▉        | 782/4000 [02:11<04:19, 12.40it/s]"
          ]
        },
        {
          "output_type": "stream",
          "name": "stdout",
          "text": [
            "Processed sentence for image 5934.\n",
            "Processed sentence for image 1065405.\n",
            "Processed sentence for image 15282.\n"
          ]
        },
        {
          "output_type": "stream",
          "name": "stderr",
          "text": [
            " 20%|█▉        | 786/4000 [02:11<04:27, 12.02it/s]"
          ]
        },
        {
          "output_type": "stream",
          "name": "stdout",
          "text": [
            "Processed sentence for image 463916.\n",
            "Processed sentence for image 63304.\n",
            "Processed sentence for image 1127187.\n"
          ]
        },
        {
          "output_type": "stream",
          "name": "stderr",
          "text": [
            "\r 20%|█▉        | 788/4000 [02:11<04:32, 11.77it/s]"
          ]
        },
        {
          "output_type": "stream",
          "name": "stdout",
          "text": [
            "Processed sentence for image 1015763.\n",
            "Processed sentence for image 1476103.\n"
          ]
        },
        {
          "output_type": "stream",
          "name": "stderr",
          "text": [
            "\r 20%|█▉        | 790/4000 [02:11<05:12, 10.27it/s]"
          ]
        },
        {
          "output_type": "stream",
          "name": "stdout",
          "text": [
            "Processed sentence for image 117833.\n",
            "Processed sentence for image 1057581.\n"
          ]
        },
        {
          "output_type": "stream",
          "name": "stderr",
          "text": [
            "\r 20%|█▉        | 792/4000 [02:12<06:23,  8.37it/s]"
          ]
        },
        {
          "output_type": "stream",
          "name": "stdout",
          "text": [
            "Processed sentence for image 117858.\n",
            "Processed sentence for image 6003.\n"
          ]
        },
        {
          "output_type": "stream",
          "name": "stderr",
          "text": [
            " 20%|█▉        | 794/4000 [02:12<07:09,  7.46it/s]"
          ]
        },
        {
          "output_type": "stream",
          "name": "stdout",
          "text": [
            "Processed sentence for image 562251.\n",
            "Processed sentence for image 121739.\n"
          ]
        },
        {
          "output_type": "stream",
          "name": "stderr",
          "text": [
            "\r 20%|█▉        | 795/4000 [02:12<08:36,  6.21it/s]"
          ]
        },
        {
          "output_type": "stream",
          "name": "stdout",
          "text": [
            "Processed sentence for image 67345.\n",
            "Processed sentence for image 1777259."
          ]
        },
        {
          "output_type": "stream",
          "name": "stderr",
          "text": [
            "\r 20%|█▉        | 796/4000 [02:12<09:08,  5.84it/s]"
          ]
        },
        {
          "output_type": "stream",
          "name": "stdout",
          "text": [
            "\n",
            "Processed sentence for image 139004.\n"
          ]
        },
        {
          "output_type": "stream",
          "name": "stderr",
          "text": [
            " 20%|██        | 800/4000 [02:13<05:58,  8.92it/s]"
          ]
        },
        {
          "output_type": "stream",
          "name": "stdout",
          "text": [
            "Processed sentence for image 29296.\n",
            "Processed sentence for image 1758645.\n",
            "Processed sentence for image 538758.\n"
          ]
        },
        {
          "output_type": "stream",
          "name": "stderr",
          "text": [
            "\r 20%|██        | 802/4000 [02:13<06:15,  8.51it/s]"
          ]
        },
        {
          "output_type": "stream",
          "name": "stdout",
          "text": [
            "Processed sentence for image 67485.\n",
            "Processed sentence for image 1327221.\n"
          ]
        },
        {
          "output_type": "stream",
          "name": "stderr",
          "text": [
            "\r 20%|██        | 803/4000 [02:13<06:07,  8.69it/s]"
          ]
        },
        {
          "output_type": "stream",
          "name": "stdout",
          "text": [
            "Processed sentence for image 956850.\n",
            "Processed sentence for image 1687232.\n"
          ]
        },
        {
          "output_type": "stream",
          "name": "stderr",
          "text": [
            " 20%|██        | 806/4000 [02:14<06:46,  7.86it/s]"
          ]
        },
        {
          "output_type": "stream",
          "name": "stdout",
          "text": [
            "Processed sentence for image 1042724.\n",
            "Processed sentence for image 64125.\n"
          ]
        },
        {
          "output_type": "stream",
          "name": "stderr",
          "text": [
            " 20%|██        | 808/4000 [02:14<08:28,  6.28it/s]"
          ]
        },
        {
          "output_type": "stream",
          "name": "stdout",
          "text": [
            "Processed sentence for image 1751828.\n",
            "Processed sentence for image 1353158.\n"
          ]
        },
        {
          "output_type": "stream",
          "name": "stderr",
          "text": [
            " 20%|██        | 810/4000 [02:14<08:16,  6.43it/s]"
          ]
        },
        {
          "output_type": "stream",
          "name": "stdout",
          "text": [
            "Processed sentence for image 631188.\n",
            "Processed sentence for image 1355190.\n"
          ]
        },
        {
          "output_type": "stream",
          "name": "stderr",
          "text": [
            "\r 20%|██        | 811/4000 [02:15<09:39,  5.50it/s]"
          ]
        },
        {
          "output_type": "stream",
          "name": "stdout",
          "text": [
            "Processed sentence for image 1022832.\n"
          ]
        },
        {
          "output_type": "stream",
          "name": "stderr",
          "text": [
            " 20%|██        | 813/4000 [02:15<09:32,  5.57it/s]"
          ]
        },
        {
          "output_type": "stream",
          "name": "stdout",
          "text": [
            "Processed sentence for image 72909.\n",
            "Processed sentence for image 116607.\n"
          ]
        },
        {
          "output_type": "stream",
          "name": "stderr",
          "text": [
            " 20%|██        | 816/4000 [02:15<06:59,  7.59it/s]"
          ]
        },
        {
          "output_type": "stream",
          "name": "stdout",
          "text": [
            "Processed sentence for image 1078506.\n",
            "Processed sentence for image 94662.\n",
            "Processed sentence for image 1106529.\n"
          ]
        },
        {
          "output_type": "stream",
          "name": "stderr",
          "text": [
            " 20%|██        | 819/4000 [02:15<05:45,  9.21it/s]"
          ]
        },
        {
          "output_type": "stream",
          "name": "stdout",
          "text": [
            "Processed sentence for image 317038.\n",
            "Processed sentence for image 1992612.\n",
            "Processed sentence for image 115870.\n"
          ]
        },
        {
          "output_type": "stream",
          "name": "stderr",
          "text": [
            " 21%|██        | 821/4000 [02:16<06:20,  8.36it/s]"
          ]
        },
        {
          "output_type": "stream",
          "name": "stdout",
          "text": [
            "Processed sentence for image 616909.\n",
            "Processed sentence for image 681877.\n"
          ]
        },
        {
          "output_type": "stream",
          "name": "stderr",
          "text": [
            " 21%|██        | 824/4000 [02:16<05:35,  9.47it/s]"
          ]
        },
        {
          "output_type": "stream",
          "name": "stdout",
          "text": [
            "Processed sentence for image 517356.\n",
            "Processed sentence for image 525824.\n",
            "Processed sentence for image 1815604.\n"
          ]
        },
        {
          "output_type": "stream",
          "name": "stderr",
          "text": [
            "\r 21%|██        | 826/4000 [02:16<05:03, 10.46it/s]"
          ]
        },
        {
          "output_type": "stream",
          "name": "stdout",
          "text": [
            "Processed sentence for image 687741.\n",
            "Processed sentence for image 64724.\n",
            "Processed sentence for image 570555.\n"
          ]
        },
        {
          "output_type": "stream",
          "name": "stderr",
          "text": [
            " 21%|██        | 830/4000 [02:17<04:45, 11.09it/s]"
          ]
        },
        {
          "output_type": "stream",
          "name": "stdout",
          "text": [
            "Processed sentence for image 114964.\n",
            "Processed sentence for image 823760.\n",
            "Processed sentence for image 1084327.\n"
          ]
        },
        {
          "output_type": "stream",
          "name": "stderr",
          "text": [
            "\r 21%|██        | 832/4000 [02:17<05:03, 10.43it/s]"
          ]
        },
        {
          "output_type": "stream",
          "name": "stdout",
          "text": [
            "Processed sentence for image 1131808.\n",
            "Processed sentence for image 988113.\n",
            "Processed sentence for image 1306480.\n"
          ]
        },
        {
          "output_type": "stream",
          "name": "stderr",
          "text": [
            "\r 21%|██        | 834/4000 [02:17<04:47, 11.03it/s]"
          ]
        },
        {
          "output_type": "stream",
          "name": "stdout",
          "text": [
            "Processed sentence for image 917676.\n",
            "Processed sentence for image 28096.\n"
          ]
        },
        {
          "output_type": "stream",
          "name": "stderr",
          "text": [
            "\r 21%|██        | 836/4000 [02:17<05:20,  9.87it/s]"
          ]
        },
        {
          "output_type": "stream",
          "name": "stdout",
          "text": [
            "Processed sentence for image 915374.\n",
            "Processed sentence for image 490633.\n"
          ]
        },
        {
          "output_type": "stream",
          "name": "stderr",
          "text": [
            " 21%|██        | 840/4000 [02:18<05:20,  9.86it/s]"
          ]
        },
        {
          "output_type": "stream",
          "name": "stdout",
          "text": [
            "Processed sentence for image 13773.\n",
            "Processed sentence for image 356139.\n",
            "Processed sentence for image 346300.\n"
          ]
        },
        {
          "output_type": "stream",
          "name": "stderr",
          "text": [
            "\r 21%|██        | 842/4000 [02:18<05:31,  9.53it/s]"
          ]
        },
        {
          "output_type": "stream",
          "name": "stdout",
          "text": [
            "Processed sentence for image 582113.\n",
            "Processed sentence for image 92990.\n"
          ]
        },
        {
          "output_type": "stream",
          "name": "stderr",
          "text": [
            " 21%|██        | 845/4000 [02:18<05:22,  9.78it/s]"
          ]
        },
        {
          "output_type": "stream",
          "name": "stdout",
          "text": [
            "Processed sentence for image 26937.\n",
            "Processed sentence for image 479513.\n",
            "Processed sentence for image 1042755.\n"
          ]
        },
        {
          "output_type": "stream",
          "name": "stderr",
          "text": [
            " 21%|██        | 848/4000 [02:18<05:27,  9.63it/s]"
          ]
        },
        {
          "output_type": "stream",
          "name": "stdout",
          "text": [
            "Processed sentence for image 1126892.\n",
            "Processed sentence for image 113568.\n",
            "Processed sentence for image 283090.\n"
          ]
        },
        {
          "output_type": "stream",
          "name": "stderr",
          "text": [
            "\r 21%|██▏       | 850/4000 [02:19<05:10, 10.13it/s]"
          ]
        },
        {
          "output_type": "stream",
          "name": "stdout",
          "text": [
            "Processed sentence for image 26880.\n",
            "Processed sentence for image 71339.\n"
          ]
        },
        {
          "output_type": "stream",
          "name": "stderr",
          "text": [
            "\r 21%|██▏       | 852/4000 [02:19<05:47,  9.05it/s]"
          ]
        },
        {
          "output_type": "stream",
          "name": "stdout",
          "text": [
            "Processed sentence for image 63768.\n",
            "Processed sentence for image 1081439.\n"
          ]
        },
        {
          "output_type": "stream",
          "name": "stderr",
          "text": [
            " 21%|██▏       | 854/4000 [02:19<06:39,  7.88it/s]"
          ]
        },
        {
          "output_type": "stream",
          "name": "stdout",
          "text": [
            "Processed sentence for image 12852.\n",
            "Processed sentence for image 66073.\n"
          ]
        },
        {
          "output_type": "stream",
          "name": "stderr",
          "text": [
            " 21%|██▏       | 856/4000 [02:19<06:38,  7.90it/s]"
          ]
        },
        {
          "output_type": "stream",
          "name": "stdout",
          "text": [
            "Processed sentence for image 1826877.\n",
            "Processed sentence for image 1025411.\n"
          ]
        },
        {
          "output_type": "stream",
          "name": "stderr",
          "text": [
            " 21%|██▏       | 858/4000 [02:20<06:23,  8.20it/s]"
          ]
        },
        {
          "output_type": "stream",
          "name": "stdout",
          "text": [
            "Processed sentence for image 1134147.\n",
            "Processed sentence for image 442592.\n"
          ]
        },
        {
          "output_type": "stream",
          "name": "stderr",
          "text": [
            " 22%|██▏       | 860/4000 [02:20<06:56,  7.54it/s]"
          ]
        },
        {
          "output_type": "stream",
          "name": "stdout",
          "text": [
            "Processed sentence for image 157622.\n",
            "Processed sentence for image 14520.\n"
          ]
        },
        {
          "output_type": "stream",
          "name": "stderr",
          "text": [
            " 22%|██▏       | 862/4000 [02:20<06:53,  7.59it/s]"
          ]
        },
        {
          "output_type": "stream",
          "name": "stdout",
          "text": [
            "Processed sentence for image 519277.\n",
            "Processed sentence for image 516317.\n"
          ]
        },
        {
          "output_type": "stream",
          "name": "stderr",
          "text": [
            "\r 22%|██▏       | 864/4000 [02:20<05:44,  9.10it/s]"
          ]
        },
        {
          "output_type": "stream",
          "name": "stdout",
          "text": [
            "Processed sentence for image 34661.\n",
            "Processed sentence for image 1810173.\n",
            "Processed sentence for image 842113.\n",
            "Processed sentence for image 745706.\n"
          ]
        },
        {
          "output_type": "stream",
          "name": "stderr",
          "text": [
            " 22%|██▏       | 869/4000 [02:21<04:26, 11.76it/s]"
          ]
        },
        {
          "output_type": "stream",
          "name": "stdout",
          "text": [
            "Processed sentence for image 112167.\n",
            "Processed sentence for image 74182.\n",
            "Processed sentence for image 789893.\n"
          ]
        },
        {
          "output_type": "stream",
          "name": "stderr",
          "text": [
            "\r 22%|██▏       | 871/4000 [02:21<05:19,  9.80it/s]"
          ]
        },
        {
          "output_type": "stream",
          "name": "stdout",
          "text": [
            "Processed sentence for image 896331.\n",
            "Processed sentence for image 50620.\n"
          ]
        },
        {
          "output_type": "stream",
          "name": "stderr",
          "text": [
            "\r 22%|██▏       | 873/4000 [02:21<06:07,  8.51it/s]"
          ]
        },
        {
          "output_type": "stream",
          "name": "stdout",
          "text": [
            "Processed sentence for image 1703896.\n",
            "Processed sentence for image 74581.\n"
          ]
        },
        {
          "output_type": "stream",
          "name": "stderr",
          "text": [
            "\r 22%|██▏       | 875/4000 [02:21<05:21,  9.72it/s]"
          ]
        },
        {
          "output_type": "stream",
          "name": "stdout",
          "text": [
            "Processed sentence for image 538987.\n",
            "Processed sentence for image 364085.\n",
            "Processed sentence for image 138186.\n"
          ]
        },
        {
          "output_type": "stream",
          "name": "stderr",
          "text": [
            " 22%|██▏       | 879/4000 [02:22<05:05, 10.23it/s]"
          ]
        },
        {
          "output_type": "stream",
          "name": "stdout",
          "text": [
            "Processed sentence for image 70206.\n",
            "Processed sentence for image 371319.\n",
            "Processed sentence for image 735201.\n"
          ]
        },
        {
          "output_type": "stream",
          "name": "stderr",
          "text": [
            "\r 22%|██▏       | 881/4000 [02:22<05:20,  9.73it/s]"
          ]
        },
        {
          "output_type": "stream",
          "name": "stdout",
          "text": [
            "Processed sentence for image 46037.\n",
            "Processed sentence for image 502875.\n",
            "Processed sentence for image 1309918.\n"
          ]
        },
        {
          "output_type": "stream",
          "name": "stderr",
          "text": [
            "\r 22%|██▏       | 883/4000 [02:22<05:06, 10.16it/s]"
          ]
        },
        {
          "output_type": "stream",
          "name": "stdout",
          "text": [
            "Processed sentence for image 411349.\n",
            "Processed sentence for image 71728.\n"
          ]
        },
        {
          "output_type": "stream",
          "name": "stderr",
          "text": [
            " 22%|██▏       | 887/4000 [02:23<04:44, 10.95it/s]"
          ]
        },
        {
          "output_type": "stream",
          "name": "stdout",
          "text": [
            "Processed sentence for image 1131367.\n",
            "Processed sentence for image 13541.\n",
            "Processed sentence for image 37378.\n"
          ]
        },
        {
          "output_type": "stream",
          "name": "stderr",
          "text": [
            "\r 22%|██▏       | 889/4000 [02:23<04:54, 10.57it/s]"
          ]
        },
        {
          "output_type": "stream",
          "name": "stdout",
          "text": [
            "Processed sentence for image 810425.\n",
            "Processed sentence for image 302693.\n"
          ]
        },
        {
          "output_type": "stream",
          "name": "stderr",
          "text": [
            "\r 22%|██▏       | 891/4000 [02:23<04:39, 11.14it/s]"
          ]
        },
        {
          "output_type": "stream",
          "name": "stdout",
          "text": [
            "Processed sentence for image 799718.\n",
            "Processed sentence for image 31922.\n"
          ]
        },
        {
          "output_type": "stream",
          "name": "stderr",
          "text": [
            "\r 22%|██▏       | 893/4000 [02:23<05:59,  8.64it/s]"
          ]
        },
        {
          "output_type": "stream",
          "name": "stdout",
          "text": [
            "Processed sentence for image 161569.\n",
            "Processed sentence for image 225346.\n"
          ]
        },
        {
          "output_type": "stream",
          "name": "stderr",
          "text": [
            " 22%|██▏       | 897/4000 [02:24<04:34, 11.29it/s]"
          ]
        },
        {
          "output_type": "stream",
          "name": "stdout",
          "text": [
            "Processed sentence for image 722216.\n",
            "Processed sentence for image 1753440.\n",
            "Processed sentence for image 670370.\n",
            "Processed sentence for image 841870.\n"
          ]
        },
        {
          "output_type": "stream",
          "name": "stderr",
          "text": [
            "\r 22%|██▎       | 900/4000 [02:24<03:50, 13.44it/s]"
          ]
        },
        {
          "output_type": "stream",
          "name": "stdout",
          "text": [
            "Processed sentence for image 71734.\n",
            "Processed sentence for image 1952638.\n",
            "Processed sentence for image 1375566.\n",
            "Processed sentence for image 1945937.\n"
          ]
        },
        {
          "output_type": "stream",
          "name": "stderr",
          "text": [
            " 23%|██▎       | 904/4000 [02:24<03:47, 13.63it/s]"
          ]
        },
        {
          "output_type": "stream",
          "name": "stdout",
          "text": [
            "Processed sentence for image 502708.\n",
            "Processed sentence for image 696430.\n",
            "Processed sentence for image 41862.\n"
          ]
        },
        {
          "output_type": "stream",
          "name": "stderr",
          "text": [
            "\r 23%|██▎       | 906/4000 [02:24<04:03, 12.73it/s]"
          ]
        },
        {
          "output_type": "stream",
          "name": "stdout",
          "text": [
            "Processed sentence for image 167522.\n",
            "Processed sentence for image 48699.\n",
            "Processed sentence for image 1953172.\n"
          ]
        },
        {
          "output_type": "stream",
          "name": "stderr",
          "text": [
            " 23%|██▎       | 910/4000 [02:24<03:47, 13.59it/s]"
          ]
        },
        {
          "output_type": "stream",
          "name": "stdout",
          "text": [
            "Processed sentence for image 109837.\n",
            "Processed sentence for image 890431.\n",
            "Processed sentence for image 1500439.\n",
            "Processed sentence for image 328091.\n"
          ]
        },
        {
          "output_type": "stream",
          "name": "stderr",
          "text": [
            " 23%|██▎       | 914/4000 [02:25<03:34, 14.40it/s]"
          ]
        },
        {
          "output_type": "stream",
          "name": "stdout",
          "text": [
            "Processed sentence for image 70862.\n",
            "Processed sentence for image 196723.\n",
            "Processed sentence for image 110561.\n",
            "Processed sentence for image 33024.\n"
          ]
        },
        {
          "output_type": "stream",
          "name": "stderr",
          "text": [
            " 23%|██▎       | 918/4000 [02:25<03:30, 14.65it/s]"
          ]
        },
        {
          "output_type": "stream",
          "name": "stdout",
          "text": [
            "Processed sentence for image 74717.\n",
            "Processed sentence for image 36852.\n",
            "Processed sentence for image 108966.\n"
          ]
        },
        {
          "output_type": "stream",
          "name": "stderr",
          "text": [
            "\r 23%|██▎       | 920/4000 [02:25<04:17, 11.98it/s]"
          ]
        },
        {
          "output_type": "stream",
          "name": "stdout",
          "text": [
            "Processed sentence for image 1375805.\n",
            "Processed sentence for image 94123.\n"
          ]
        },
        {
          "output_type": "stream",
          "name": "stderr",
          "text": [
            "\r 23%|██▎       | 922/4000 [02:25<04:26, 11.54it/s]"
          ]
        },
        {
          "output_type": "stream",
          "name": "stdout",
          "text": [
            "Processed sentence for image 552918.\n",
            "Processed sentence for image 15744.\n",
            "Processed sentence for image 417942.\n"
          ]
        },
        {
          "output_type": "stream",
          "name": "stderr",
          "text": [
            "\r 23%|██▎       | 924/4000 [02:26<04:12, 12.19it/s]"
          ]
        },
        {
          "output_type": "stream",
          "name": "stdout",
          "text": [
            "Processed sentence for image 9077.\n",
            "Processed sentence for image 31137.\n"
          ]
        },
        {
          "output_type": "stream",
          "name": "stderr",
          "text": [
            " 23%|██▎       | 928/4000 [02:26<04:31, 11.31it/s]"
          ]
        },
        {
          "output_type": "stream",
          "name": "stdout",
          "text": [
            "Processed sentence for image 309055.\n",
            "Processed sentence for image 1111710.\n",
            "Processed sentence for image 419401.\n"
          ]
        },
        {
          "output_type": "stream",
          "name": "stderr",
          "text": [
            "\r 23%|██▎       | 930/4000 [02:26<04:53, 10.47it/s]"
          ]
        },
        {
          "output_type": "stream",
          "name": "stdout",
          "text": [
            "Processed sentence for image 1029520.\n",
            "Processed sentence for image 1331438.\n"
          ]
        },
        {
          "output_type": "stream",
          "name": "stderr",
          "text": [
            "\r 23%|██▎       | 932/4000 [02:26<04:40, 10.94it/s]"
          ]
        },
        {
          "output_type": "stream",
          "name": "stdout",
          "text": [
            "Processed sentence for image 45911.\n",
            "Processed sentence for image 116895.\n",
            "Processed sentence for image 94085.\n"
          ]
        },
        {
          "output_type": "stream",
          "name": "stderr",
          "text": [
            " 23%|██▎       | 936/4000 [02:27<04:32, 11.24it/s]"
          ]
        },
        {
          "output_type": "stream",
          "name": "stdout",
          "text": [
            "Processed sentence for image 886265.\n",
            "Processed sentence for image 116559.\n",
            "Processed sentence for image 731776.\n"
          ]
        },
        {
          "output_type": "stream",
          "name": "stderr",
          "text": [
            "\r 23%|██▎       | 938/4000 [02:27<04:45, 10.71it/s]"
          ]
        },
        {
          "output_type": "stream",
          "name": "stdout",
          "text": [
            "Processed sentence for image 116204.\n",
            "Processed sentence for image 1134211.\n",
            "Processed sentence for image 506611.\n"
          ]
        },
        {
          "output_type": "stream",
          "name": "stderr",
          "text": [
            " 24%|██▎       | 942/4000 [02:27<04:26, 11.48it/s]"
          ]
        },
        {
          "output_type": "stream",
          "name": "stdout",
          "text": [
            "Processed sentence for image 64014.\n",
            "Processed sentence for image 1798390.\n",
            "Processed sentence for image 704373.\n",
            "Processed sentence for image 71044.\n"
          ]
        },
        {
          "output_type": "stream",
          "name": "stderr",
          "text": [
            " 24%|██▎       | 946/4000 [02:27<03:39, 13.89it/s]"
          ]
        },
        {
          "output_type": "stream",
          "name": "stdout",
          "text": [
            "Processed sentence for image 70495.\n",
            "Processed sentence for image 693731.\n",
            "Processed sentence for image 736406.\n",
            "Processed sentence for image 424486.\n"
          ]
        },
        {
          "output_type": "stream",
          "name": "stderr",
          "text": [
            " 24%|██▍       | 950/4000 [02:28<03:08, 16.19it/s]"
          ]
        },
        {
          "output_type": "stream",
          "name": "stdout",
          "text": [
            "Processed sentence for image 73075.\n",
            "Processed sentence for image 423068.\n",
            "Processed sentence for image 706270.\n",
            "Processed sentence for image 1118463.\n"
          ]
        },
        {
          "output_type": "stream",
          "name": "stderr",
          "text": [
            " 24%|██▍       | 954/4000 [02:28<03:25, 14.80it/s]"
          ]
        },
        {
          "output_type": "stream",
          "name": "stdout",
          "text": [
            "Processed sentence for image 73051.\n",
            "Processed sentence for image 128664.\n",
            "Processed sentence for image 72042.\n"
          ]
        },
        {
          "output_type": "stream",
          "name": "stderr",
          "text": [
            "\r 24%|██▍       | 956/4000 [02:28<03:47, 13.38it/s]"
          ]
        },
        {
          "output_type": "stream",
          "name": "stdout",
          "text": [
            "Processed sentence for image 1063599.\n",
            "Processed sentence for image 91839.\n"
          ]
        },
        {
          "output_type": "stream",
          "name": "stderr",
          "text": [
            "\r 24%|██▍       | 958/4000 [02:28<04:42, 10.77it/s]"
          ]
        },
        {
          "output_type": "stream",
          "name": "stdout",
          "text": [
            "Processed sentence for image 698417.\n",
            "Processed sentence for image 67792.\n",
            "Processed sentence for image 74415.\n"
          ]
        },
        {
          "output_type": "stream",
          "name": "stderr",
          "text": [
            " 24%|██▍       | 962/4000 [02:29<04:15, 11.88it/s]"
          ]
        },
        {
          "output_type": "stream",
          "name": "stdout",
          "text": [
            "Processed sentence for image 1761903.\n",
            "Processed sentence for image 322051.\n",
            "Processed sentence for image 36889.\n"
          ]
        },
        {
          "output_type": "stream",
          "name": "stderr",
          "text": [
            " 24%|██▍       | 966/4000 [02:29<03:46, 13.40it/s]"
          ]
        },
        {
          "output_type": "stream",
          "name": "stdout",
          "text": [
            "Processed sentence for image 115724.\n",
            "Processed sentence for image 827999.\n",
            "Processed sentence for image 41892.\n",
            "Processed sentence for image 1032634.\n"
          ]
        },
        {
          "output_type": "stream",
          "name": "stderr",
          "text": [
            "\r 24%|██▍       | 968/4000 [02:29<03:52, 13.02it/s]"
          ]
        },
        {
          "output_type": "stream",
          "name": "stdout",
          "text": [
            "Processed sentence for image 33791.\n",
            "Processed sentence for image 135486.\n",
            "Processed sentence for image 464675.\n"
          ]
        },
        {
          "output_type": "stream",
          "name": "stderr",
          "text": [
            " 24%|██▍       | 972/4000 [02:29<03:46, 13.34it/s]"
          ]
        },
        {
          "output_type": "stream",
          "name": "stdout",
          "text": [
            "Processed sentence for image 523610.\n",
            "Processed sentence for image 546779.\n",
            "Processed sentence for image 1802199.\n"
          ]
        },
        {
          "output_type": "stream",
          "name": "stderr",
          "text": [
            " 24%|██▍       | 976/4000 [02:30<03:38, 13.81it/s]"
          ]
        },
        {
          "output_type": "stream",
          "name": "stdout",
          "text": [
            "Processed sentence for image 517204.\n",
            "Processed sentence for image 635067.\n",
            "Processed sentence for image 119039.\n",
            "Processed sentence for image 94307.\n"
          ]
        },
        {
          "output_type": "stream",
          "name": "stderr",
          "text": [
            "\r 24%|██▍       | 978/4000 [02:30<03:44, 13.45it/s]"
          ]
        },
        {
          "output_type": "stream",
          "name": "stdout",
          "text": [
            "Processed sentence for image 479236.\n",
            "Processed sentence for image 42101.\n",
            "Processed sentence for image 139111.\n"
          ]
        },
        {
          "output_type": "stream",
          "name": "stderr",
          "text": [
            " 25%|██▍       | 982/4000 [02:30<03:37, 13.85it/s]"
          ]
        },
        {
          "output_type": "stream",
          "name": "stdout",
          "text": [
            "Processed sentence for image 800985.\n",
            "Processed sentence for image 1122272.\n",
            "Processed sentence for image 1860693.\n"
          ]
        },
        {
          "output_type": "stream",
          "name": "stderr",
          "text": [
            "\r 25%|██▍       | 984/4000 [02:30<03:44, 13.41it/s]"
          ]
        },
        {
          "output_type": "stream",
          "name": "stdout",
          "text": [
            "Processed sentence for image 34919.\n",
            "Processed sentence for image 822293.\n",
            "Processed sentence for image 67343.\n"
          ]
        },
        {
          "output_type": "stream",
          "name": "stderr",
          "text": [
            " 25%|██▍       | 988/4000 [02:31<03:35, 13.96it/s]"
          ]
        },
        {
          "output_type": "stream",
          "name": "stdout",
          "text": [
            "Processed sentence for image 65613.\n",
            "Processed sentence for image 41724.\n",
            "Processed sentence for image 1404608.\n"
          ]
        },
        {
          "output_type": "stream",
          "name": "stderr",
          "text": [
            "\r 25%|██▍       | 990/4000 [02:31<03:47, 13.21it/s]"
          ]
        },
        {
          "output_type": "stream",
          "name": "stdout",
          "text": [
            "Processed sentence for image 73071.\n",
            "Processed sentence for image 45691.\n",
            "Processed sentence for image 14140.\n"
          ]
        },
        {
          "output_type": "stream",
          "name": "stderr",
          "text": [
            " 25%|██▍       | 994/4000 [02:31<03:38, 13.76it/s]"
          ]
        },
        {
          "output_type": "stream",
          "name": "stdout",
          "text": [
            "Processed sentence for image 1818006.\n",
            "Processed sentence for image 73246.\n",
            "Processed sentence for image 20929.\n",
            "Processed sentence for image 1061453.\n"
          ]
        },
        {
          "output_type": "stream",
          "name": "stderr",
          "text": [
            " 25%|██▍       | 998/4000 [02:31<03:49, 13.08it/s]"
          ]
        },
        {
          "output_type": "stream",
          "name": "stdout",
          "text": [
            "Processed sentence for image 49673.\n",
            "Processed sentence for image 1132151.\n",
            "Processed sentence for image 734707.\n"
          ]
        },
        {
          "output_type": "stream",
          "name": "stderr",
          "text": [
            "\r 25%|██▌       | 1000/4000 [02:32<03:54, 12.81it/s]"
          ]
        },
        {
          "output_type": "stream",
          "name": "stdout",
          "text": [
            "Processed sentence for image 71483.\n",
            "Processed sentence for image 46284.\n",
            "Processed sentence for image 1132698.\n"
          ]
        },
        {
          "output_type": "stream",
          "name": "stderr",
          "text": [
            " 25%|██▌       | 1004/4000 [02:32<04:19, 11.53it/s]"
          ]
        },
        {
          "output_type": "stream",
          "name": "stdout",
          "text": [
            "Processed sentence for image 62723.\n",
            "Processed sentence for image 71939.\n",
            "Processed sentence for image 569584.\n"
          ]
        },
        {
          "output_type": "stream",
          "name": "stderr",
          "text": [
            "\r 25%|██▌       | 1006/4000 [02:32<03:56, 12.66it/s]"
          ]
        },
        {
          "output_type": "stream",
          "name": "stdout",
          "text": [
            "Processed sentence for image 399873.\n",
            "Processed sentence for image 1062932.\n",
            "Processed sentence for image 704917.\n"
          ]
        },
        {
          "output_type": "stream",
          "name": "stderr",
          "text": [
            "\r 25%|██▌       | 1008/4000 [02:32<04:08, 12.06it/s]"
          ]
        },
        {
          "output_type": "stream",
          "name": "stdout",
          "text": [
            "Processed sentence for image 708906.\n",
            "Processed sentence for image 73036.\n"
          ]
        },
        {
          "output_type": "stream",
          "name": "stderr",
          "text": [
            " 25%|██▌       | 1012/4000 [02:33<04:16, 11.66it/s]"
          ]
        },
        {
          "output_type": "stream",
          "name": "stdout",
          "text": [
            "Processed sentence for image 342378.\n",
            "Processed sentence for image 478547.\n",
            "Processed sentence for image 90799.\n",
            "Processed sentence for image 2130095.\n"
          ]
        },
        {
          "output_type": "stream",
          "name": "stderr",
          "text": [
            " 25%|██▌       | 1016/4000 [02:33<04:23, 11.33it/s]"
          ]
        },
        {
          "output_type": "stream",
          "name": "stdout",
          "text": [
            "Processed sentence for image 659252.\n",
            "Processed sentence for image 113913.\n",
            "Processed sentence for image 6202.\n"
          ]
        },
        {
          "output_type": "stream",
          "name": "stderr",
          "text": [
            "\r 25%|██▌       | 1018/4000 [02:33<04:31, 10.97it/s]"
          ]
        },
        {
          "output_type": "stream",
          "name": "stdout",
          "text": [
            "Processed sentence for image 422766.\n",
            "Processed sentence for image 90584.\n"
          ]
        },
        {
          "output_type": "stream",
          "name": "stderr",
          "text": [
            "\r 26%|██▌       | 1020/4000 [02:34<05:44,  8.66it/s]"
          ]
        },
        {
          "output_type": "stream",
          "name": "stdout",
          "text": [
            "Processed sentence for image 71902.\n",
            "Processed sentence for image 136920.\n",
            "Processed sentence for image 730046.\n"
          ]
        },
        {
          "output_type": "stream",
          "name": "stderr",
          "text": [
            "\r 26%|██▌       | 1022/4000 [02:34<05:18,  9.34it/s]"
          ]
        },
        {
          "output_type": "stream",
          "name": "stdout",
          "text": [
            "Processed sentence for image 13960.\n"
          ]
        },
        {
          "output_type": "stream",
          "name": "stderr",
          "text": [
            "\r 26%|██▌       | 1024/4000 [02:34<06:23,  7.75it/s]"
          ]
        },
        {
          "output_type": "stream",
          "name": "stdout",
          "text": [
            "Processed sentence for image 65724.\n",
            "Processed sentence for image 1022845.\n"
          ]
        },
        {
          "output_type": "stream",
          "name": "stderr",
          "text": [
            "\r 26%|██▌       | 1025/4000 [02:34<06:22,  7.78it/s]"
          ]
        },
        {
          "output_type": "stream",
          "name": "stdout",
          "text": [
            "Processed sentence for image 15288.\n"
          ]
        },
        {
          "output_type": "stream",
          "name": "stderr",
          "text": [
            " 26%|██▌       | 1027/4000 [02:35<08:16,  5.98it/s]"
          ]
        },
        {
          "output_type": "stream",
          "name": "stdout",
          "text": [
            "Processed sentence for image 8155.\n",
            "Processed sentence for image 705716.\n"
          ]
        },
        {
          "output_type": "stream",
          "name": "stderr",
          "text": [
            " 26%|██▌       | 1029/4000 [02:35<07:49,  6.33it/s]"
          ]
        },
        {
          "output_type": "stream",
          "name": "stdout",
          "text": [
            "Processed sentence for image 13434.\n",
            "Processed sentence for image 952686.\n"
          ]
        },
        {
          "output_type": "stream",
          "name": "stderr",
          "text": [
            " 26%|██▌       | 1032/4000 [02:35<05:20,  9.27it/s]"
          ]
        },
        {
          "output_type": "stream",
          "name": "stdout",
          "text": [
            "Processed sentence for image 662973.\n",
            "Processed sentence for image 20173.\n",
            "Processed sentence for image 41189.\n"
          ]
        },
        {
          "output_type": "stream",
          "name": "stderr",
          "text": [
            "\r 26%|██▌       | 1034/4000 [02:35<05:21,  9.24it/s]"
          ]
        },
        {
          "output_type": "stream",
          "name": "stdout",
          "text": [
            "Processed sentence for image 70686.\n",
            "Processed sentence for image 136665.\n",
            "Processed sentence for image 71067.\n"
          ]
        },
        {
          "output_type": "stream",
          "name": "stderr",
          "text": [
            " 26%|██▌       | 1038/4000 [02:36<04:41, 10.52it/s]"
          ]
        },
        {
          "output_type": "stream",
          "name": "stdout",
          "text": [
            "Processed sentence for image 1395835.\n",
            "Processed sentence for image 136168.\n",
            "Processed sentence for image 62350.\n"
          ]
        },
        {
          "output_type": "stream",
          "name": "stderr",
          "text": [
            "\r 26%|██▌       | 1040/4000 [02:36<05:03,  9.76it/s]"
          ]
        },
        {
          "output_type": "stream",
          "name": "stdout",
          "text": [
            "Processed sentence for image 73792.\n",
            "Processed sentence for image 830810.\n"
          ]
        },
        {
          "output_type": "stream",
          "name": "stderr",
          "text": [
            "\r 26%|██▌       | 1042/4000 [02:36<05:47,  8.51it/s]"
          ]
        },
        {
          "output_type": "stream",
          "name": "stdout",
          "text": [
            "Processed sentence for image 773878.\n",
            "Processed sentence for image 633863.\n",
            "Processed sentence for image 599097.\n"
          ]
        },
        {
          "output_type": "stream",
          "name": "stderr",
          "text": [
            " 26%|██▌       | 1046/4000 [02:37<05:15,  9.35it/s]"
          ]
        },
        {
          "output_type": "stream",
          "name": "stdout",
          "text": [
            "Processed sentence for image 1295106.\n",
            "Processed sentence for image 942379.\n",
            "Processed sentence for image 1995426.\n"
          ]
        },
        {
          "output_type": "stream",
          "name": "stderr",
          "text": [
            "\r 26%|██▌       | 1047/4000 [02:37<05:14,  9.38it/s]"
          ]
        },
        {
          "output_type": "stream",
          "name": "stdout",
          "text": [
            "Processed sentence for image 586905.\n"
          ]
        },
        {
          "output_type": "stream",
          "name": "stderr",
          "text": [
            " 26%|██▌       | 1049/4000 [02:37<06:35,  7.46it/s]"
          ]
        },
        {
          "output_type": "stream",
          "name": "stdout",
          "text": [
            "Processed sentence for image 65670.\n",
            "Processed sentence for image 1056470.\n",
            "Processed sentence for image 71499.\n"
          ]
        },
        {
          "output_type": "stream",
          "name": "stderr",
          "text": [
            " 26%|██▋       | 1052/4000 [02:37<05:25,  9.07it/s]"
          ]
        },
        {
          "output_type": "stream",
          "name": "stdout",
          "text": [
            "Processed sentence for image 153736.\n",
            "Processed sentence for image 1044004.\n"
          ]
        },
        {
          "output_type": "stream",
          "name": "stderr",
          "text": [
            " 26%|██▋       | 1054/4000 [02:38<05:49,  8.43it/s]"
          ]
        },
        {
          "output_type": "stream",
          "name": "stdout",
          "text": [
            "Processed sentence for image 571539.\n",
            "Processed sentence for image 1102173.\n"
          ]
        },
        {
          "output_type": "stream",
          "name": "stderr",
          "text": [
            " 26%|██▋       | 1056/4000 [02:38<05:58,  8.22it/s]"
          ]
        },
        {
          "output_type": "stream",
          "name": "stdout",
          "text": [
            "Processed sentence for image 773547.\n",
            "Processed sentence for image 1091535.\n"
          ]
        },
        {
          "output_type": "stream",
          "name": "stderr",
          "text": [
            " 26%|██▋       | 1058/4000 [02:38<06:59,  7.02it/s]"
          ]
        },
        {
          "output_type": "stream",
          "name": "stdout",
          "text": [
            "Processed sentence for image 1813603.\n",
            "Processed sentence for image 548.\n"
          ]
        },
        {
          "output_type": "stream",
          "name": "stderr",
          "text": [
            " 26%|██▋       | 1060/4000 [02:39<07:48,  6.28it/s]"
          ]
        },
        {
          "output_type": "stream",
          "name": "stdout",
          "text": [
            "Processed sentence for image 113.\n",
            "Processed sentence for image 34108.\n"
          ]
        },
        {
          "output_type": "stream",
          "name": "stderr",
          "text": [
            " 27%|██▋       | 1062/4000 [02:39<07:40,  6.38it/s]"
          ]
        },
        {
          "output_type": "stream",
          "name": "stdout",
          "text": [
            "Processed sentence for image 62542.\n",
            "Processed sentence for image 697326.\n"
          ]
        },
        {
          "output_type": "stream",
          "name": "stderr",
          "text": [
            "\r 27%|██▋       | 1064/4000 [02:39<06:43,  7.28it/s]"
          ]
        },
        {
          "output_type": "stream",
          "name": "stdout",
          "text": [
            "Processed sentence for image 269713.\n",
            "Processed sentence for image 285461.\n"
          ]
        },
        {
          "output_type": "stream",
          "name": "stderr",
          "text": [
            "\r 27%|██▋       | 1066/4000 [02:39<06:37,  7.39it/s]"
          ]
        },
        {
          "output_type": "stream",
          "name": "stdout",
          "text": [
            "Processed sentence for image 2014074.\n",
            "Processed sentence for image 2076696.\n"
          ]
        },
        {
          "output_type": "stream",
          "name": "stderr",
          "text": [
            "\r 27%|██▋       | 1068/4000 [02:40<05:40,  8.60it/s]"
          ]
        },
        {
          "output_type": "stream",
          "name": "stdout",
          "text": [
            "Processed sentence for image 37454.\n",
            "Processed sentence for image 617127.\n"
          ]
        },
        {
          "output_type": "stream",
          "name": "stderr",
          "text": [
            " 27%|██▋       | 1071/4000 [02:40<05:19,  9.18it/s]"
          ]
        },
        {
          "output_type": "stream",
          "name": "stdout",
          "text": [
            "Processed sentence for image 93390.\n",
            "Processed sentence for image 1924901.\n",
            "Processed sentence for image 317317.\n"
          ]
        },
        {
          "output_type": "stream",
          "name": "stderr",
          "text": [
            "\r 27%|██▋       | 1073/4000 [02:40<05:06,  9.53it/s]"
          ]
        },
        {
          "output_type": "stream",
          "name": "stdout",
          "text": [
            "Processed sentence for image 1764161.\n",
            "Processed sentence for image 125364.\n"
          ]
        },
        {
          "output_type": "stream",
          "name": "stderr",
          "text": [
            " 27%|██▋       | 1075/4000 [02:41<07:14,  6.73it/s]"
          ]
        },
        {
          "output_type": "stream",
          "name": "stdout",
          "text": [
            "Processed sentence for image 8154.\n",
            "Processed sentence for image 1307501.\n"
          ]
        },
        {
          "output_type": "stream",
          "name": "stderr",
          "text": [
            "\r 27%|██▋       | 1077/4000 [02:41<06:10,  7.88it/s]"
          ]
        },
        {
          "output_type": "stream",
          "name": "stdout",
          "text": [
            "Processed sentence for image 630056.\n",
            "Processed sentence for image 688935.\n"
          ]
        },
        {
          "output_type": "stream",
          "name": "stderr",
          "text": [
            " 27%|██▋       | 1079/4000 [02:41<06:10,  7.89it/s]"
          ]
        },
        {
          "output_type": "stream",
          "name": "stdout",
          "text": [
            "Processed sentence for image 427.\n",
            "Processed sentence for image 255356.\n",
            "Processed sentence for image 1002711.\n"
          ]
        },
        {
          "output_type": "stream",
          "name": "stderr",
          "text": [
            " 27%|██▋       | 1083/4000 [02:41<04:52,  9.99it/s]"
          ]
        },
        {
          "output_type": "stream",
          "name": "stdout",
          "text": [
            "Processed sentence for image 526807.\n",
            "Processed sentence for image 93476.\n",
            "Processed sentence for image 24470.\n"
          ]
        },
        {
          "output_type": "stream",
          "name": "stderr",
          "text": [
            "\r 27%|██▋       | 1085/4000 [02:42<04:59,  9.72it/s]"
          ]
        },
        {
          "output_type": "stream",
          "name": "stdout",
          "text": [
            "Processed sentence for image 49936.\n",
            "Processed sentence for image 493194.\n"
          ]
        },
        {
          "output_type": "stream",
          "name": "stderr",
          "text": [
            " 27%|██▋       | 1087/4000 [02:42<06:11,  7.83it/s]"
          ]
        },
        {
          "output_type": "stream",
          "name": "stdout",
          "text": [
            "Processed sentence for image 45849.\n",
            "Processed sentence for image 649354.\n"
          ]
        },
        {
          "output_type": "stream",
          "name": "stderr",
          "text": [
            "\r 27%|██▋       | 1089/4000 [02:42<05:35,  8.68it/s]"
          ]
        },
        {
          "output_type": "stream",
          "name": "stdout",
          "text": [
            "Processed sentence for image 119851.\n",
            "Processed sentence for image 700458.\n"
          ]
        },
        {
          "output_type": "stream",
          "name": "stderr",
          "text": [
            "\r 27%|██▋       | 1090/4000 [02:42<05:53,  8.22it/s]"
          ]
        },
        {
          "output_type": "stream",
          "name": "stdout",
          "text": [
            "Processed sentence for image 534872.\n",
            "Processed sentence for image 743096.\n"
          ]
        },
        {
          "output_type": "stream",
          "name": "stderr",
          "text": [
            " 27%|██▋       | 1094/4000 [02:43<05:14,  9.25it/s]"
          ]
        },
        {
          "output_type": "stream",
          "name": "stdout",
          "text": [
            "Processed sentence for image 7333.\n",
            "Processed sentence for image 566894.\n",
            "Processed sentence for image 71082.\n"
          ]
        },
        {
          "output_type": "stream",
          "name": "stderr",
          "text": [
            "\r 27%|██▋       | 1096/4000 [02:43<04:21, 11.11it/s]"
          ]
        },
        {
          "output_type": "stream",
          "name": "stdout",
          "text": [
            "Processed sentence for image 14872.\n",
            "Processed sentence for image 1123150.\n",
            "Processed sentence for image 164471.\n"
          ]
        },
        {
          "output_type": "stream",
          "name": "stderr",
          "text": [
            " 28%|██▊       | 1100/4000 [02:43<04:05, 11.83it/s]"
          ]
        },
        {
          "output_type": "stream",
          "name": "stdout",
          "text": [
            "Processed sentence for image 64051.\n",
            "Processed sentence for image 33941.\n",
            "Processed sentence for image 29896.\n"
          ]
        },
        {
          "output_type": "stream",
          "name": "stderr",
          "text": [
            "\r 28%|██▊       | 1102/4000 [02:43<04:48, 10.06it/s]"
          ]
        },
        {
          "output_type": "stream",
          "name": "stdout",
          "text": [
            "Processed sentence for image 1761600.\n",
            "Processed sentence for image 565792.\n"
          ]
        },
        {
          "output_type": "stream",
          "name": "stderr",
          "text": [
            "\r 28%|██▊       | 1104/4000 [02:44<04:44, 10.17it/s]"
          ]
        },
        {
          "output_type": "stream",
          "name": "stdout",
          "text": [
            "Processed sentence for image 74977.\n",
            "Processed sentence for image 113320.\n",
            "Processed sentence for image 469191.\n"
          ]
        },
        {
          "output_type": "stream",
          "name": "stderr",
          "text": [
            " 28%|██▊       | 1108/4000 [02:44<04:53,  9.85it/s]"
          ]
        },
        {
          "output_type": "stream",
          "name": "stdout",
          "text": [
            "Processed sentence for image 12443.\n",
            "Processed sentence for image 734839.\n",
            "Processed sentence for image 1855943.\n"
          ]
        },
        {
          "output_type": "stream",
          "name": "stderr",
          "text": [
            "\r 28%|██▊       | 1110/4000 [02:44<05:41,  8.45it/s]"
          ]
        },
        {
          "output_type": "stream",
          "name": "stdout",
          "text": [
            "Processed sentence for image 421612.\n",
            "Processed sentence for image 167289.\n"
          ]
        },
        {
          "output_type": "stream",
          "name": "stderr",
          "text": [
            "\r 28%|██▊       | 1111/4000 [02:44<06:22,  7.55it/s]"
          ]
        },
        {
          "output_type": "stream",
          "name": "stdout",
          "text": [
            "Processed sentence for image 74862.\n"
          ]
        },
        {
          "output_type": "stream",
          "name": "stderr",
          "text": [
            " 28%|██▊       | 1113/4000 [02:45<07:12,  6.68it/s]"
          ]
        },
        {
          "output_type": "stream",
          "name": "stdout",
          "text": [
            "Processed sentence for image 419672.\n",
            "Processed sentence for image 325488.\n"
          ]
        },
        {
          "output_type": "stream",
          "name": "stderr",
          "text": [
            "\r 28%|██▊       | 1114/4000 [02:45<07:55,  6.07it/s]"
          ]
        },
        {
          "output_type": "stream",
          "name": "stdout",
          "text": [
            "Processed sentence for image 809366.\n"
          ]
        },
        {
          "output_type": "stream",
          "name": "stderr",
          "text": [
            " 28%|██▊       | 1116/4000 [02:45<08:40,  5.54it/s]"
          ]
        },
        {
          "output_type": "stream",
          "name": "stdout",
          "text": [
            "Processed sentence for image 65884.\n",
            "Processed sentence for image 90246.\n"
          ]
        },
        {
          "output_type": "stream",
          "name": "stderr",
          "text": [
            " 28%|██▊       | 1118/4000 [02:46<08:25,  5.71it/s]"
          ]
        },
        {
          "output_type": "stream",
          "name": "stdout",
          "text": [
            "Processed sentence for image 949517.\n",
            "Processed sentence for image 2077969.\n"
          ]
        },
        {
          "output_type": "stream",
          "name": "stderr",
          "text": [
            "\r 28%|██▊       | 1119/4000 [02:46<08:36,  5.58it/s]"
          ]
        },
        {
          "output_type": "stream",
          "name": "stdout",
          "text": [
            "Processed sentence for image 673753.\n"
          ]
        },
        {
          "output_type": "stream",
          "name": "stderr",
          "text": [
            " 28%|██▊       | 1121/4000 [02:46<08:51,  5.41it/s]"
          ]
        },
        {
          "output_type": "stream",
          "name": "stdout",
          "text": [
            "Processed sentence for image 568364.\n",
            "Processed sentence for image 90788.\n"
          ]
        },
        {
          "output_type": "stream",
          "name": "stderr",
          "text": [
            " 28%|██▊       | 1123/4000 [02:47<09:19,  5.14it/s]"
          ]
        },
        {
          "output_type": "stream",
          "name": "stdout",
          "text": [
            "Processed sentence for image 300125.\n",
            "Processed sentence for image 570930.\n"
          ]
        },
        {
          "output_type": "stream",
          "name": "stderr",
          "text": [
            " 28%|██▊       | 1125/4000 [02:47<07:49,  6.12it/s]"
          ]
        },
        {
          "output_type": "stream",
          "name": "stdout",
          "text": [
            "Processed sentence for image 64667.\n",
            "Processed sentence for image 1040037.\n"
          ]
        },
        {
          "output_type": "stream",
          "name": "stderr",
          "text": [
            " 28%|██▊       | 1127/4000 [02:47<06:35,  7.26it/s]"
          ]
        },
        {
          "output_type": "stream",
          "name": "stdout",
          "text": [
            "Processed sentence for image 440398.\n",
            "Processed sentence for image 499287.\n"
          ]
        },
        {
          "output_type": "stream",
          "name": "stderr",
          "text": [
            " 28%|██▊       | 1130/4000 [02:48<05:27,  8.76it/s]"
          ]
        },
        {
          "output_type": "stream",
          "name": "stdout",
          "text": [
            "Processed sentence for image 617578.\n",
            "Processed sentence for image 41939.\n",
            "Processed sentence for image 7399.\n"
          ]
        },
        {
          "output_type": "stream",
          "name": "stderr",
          "text": [
            " 28%|██▊       | 1133/4000 [02:48<04:54,  9.72it/s]"
          ]
        },
        {
          "output_type": "stream",
          "name": "stdout",
          "text": [
            "Processed sentence for image 584219.\n",
            "Processed sentence for image 680472.\n",
            "Processed sentence for image 30407.\n"
          ]
        },
        {
          "output_type": "stream",
          "name": "stderr",
          "text": [
            "\r 28%|██▊       | 1135/4000 [02:48<04:15, 11.23it/s]"
          ]
        },
        {
          "output_type": "stream",
          "name": "stdout",
          "text": [
            "Processed sentence for image 617226.\n",
            "Processed sentence for image 1751912.\n"
          ]
        },
        {
          "output_type": "stream",
          "name": "stderr",
          "text": [
            "\r 28%|██▊       | 1137/4000 [02:48<04:38, 10.30it/s]"
          ]
        },
        {
          "output_type": "stream",
          "name": "stdout",
          "text": [
            "Processed sentence for image 639010.\n",
            "Processed sentence for image 508229.\n",
            "Processed sentence for image 334645.\n"
          ]
        },
        {
          "output_type": "stream",
          "name": "stderr",
          "text": [
            " 29%|██▊       | 1141/4000 [02:49<04:14, 11.24it/s]"
          ]
        },
        {
          "output_type": "stream",
          "name": "stdout",
          "text": [
            "Processed sentence for image 628861.\n",
            "Processed sentence for image 737267.\n",
            "Processed sentence for image 116975.\n"
          ]
        },
        {
          "output_type": "stream",
          "name": "stderr",
          "text": [
            " 29%|██▊       | 1145/4000 [02:49<03:35, 13.22it/s]"
          ]
        },
        {
          "output_type": "stream",
          "name": "stdout",
          "text": [
            "Processed sentence for image 1719707.\n",
            "Processed sentence for image 72530.\n",
            "Processed sentence for image 374012.\n",
            "Processed sentence for image 1771624.\n"
          ]
        },
        {
          "output_type": "stream",
          "name": "stderr",
          "text": [
            "\r 29%|██▊       | 1147/4000 [02:49<03:44, 12.72it/s]"
          ]
        },
        {
          "output_type": "stream",
          "name": "stdout",
          "text": [
            "Processed sentence for image 1792098.\n",
            "Processed sentence for image 478894.\n"
          ]
        },
        {
          "output_type": "stream",
          "name": "stderr",
          "text": [
            "\r 29%|██▊       | 1149/4000 [02:49<04:00, 11.86it/s]"
          ]
        },
        {
          "output_type": "stream",
          "name": "stdout",
          "text": [
            "Processed sentence for image 1358556.\n",
            "Processed sentence for image 1012258.\n",
            "Processed sentence for image 2062366.\n"
          ]
        },
        {
          "output_type": "stream",
          "name": "stderr",
          "text": [
            " 29%|██▉       | 1153/4000 [02:50<04:10, 11.39it/s]"
          ]
        },
        {
          "output_type": "stream",
          "name": "stdout",
          "text": [
            "Processed sentence for image 1019015.\n",
            "Processed sentence for image 36988.\n",
            "Processed sentence for image 109216.\n"
          ]
        },
        {
          "output_type": "stream",
          "name": "stderr",
          "text": [
            "\r 29%|██▉       | 1155/4000 [02:50<04:07, 11.49it/s]"
          ]
        },
        {
          "output_type": "stream",
          "name": "stdout",
          "text": [
            "Processed sentence for image 72043.\n",
            "Processed sentence for image 116551.\n",
            "Processed sentence for image 24881.\n"
          ]
        },
        {
          "output_type": "stream",
          "name": "stderr",
          "text": [
            " 29%|██▉       | 1159/4000 [02:50<04:30, 10.51it/s]"
          ]
        },
        {
          "output_type": "stream",
          "name": "stdout",
          "text": [
            "Processed sentence for image 1316249.\n",
            "Processed sentence for image 1074779.\n",
            "Processed sentence for image 1490217.\n"
          ]
        },
        {
          "output_type": "stream",
          "name": "stderr",
          "text": [
            "\r 29%|██▉       | 1161/4000 [02:50<04:56,  9.58it/s]"
          ]
        },
        {
          "output_type": "stream",
          "name": "stdout",
          "text": [
            "Processed sentence for image 94081.\n",
            "Processed sentence for image 735893.\n"
          ]
        },
        {
          "output_type": "stream",
          "name": "stderr",
          "text": [
            "\r 29%|██▉       | 1163/4000 [02:51<04:45,  9.95it/s]"
          ]
        },
        {
          "output_type": "stream",
          "name": "stdout",
          "text": [
            "Processed sentence for image 49805.\n",
            "Processed sentence for image 161430.\n"
          ]
        },
        {
          "output_type": "stream",
          "name": "stderr",
          "text": [
            "\r 29%|██▉       | 1165/4000 [02:51<04:46,  9.88it/s]"
          ]
        },
        {
          "output_type": "stream",
          "name": "stdout",
          "text": [
            "Processed sentence for image 769480.\n",
            "Processed sentence for image 903187.\n",
            "Processed sentence for image 116243.\n"
          ]
        },
        {
          "output_type": "stream",
          "name": "stderr",
          "text": [
            " 29%|██▉       | 1169/4000 [02:51<03:57, 11.94it/s]"
          ]
        },
        {
          "output_type": "stream",
          "name": "stdout",
          "text": [
            "Processed sentence for image 63061.\n",
            "Processed sentence for image 72901.\n",
            "Processed sentence for image 927121.\n"
          ]
        },
        {
          "output_type": "stream",
          "name": "stderr",
          "text": [
            "\r 29%|██▉       | 1171/4000 [02:51<04:10, 11.30it/s]"
          ]
        },
        {
          "output_type": "stream",
          "name": "stdout",
          "text": [
            "Processed sentence for image 62362.\n",
            "Processed sentence for image 1025686.\n",
            "Processed sentence for image 486167.\n"
          ]
        },
        {
          "output_type": "stream",
          "name": "stderr",
          "text": [
            " 29%|██▉       | 1175/4000 [02:52<04:23, 10.71it/s]"
          ]
        },
        {
          "output_type": "stream",
          "name": "stdout",
          "text": [
            "Processed sentence for image 71597.\n",
            "Processed sentence for image 36298.\n",
            "Processed sentence for image 72211.\n"
          ]
        },
        {
          "output_type": "stream",
          "name": "stderr",
          "text": [
            "\r 29%|██▉       | 1177/4000 [02:52<04:28, 10.51it/s]"
          ]
        },
        {
          "output_type": "stream",
          "name": "stdout",
          "text": [
            "Processed sentence for image 72862.\n",
            "Processed sentence for image 495041.\n",
            "Processed sentence for image 1114371.\n"
          ]
        },
        {
          "output_type": "stream",
          "name": "stderr",
          "text": [
            " 30%|██▉       | 1181/4000 [02:52<04:06, 11.44it/s]"
          ]
        },
        {
          "output_type": "stream",
          "name": "stdout",
          "text": [
            "Processed sentence for image 709210.\n",
            "Processed sentence for image 119100.\n",
            "Processed sentence for image 1464952.\n"
          ]
        },
        {
          "output_type": "stream",
          "name": "stderr",
          "text": [
            "\r 30%|██▉       | 1183/4000 [02:52<03:44, 12.54it/s]"
          ]
        },
        {
          "output_type": "stream",
          "name": "stdout",
          "text": [
            "Processed sentence for image 129009.\n",
            "Processed sentence for image 113838.\n",
            "Processed sentence for image 32653.\n"
          ]
        },
        {
          "output_type": "stream",
          "name": "stderr",
          "text": [
            " 30%|██▉       | 1187/4000 [02:53<03:24, 13.76it/s]"
          ]
        },
        {
          "output_type": "stream",
          "name": "stdout",
          "text": [
            "Processed sentence for image 72500.\n",
            "Processed sentence for image 72306.\n",
            "Processed sentence for image 1483571.\n",
            "Processed sentence for image 115111.\n",
            "Processed sentence for image 34721.\n"
          ]
        },
        {
          "output_type": "stream",
          "name": "stderr",
          "text": [
            " 30%|██▉       | 1192/4000 [02:53<02:58, 15.76it/s]"
          ]
        },
        {
          "output_type": "stream",
          "name": "stdout",
          "text": [
            "Processed sentence for image 975807.\n",
            "Processed sentence for image 73847.\n",
            "Processed sentence for image 584005.\n",
            "Processed sentence for image 121647.\n"
          ]
        },
        {
          "output_type": "stream",
          "name": "stderr",
          "text": [
            " 30%|██▉       | 1196/4000 [02:53<03:30, 13.32it/s]"
          ]
        },
        {
          "output_type": "stream",
          "name": "stdout",
          "text": [
            "Processed sentence for image 907429.\n",
            "Processed sentence for image 72661.\n",
            "Processed sentence for image 553112.\n"
          ]
        },
        {
          "output_type": "stream",
          "name": "stderr",
          "text": [
            "\r 30%|██▉       | 1198/4000 [02:53<03:42, 12.61it/s]"
          ]
        },
        {
          "output_type": "stream",
          "name": "stdout",
          "text": [
            "Processed sentence for image 94265.\n",
            "Processed sentence for image 117107.\n",
            "Processed sentence for image 1121373.\n"
          ]
        },
        {
          "output_type": "stream",
          "name": "stderr",
          "text": [
            " 30%|███       | 1202/4000 [02:54<03:11, 14.63it/s]"
          ]
        },
        {
          "output_type": "stream",
          "name": "stdout",
          "text": [
            "Processed sentence for image 627575.\n",
            "Processed sentence for image 565866.\n",
            "Processed sentence for image 1389957.\n",
            "Processed sentence for image 30261.\n",
            "Processed sentence for image 248395.\n"
          ]
        },
        {
          "output_type": "stream",
          "name": "stderr",
          "text": [
            " 30%|███       | 1208/4000 [02:54<02:33, 18.16it/s]"
          ]
        },
        {
          "output_type": "stream",
          "name": "stdout",
          "text": [
            "Processed sentence for image 252803.\n",
            "Processed sentence for image 1289546.\n",
            "Processed sentence for image 74161.\n",
            "Processed sentence for image 241958.\n"
          ]
        },
        {
          "output_type": "stream",
          "name": "stderr",
          "text": [
            " 30%|███       | 1212/4000 [02:54<02:50, 16.39it/s]"
          ]
        },
        {
          "output_type": "stream",
          "name": "stdout",
          "text": [
            "Processed sentence for image 1301023.\n",
            "Processed sentence for image 15310.\n",
            "Processed sentence for image 13330.\n",
            "Processed sentence for image 72671.\n"
          ]
        },
        {
          "output_type": "stream",
          "name": "stderr",
          "text": [
            "\r 30%|███       | 1214/4000 [02:54<03:04, 15.10it/s]"
          ]
        },
        {
          "output_type": "stream",
          "name": "stdout",
          "text": [
            "Processed sentence for image 120638.\n",
            "Processed sentence for image 779348.\n",
            "Processed sentence for image 501049.\n"
          ]
        },
        {
          "output_type": "stream",
          "name": "stderr",
          "text": [
            " 30%|███       | 1218/4000 [02:55<03:26, 13.48it/s]"
          ]
        },
        {
          "output_type": "stream",
          "name": "stdout",
          "text": [
            "Processed sentence for image 996537.\n",
            "Processed sentence for image 686752.\n",
            "Processed sentence for image 506595.\n"
          ]
        },
        {
          "output_type": "stream",
          "name": "stderr",
          "text": [
            " 31%|███       | 1222/4000 [02:55<03:14, 14.25it/s]"
          ]
        },
        {
          "output_type": "stream",
          "name": "stdout",
          "text": [
            "Processed sentence for image 118441.\n",
            "Processed sentence for image 36619.\n",
            "Processed sentence for image 715167.\n",
            "Processed sentence for image 33646.\n"
          ]
        },
        {
          "output_type": "stream",
          "name": "stderr",
          "text": [
            "\r 31%|███       | 1224/4000 [02:55<03:31, 13.15it/s]"
          ]
        },
        {
          "output_type": "stream",
          "name": "stdout",
          "text": [
            "Processed sentence for image 423603.\n",
            "Processed sentence for image 119961.\n",
            "Processed sentence for image 1125743.\n"
          ]
        },
        {
          "output_type": "stream",
          "name": "stderr",
          "text": [
            " 31%|███       | 1228/4000 [02:55<03:24, 13.58it/s]"
          ]
        },
        {
          "output_type": "stream",
          "name": "stdout",
          "text": [
            "Processed sentence for image 303930.\n",
            "Processed sentence for image 67571.\n",
            "Processed sentence for image 417068.\n"
          ]
        },
        {
          "output_type": "stream",
          "name": "stderr",
          "text": [
            "\r 31%|███       | 1230/4000 [02:56<03:23, 13.58it/s]"
          ]
        },
        {
          "output_type": "stream",
          "name": "stdout",
          "text": [
            "Processed sentence for image 585380.\n",
            "Processed sentence for image 240039.\n",
            "Processed sentence for image 638021.\n"
          ]
        },
        {
          "output_type": "stream",
          "name": "stderr",
          "text": [
            " 31%|███       | 1234/4000 [02:56<03:17, 13.99it/s]"
          ]
        },
        {
          "output_type": "stream",
          "name": "stdout",
          "text": [
            "Processed sentence for image 1077743.\n",
            "Processed sentence for image 537897.\n",
            "Processed sentence for image 70660.\n"
          ]
        },
        {
          "output_type": "stream",
          "name": "stderr",
          "text": [
            "\r 31%|███       | 1236/4000 [02:56<03:17, 13.97it/s]"
          ]
        },
        {
          "output_type": "stream",
          "name": "stdout",
          "text": [
            "Processed sentence for image 24261.\n",
            "Processed sentence for image 1766098.\n",
            "Processed sentence for image 1290642.\n",
            "Processed sentence for image 338902.\n"
          ]
        },
        {
          "output_type": "stream",
          "name": "stderr",
          "text": [
            " 31%|███       | 1241/4000 [02:56<02:57, 15.51it/s]"
          ]
        },
        {
          "output_type": "stream",
          "name": "stdout",
          "text": [
            "Processed sentence for image 772438.\n",
            "Processed sentence for image 1814005.\n",
            "Processed sentence for image 450274.\n",
            "Processed sentence for image 217717.\n"
          ]
        },
        {
          "output_type": "stream",
          "name": "stderr",
          "text": [
            " 31%|███       | 1245/4000 [02:57<03:08, 14.64it/s]"
          ]
        },
        {
          "output_type": "stream",
          "name": "stdout",
          "text": [
            "Processed sentence for image 72973.\n",
            "Processed sentence for image 1402345.\n",
            "Processed sentence for image 559711.\n"
          ]
        },
        {
          "output_type": "stream",
          "name": "stderr",
          "text": [
            " 31%|███       | 1249/4000 [02:57<03:05, 14.82it/s]"
          ]
        },
        {
          "output_type": "stream",
          "name": "stdout",
          "text": [
            "Processed sentence for image 66042.\n",
            "Processed sentence for image 33908.\n",
            "Processed sentence for image 128448.\n",
            "Processed sentence for image 782922.\n"
          ]
        },
        {
          "output_type": "stream",
          "name": "stderr",
          "text": [
            "\r 31%|███▏      | 1251/4000 [02:57<03:05, 14.78it/s]"
          ]
        },
        {
          "output_type": "stream",
          "name": "stdout",
          "text": [
            "Processed sentence for image 727215.\n",
            "Processed sentence for image 151556.\n",
            "Processed sentence for image 71773.\n"
          ]
        },
        {
          "output_type": "stream",
          "name": "stderr",
          "text": [
            " 31%|███▏      | 1255/4000 [02:57<03:37, 12.61it/s]"
          ]
        },
        {
          "output_type": "stream",
          "name": "stdout",
          "text": [
            "Processed sentence for image 542454.\n",
            "Processed sentence for image 72325.\n",
            "Processed sentence for image 48514.\n"
          ]
        },
        {
          "output_type": "stream",
          "name": "stderr",
          "text": [
            "\r 31%|███▏      | 1257/4000 [02:57<03:26, 13.26it/s]"
          ]
        },
        {
          "output_type": "stream",
          "name": "stdout",
          "text": [
            "Processed sentence for image 504988.\n",
            "Processed sentence for image 552622.\n",
            "Processed sentence for image 1124396.\n"
          ]
        },
        {
          "output_type": "stream",
          "name": "stderr",
          "text": [
            "\r 31%|███▏      | 1259/4000 [02:58<03:37, 12.58it/s]"
          ]
        },
        {
          "output_type": "stream",
          "name": "stdout",
          "text": [
            "Processed sentence for image 421413.\n",
            "Processed sentence for image 124650.\n"
          ]
        },
        {
          "output_type": "stream",
          "name": "stderr",
          "text": [
            "\r 32%|███▏      | 1261/4000 [02:58<04:20, 10.53it/s]"
          ]
        },
        {
          "output_type": "stream",
          "name": "stdout",
          "text": [
            "Processed sentence for image 62597.\n",
            "Processed sentence for image 279797.\n"
          ]
        },
        {
          "output_type": "stream",
          "name": "stderr",
          "text": [
            "\r 32%|███▏      | 1263/4000 [02:58<04:59,  9.14it/s]"
          ]
        },
        {
          "output_type": "stream",
          "name": "stdout",
          "text": [
            "Processed sentence for image 1143357.\n",
            "Processed sentence for image 790444.\n"
          ]
        },
        {
          "output_type": "stream",
          "name": "stderr",
          "text": [
            "\r 32%|███▏      | 1265/4000 [02:58<05:36,  8.13it/s]"
          ]
        },
        {
          "output_type": "stream",
          "name": "stdout",
          "text": [
            "Processed sentence for image 116692.\n"
          ]
        },
        {
          "output_type": "stream",
          "name": "stderr",
          "text": [
            " 32%|███▏      | 1267/4000 [02:59<06:05,  7.48it/s]"
          ]
        },
        {
          "output_type": "stream",
          "name": "stdout",
          "text": [
            "Processed sentence for image 128037.\n",
            "Processed sentence for image 1349559.\n",
            "Processed sentence for image 35921.\n"
          ]
        },
        {
          "output_type": "stream",
          "name": "stderr",
          "text": [
            " 32%|███▏      | 1270/4000 [02:59<05:09,  8.82it/s]"
          ]
        },
        {
          "output_type": "stream",
          "name": "stdout",
          "text": [
            "Processed sentence for image 635899.\n",
            "Processed sentence for image 675.\n",
            "Processed sentence for image 118562.\n"
          ]
        },
        {
          "output_type": "stream",
          "name": "stderr",
          "text": [
            "\r 32%|███▏      | 1272/4000 [02:59<04:52,  9.32it/s]"
          ]
        },
        {
          "output_type": "stream",
          "name": "stdout",
          "text": [
            "Processed sentence for image 23702.\n"
          ]
        },
        {
          "output_type": "stream",
          "name": "stderr",
          "text": [
            "\r 32%|███▏      | 1273/4000 [03:00<06:22,  7.12it/s]"
          ]
        },
        {
          "output_type": "stream",
          "name": "stdout",
          "text": [
            "Processed sentence for image 1813464.\n"
          ]
        },
        {
          "output_type": "stream",
          "name": "stderr",
          "text": [
            " 32%|███▏      | 1275/4000 [03:00<06:40,  6.81it/s]"
          ]
        },
        {
          "output_type": "stream",
          "name": "stdout",
          "text": [
            "Processed sentence for image 1155347.\n",
            "Processed sentence for image 24581.\n"
          ]
        },
        {
          "output_type": "stream",
          "name": "stderr",
          "text": [
            " 32%|███▏      | 1277/4000 [03:00<06:03,  7.49it/s]"
          ]
        },
        {
          "output_type": "stream",
          "name": "stdout",
          "text": [
            "Processed sentence for image 73254.\n",
            "Processed sentence for image 636306.\n"
          ]
        },
        {
          "output_type": "stream",
          "name": "stderr",
          "text": [
            " 32%|███▏      | 1279/4000 [03:00<05:29,  8.27it/s]"
          ]
        },
        {
          "output_type": "stream",
          "name": "stdout",
          "text": [
            "Processed sentence for image 608735.\n",
            "Processed sentence for image 71356.\n",
            "Processed sentence for image 528640.\n"
          ]
        },
        {
          "output_type": "stream",
          "name": "stderr",
          "text": [
            " 32%|███▏      | 1283/4000 [03:01<04:14, 10.68it/s]"
          ]
        },
        {
          "output_type": "stream",
          "name": "stdout",
          "text": [
            "Processed sentence for image 973387.\n",
            "Processed sentence for image 571410.\n",
            "Processed sentence for image 115546.\n"
          ]
        },
        {
          "output_type": "stream",
          "name": "stderr",
          "text": [
            "\r 32%|███▏      | 1285/4000 [03:01<04:15, 10.61it/s]"
          ]
        },
        {
          "output_type": "stream",
          "name": "stdout",
          "text": [
            "Processed sentence for image 1124612.\n",
            "Processed sentence for image 693172.\n"
          ]
        },
        {
          "output_type": "stream",
          "name": "stderr",
          "text": [
            " 32%|███▏      | 1289/4000 [03:01<04:17, 10.51it/s]"
          ]
        },
        {
          "output_type": "stream",
          "name": "stdout",
          "text": [
            "Processed sentence for image 503784.\n",
            "Processed sentence for image 15685.\n",
            "Processed sentence for image 128205.\n",
            "Processed sentence for image 2017853.\n"
          ]
        },
        {
          "output_type": "stream",
          "name": "stderr",
          "text": [
            "\r 32%|███▏      | 1291/4000 [03:01<04:03, 11.11it/s]"
          ]
        },
        {
          "output_type": "stream",
          "name": "stdout",
          "text": [
            "Processed sentence for image 829694.\n",
            "Processed sentence for image 820649.\n",
            "Processed sentence for image 1707076.\n"
          ]
        },
        {
          "output_type": "stream",
          "name": "stderr",
          "text": [
            "\r 32%|███▏      | 1293/4000 [03:02<04:22, 10.30it/s]"
          ]
        },
        {
          "output_type": "stream",
          "name": "stdout",
          "text": [
            "Processed sentence for image 1306941.\n",
            "Processed sentence for image 947191.\n"
          ]
        },
        {
          "output_type": "stream",
          "name": "stderr",
          "text": [
            "\r 32%|███▏      | 1295/4000 [03:02<04:36,  9.78it/s]"
          ]
        },
        {
          "output_type": "stream",
          "name": "stdout",
          "text": [
            "Processed sentence for image 71745.\n",
            "Processed sentence for image 70560.\n"
          ]
        },
        {
          "output_type": "stream",
          "name": "stderr",
          "text": [
            " 32%|███▏      | 1299/4000 [03:02<04:37,  9.73it/s]"
          ]
        },
        {
          "output_type": "stream",
          "name": "stdout",
          "text": [
            "Processed sentence for image 91097.\n",
            "Processed sentence for image 970987.\n",
            "Processed sentence for image 65343.\n"
          ]
        },
        {
          "output_type": "stream",
          "name": "stderr",
          "text": [
            "\r 33%|███▎      | 1301/4000 [03:03<04:43,  9.54it/s]"
          ]
        },
        {
          "output_type": "stream",
          "name": "stdout",
          "text": [
            "Processed sentence for image 649410.\n",
            "Processed sentence for image 769422.\n",
            "Processed sentence for image 479109.\n"
          ]
        },
        {
          "output_type": "stream",
          "name": "stderr",
          "text": [
            "\r 33%|███▎      | 1303/4000 [03:03<04:15, 10.54it/s]"
          ]
        },
        {
          "output_type": "stream",
          "name": "stdout",
          "text": [
            "Processed sentence for image 93446.\n",
            "Processed sentence for image 63915.\n"
          ]
        },
        {
          "output_type": "stream",
          "name": "stderr",
          "text": [
            " 33%|███▎      | 1307/4000 [03:03<04:26, 10.12it/s]"
          ]
        },
        {
          "output_type": "stream",
          "name": "stdout",
          "text": [
            "Processed sentence for image 92139.\n",
            "Processed sentence for image 962370.\n",
            "Processed sentence for image 94336.\n"
          ]
        },
        {
          "output_type": "stream",
          "name": "stderr",
          "text": [
            "\r 33%|███▎      | 1309/4000 [03:03<05:03,  8.86it/s]"
          ]
        },
        {
          "output_type": "stream",
          "name": "stdout",
          "text": [
            "Processed sentence for image 14016.\n",
            "Processed sentence for image 13446.\n"
          ]
        },
        {
          "output_type": "stream",
          "name": "stderr",
          "text": [
            " 33%|███▎      | 1311/4000 [03:04<05:10,  8.66it/s]"
          ]
        },
        {
          "output_type": "stream",
          "name": "stdout",
          "text": [
            "Processed sentence for image 583345.\n",
            "Processed sentence for image 1087206.\n"
          ]
        },
        {
          "output_type": "stream",
          "name": "stderr",
          "text": [
            " 33%|███▎      | 1313/4000 [03:04<05:21,  8.36it/s]"
          ]
        },
        {
          "output_type": "stream",
          "name": "stdout",
          "text": [
            "Processed sentence for image 414515.\n",
            "Processed sentence for image 478689.\n"
          ]
        },
        {
          "output_type": "stream",
          "name": "stderr",
          "text": [
            " 33%|███▎      | 1315/4000 [03:04<06:18,  7.09it/s]"
          ]
        },
        {
          "output_type": "stream",
          "name": "stdout",
          "text": [
            "Processed sentence for image 648219.\n",
            "Processed sentence for image 8778.\n"
          ]
        },
        {
          "output_type": "stream",
          "name": "stderr",
          "text": [
            " 33%|███▎      | 1317/4000 [03:04<05:56,  7.53it/s]"
          ]
        },
        {
          "output_type": "stream",
          "name": "stdout",
          "text": [
            "Processed sentence for image 414467.\n",
            "Processed sentence for image 49676.\n",
            "Processed sentence for image 508954.\n"
          ]
        },
        {
          "output_type": "stream",
          "name": "stderr",
          "text": [
            "\r 33%|███▎      | 1320/4000 [03:05<03:59, 11.18it/s]"
          ]
        },
        {
          "output_type": "stream",
          "name": "stdout",
          "text": [
            "Processed sentence for image 227313.\n",
            "Processed sentence for image 1298045.\n",
            "Processed sentence for image 759594.\n"
          ]
        },
        {
          "output_type": "stream",
          "name": "stderr",
          "text": [
            " 33%|███▎      | 1324/4000 [03:05<03:45, 11.89it/s]"
          ]
        },
        {
          "output_type": "stream",
          "name": "stdout",
          "text": [
            "Processed sentence for image 233258.\n",
            "Processed sentence for image 391759.\n",
            "Processed sentence for image 116192.\n"
          ]
        },
        {
          "output_type": "stream",
          "name": "stderr",
          "text": [
            "\r 33%|███▎      | 1326/4000 [03:05<04:30,  9.89it/s]"
          ]
        },
        {
          "output_type": "stream",
          "name": "stdout",
          "text": [
            "Processed sentence for image 73052.\n",
            "Processed sentence for image 418018.\n"
          ]
        },
        {
          "output_type": "stream",
          "name": "stderr",
          "text": [
            "\r 33%|███▎      | 1328/4000 [03:06<05:13,  8.52it/s]"
          ]
        },
        {
          "output_type": "stream",
          "name": "stdout",
          "text": [
            "Processed sentence for image 5898.\n",
            "Processed sentence for image 90534.\n",
            "Processed sentence for image 116272.\n"
          ]
        },
        {
          "output_type": "stream",
          "name": "stderr",
          "text": [
            " 33%|███▎      | 1332/4000 [03:06<04:47,  9.27it/s]"
          ]
        },
        {
          "output_type": "stream",
          "name": "stdout",
          "text": [
            "Processed sentence for image 110698.\n",
            "Processed sentence for image 363851.\n",
            "Processed sentence for image 159494.\n"
          ]
        },
        {
          "output_type": "stream",
          "name": "stderr",
          "text": [
            " 33%|███▎      | 1334/4000 [03:06<05:32,  8.02it/s]"
          ]
        },
        {
          "output_type": "stream",
          "name": "stdout",
          "text": [
            "Processed sentence for image 1792131.\n",
            "Processed sentence for image 71366.\n"
          ]
        },
        {
          "output_type": "stream",
          "name": "stderr",
          "text": [
            " 33%|███▎      | 1337/4000 [03:07<04:49,  9.20it/s]"
          ]
        },
        {
          "output_type": "stream",
          "name": "stdout",
          "text": [
            "Processed sentence for image 2068846.\n",
            "Processed sentence for image 37498.\n",
            "Processed sentence for image 91174.\n"
          ]
        },
        {
          "output_type": "stream",
          "name": "stderr",
          "text": [
            "\r 33%|███▎      | 1339/4000 [03:07<04:31,  9.79it/s]"
          ]
        },
        {
          "output_type": "stream",
          "name": "stdout",
          "text": [
            "Processed sentence for image 65279.\n",
            "Processed sentence for image 1420401.\n"
          ]
        },
        {
          "output_type": "stream",
          "name": "stderr",
          "text": [
            " 34%|███▎      | 1342/4000 [03:07<04:29,  9.85it/s]"
          ]
        },
        {
          "output_type": "stream",
          "name": "stdout",
          "text": [
            "Processed sentence for image 1959113.\n",
            "Processed sentence for image 470732.\n",
            "Processed sentence for image 45560.\n"
          ]
        },
        {
          "output_type": "stream",
          "name": "stderr",
          "text": [
            "\r 34%|███▎      | 1344/4000 [03:07<04:31,  9.77it/s]"
          ]
        },
        {
          "output_type": "stream",
          "name": "stdout",
          "text": [
            "Processed sentence for image 11391.\n",
            "Processed sentence for image 62850.\n",
            "Processed sentence for image 93160.\n"
          ]
        },
        {
          "output_type": "stream",
          "name": "stderr",
          "text": [
            " 34%|███▎      | 1348/4000 [03:08<04:11, 10.54it/s]"
          ]
        },
        {
          "output_type": "stream",
          "name": "stdout",
          "text": [
            "Processed sentence for image 35780.\n",
            "Processed sentence for image 126236.\n",
            "Processed sentence for image 74709.\n"
          ]
        },
        {
          "output_type": "stream",
          "name": "stderr",
          "text": [
            "\r 34%|███▍      | 1350/4000 [03:08<04:26,  9.94it/s]"
          ]
        },
        {
          "output_type": "stream",
          "name": "stdout",
          "text": [
            "Processed sentence for image 1027257.\n",
            "Processed sentence for image 136147.\n",
            "Processed sentence for image 353564.\n"
          ]
        },
        {
          "output_type": "stream",
          "name": "stderr",
          "text": [
            "\r 34%|███▍      | 1352/4000 [03:08<04:11, 10.54it/s]"
          ]
        },
        {
          "output_type": "stream",
          "name": "stdout",
          "text": [
            "Processed sentence for image 1108788.\n",
            "Processed sentence for image 196587.\n"
          ]
        },
        {
          "output_type": "stream",
          "name": "stderr",
          "text": [
            "\r 34%|███▍      | 1354/4000 [03:08<04:28,  9.85it/s]"
          ]
        },
        {
          "output_type": "stream",
          "name": "stdout",
          "text": [
            "Processed sentence for image 73020.\n",
            "Processed sentence for image 552167.\n"
          ]
        },
        {
          "output_type": "stream",
          "name": "stderr",
          "text": [
            "\r 34%|███▍      | 1356/4000 [03:08<04:30,  9.77it/s]"
          ]
        },
        {
          "output_type": "stream",
          "name": "stdout",
          "text": [
            "Processed sentence for image 13968.\n",
            "Processed sentence for image 72887.\n"
          ]
        },
        {
          "output_type": "stream",
          "name": "stderr",
          "text": [
            " 34%|███▍      | 1360/4000 [03:09<04:24,  9.97it/s]"
          ]
        },
        {
          "output_type": "stream",
          "name": "stdout",
          "text": [
            "Processed sentence for image 92979.\n",
            "Processed sentence for image 552197.\n",
            "Processed sentence for image 1765264.\n"
          ]
        },
        {
          "output_type": "stream",
          "name": "stderr",
          "text": [
            "\r 34%|███▍      | 1362/4000 [03:09<04:31,  9.73it/s]"
          ]
        },
        {
          "output_type": "stream",
          "name": "stdout",
          "text": [
            "Processed sentence for image 95462.\n",
            "Processed sentence for image 563201.\n"
          ]
        },
        {
          "output_type": "stream",
          "name": "stderr",
          "text": [
            " 34%|███▍      | 1365/4000 [03:09<04:17, 10.25it/s]"
          ]
        },
        {
          "output_type": "stream",
          "name": "stdout",
          "text": [
            "Processed sentence for image 418306.\n",
            "Processed sentence for image 73660.\n",
            "Processed sentence for image 14874.\n"
          ]
        },
        {
          "output_type": "stream",
          "name": "stderr",
          "text": [
            "\r 34%|███▍      | 1367/4000 [03:10<04:17, 10.23it/s]"
          ]
        },
        {
          "output_type": "stream",
          "name": "stdout",
          "text": [
            "Processed sentence for image 813321.\n",
            "Processed sentence for image 15735.\n",
            "Processed sentence for image 46287.\n"
          ]
        },
        {
          "output_type": "stream",
          "name": "stderr",
          "text": [
            " 34%|███▍      | 1372/4000 [03:10<03:16, 13.35it/s]"
          ]
        },
        {
          "output_type": "stream",
          "name": "stdout",
          "text": [
            "Processed sentence for image 33251.\n",
            "Processed sentence for image 73085.\n",
            "Processed sentence for image 34894.\n",
            "Processed sentence for image 516737.\n",
            "Processed sentence for image 492025.\n"
          ]
        },
        {
          "output_type": "stream",
          "name": "stderr",
          "text": [
            " 34%|███▍      | 1376/4000 [03:10<03:20, 13.10it/s]"
          ]
        },
        {
          "output_type": "stream",
          "name": "stdout",
          "text": [
            "Processed sentence for image 64326.\n",
            "Processed sentence for image 11420.\n",
            "Processed sentence for image 15357.\n",
            "Processed sentence for image 481201.\n"
          ]
        },
        {
          "output_type": "stream",
          "name": "stderr",
          "text": [
            " 34%|███▍      | 1380/4000 [03:10<02:53, 15.10it/s]"
          ]
        },
        {
          "output_type": "stream",
          "name": "stdout",
          "text": [
            "Processed sentence for image 416823.\n",
            "Processed sentence for image 1308374.\n",
            "Processed sentence for image 720040.\n",
            "Processed sentence for image 119483.\n"
          ]
        },
        {
          "output_type": "stream",
          "name": "stderr",
          "text": [
            " 35%|███▍      | 1384/4000 [03:11<03:31, 12.39it/s]"
          ]
        },
        {
          "output_type": "stream",
          "name": "stdout",
          "text": [
            "Processed sentence for image 127479.\n",
            "Processed sentence for image 116632.\n",
            "Processed sentence for image 983066.\n"
          ]
        },
        {
          "output_type": "stream",
          "name": "stderr",
          "text": [
            "\r 35%|███▍      | 1386/4000 [03:11<03:47, 11.47it/s]"
          ]
        },
        {
          "output_type": "stream",
          "name": "stdout",
          "text": [
            "Processed sentence for image 678299.\n",
            "Processed sentence for image 619.\n",
            "Processed sentence for image 73225.\n"
          ]
        },
        {
          "output_type": "stream",
          "name": "stderr",
          "text": [
            " 35%|███▍      | 1391/4000 [03:11<03:33, 12.20it/s]"
          ]
        },
        {
          "output_type": "stream",
          "name": "stdout",
          "text": [
            "Processed sentence for image 697163.\n",
            "Processed sentence for image 67568.\n",
            "Processed sentence for image 627951.\n",
            "Processed sentence for image 780791.\n"
          ]
        },
        {
          "output_type": "stream",
          "name": "stderr",
          "text": [
            "\r 35%|███▍      | 1393/4000 [03:12<03:48, 11.41it/s]"
          ]
        },
        {
          "output_type": "stream",
          "name": "stdout",
          "text": [
            "Processed sentence for image 475449.\n",
            "Processed sentence for image 1125564.\n",
            "Processed sentence for image 73787.\n"
          ]
        },
        {
          "output_type": "stream",
          "name": "stderr",
          "text": [
            " 35%|███▍      | 1397/4000 [03:12<03:30, 12.38it/s]"
          ]
        },
        {
          "output_type": "stream",
          "name": "stdout",
          "text": [
            "Processed sentence for image 1342337.\n",
            "Processed sentence for image 93699.\n",
            "Processed sentence for image 694432.\n"
          ]
        },
        {
          "output_type": "stream",
          "name": "stderr",
          "text": [
            "\r 35%|███▍      | 1399/4000 [03:12<03:15, 13.31it/s]"
          ]
        },
        {
          "output_type": "stream",
          "name": "stdout",
          "text": [
            "Processed sentence for image 442194.\n",
            "Processed sentence for image 1463970.\n"
          ]
        },
        {
          "output_type": "stream",
          "name": "stderr",
          "text": [
            " 35%|███▌      | 1403/4000 [03:12<03:34, 12.11it/s]"
          ]
        },
        {
          "output_type": "stream",
          "name": "stdout",
          "text": [
            "Processed sentence for image 71408.\n",
            "Processed sentence for image 675985.\n",
            "Processed sentence for image 46246.\n",
            "Processed sentence for image 94224.\n"
          ]
        },
        {
          "output_type": "stream",
          "name": "stderr",
          "text": [
            "\r 35%|███▌      | 1405/4000 [03:13<03:52, 11.17it/s]"
          ]
        },
        {
          "output_type": "stream",
          "name": "stdout",
          "text": [
            "Processed sentence for image 877600.\n",
            "Processed sentence for image 95869.\n"
          ]
        },
        {
          "output_type": "stream",
          "name": "stderr",
          "text": [
            "\r 35%|███▌      | 1407/4000 [03:13<03:59, 10.82it/s]"
          ]
        },
        {
          "output_type": "stream",
          "name": "stdout",
          "text": [
            "Processed sentence for image 636009.\n",
            "Processed sentence for image 537493.\n",
            "Processed sentence for image 716402.\n"
          ]
        },
        {
          "output_type": "stream",
          "name": "stderr",
          "text": [
            " 35%|███▌      | 1411/4000 [03:13<03:44, 11.54it/s]"
          ]
        },
        {
          "output_type": "stream",
          "name": "stdout",
          "text": [
            "Processed sentence for image 593767.\n",
            "Processed sentence for image 638357.\n",
            "Processed sentence for image 6700.\n"
          ]
        },
        {
          "output_type": "stream",
          "name": "stderr",
          "text": [
            " 35%|███▌      | 1415/4000 [03:13<03:21, 12.80it/s]"
          ]
        },
        {
          "output_type": "stream",
          "name": "stdout",
          "text": [
            "Processed sentence for image 444267.\n",
            "Processed sentence for image 1045029.\n",
            "Processed sentence for image 73429.\n",
            "Processed sentence for image 13149.\n"
          ]
        },
        {
          "output_type": "stream",
          "name": "stderr",
          "text": [
            "\r 35%|███▌      | 1417/4000 [03:14<03:30, 12.27it/s]"
          ]
        },
        {
          "output_type": "stream",
          "name": "stdout",
          "text": [
            "Processed sentence for image 72853.\n",
            "Processed sentence for image 128357.\n",
            "Processed sentence for image 93088.\n"
          ]
        },
        {
          "output_type": "stream",
          "name": "stderr",
          "text": [
            " 36%|███▌      | 1421/4000 [03:14<03:07, 13.73it/s]"
          ]
        },
        {
          "output_type": "stream",
          "name": "stdout",
          "text": [
            "Processed sentence for image 413926.\n",
            "Processed sentence for image 109816.\n",
            "Processed sentence for image 21969.\n",
            "Processed sentence for image 50847.\n"
          ]
        },
        {
          "output_type": "stream",
          "name": "stderr",
          "text": [
            " 36%|███▌      | 1425/4000 [03:14<02:53, 14.81it/s]"
          ]
        },
        {
          "output_type": "stream",
          "name": "stdout",
          "text": [
            "Processed sentence for image 37887.\n",
            "Processed sentence for image 280704.\n",
            "Processed sentence for image 1088617.\n",
            "Processed sentence for image 41901.\n"
          ]
        },
        {
          "output_type": "stream",
          "name": "stderr",
          "text": [
            "\r 36%|███▌      | 1427/4000 [03:14<02:44, 15.68it/s]"
          ]
        },
        {
          "output_type": "stream",
          "name": "stdout",
          "text": [
            "Processed sentence for image 14290.\n",
            "Processed sentence for image 446509.\n"
          ]
        },
        {
          "output_type": "stream",
          "name": "stderr",
          "text": [
            " 36%|███▌      | 1431/4000 [03:15<03:29, 12.28it/s]"
          ]
        },
        {
          "output_type": "stream",
          "name": "stdout",
          "text": [
            "Processed sentence for image 93225.\n",
            "Processed sentence for image 344496.\n",
            "Processed sentence for image 64367.\n"
          ]
        },
        {
          "output_type": "stream",
          "name": "stderr",
          "text": [
            " 36%|███▌      | 1435/4000 [03:15<03:07, 13.68it/s]"
          ]
        },
        {
          "output_type": "stream",
          "name": "stdout",
          "text": [
            "Processed sentence for image 37810.\n",
            "Processed sentence for image 48571.\n",
            "Processed sentence for image 1362898.\n",
            "Processed sentence for image 459814.\n"
          ]
        },
        {
          "output_type": "stream",
          "name": "stderr",
          "text": [
            " 36%|███▌      | 1439/4000 [03:15<02:44, 15.55it/s]"
          ]
        },
        {
          "output_type": "stream",
          "name": "stdout",
          "text": [
            "Processed sentence for image 37460.\n",
            "Processed sentence for image 90015.\n",
            "Processed sentence for image 411269.\n",
            "Processed sentence for image 1063886.\n"
          ]
        },
        {
          "output_type": "stream",
          "name": "stderr",
          "text": [
            "\r 36%|███▌      | 1442/4000 [03:15<02:35, 16.46it/s]"
          ]
        },
        {
          "output_type": "stream",
          "name": "stdout",
          "text": [
            "Processed sentence for image 570665.\n",
            "Processed sentence for image 414312.\n",
            "Processed sentence for image 73288.\n",
            "Processed sentence for image 1742780.\n"
          ]
        },
        {
          "output_type": "stream",
          "name": "stderr",
          "text": [
            " 36%|███▌      | 1446/4000 [03:16<02:39, 16.05it/s]"
          ]
        },
        {
          "output_type": "stream",
          "name": "stdout",
          "text": [
            "Processed sentence for image 33928.\n",
            "Processed sentence for image 520418.\n",
            "Processed sentence for image 67589.\n",
            "Processed sentence for image 494092.\n"
          ]
        },
        {
          "output_type": "stream",
          "name": "stderr",
          "text": [
            " 36%|███▋      | 1450/4000 [03:16<02:53, 14.69it/s]"
          ]
        },
        {
          "output_type": "stream",
          "name": "stdout",
          "text": [
            "Processed sentence for image 45559.\n",
            "Processed sentence for image 116971.\n",
            "Processed sentence for image 871751.\n"
          ]
        },
        {
          "output_type": "stream",
          "name": "stderr",
          "text": [
            "\r 36%|███▋      | 1452/4000 [03:16<02:51, 14.86it/s]"
          ]
        },
        {
          "output_type": "stream",
          "name": "stdout",
          "text": [
            "Processed sentence for image 14581.\n",
            "Processed sentence for image 33005.\n",
            "Processed sentence for image 525973.\n",
            "Processed sentence for image 774622.\n"
          ]
        },
        {
          "output_type": "stream",
          "name": "stderr",
          "text": [
            " 36%|███▋      | 1457/4000 [03:16<02:49, 15.02it/s]"
          ]
        },
        {
          "output_type": "stream",
          "name": "stdout",
          "text": [
            "Processed sentence for image 70675.\n",
            "Processed sentence for image 30628.\n",
            "Processed sentence for image 172276.\n",
            "Processed sentence for image 832712.\n"
          ]
        },
        {
          "output_type": "stream",
          "name": "stderr",
          "text": [
            " 37%|███▋      | 1461/4000 [03:17<02:59, 14.13it/s]"
          ]
        },
        {
          "output_type": "stream",
          "name": "stdout",
          "text": [
            "Processed sentence for image 72825.\n",
            "Processed sentence for image 735265.\n",
            "Processed sentence for image 1006665.\n"
          ]
        },
        {
          "output_type": "stream",
          "name": "stderr",
          "text": [
            "\r 37%|███▋      | 1463/4000 [03:17<03:16, 12.89it/s]"
          ]
        },
        {
          "output_type": "stream",
          "name": "stdout",
          "text": [
            "Processed sentence for image 749630.\n",
            "Processed sentence for image 93536.\n",
            "Processed sentence for image 1089479.\n"
          ]
        },
        {
          "output_type": "stream",
          "name": "stderr",
          "text": [
            " 37%|███▋      | 1467/4000 [03:17<02:59, 14.08it/s]"
          ]
        },
        {
          "output_type": "stream",
          "name": "stdout",
          "text": [
            "Processed sentence for image 1301326.\n",
            "Processed sentence for image 71940.\n",
            "Processed sentence for image 120079.\n"
          ]
        },
        {
          "output_type": "stream",
          "name": "stderr",
          "text": [
            "\r 37%|███▋      | 1469/4000 [03:17<03:13, 13.07it/s]"
          ]
        },
        {
          "output_type": "stream",
          "name": "stdout",
          "text": [
            "Processed sentence for image 734998.\n",
            "Processed sentence for image 71593.\n",
            "Processed sentence for image 1039908.\n",
            "Processed sentence for image 503468.\n"
          ]
        },
        {
          "output_type": "stream",
          "name": "stderr",
          "text": [
            " 37%|███▋      | 1474/4000 [03:18<02:52, 14.62it/s]"
          ]
        },
        {
          "output_type": "stream",
          "name": "stdout",
          "text": [
            "Processed sentence for image 31934.\n",
            "Processed sentence for image 407342.\n",
            "Processed sentence for image 71579.\n"
          ]
        },
        {
          "output_type": "stream",
          "name": "stderr",
          "text": [
            "\r 37%|███▋      | 1476/4000 [03:18<03:01, 13.89it/s]"
          ]
        },
        {
          "output_type": "stream",
          "name": "stdout",
          "text": [
            "Processed sentence for image 14800.\n",
            "Processed sentence for image 113210.\n",
            "Processed sentence for image 45565.\n"
          ]
        },
        {
          "output_type": "stream",
          "name": "stderr",
          "text": [
            " 37%|███▋      | 1480/4000 [03:18<03:17, 12.75it/s]"
          ]
        },
        {
          "output_type": "stream",
          "name": "stdout",
          "text": [
            "Processed sentence for image 8146.\n",
            "Processed sentence for image 729176.\n",
            "Processed sentence for image 36015.\n"
          ]
        },
        {
          "output_type": "stream",
          "name": "stderr",
          "text": [
            "\r 37%|███▋      | 1482/4000 [03:18<03:13, 13.02it/s]"
          ]
        },
        {
          "output_type": "stream",
          "name": "stdout",
          "text": [
            "Processed sentence for image 38731.\n",
            "Processed sentence for image 1027114.\n",
            "Processed sentence for image 418057.\n",
            "Processed sentence for image 2020003.\n"
          ]
        },
        {
          "output_type": "stream",
          "name": "stderr",
          "text": [
            "\r 37%|███▋      | 1485/4000 [03:18<03:06, 13.49it/s]"
          ]
        },
        {
          "output_type": "stream",
          "name": "stdout",
          "text": [
            "Processed sentence for image 1471516.\n",
            "Processed sentence for image 558375.\n"
          ]
        },
        {
          "output_type": "stream",
          "name": "stderr",
          "text": [
            " 37%|███▋      | 1489/4000 [03:19<03:32, 11.83it/s]"
          ]
        },
        {
          "output_type": "stream",
          "name": "stdout",
          "text": [
            "Processed sentence for image 70984.\n",
            "Processed sentence for image 137349.\n",
            "Processed sentence for image 1116776.\n"
          ]
        },
        {
          "output_type": "stream",
          "name": "stderr",
          "text": [
            " 37%|███▋      | 1493/4000 [03:19<03:10, 13.14it/s]"
          ]
        },
        {
          "output_type": "stream",
          "name": "stdout",
          "text": [
            "Processed sentence for image 70781.\n",
            "Processed sentence for image 1826830.\n",
            "Processed sentence for image 70398.\n",
            "Processed sentence for image 454067.\n"
          ]
        },
        {
          "output_type": "stream",
          "name": "stderr",
          "text": [
            "\r 37%|███▋      | 1495/4000 [03:19<03:10, 13.15it/s]"
          ]
        },
        {
          "output_type": "stream",
          "name": "stdout",
          "text": [
            "Processed sentence for image 1074797.\n",
            "Processed sentence for image 36079.\n",
            "Processed sentence for image 583416.\n"
          ]
        },
        {
          "output_type": "stream",
          "name": "stderr",
          "text": [
            " 37%|███▋      | 1499/4000 [03:19<03:03, 13.59it/s]"
          ]
        },
        {
          "output_type": "stream",
          "name": "stdout",
          "text": [
            "Processed sentence for image 63739.\n",
            "Processed sentence for image 1023134.\n",
            "Processed sentence for image 21635.\n"
          ]
        },
        {
          "output_type": "stream",
          "name": "stderr",
          "text": [
            "\r 38%|███▊      | 1501/4000 [03:20<03:19, 12.53it/s]"
          ]
        },
        {
          "output_type": "stream",
          "name": "stdout",
          "text": [
            "Processed sentence for image 390711.\n",
            "Processed sentence for image 1388051.\n"
          ]
        },
        {
          "output_type": "stream",
          "name": "stderr",
          "text": [
            "\r 38%|███▊      | 1503/4000 [03:20<03:38, 11.43it/s]"
          ]
        },
        {
          "output_type": "stream",
          "name": "stdout",
          "text": [
            "Processed sentence for image 12865.\n",
            "Processed sentence for image 370490.\n",
            "Processed sentence for image 74082.\n"
          ]
        },
        {
          "output_type": "stream",
          "name": "stderr",
          "text": [
            "\r 38%|███▊      | 1505/4000 [03:20<04:16,  9.74it/s]"
          ]
        },
        {
          "output_type": "stream",
          "name": "stdout",
          "text": [
            "Processed sentence for image 464366.\n",
            "Processed sentence for image 6274.\n"
          ]
        },
        {
          "output_type": "stream",
          "name": "stderr",
          "text": [
            " 38%|███▊      | 1509/4000 [03:21<04:54,  8.45it/s]"
          ]
        },
        {
          "output_type": "stream",
          "name": "stdout",
          "text": [
            "Processed sentence for image 1107490.\n",
            "Processed sentence for image 62300.\n",
            "Processed sentence for image 834618.\n"
          ]
        },
        {
          "output_type": "stream",
          "name": "stderr",
          "text": [
            " 38%|███▊      | 1511/4000 [03:21<04:50,  8.58it/s]"
          ]
        },
        {
          "output_type": "stream",
          "name": "stdout",
          "text": [
            "Processed sentence for image 541630.\n",
            "Processed sentence for image 554537.\n"
          ]
        },
        {
          "output_type": "stream",
          "name": "stderr",
          "text": [
            " 38%|███▊      | 1513/4000 [03:21<04:46,  8.67it/s]"
          ]
        },
        {
          "output_type": "stream",
          "name": "stdout",
          "text": [
            "Processed sentence for image 1331611.\n",
            "Processed sentence for image 815997.\n"
          ]
        },
        {
          "output_type": "stream",
          "name": "stderr",
          "text": [
            " 38%|███▊      | 1516/4000 [03:21<04:36,  8.98it/s]"
          ]
        },
        {
          "output_type": "stream",
          "name": "stdout",
          "text": [
            "Processed sentence for image 73440.\n",
            "Processed sentence for image 73978.\n",
            "Processed sentence for image 813559.\n"
          ]
        },
        {
          "output_type": "stream",
          "name": "stderr",
          "text": [
            " 38%|███▊      | 1518/4000 [03:22<04:48,  8.61it/s]"
          ]
        },
        {
          "output_type": "stream",
          "name": "stdout",
          "text": [
            "Processed sentence for image 804800.\n",
            "Processed sentence for image 622738.\n"
          ]
        },
        {
          "output_type": "stream",
          "name": "stderr",
          "text": [
            " 38%|███▊      | 1520/4000 [03:22<05:31,  7.49it/s]"
          ]
        },
        {
          "output_type": "stream",
          "name": "stdout",
          "text": [
            "Processed sentence for image 734346.\n",
            "Processed sentence for image 15749.\n"
          ]
        },
        {
          "output_type": "stream",
          "name": "stderr",
          "text": [
            " 38%|███▊      | 1522/4000 [03:22<05:35,  7.39it/s]"
          ]
        },
        {
          "output_type": "stream",
          "name": "stdout",
          "text": [
            "Processed sentence for image 532698.\n",
            "Processed sentence for image 73216.\n"
          ]
        },
        {
          "output_type": "stream",
          "name": "stderr",
          "text": [
            " 38%|███▊      | 1525/4000 [03:23<04:37,  8.92it/s]"
          ]
        },
        {
          "output_type": "stream",
          "name": "stdout",
          "text": [
            "Processed sentence for image 12383.\n",
            "Processed sentence for image 21902.\n",
            "Processed sentence for image 177171.\n"
          ]
        },
        {
          "output_type": "stream",
          "name": "stderr",
          "text": [
            " 38%|███▊      | 1528/4000 [03:23<04:16,  9.66it/s]"
          ]
        },
        {
          "output_type": "stream",
          "name": "stdout",
          "text": [
            "Processed sentence for image 70036.\n",
            "Processed sentence for image 109759.\n",
            "Processed sentence for image 452547.\n"
          ]
        },
        {
          "output_type": "stream",
          "name": "stderr",
          "text": [
            " 38%|███▊      | 1530/4000 [03:23<04:56,  8.33it/s]"
          ]
        },
        {
          "output_type": "stream",
          "name": "stdout",
          "text": [
            "Processed sentence for image 572586.\n",
            "Processed sentence for image 770424.\n"
          ]
        },
        {
          "output_type": "stream",
          "name": "stderr",
          "text": [
            "\r 38%|███▊      | 1532/4000 [03:23<04:41,  8.78it/s]"
          ]
        },
        {
          "output_type": "stream",
          "name": "stdout",
          "text": [
            "Processed sentence for image 94118.\n",
            "Processed sentence for image 1285325.\n"
          ]
        },
        {
          "output_type": "stream",
          "name": "stderr",
          "text": [
            " 38%|███▊      | 1534/4000 [03:24<05:06,  8.04it/s]"
          ]
        },
        {
          "output_type": "stream",
          "name": "stdout",
          "text": [
            "Processed sentence for image 62644.\n",
            "Processed sentence for image 8331.\n"
          ]
        },
        {
          "output_type": "stream",
          "name": "stderr",
          "text": [
            " 38%|███▊      | 1536/4000 [03:24<05:02,  8.13it/s]"
          ]
        },
        {
          "output_type": "stream",
          "name": "stdout",
          "text": [
            "Processed sentence for image 128003.\n",
            "Processed sentence for image 1812349.\n"
          ]
        },
        {
          "output_type": "stream",
          "name": "stderr",
          "text": [
            " 38%|███▊      | 1538/4000 [03:24<05:01,  8.16it/s]"
          ]
        },
        {
          "output_type": "stream",
          "name": "stdout",
          "text": [
            "Processed sentence for image 697307.\n",
            "Processed sentence for image 384951.\n"
          ]
        },
        {
          "output_type": "stream",
          "name": "stderr",
          "text": [
            " 38%|███▊      | 1540/4000 [03:24<05:20,  7.66it/s]"
          ]
        },
        {
          "output_type": "stream",
          "name": "stdout",
          "text": [
            "Processed sentence for image 1053356.\n",
            "Processed sentence for image 27.\n"
          ]
        },
        {
          "output_type": "stream",
          "name": "stderr",
          "text": [
            " 39%|███▊      | 1542/4000 [03:25<04:57,  8.27it/s]"
          ]
        },
        {
          "output_type": "stream",
          "name": "stdout",
          "text": [
            "Processed sentence for image 1020724.\n",
            "Processed sentence for image 73853.\n"
          ]
        },
        {
          "output_type": "stream",
          "name": "stderr",
          "text": [
            " 39%|███▊      | 1544/4000 [03:25<05:03,  8.10it/s]"
          ]
        },
        {
          "output_type": "stream",
          "name": "stdout",
          "text": [
            "Processed sentence for image 91766.\n",
            "Processed sentence for image 373135.\n",
            "Processed sentence for image 73551.\n"
          ]
        },
        {
          "output_type": "stream",
          "name": "stderr",
          "text": [
            " 39%|███▊      | 1547/4000 [03:25<04:21,  9.37it/s]"
          ]
        },
        {
          "output_type": "stream",
          "name": "stdout",
          "text": [
            "Processed sentence for image 464273.\n",
            "Processed sentence for image 153978.\n",
            "Processed sentence for image 2058152.\n"
          ]
        },
        {
          "output_type": "stream",
          "name": "stderr",
          "text": [
            " 39%|███▉      | 1551/4000 [03:26<03:58, 10.26it/s]"
          ]
        },
        {
          "output_type": "stream",
          "name": "stdout",
          "text": [
            "Processed sentence for image 506699.\n",
            "Processed sentence for image 421788.\n",
            "Processed sentence for image 67868.\n"
          ]
        },
        {
          "output_type": "stream",
          "name": "stderr",
          "text": [
            "\r 39%|███▉      | 1553/4000 [03:26<04:05,  9.98it/s]"
          ]
        },
        {
          "output_type": "stream",
          "name": "stdout",
          "text": [
            "Processed sentence for image 65352.\n",
            "Processed sentence for image 1019998.\n"
          ]
        },
        {
          "output_type": "stream",
          "name": "stderr",
          "text": [
            " 39%|███▉      | 1555/4000 [03:26<04:44,  8.60it/s]"
          ]
        },
        {
          "output_type": "stream",
          "name": "stdout",
          "text": [
            "Processed sentence for image 733448.\n",
            "Processed sentence for image 12842.\n"
          ]
        },
        {
          "output_type": "stream",
          "name": "stderr",
          "text": [
            " 39%|███▉      | 1557/4000 [03:26<04:42,  8.65it/s]"
          ]
        },
        {
          "output_type": "stream",
          "name": "stdout",
          "text": [
            "Processed sentence for image 710093.\n",
            "Processed sentence for image 73093.\n"
          ]
        },
        {
          "output_type": "stream",
          "name": "stderr",
          "text": [
            " 39%|███▉      | 1559/4000 [03:27<05:13,  7.78it/s]"
          ]
        },
        {
          "output_type": "stream",
          "name": "stdout",
          "text": [
            "Processed sentence for image 514053.\n",
            "Processed sentence for image 636120.\n"
          ]
        },
        {
          "output_type": "stream",
          "name": "stderr",
          "text": [
            " 39%|███▉      | 1561/4000 [03:27<05:14,  7.76it/s]"
          ]
        },
        {
          "output_type": "stream",
          "name": "stdout",
          "text": [
            "Processed sentence for image 627181.\n",
            "Processed sentence for image 74576.\n"
          ]
        },
        {
          "output_type": "stream",
          "name": "stderr",
          "text": [
            "\r 39%|███▉      | 1563/4000 [03:27<04:32,  8.96it/s]"
          ]
        },
        {
          "output_type": "stream",
          "name": "stdout",
          "text": [
            "Processed sentence for image 1075133.\n",
            "Processed sentence for image 149206.\n"
          ]
        },
        {
          "output_type": "stream",
          "name": "stderr",
          "text": [
            " 39%|███▉      | 1565/4000 [03:27<05:03,  8.02it/s]"
          ]
        },
        {
          "output_type": "stream",
          "name": "stdout",
          "text": [
            "Processed sentence for image 590923.\n",
            "Processed sentence for image 91851.\n",
            "Processed sentence for image 663288.\n"
          ]
        },
        {
          "output_type": "stream",
          "name": "stderr",
          "text": [
            " 39%|███▉      | 1569/4000 [03:28<03:46, 10.71it/s]"
          ]
        },
        {
          "output_type": "stream",
          "name": "stdout",
          "text": [
            "Processed sentence for image 37908.\n",
            "Processed sentence for image 114526.\n",
            "Processed sentence for image 1993030.\n"
          ]
        },
        {
          "output_type": "stream",
          "name": "stderr",
          "text": [
            "\r 39%|███▉      | 1571/4000 [03:28<04:00, 10.11it/s]"
          ]
        },
        {
          "output_type": "stream",
          "name": "stdout",
          "text": [
            "Processed sentence for image 13932.\n",
            "Processed sentence for image 1136474.\n",
            "Processed sentence for image 351616.\n"
          ]
        },
        {
          "output_type": "stream",
          "name": "stderr",
          "text": [
            " 39%|███▉      | 1574/4000 [03:28<04:58,  8.12it/s]"
          ]
        },
        {
          "output_type": "stream",
          "name": "stdout",
          "text": [
            "Processed sentence for image 72035.\n",
            "Processed sentence for image 114191.\n"
          ]
        },
        {
          "output_type": "stream",
          "name": "stderr",
          "text": [
            " 39%|███▉      | 1576/4000 [03:29<05:08,  7.84it/s]"
          ]
        },
        {
          "output_type": "stream",
          "name": "stdout",
          "text": [
            "Processed sentence for image 1483703.\n",
            "Processed sentence for image 1042378.\n"
          ]
        },
        {
          "output_type": "stream",
          "name": "stderr",
          "text": [
            " 39%|███▉      | 1578/4000 [03:29<05:11,  7.78it/s]"
          ]
        },
        {
          "output_type": "stream",
          "name": "stdout",
          "text": [
            "Processed sentence for image 90044.\n",
            "Processed sentence for image 15850.\n"
          ]
        },
        {
          "output_type": "stream",
          "name": "stderr",
          "text": [
            " 40%|███▉      | 1580/4000 [03:29<05:55,  6.80it/s]"
          ]
        },
        {
          "output_type": "stream",
          "name": "stdout",
          "text": [
            "Processed sentence for image 1140731.\n",
            "Processed sentence for image 1008498.\n"
          ]
        },
        {
          "output_type": "stream",
          "name": "stderr",
          "text": [
            " 40%|███▉      | 1582/4000 [03:29<05:57,  6.75it/s]"
          ]
        },
        {
          "output_type": "stream",
          "name": "stdout",
          "text": [
            "Processed sentence for image 916718.\n",
            "Processed sentence for image 904460.\n"
          ]
        },
        {
          "output_type": "stream",
          "name": "stderr",
          "text": [
            " 40%|███▉      | 1584/4000 [03:30<05:50,  6.89it/s]"
          ]
        },
        {
          "output_type": "stream",
          "name": "stdout",
          "text": [
            "Processed sentence for image 21710.\n",
            "Processed sentence for image 798937.\n",
            "Processed sentence for image 829312.\n"
          ]
        },
        {
          "output_type": "stream",
          "name": "stderr",
          "text": [
            " 40%|███▉      | 1587/4000 [03:30<06:27,  6.23it/s]"
          ]
        },
        {
          "output_type": "stream",
          "name": "stdout",
          "text": [
            "Processed sentence for image 734792.\n",
            "Processed sentence for image 1387195.\n"
          ]
        },
        {
          "output_type": "stream",
          "name": "stderr",
          "text": [
            "\r 40%|███▉      | 1589/4000 [03:30<05:04,  7.91it/s]"
          ]
        },
        {
          "output_type": "stream",
          "name": "stdout",
          "text": [
            "Processed sentence for image 72700.\n",
            "Processed sentence for image 838057.\n"
          ]
        },
        {
          "output_type": "stream",
          "name": "stderr",
          "text": [
            " 40%|███▉      | 1592/4000 [03:31<04:52,  8.24it/s]"
          ]
        },
        {
          "output_type": "stream",
          "name": "stdout",
          "text": [
            "Processed sentence for image 594391.\n",
            "Processed sentence for image 1472577.\n",
            "Processed sentence for image 71944.\n"
          ]
        },
        {
          "output_type": "stream",
          "name": "stderr",
          "text": [
            " 40%|███▉      | 1594/4000 [03:31<05:16,  7.60it/s]"
          ]
        },
        {
          "output_type": "stream",
          "name": "stdout",
          "text": [
            "Processed sentence for image 1019987.\n",
            "Processed sentence for image 90761.\n"
          ]
        },
        {
          "output_type": "stream",
          "name": "stderr",
          "text": [
            " 40%|███▉      | 1597/4000 [03:31<04:44,  8.46it/s]"
          ]
        },
        {
          "output_type": "stream",
          "name": "stdout",
          "text": [
            "Processed sentence for image 1100766.\n",
            "Processed sentence for image 119069.\n",
            "Processed sentence for image 1061488.\n"
          ]
        },
        {
          "output_type": "stream",
          "name": "stderr",
          "text": [
            " 40%|███▉      | 1599/4000 [03:32<05:07,  7.80it/s]"
          ]
        },
        {
          "output_type": "stream",
          "name": "stdout",
          "text": [
            "Processed sentence for image 353397.\n",
            "Processed sentence for image 41947.\n"
          ]
        },
        {
          "output_type": "stream",
          "name": "stderr",
          "text": [
            " 40%|████      | 1602/4000 [03:32<04:44,  8.43it/s]"
          ]
        },
        {
          "output_type": "stream",
          "name": "stdout",
          "text": [
            "Processed sentence for image 802994.\n",
            "Processed sentence for image 1990805.\n",
            "Processed sentence for image 122933.\n"
          ]
        },
        {
          "output_type": "stream",
          "name": "stderr",
          "text": [
            " 40%|████      | 1604/4000 [03:32<04:38,  8.60it/s]"
          ]
        },
        {
          "output_type": "stream",
          "name": "stdout",
          "text": [
            "Processed sentence for image 478162.\n",
            "Processed sentence for image 90019.\n"
          ]
        },
        {
          "output_type": "stream",
          "name": "stderr",
          "text": [
            "\r 40%|████      | 1605/4000 [03:32<04:35,  8.70it/s]"
          ]
        },
        {
          "output_type": "stream",
          "name": "stdout",
          "text": [
            "Processed sentence for image 70729.\n",
            "Processed sentence for image 521875.\n"
          ]
        },
        {
          "output_type": "stream",
          "name": "stderr",
          "text": [
            "\r 40%|████      | 1607/4000 [03:33<04:44,  8.42it/s]"
          ]
        },
        {
          "output_type": "stream",
          "name": "stdout",
          "text": [
            "Processed sentence for image 734832.\n",
            "Processed sentence for image 463239.\n"
          ]
        },
        {
          "output_type": "stream",
          "name": "stderr",
          "text": [
            " 40%|████      | 1610/4000 [03:33<04:52,  8.18it/s]"
          ]
        },
        {
          "output_type": "stream",
          "name": "stdout",
          "text": [
            "Processed sentence for image 110149.\n",
            "Processed sentence for image 91196.\n"
          ]
        },
        {
          "output_type": "stream",
          "name": "stderr",
          "text": [
            " 40%|████      | 1613/4000 [03:33<04:17,  9.26it/s]"
          ]
        },
        {
          "output_type": "stream",
          "name": "stdout",
          "text": [
            "Processed sentence for image 507970.\n",
            "Processed sentence for image 93262.\n",
            "Processed sentence for image 1111315.\n"
          ]
        },
        {
          "output_type": "stream",
          "name": "stderr",
          "text": [
            " 40%|████      | 1615/4000 [03:34<04:57,  8.01it/s]"
          ]
        },
        {
          "output_type": "stream",
          "name": "stdout",
          "text": [
            "Processed sentence for image 73985.\n",
            "Processed sentence for image 1104958.\n"
          ]
        },
        {
          "output_type": "stream",
          "name": "stderr",
          "text": [
            " 40%|████      | 1618/4000 [03:34<04:24,  8.99it/s]"
          ]
        },
        {
          "output_type": "stream",
          "name": "stdout",
          "text": [
            "Processed sentence for image 571778.\n",
            "Processed sentence for image 569681.\n",
            "Processed sentence for image 14019.\n"
          ]
        },
        {
          "output_type": "stream",
          "name": "stderr",
          "text": [
            " 40%|████      | 1620/4000 [03:34<05:01,  7.91it/s]"
          ]
        },
        {
          "output_type": "stream",
          "name": "stdout",
          "text": [
            "Processed sentence for image 1286906.\n",
            "Processed sentence for image 242371.\n"
          ]
        },
        {
          "output_type": "stream",
          "name": "stderr",
          "text": [
            "\r 41%|████      | 1622/4000 [03:34<04:41,  8.46it/s]"
          ]
        },
        {
          "output_type": "stream",
          "name": "stdout",
          "text": [
            "Processed sentence for image 501047.\n",
            "Processed sentence for image 116278.\n"
          ]
        },
        {
          "output_type": "stream",
          "name": "stderr",
          "text": [
            " 41%|████      | 1624/4000 [03:35<05:06,  7.74it/s]"
          ]
        },
        {
          "output_type": "stream",
          "name": "stdout",
          "text": [
            "Processed sentence for image 126234.\n",
            "Processed sentence for image 415316.\n"
          ]
        },
        {
          "output_type": "stream",
          "name": "stderr",
          "text": [
            " 41%|████      | 1627/4000 [03:35<04:43,  8.37it/s]"
          ]
        },
        {
          "output_type": "stream",
          "name": "stdout",
          "text": [
            "Processed sentence for image 1766059.\n",
            "Processed sentence for image 426989.\n",
            "Processed sentence for image 20084.\n"
          ]
        },
        {
          "output_type": "stream",
          "name": "stderr",
          "text": [
            " 41%|████      | 1629/4000 [03:35<04:48,  8.22it/s]"
          ]
        },
        {
          "output_type": "stream",
          "name": "stdout",
          "text": [
            "Processed sentence for image 237144.\n",
            "Processed sentence for image 70847.\n"
          ]
        },
        {
          "output_type": "stream",
          "name": "stderr",
          "text": [
            " 41%|████      | 1631/4000 [03:36<05:17,  7.45it/s]"
          ]
        },
        {
          "output_type": "stream",
          "name": "stdout",
          "text": [
            "Processed sentence for image 33745.\n",
            "Processed sentence for image 494356.\n"
          ]
        },
        {
          "output_type": "stream",
          "name": "stderr",
          "text": [
            "\r 41%|████      | 1633/4000 [03:36<05:04,  7.77it/s]"
          ]
        },
        {
          "output_type": "stream",
          "name": "stdout",
          "text": [
            "Processed sentence for image 718427.\n",
            "Processed sentence for image 474927.\n"
          ]
        },
        {
          "output_type": "stream",
          "name": "stderr",
          "text": [
            " 41%|████      | 1635/4000 [03:36<05:27,  7.23it/s]"
          ]
        },
        {
          "output_type": "stream",
          "name": "stdout",
          "text": [
            "Processed sentence for image 73816.\n",
            "Processed sentence for image 423227.\n"
          ]
        },
        {
          "output_type": "stream",
          "name": "stderr",
          "text": [
            " 41%|████      | 1637/4000 [03:36<05:57,  6.62it/s]"
          ]
        },
        {
          "output_type": "stream",
          "name": "stdout",
          "text": [
            "Processed sentence for image 111445.\n",
            "Processed sentence for image 72085.\n"
          ]
        },
        {
          "output_type": "stream",
          "name": "stderr",
          "text": [
            "\r 41%|████      | 1639/4000 [03:37<05:39,  6.96it/s]"
          ]
        },
        {
          "output_type": "stream",
          "name": "stdout",
          "text": [
            "Processed sentence for image 73031.\n",
            "Processed sentence for image 70471.\n"
          ]
        },
        {
          "output_type": "stream",
          "name": "stderr",
          "text": [
            "\r 41%|████      | 1641/4000 [03:37<05:04,  7.75it/s]"
          ]
        },
        {
          "output_type": "stream",
          "name": "stdout",
          "text": [
            "Processed sentence for image 73915.\n",
            "Processed sentence for image 1472725.\n"
          ]
        },
        {
          "output_type": "stream",
          "name": "stderr",
          "text": [
            " 41%|████      | 1643/4000 [03:37<05:35,  7.03it/s]"
          ]
        },
        {
          "output_type": "stream",
          "name": "stdout",
          "text": [
            "Processed sentence for image 509041.\n",
            "Processed sentence for image 118519.\n"
          ]
        },
        {
          "output_type": "stream",
          "name": "stderr",
          "text": [
            " 41%|████      | 1646/4000 [03:38<04:09,  9.43it/s]"
          ]
        },
        {
          "output_type": "stream",
          "name": "stdout",
          "text": [
            "Processed sentence for image 1687457.\n",
            "Processed sentence for image 94313.\n",
            "Processed sentence for image 64615.\n"
          ]
        },
        {
          "output_type": "stream",
          "name": "stderr",
          "text": [
            " 41%|████      | 1648/4000 [03:38<04:48,  8.16it/s]"
          ]
        },
        {
          "output_type": "stream",
          "name": "stdout",
          "text": [
            "Processed sentence for image 787425.\n",
            "Processed sentence for image 33901.\n"
          ]
        },
        {
          "output_type": "stream",
          "name": "stderr",
          "text": [
            " 41%|████▏     | 1651/4000 [03:38<04:15,  9.18it/s]"
          ]
        },
        {
          "output_type": "stream",
          "name": "stdout",
          "text": [
            "Processed sentence for image 140820.\n",
            "Processed sentence for image 169477.\n",
            "Processed sentence for image 229437.\n"
          ]
        },
        {
          "output_type": "stream",
          "name": "stderr",
          "text": [
            " 41%|████▏     | 1654/4000 [03:38<03:53, 10.04it/s]"
          ]
        },
        {
          "output_type": "stream",
          "name": "stdout",
          "text": [
            "Processed sentence for image 116217.\n",
            "Processed sentence for image 73186.\n",
            "Processed sentence for image 1053738.\n"
          ]
        },
        {
          "output_type": "stream",
          "name": "stderr",
          "text": [
            "\r 41%|████▏     | 1656/4000 [03:39<03:31, 11.10it/s]"
          ]
        },
        {
          "output_type": "stream",
          "name": "stdout",
          "text": [
            "Processed sentence for image 7459.\n",
            "Processed sentence for image 74235.\n",
            "Processed sentence for image 1812608.\n"
          ]
        },
        {
          "output_type": "stream",
          "name": "stderr",
          "text": [
            "\r 41%|████▏     | 1658/4000 [03:39<03:19, 11.77it/s]"
          ]
        },
        {
          "output_type": "stream",
          "name": "stdout",
          "text": [
            "Processed sentence for image 21997.\n",
            "Processed sentence for image 73128.\n"
          ]
        },
        {
          "output_type": "stream",
          "name": "stderr",
          "text": [
            " 42%|████▏     | 1661/4000 [03:39<04:54,  7.95it/s]"
          ]
        },
        {
          "output_type": "stream",
          "name": "stdout",
          "text": [
            "Processed sentence for image 647159.\n",
            "Processed sentence for image 326959.\n"
          ]
        },
        {
          "output_type": "stream",
          "name": "stderr",
          "text": [
            " 42%|████▏     | 1663/4000 [03:39<04:50,  8.05it/s]"
          ]
        },
        {
          "output_type": "stream",
          "name": "stdout",
          "text": [
            "Processed sentence for image 259859.\n",
            "Processed sentence for image 71882.\n"
          ]
        },
        {
          "output_type": "stream",
          "name": "stderr",
          "text": [
            "\r 42%|████▏     | 1664/4000 [03:40<05:12,  7.49it/s]"
          ]
        },
        {
          "output_type": "stream",
          "name": "stdout",
          "text": [
            "Processed sentence for image 1355122.\n",
            "Processed sentence for image 131061.\n"
          ]
        },
        {
          "output_type": "stream",
          "name": "stderr",
          "text": [
            "\r 42%|████▏     | 1666/4000 [03:40<05:04,  7.66it/s]"
          ]
        },
        {
          "output_type": "stream",
          "name": "stdout",
          "text": [
            "Processed sentence for image 1081465.\n",
            "Processed sentence for image 531922.\n"
          ]
        },
        {
          "output_type": "stream",
          "name": "stderr",
          "text": [
            " 42%|████▏     | 1670/4000 [03:40<04:24,  8.81it/s]"
          ]
        },
        {
          "output_type": "stream",
          "name": "stdout",
          "text": [
            "Processed sentence for image 781297.\n",
            "Processed sentence for image 117290.\n",
            "Processed sentence for image 796218.\n"
          ]
        },
        {
          "output_type": "stream",
          "name": "stderr",
          "text": [
            "\r 42%|████▏     | 1672/4000 [03:40<03:53,  9.99it/s]"
          ]
        },
        {
          "output_type": "stream",
          "name": "stdout",
          "text": [
            "Processed sentence for image 74945.\n",
            "Processed sentence for image 1449502.\n",
            "Processed sentence for image 15743.\n"
          ]
        },
        {
          "output_type": "stream",
          "name": "stderr",
          "text": [
            "\r 42%|████▏     | 1674/4000 [03:41<03:53,  9.97it/s]"
          ]
        },
        {
          "output_type": "stream",
          "name": "stdout",
          "text": [
            "Processed sentence for image 682514.\n",
            "Processed sentence for image 799437.\n"
          ]
        },
        {
          "output_type": "stream",
          "name": "stderr",
          "text": [
            " 42%|████▏     | 1677/4000 [03:41<04:12,  9.19it/s]"
          ]
        },
        {
          "output_type": "stream",
          "name": "stdout",
          "text": [
            "Processed sentence for image 94166.\n",
            "Processed sentence for image 1005255.\n"
          ]
        },
        {
          "output_type": "stream",
          "name": "stderr",
          "text": [
            "\r 42%|████▏     | 1678/4000 [03:41<04:19,  8.95it/s]"
          ]
        },
        {
          "output_type": "stream",
          "name": "stdout",
          "text": [
            "Processed sentence for image 42777.\n",
            "Processed sentence for image 14824.\n"
          ]
        },
        {
          "output_type": "stream",
          "name": "stderr",
          "text": [
            " 42%|████▏     | 1681/4000 [03:41<04:26,  8.71it/s]"
          ]
        },
        {
          "output_type": "stream",
          "name": "stdout",
          "text": [
            "Processed sentence for image 139010.\n",
            "Processed sentence for image 67794.\n",
            "Processed sentence for image 20136.\n"
          ]
        },
        {
          "output_type": "stream",
          "name": "stderr",
          "text": [
            "\r 42%|████▏     | 1683/4000 [03:42<04:06,  9.38it/s]"
          ]
        },
        {
          "output_type": "stream",
          "name": "stdout",
          "text": [
            "Processed sentence for image 73002.\n",
            "Processed sentence for image 812119.\n"
          ]
        },
        {
          "output_type": "stream",
          "name": "stderr",
          "text": [
            " 42%|████▏     | 1686/4000 [03:42<04:28,  8.61it/s]"
          ]
        },
        {
          "output_type": "stream",
          "name": "stdout",
          "text": [
            "Processed sentence for image 1139984.\n",
            "Processed sentence for image 33905.\n"
          ]
        },
        {
          "output_type": "stream",
          "name": "stderr",
          "text": [
            " 42%|████▏     | 1689/4000 [03:42<04:05,  9.40it/s]"
          ]
        },
        {
          "output_type": "stream",
          "name": "stdout",
          "text": [
            "Processed sentence for image 492228.\n",
            "Processed sentence for image 109329.\n",
            "Processed sentence for image 123959.\n"
          ]
        },
        {
          "output_type": "stream",
          "name": "stderr",
          "text": [
            " 42%|████▏     | 1692/4000 [03:43<04:07,  9.33it/s]"
          ]
        },
        {
          "output_type": "stream",
          "name": "stdout",
          "text": [
            "Processed sentence for image 1109510.\n",
            "Processed sentence for image 117278.\n",
            "Processed sentence for image 122423.\n"
          ]
        },
        {
          "output_type": "stream",
          "name": "stderr",
          "text": [
            "\r 42%|████▏     | 1694/4000 [03:43<03:52,  9.90it/s]"
          ]
        },
        {
          "output_type": "stream",
          "name": "stdout",
          "text": [
            "Processed sentence for image 73358.\n",
            "Processed sentence for image 1331579.\n"
          ]
        },
        {
          "output_type": "stream",
          "name": "stderr",
          "text": [
            " 42%|████▏     | 1696/4000 [03:43<04:00,  9.59it/s]"
          ]
        },
        {
          "output_type": "stream",
          "name": "stdout",
          "text": [
            "Processed sentence for image 1062760.\n",
            "Processed sentence for image 829167.\n"
          ]
        },
        {
          "output_type": "stream",
          "name": "stderr",
          "text": [
            " 42%|████▏     | 1698/4000 [03:43<04:21,  8.80it/s]"
          ]
        },
        {
          "output_type": "stream",
          "name": "stdout",
          "text": [
            "Processed sentence for image 95171.\n",
            "Processed sentence for image 1839280.\n",
            "Processed sentence for image 31915.\n"
          ]
        },
        {
          "output_type": "stream",
          "name": "stderr",
          "text": [
            " 43%|████▎     | 1701/4000 [03:44<03:55,  9.77it/s]"
          ]
        },
        {
          "output_type": "stream",
          "name": "stdout",
          "text": [
            "Processed sentence for image 71314.\n",
            "Processed sentence for image 116742.\n",
            "Processed sentence for image 1305690.\n"
          ]
        },
        {
          "output_type": "stream",
          "name": "stderr",
          "text": [
            " 43%|████▎     | 1705/4000 [03:44<03:42, 10.32it/s]"
          ]
        },
        {
          "output_type": "stream",
          "name": "stdout",
          "text": [
            "Processed sentence for image 168936.\n",
            "Processed sentence for image 1804801.\n",
            "Processed sentence for image 64176.\n"
          ]
        },
        {
          "output_type": "stream",
          "name": "stderr",
          "text": [
            " 43%|████▎     | 1709/4000 [03:44<03:26, 11.09it/s]"
          ]
        },
        {
          "output_type": "stream",
          "name": "stdout",
          "text": [
            "Processed sentence for image 547370.\n",
            "Processed sentence for image 49622.\n",
            "Processed sentence for image 928023.\n",
            "Processed sentence for image 33479.\n"
          ]
        },
        {
          "output_type": "stream",
          "name": "stderr",
          "text": [
            "\r 43%|████▎     | 1711/4000 [03:44<03:27, 11.05it/s]"
          ]
        },
        {
          "output_type": "stream",
          "name": "stdout",
          "text": [
            "Processed sentence for image 9870.\n",
            "Processed sentence for image 1156260.\n"
          ]
        },
        {
          "output_type": "stream",
          "name": "stderr",
          "text": [
            "\r 43%|████▎     | 1713/4000 [03:45<03:56,  9.68it/s]"
          ]
        },
        {
          "output_type": "stream",
          "name": "stdout",
          "text": [
            "Processed sentence for image 951168.\n",
            "Processed sentence for image 33128.\n",
            "Processed sentence for image 653675.\n"
          ]
        },
        {
          "output_type": "stream",
          "name": "stderr",
          "text": [
            " 43%|████▎     | 1717/4000 [03:45<03:26, 11.05it/s]"
          ]
        },
        {
          "output_type": "stream",
          "name": "stdout",
          "text": [
            "Processed sentence for image 6145.\n",
            "Processed sentence for image 110211.\n",
            "Processed sentence for image 1009286.\n"
          ]
        },
        {
          "output_type": "stream",
          "name": "stderr",
          "text": [
            " 43%|████▎     | 1721/4000 [03:45<02:58, 12.78it/s]"
          ]
        },
        {
          "output_type": "stream",
          "name": "stdout",
          "text": [
            "Processed sentence for image 2132871.\n",
            "Processed sentence for image 572738.\n",
            "Processed sentence for image 62538.\n",
            "Processed sentence for image 1993288.\n"
          ]
        },
        {
          "output_type": "stream",
          "name": "stderr",
          "text": [
            "\r 43%|████▎     | 1723/4000 [03:46<03:15, 11.65it/s]"
          ]
        },
        {
          "output_type": "stream",
          "name": "stdout",
          "text": [
            "Processed sentence for image 470366.\n",
            "Processed sentence for image 1016444.\n",
            "Processed sentence for image 1403254.\n"
          ]
        },
        {
          "output_type": "stream",
          "name": "stderr",
          "text": [
            " 43%|████▎     | 1727/4000 [03:46<03:00, 12.62it/s]"
          ]
        },
        {
          "output_type": "stream",
          "name": "stdout",
          "text": [
            "Processed sentence for image 694255.\n",
            "Processed sentence for image 73475.\n",
            "Processed sentence for image 90262.\n",
            "Processed sentence for image 1034000.\n"
          ]
        },
        {
          "output_type": "stream",
          "name": "stderr",
          "text": [
            " 43%|████▎     | 1731/4000 [03:46<02:54, 13.02it/s]"
          ]
        },
        {
          "output_type": "stream",
          "name": "stdout",
          "text": [
            "Processed sentence for image 74998.\n",
            "Processed sentence for image 322142.\n",
            "Processed sentence for image 562967.\n"
          ]
        },
        {
          "output_type": "stream",
          "name": "stderr",
          "text": [
            "\r 43%|████▎     | 1733/4000 [03:46<02:46, 13.59it/s]"
          ]
        },
        {
          "output_type": "stream",
          "name": "stdout",
          "text": [
            "Processed sentence for image 41188.\n",
            "Processed sentence for image 1377967.\n",
            "Processed sentence for image 1032623.\n"
          ]
        },
        {
          "output_type": "stream",
          "name": "stderr",
          "text": [
            " 43%|████▎     | 1737/4000 [03:47<02:41, 14.01it/s]"
          ]
        },
        {
          "output_type": "stream",
          "name": "stdout",
          "text": [
            "Processed sentence for image 1717237.\n",
            "Processed sentence for image 65344.\n",
            "Processed sentence for image 7327.\n",
            "Processed sentence for image 127671.\n"
          ]
        },
        {
          "output_type": "stream",
          "name": "stderr",
          "text": [
            " 44%|████▎     | 1741/4000 [03:47<02:31, 14.89it/s]"
          ]
        },
        {
          "output_type": "stream",
          "name": "stdout",
          "text": [
            "Processed sentence for image 325967.\n",
            "Processed sentence for image 73791.\n",
            "Processed sentence for image 7691.\n",
            "Processed sentence for image 459632.\n"
          ]
        },
        {
          "output_type": "stream",
          "name": "stderr",
          "text": [
            " 44%|████▎     | 1746/4000 [03:47<02:32, 14.74it/s]"
          ]
        },
        {
          "output_type": "stream",
          "name": "stdout",
          "text": [
            "Processed sentence for image 291682.\n",
            "Processed sentence for image 74006.\n",
            "Processed sentence for image 1702774.\n",
            "Processed sentence for image 72889.\n"
          ]
        },
        {
          "output_type": "stream",
          "name": "stderr",
          "text": [
            "\r 44%|████▎     | 1748/4000 [03:47<02:41, 13.91it/s]"
          ]
        },
        {
          "output_type": "stream",
          "name": "stdout",
          "text": [
            "Processed sentence for image 1475544.\n",
            "Processed sentence for image 93842.\n",
            "Processed sentence for image 1315343.\n"
          ]
        },
        {
          "output_type": "stream",
          "name": "stderr",
          "text": [
            "\r 44%|████▍     | 1750/4000 [03:48<03:06, 12.09it/s]"
          ]
        },
        {
          "output_type": "stream",
          "name": "stdout",
          "text": [
            "Processed sentence for image 21883.\n",
            "Processed sentence for image 73060.\n"
          ]
        },
        {
          "output_type": "stream",
          "name": "stderr",
          "text": [
            " 44%|████▍     | 1754/4000 [03:48<03:25, 10.93it/s]"
          ]
        },
        {
          "output_type": "stream",
          "name": "stdout",
          "text": [
            "Processed sentence for image 33700.\n",
            "Processed sentence for image 1003370.\n",
            "Processed sentence for image 258549.\n"
          ]
        },
        {
          "output_type": "stream",
          "name": "stderr",
          "text": [
            "\r 44%|████▍     | 1756/4000 [03:48<03:56,  9.51it/s]"
          ]
        },
        {
          "output_type": "stream",
          "name": "stdout",
          "text": [
            "Processed sentence for image 1058636.\n",
            "Processed sentence for image 62976.\n"
          ]
        },
        {
          "output_type": "stream",
          "name": "stderr",
          "text": [
            "\r 44%|████▍     | 1758/4000 [03:49<04:39,  8.02it/s]"
          ]
        },
        {
          "output_type": "stream",
          "name": "stdout",
          "text": [
            "Processed sentence for image 91544.\n",
            "Processed sentence for image 36722.\n"
          ]
        },
        {
          "output_type": "stream",
          "name": "stderr",
          "text": [
            "\r 44%|████▍     | 1759/4000 [03:49<04:53,  7.63it/s]"
          ]
        },
        {
          "output_type": "stream",
          "name": "stdout",
          "text": [
            "Processed sentence for image 65477.\n",
            "Processed sentence for image 701575.\n"
          ]
        },
        {
          "output_type": "stream",
          "name": "stderr",
          "text": [
            " 44%|████▍     | 1763/4000 [03:49<04:07,  9.04it/s]"
          ]
        },
        {
          "output_type": "stream",
          "name": "stdout",
          "text": [
            "Processed sentence for image 504352.\n",
            "Processed sentence for image 516925.\n",
            "Processed sentence for image 24063.\n"
          ]
        },
        {
          "output_type": "stream",
          "name": "stderr",
          "text": [
            " 44%|████▍     | 1766/4000 [03:49<03:31, 10.55it/s]"
          ]
        },
        {
          "output_type": "stream",
          "name": "stdout",
          "text": [
            "Processed sentence for image 553001.\n",
            "Processed sentence for image 36320.\n",
            "Processed sentence for image 780375.\n",
            "Processed sentence for image 65561.\n"
          ]
        },
        {
          "output_type": "stream",
          "name": "stderr",
          "text": [
            "\r 44%|████▍     | 1768/4000 [03:50<03:26, 10.82it/s]"
          ]
        },
        {
          "output_type": "stream",
          "name": "stdout",
          "text": [
            "Processed sentence for image 478494.\n",
            "Processed sentence for image 1039719.\n"
          ]
        },
        {
          "output_type": "stream",
          "name": "stderr",
          "text": [
            "\r 44%|████▍     | 1770/4000 [03:50<03:35, 10.36it/s]"
          ]
        },
        {
          "output_type": "stream",
          "name": "stdout",
          "text": [
            "Processed sentence for image 529322.\n",
            "Processed sentence for image 1301353.\n"
          ]
        },
        {
          "output_type": "stream",
          "name": "stderr",
          "text": [
            "\r 44%|████▍     | 1772/4000 [03:50<03:45,  9.88it/s]"
          ]
        },
        {
          "output_type": "stream",
          "name": "stdout",
          "text": [
            "Processed sentence for image 21598.\n",
            "Processed sentence for image 697264.\n"
          ]
        },
        {
          "output_type": "stream",
          "name": "stderr",
          "text": [
            " 44%|████▍     | 1775/4000 [03:50<04:03,  9.14it/s]"
          ]
        },
        {
          "output_type": "stream",
          "name": "stdout",
          "text": [
            "Processed sentence for image 1123072.\n",
            "Processed sentence for image 770560.\n",
            "Processed sentence for image 14902.\n"
          ]
        },
        {
          "output_type": "stream",
          "name": "stderr",
          "text": [
            "\r 44%|████▍     | 1777/4000 [03:50<03:23, 10.90it/s]"
          ]
        },
        {
          "output_type": "stream",
          "name": "stdout",
          "text": [
            "Processed sentence for image 1073089.\n",
            "Processed sentence for image 30223.\n",
            "Processed sentence for image 1372843.\n"
          ]
        },
        {
          "output_type": "stream",
          "name": "stderr",
          "text": [
            " 45%|████▍     | 1781/4000 [03:51<03:31, 10.49it/s]"
          ]
        },
        {
          "output_type": "stream",
          "name": "stdout",
          "text": [
            "Processed sentence for image 652919.\n",
            "Processed sentence for image 1114960.\n",
            "Processed sentence for image 628144.\n"
          ]
        },
        {
          "output_type": "stream",
          "name": "stderr",
          "text": [
            "\r 45%|████▍     | 1783/4000 [03:51<03:24, 10.82it/s]"
          ]
        },
        {
          "output_type": "stream",
          "name": "stdout",
          "text": [
            "Processed sentence for image 94644.\n",
            "Processed sentence for image 73213.\n"
          ]
        },
        {
          "output_type": "stream",
          "name": "stderr",
          "text": [
            "\r 45%|████▍     | 1785/4000 [03:51<03:53,  9.50it/s]"
          ]
        },
        {
          "output_type": "stream",
          "name": "stdout",
          "text": [
            "Processed sentence for image 322419.\n",
            "Processed sentence for image 73280.\n"
          ]
        },
        {
          "output_type": "stream",
          "name": "stderr",
          "text": [
            " 45%|████▍     | 1788/4000 [03:52<04:30,  8.17it/s]"
          ]
        },
        {
          "output_type": "stream",
          "name": "stdout",
          "text": [
            "Processed sentence for image 1485776.\n",
            "Processed sentence for image 973233.\n"
          ]
        },
        {
          "output_type": "stream",
          "name": "stderr",
          "text": [
            " 45%|████▍     | 1790/4000 [03:52<04:42,  7.82it/s]"
          ]
        },
        {
          "output_type": "stream",
          "name": "stdout",
          "text": [
            "Processed sentence for image 73236.\n",
            "Processed sentence for image 1056248.\n"
          ]
        },
        {
          "output_type": "stream",
          "name": "stderr",
          "text": [
            "\r 45%|████▍     | 1791/4000 [03:52<05:33,  6.63it/s]"
          ]
        },
        {
          "output_type": "stream",
          "name": "stdout",
          "text": [
            "Processed sentence for image 21836.\n",
            "Processed sentence for image 125160.\n"
          ]
        },
        {
          "output_type": "stream",
          "name": "stderr",
          "text": [
            " 45%|████▍     | 1794/4000 [03:53<05:19,  6.90it/s]"
          ]
        },
        {
          "output_type": "stream",
          "name": "stdout",
          "text": [
            "Processed sentence for image 109607.\n",
            "Processed sentence for image 1106595.\n"
          ]
        },
        {
          "output_type": "stream",
          "name": "stderr",
          "text": [
            "\r 45%|████▍     | 1796/4000 [03:53<04:37,  7.93it/s]"
          ]
        },
        {
          "output_type": "stream",
          "name": "stdout",
          "text": [
            "Processed sentence for image 1056846.\n",
            "Processed sentence for image 70364.\n",
            "Processed sentence for image 528364.\n"
          ]
        },
        {
          "output_type": "stream",
          "name": "stderr",
          "text": [
            "\r 45%|████▍     | 1798/4000 [03:53<04:13,  8.70it/s]"
          ]
        },
        {
          "output_type": "stream",
          "name": "stdout",
          "text": [
            "Processed sentence for image 15649.\n",
            "Processed sentence for image 1039325.\n"
          ]
        },
        {
          "output_type": "stream",
          "name": "stderr",
          "text": [
            " 45%|████▌     | 1801/4000 [03:53<04:32,  8.06it/s]"
          ]
        },
        {
          "output_type": "stream",
          "name": "stdout",
          "text": [
            "Processed sentence for image 506328.\n",
            "Processed sentence for image 1286081.\n"
          ]
        },
        {
          "output_type": "stream",
          "name": "stderr",
          "text": [
            " 45%|████▌     | 1803/4000 [03:54<04:54,  7.47it/s]"
          ]
        },
        {
          "output_type": "stream",
          "name": "stdout",
          "text": [
            "Processed sentence for image 1324831.\n",
            "Processed sentence for image 378072.\n"
          ]
        },
        {
          "output_type": "stream",
          "name": "stderr",
          "text": [
            " 45%|████▌     | 1805/4000 [03:54<04:38,  7.89it/s]"
          ]
        },
        {
          "output_type": "stream",
          "name": "stdout",
          "text": [
            "Processed sentence for image 1451345.\n",
            "Processed sentence for image 122075.\n"
          ]
        },
        {
          "output_type": "stream",
          "name": "stderr",
          "text": [
            " 45%|████▌     | 1807/4000 [03:54<04:58,  7.36it/s]"
          ]
        },
        {
          "output_type": "stream",
          "name": "stdout",
          "text": [
            "Processed sentence for image 285922.\n",
            "Processed sentence for image 414982.\n"
          ]
        },
        {
          "output_type": "stream",
          "name": "stderr",
          "text": [
            " 45%|████▌     | 1809/4000 [03:54<04:42,  7.74it/s]"
          ]
        },
        {
          "output_type": "stream",
          "name": "stdout",
          "text": [
            "Processed sentence for image 634691.\n",
            "Processed sentence for image 1380351.\n"
          ]
        },
        {
          "output_type": "stream",
          "name": "stderr",
          "text": [
            "\r 45%|████▌     | 1811/4000 [03:55<03:46,  9.67it/s]"
          ]
        },
        {
          "output_type": "stream",
          "name": "stdout",
          "text": [
            "Processed sentence for image 109247.\n",
            "Processed sentence for image 1845563.\n",
            "Processed sentence for image 1114829.\n"
          ]
        },
        {
          "output_type": "stream",
          "name": "stderr",
          "text": [
            " 45%|████▌     | 1815/4000 [03:55<03:33, 10.22it/s]"
          ]
        },
        {
          "output_type": "stream",
          "name": "stdout",
          "text": [
            "Processed sentence for image 122206.\n",
            "Processed sentence for image 34667.\n",
            "Processed sentence for image 625870.\n"
          ]
        },
        {
          "output_type": "stream",
          "name": "stderr",
          "text": [
            "\r 45%|████▌     | 1817/4000 [03:55<03:44,  9.73it/s]"
          ]
        },
        {
          "output_type": "stream",
          "name": "stdout",
          "text": [
            "Processed sentence for image 73375.\n",
            "Processed sentence for image 139163.\n",
            "Processed sentence for image 1085835.\n"
          ]
        },
        {
          "output_type": "stream",
          "name": "stderr",
          "text": [
            "\r 45%|████▌     | 1819/4000 [03:55<03:27, 10.49it/s]"
          ]
        },
        {
          "output_type": "stream",
          "name": "stdout",
          "text": [
            "Processed sentence for image 116712.\n",
            "Processed sentence for image 754338.\n"
          ]
        },
        {
          "output_type": "stream",
          "name": "stderr",
          "text": [
            " 46%|████▌     | 1822/4000 [03:56<04:10,  8.71it/s]"
          ]
        },
        {
          "output_type": "stream",
          "name": "stdout",
          "text": [
            "Processed sentence for image 1299361.\n",
            "Processed sentence for image 420655.\n"
          ]
        },
        {
          "output_type": "stream",
          "name": "stderr",
          "text": [
            "\r 46%|████▌     | 1823/4000 [03:56<04:21,  8.32it/s]"
          ]
        },
        {
          "output_type": "stream",
          "name": "stdout",
          "text": [
            "Processed sentence for image 32115.\n",
            "Processed sentence for image 247323.\n"
          ]
        },
        {
          "output_type": "stream",
          "name": "stderr",
          "text": [
            " 46%|████▌     | 1827/4000 [03:56<03:52,  9.35it/s]"
          ]
        },
        {
          "output_type": "stream",
          "name": "stdout",
          "text": [
            "Processed sentence for image 62539.\n",
            "Processed sentence for image 10857.\n",
            "Processed sentence for image 1053812.\n"
          ]
        },
        {
          "output_type": "stream",
          "name": "stderr",
          "text": [
            " 46%|████▌     | 1829/4000 [03:57<04:26,  8.15it/s]"
          ]
        },
        {
          "output_type": "stream",
          "name": "stdout",
          "text": [
            "Processed sentence for image 1405294.\n",
            "Processed sentence for image 1027939.\n"
          ]
        },
        {
          "output_type": "stream",
          "name": "stderr",
          "text": [
            " 46%|████▌     | 1832/4000 [03:57<03:36, 10.03it/s]"
          ]
        },
        {
          "output_type": "stream",
          "name": "stdout",
          "text": [
            "Processed sentence for image 309197.\n",
            "Processed sentence for image 659.\n",
            "Processed sentence for image 759006.\n"
          ]
        },
        {
          "output_type": "stream",
          "name": "stderr",
          "text": [
            "\r 46%|████▌     | 1834/4000 [03:57<04:27,  8.09it/s]"
          ]
        },
        {
          "output_type": "stream",
          "name": "stdout",
          "text": [
            "Processed sentence for image 326980.\n",
            "Processed sentence for image 1405159.\n"
          ]
        },
        {
          "output_type": "stream",
          "name": "stderr",
          "text": [
            " 46%|████▌     | 1836/4000 [03:57<04:29,  8.03it/s]"
          ]
        },
        {
          "output_type": "stream",
          "name": "stdout",
          "text": [
            "Processed sentence for image 111723.\n",
            "Processed sentence for image 517693.\n",
            "Processed sentence for image 810852.\n",
            "Processed sentence for image 73480.\n"
          ]
        },
        {
          "output_type": "stream",
          "name": "stderr",
          "text": [
            " 46%|████▌     | 1841/4000 [03:58<03:21, 10.72it/s]"
          ]
        },
        {
          "output_type": "stream",
          "name": "stdout",
          "text": [
            "Processed sentence for image 72145.\n",
            "Processed sentence for image 526685.\n",
            "Processed sentence for image 416790.\n"
          ]
        },
        {
          "output_type": "stream",
          "name": "stderr",
          "text": [
            "\r 46%|████▌     | 1843/4000 [03:58<03:30, 10.25it/s]"
          ]
        },
        {
          "output_type": "stream",
          "name": "stdout",
          "text": [
            "Processed sentence for image 45759.\n",
            "Processed sentence for image 1847840.\n"
          ]
        },
        {
          "output_type": "stream",
          "name": "stderr",
          "text": [
            "\r 46%|████▌     | 1845/4000 [03:58<03:34, 10.03it/s]"
          ]
        },
        {
          "output_type": "stream",
          "name": "stdout",
          "text": [
            "Processed sentence for image 257998.\n",
            "Processed sentence for image 1495029.\n",
            "Processed sentence for image 425019.\n"
          ]
        },
        {
          "output_type": "stream",
          "name": "stderr",
          "text": [
            " 46%|████▌     | 1849/4000 [03:59<03:04, 11.67it/s]"
          ]
        },
        {
          "output_type": "stream",
          "name": "stdout",
          "text": [
            "Processed sentence for image 1352098.\n",
            "Processed sentence for image 31763.\n",
            "Processed sentence for image 112084.\n"
          ]
        },
        {
          "output_type": "stream",
          "name": "stderr",
          "text": [
            " 46%|████▋     | 1853/4000 [03:59<03:00, 11.88it/s]"
          ]
        },
        {
          "output_type": "stream",
          "name": "stdout",
          "text": [
            "Processed sentence for image 72021.\n",
            "Processed sentence for image 1018536.\n",
            "Processed sentence for image 1036168.\n",
            "Processed sentence for image 538695.\n"
          ]
        },
        {
          "output_type": "stream",
          "name": "stderr",
          "text": [
            "\r 46%|████▋     | 1855/4000 [03:59<03:13, 11.09it/s]"
          ]
        },
        {
          "output_type": "stream",
          "name": "stdout",
          "text": [
            "Processed sentence for image 62836.\n",
            "Processed sentence for image 116412.\n"
          ]
        },
        {
          "output_type": "stream",
          "name": "stderr",
          "text": [
            "\r 46%|████▋     | 1857/4000 [03:59<03:45,  9.49it/s]"
          ]
        },
        {
          "output_type": "stream",
          "name": "stdout",
          "text": [
            "Processed sentence for image 665045.\n",
            "Processed sentence for image 13853.\n",
            "Processed sentence for image 1761233.\n"
          ]
        },
        {
          "output_type": "stream",
          "name": "stderr",
          "text": [
            "\r 46%|████▋     | 1859/4000 [04:00<03:26, 10.36it/s]"
          ]
        },
        {
          "output_type": "stream",
          "name": "stdout",
          "text": [
            "Processed sentence for image 1000120.\n",
            "Processed sentence for image 73826.\n"
          ]
        },
        {
          "output_type": "stream",
          "name": "stderr",
          "text": [
            " 47%|████▋     | 1863/4000 [04:00<03:38,  9.77it/s]"
          ]
        },
        {
          "output_type": "stream",
          "name": "stdout",
          "text": [
            "Processed sentence for image 412946.\n",
            "Processed sentence for image 768353.\n",
            "Processed sentence for image 15592.\n"
          ]
        },
        {
          "output_type": "stream",
          "name": "stderr",
          "text": [
            "\r 47%|████▋     | 1865/4000 [04:00<03:51,  9.22it/s]"
          ]
        },
        {
          "output_type": "stream",
          "name": "stdout",
          "text": [
            "Processed sentence for image 585060.\n",
            "Processed sentence for image 232534.\n"
          ]
        },
        {
          "output_type": "stream",
          "name": "stderr",
          "text": [
            " 47%|████▋     | 1868/4000 [04:01<03:45,  9.43it/s]"
          ]
        },
        {
          "output_type": "stream",
          "name": "stdout",
          "text": [
            "Processed sentence for image 22337.\n",
            "Processed sentence for image 73501.\n",
            "Processed sentence for image 50788.\n"
          ]
        },
        {
          "output_type": "stream",
          "name": "stderr",
          "text": [
            "\r 47%|████▋     | 1870/4000 [04:01<03:34,  9.95it/s]"
          ]
        },
        {
          "output_type": "stream",
          "name": "stdout",
          "text": [
            "Processed sentence for image 1040400.\n",
            "Processed sentence for image 114694.\n"
          ]
        },
        {
          "output_type": "stream",
          "name": "stderr",
          "text": [
            "\r 47%|████▋     | 1872/4000 [04:01<03:53,  9.10it/s]"
          ]
        },
        {
          "output_type": "stream",
          "name": "stdout",
          "text": [
            "Processed sentence for image 122279.\n",
            "Processed sentence for image 64723.\n"
          ]
        },
        {
          "output_type": "stream",
          "name": "stderr",
          "text": [
            " 47%|████▋     | 1874/4000 [04:01<03:55,  9.02it/s]"
          ]
        },
        {
          "output_type": "stream",
          "name": "stdout",
          "text": [
            "Processed sentence for image 74518.\n",
            "Processed sentence for image 1866671.\n",
            "Processed sentence for image 1995061.\n"
          ]
        },
        {
          "output_type": "stream",
          "name": "stderr",
          "text": [
            " 47%|████▋     | 1878/4000 [04:01<02:53, 12.25it/s]"
          ]
        },
        {
          "output_type": "stream",
          "name": "stdout",
          "text": [
            "Processed sentence for image 1068402.\n",
            "Processed sentence for image 735151.\n",
            "Processed sentence for image 530953.\n",
            "Processed sentence for image 136290.\n"
          ]
        },
        {
          "output_type": "stream",
          "name": "stderr",
          "text": [
            " 47%|████▋     | 1882/4000 [04:02<02:49, 12.46it/s]"
          ]
        },
        {
          "output_type": "stream",
          "name": "stdout",
          "text": [
            "Processed sentence for image 521612.\n",
            "Processed sentence for image 63040.\n",
            "Processed sentence for image 923950.\n"
          ]
        },
        {
          "output_type": "stream",
          "name": "stderr",
          "text": [
            "\r 47%|████▋     | 1884/4000 [04:02<02:48, 12.59it/s]"
          ]
        },
        {
          "output_type": "stream",
          "name": "stdout",
          "text": [
            "Processed sentence for image 506804.\n",
            "Processed sentence for image 552068.\n",
            "Processed sentence for image 115051.\n"
          ]
        },
        {
          "output_type": "stream",
          "name": "stderr",
          "text": [
            " 47%|████▋     | 1888/4000 [04:02<02:46, 12.68it/s]"
          ]
        },
        {
          "output_type": "stream",
          "name": "stdout",
          "text": [
            "Processed sentence for image 896.\n",
            "Processed sentence for image 654966.\n",
            "Processed sentence for image 442195.\n"
          ]
        },
        {
          "output_type": "stream",
          "name": "stderr",
          "text": [
            "\r 47%|████▋     | 1890/4000 [04:02<02:50, 12.39it/s]"
          ]
        },
        {
          "output_type": "stream",
          "name": "stdout",
          "text": [
            "Processed sentence for image 1767740.\n",
            "Processed sentence for image 71772.\n",
            "Processed sentence for image 71030.\n"
          ]
        },
        {
          "output_type": "stream",
          "name": "stderr",
          "text": [
            " 47%|████▋     | 1894/4000 [04:03<02:42, 12.95it/s]"
          ]
        },
        {
          "output_type": "stream",
          "name": "stdout",
          "text": [
            "Processed sentence for image 1063211.\n",
            "Processed sentence for image 490660.\n",
            "Processed sentence for image 715454.\n"
          ]
        },
        {
          "output_type": "stream",
          "name": "stderr",
          "text": [
            " 47%|████▋     | 1898/4000 [04:03<02:39, 13.21it/s]"
          ]
        },
        {
          "output_type": "stream",
          "name": "stdout",
          "text": [
            "Processed sentence for image 532648.\n",
            "Processed sentence for image 1016082.\n",
            "Processed sentence for image 424317.\n",
            "Processed sentence for image 331285.\n"
          ]
        },
        {
          "output_type": "stream",
          "name": "stderr",
          "text": [
            "\r 48%|████▊     | 1900/4000 [04:03<02:25, 14.48it/s]"
          ]
        },
        {
          "output_type": "stream",
          "name": "stdout",
          "text": [
            "Processed sentence for image 1153171.\n",
            "Processed sentence for image 123963.\n",
            "Processed sentence for image 1698466.\n"
          ]
        },
        {
          "output_type": "stream",
          "name": "stderr",
          "text": [
            " 48%|████▊     | 1904/4000 [04:03<02:47, 12.50it/s]"
          ]
        },
        {
          "output_type": "stream",
          "name": "stdout",
          "text": [
            "Processed sentence for image 527160.\n",
            "Processed sentence for image 49376.\n",
            "Processed sentence for image 1119314.\n"
          ]
        },
        {
          "output_type": "stream",
          "name": "stderr",
          "text": [
            " 48%|████▊     | 1908/4000 [04:04<02:24, 14.45it/s]"
          ]
        },
        {
          "output_type": "stream",
          "name": "stdout",
          "text": [
            "Processed sentence for image 791889.\n",
            "Processed sentence for image 1752043.\n",
            "Processed sentence for image 305730.\n",
            "Processed sentence for image 74214.\n"
          ]
        },
        {
          "output_type": "stream",
          "name": "stderr",
          "text": [
            " 48%|████▊     | 1912/4000 [04:04<02:18, 15.08it/s]"
          ]
        },
        {
          "output_type": "stream",
          "name": "stdout",
          "text": [
            "Processed sentence for image 70887.\n",
            "Processed sentence for image 93253.\n",
            "Processed sentence for image 34569.\n",
            "Processed sentence for image 94312.\n"
          ]
        },
        {
          "output_type": "stream",
          "name": "stderr",
          "text": [
            "\r 48%|████▊     | 1914/4000 [04:04<02:29, 13.92it/s]"
          ]
        },
        {
          "output_type": "stream",
          "name": "stdout",
          "text": [
            "Processed sentence for image 1420051.\n",
            "Processed sentence for image 65346.\n",
            "Processed sentence for image 72778.\n"
          ]
        },
        {
          "output_type": "stream",
          "name": "stderr",
          "text": [
            " 48%|████▊     | 1918/4000 [04:04<02:27, 14.15it/s]"
          ]
        },
        {
          "output_type": "stream",
          "name": "stdout",
          "text": [
            "Processed sentence for image 1127185.\n",
            "Processed sentence for image 49666.\n",
            "Processed sentence for image 115010.\n"
          ]
        },
        {
          "output_type": "stream",
          "name": "stderr",
          "text": [
            "\r 48%|████▊     | 1920/4000 [04:05<02:21, 14.66it/s]"
          ]
        },
        {
          "output_type": "stream",
          "name": "stdout",
          "text": [
            "Processed sentence for image 1342511.\n",
            "Processed sentence for image 479837.\n",
            "Processed sentence for image 6020.\n",
            "Processed sentence for image 320965.\n"
          ]
        },
        {
          "output_type": "stream",
          "name": "stderr",
          "text": [
            " 48%|████▊     | 1925/4000 [04:05<02:19, 14.90it/s]"
          ]
        },
        {
          "output_type": "stream",
          "name": "stdout",
          "text": [
            "Processed sentence for image 33706.\n",
            "Processed sentence for image 722505.\n",
            "Processed sentence for image 116242.\n"
          ]
        },
        {
          "output_type": "stream",
          "name": "stderr",
          "text": [
            " 48%|████▊     | 1930/4000 [04:05<02:07, 16.30it/s]"
          ]
        },
        {
          "output_type": "stream",
          "name": "stdout",
          "text": [
            "Processed sentence for image 525352.\n",
            "Processed sentence for image 33364.\n",
            "Processed sentence for image 507490.\n",
            "Processed sentence for image 430671.\n",
            "Processed sentence for image 71338.\n"
          ]
        },
        {
          "output_type": "stream",
          "name": "stderr",
          "text": [
            "\r 48%|████▊     | 1932/4000 [04:05<02:23, 14.37it/s]"
          ]
        },
        {
          "output_type": "stream",
          "name": "stdout",
          "text": [
            "Processed sentence for image 64130.\n",
            "Processed sentence for image 422967.\n",
            "Processed sentence for image 1451409.\n"
          ]
        },
        {
          "output_type": "stream",
          "name": "stderr",
          "text": [
            " 48%|████▊     | 1936/4000 [04:06<02:26, 14.14it/s]"
          ]
        },
        {
          "output_type": "stream",
          "name": "stdout",
          "text": [
            "Processed sentence for image 918700.\n",
            "Processed sentence for image 516394.\n",
            "Processed sentence for image 536116.\n",
            "Processed sentence for image 71236.\n"
          ]
        },
        {
          "output_type": "stream",
          "name": "stderr",
          "text": [
            " 48%|████▊     | 1940/4000 [04:06<02:33, 13.39it/s]"
          ]
        },
        {
          "output_type": "stream",
          "name": "stdout",
          "text": [
            "Processed sentence for image 1005945.\n",
            "Processed sentence for image 110512.\n",
            "Processed sentence for image 68107.\n"
          ]
        },
        {
          "output_type": "stream",
          "name": "stderr",
          "text": [
            "\r 49%|████▊     | 1942/4000 [04:06<02:39, 12.91it/s]"
          ]
        },
        {
          "output_type": "stream",
          "name": "stdout",
          "text": [
            "Processed sentence for image 73514.\n",
            "Processed sentence for image 34620.\n",
            "Processed sentence for image 1043329.\n"
          ]
        },
        {
          "output_type": "stream",
          "name": "stderr",
          "text": [
            " 49%|████▊     | 1946/4000 [04:06<02:37, 13.08it/s]"
          ]
        },
        {
          "output_type": "stream",
          "name": "stdout",
          "text": [
            "Processed sentence for image 1749456.\n",
            "Processed sentence for image 1349259.\n",
            "Processed sentence for image 319163.\n"
          ]
        },
        {
          "output_type": "stream",
          "name": "stderr",
          "text": [
            "\r 49%|████▊     | 1948/4000 [04:07<02:38, 12.94it/s]"
          ]
        },
        {
          "output_type": "stream",
          "name": "stdout",
          "text": [
            "Processed sentence for image 423667.\n",
            "Processed sentence for image 841659.\n",
            "Processed sentence for image 769533.\n"
          ]
        },
        {
          "output_type": "stream",
          "name": "stderr",
          "text": [
            "\r 49%|████▉     | 1950/4000 [04:07<02:49, 12.08it/s]"
          ]
        },
        {
          "output_type": "stream",
          "name": "stdout",
          "text": [
            "Processed sentence for image 62463.\n",
            "Processed sentence for image 128478.\n"
          ]
        },
        {
          "output_type": "stream",
          "name": "stderr",
          "text": [
            " 49%|████▉     | 1954/4000 [04:07<03:01, 11.30it/s]"
          ]
        },
        {
          "output_type": "stream",
          "name": "stdout",
          "text": [
            "Processed sentence for image 64090.\n",
            "Processed sentence for image 910373.\n",
            "Processed sentence for image 316634.\n"
          ]
        },
        {
          "output_type": "stream",
          "name": "stderr",
          "text": [
            "\r 49%|████▉     | 1956/4000 [04:07<02:56, 11.59it/s]"
          ]
        },
        {
          "output_type": "stream",
          "name": "stdout",
          "text": [
            "Processed sentence for image 113342.\n",
            "Processed sentence for image 7444.\n",
            "Processed sentence for image 595603.\n"
          ]
        },
        {
          "output_type": "stream",
          "name": "stderr",
          "text": [
            " 49%|████▉     | 1960/4000 [04:08<02:48, 12.13it/s]"
          ]
        },
        {
          "output_type": "stream",
          "name": "stdout",
          "text": [
            "Processed sentence for image 158142.\n",
            "Processed sentence for image 71504.\n",
            "Processed sentence for image 72871.\n"
          ]
        },
        {
          "output_type": "stream",
          "name": "stderr",
          "text": [
            "\r 49%|████▉     | 1962/4000 [04:08<02:38, 12.89it/s]"
          ]
        },
        {
          "output_type": "stream",
          "name": "stdout",
          "text": [
            "Processed sentence for image 418335.\n",
            "Processed sentence for image 70437.\n",
            "Processed sentence for image 70574.\n"
          ]
        },
        {
          "output_type": "stream",
          "name": "stderr",
          "text": [
            " 49%|████▉     | 1966/4000 [04:08<02:48, 12.08it/s]"
          ]
        },
        {
          "output_type": "stream",
          "name": "stdout",
          "text": [
            "Processed sentence for image 92049.\n",
            "Processed sentence for image 425427.\n",
            "Processed sentence for image 1419091.\n"
          ]
        },
        {
          "output_type": "stream",
          "name": "stderr",
          "text": [
            "\r 49%|████▉     | 1968/4000 [04:08<02:45, 12.29it/s]"
          ]
        },
        {
          "output_type": "stream",
          "name": "stdout",
          "text": [
            "Processed sentence for image 115482.\n",
            "Processed sentence for image 73859.\n",
            "Processed sentence for image 516449.\n"
          ]
        },
        {
          "output_type": "stream",
          "name": "stderr",
          "text": [
            " 49%|████▉     | 1972/4000 [04:09<02:31, 13.37it/s]"
          ]
        },
        {
          "output_type": "stream",
          "name": "stdout",
          "text": [
            "Processed sentence for image 90531.\n",
            "Processed sentence for image 593253.\n",
            "Processed sentence for image 1374916.\n",
            "Processed sentence for image 985829.\n"
          ]
        },
        {
          "output_type": "stream",
          "name": "stderr",
          "text": [
            " 49%|████▉     | 1976/4000 [04:09<02:20, 14.39it/s]"
          ]
        },
        {
          "output_type": "stream",
          "name": "stdout",
          "text": [
            "Processed sentence for image 528486.\n",
            "Processed sentence for image 1752576.\n",
            "Processed sentence for image 114751.\n",
            "Processed sentence for image 1287252.\n"
          ]
        },
        {
          "output_type": "stream",
          "name": "stderr",
          "text": [
            " 50%|████▉     | 1980/4000 [04:09<02:21, 14.29it/s]"
          ]
        },
        {
          "output_type": "stream",
          "name": "stdout",
          "text": [
            "Processed sentence for image 116376.\n",
            "Processed sentence for image 63071.\n",
            "Processed sentence for image 598984.\n"
          ]
        },
        {
          "output_type": "stream",
          "name": "stderr",
          "text": [
            "\r 50%|████▉     | 1982/4000 [04:09<02:22, 14.20it/s]"
          ]
        },
        {
          "output_type": "stream",
          "name": "stdout",
          "text": [
            "Processed sentence for image 1107854.\n",
            "Processed sentence for image 1994196.\n",
            "Processed sentence for image 1092876.\n"
          ]
        },
        {
          "output_type": "stream",
          "name": "stderr",
          "text": [
            " 50%|████▉     | 1986/4000 [04:10<02:26, 13.71it/s]"
          ]
        },
        {
          "output_type": "stream",
          "name": "stdout",
          "text": [
            "Processed sentence for image 73866.\n",
            "Processed sentence for image 1780069.\n",
            "Processed sentence for image 109425.\n"
          ]
        },
        {
          "output_type": "stream",
          "name": "stderr",
          "text": [
            " 50%|████▉     | 1990/4000 [04:10<02:18, 14.51it/s]"
          ]
        },
        {
          "output_type": "stream",
          "name": "stdout",
          "text": [
            "Processed sentence for image 1126676.\n",
            "Processed sentence for image 1489828.\n",
            "Processed sentence for image 70183.\n",
            "Processed sentence for image 421086.\n"
          ]
        },
        {
          "output_type": "stream",
          "name": "stderr",
          "text": [
            "\r 50%|████▉     | 1992/4000 [04:10<02:27, 13.58it/s]"
          ]
        },
        {
          "output_type": "stream",
          "name": "stdout",
          "text": [
            "Processed sentence for image 942178.\n",
            "Processed sentence for image 1447416.\n",
            "Processed sentence for image 1025245.\n"
          ]
        },
        {
          "output_type": "stream",
          "name": "stderr",
          "text": [
            " 50%|████▉     | 1996/4000 [04:10<02:35, 12.89it/s]"
          ]
        },
        {
          "output_type": "stream",
          "name": "stdout",
          "text": [
            "Processed sentence for image 621515.\n",
            "Processed sentence for image 42018.\n",
            "Processed sentence for image 73798.\n"
          ]
        },
        {
          "output_type": "stream",
          "name": "stderr",
          "text": [
            "\r 50%|████▉     | 1998/4000 [04:10<02:36, 12.78it/s]"
          ]
        },
        {
          "output_type": "stream",
          "name": "stdout",
          "text": [
            "Processed sentence for image 14724.\n",
            "Processed sentence for image 70395.\n",
            "Processed sentence for image 94111.\n"
          ]
        },
        {
          "output_type": "stream",
          "name": "stderr",
          "text": [
            " 50%|█████     | 2002/4000 [04:11<02:32, 13.09it/s]"
          ]
        },
        {
          "output_type": "stream",
          "name": "stdout",
          "text": [
            "Processed sentence for image 481982.\n",
            "Processed sentence for image 736917.\n",
            "Processed sentence for image 216094.\n",
            "Processed sentence for image 1327056.\n"
          ]
        },
        {
          "output_type": "stream",
          "name": "stderr",
          "text": [
            " 50%|█████     | 2006/4000 [04:11<02:12, 15.07it/s]"
          ]
        },
        {
          "output_type": "stream",
          "name": "stdout",
          "text": [
            "Processed sentence for image 74245.\n",
            "Processed sentence for image 884794.\n",
            "Processed sentence for image 734179.\n"
          ]
        },
        {
          "output_type": "stream",
          "name": "stderr",
          "text": [
            "\r 50%|█████     | 2008/4000 [04:11<02:36, 12.74it/s]"
          ]
        },
        {
          "output_type": "stream",
          "name": "stdout",
          "text": [
            "Processed sentence for image 12682.\n",
            "Processed sentence for image 444038.\n",
            "Processed sentence for image 1685058.\n"
          ]
        },
        {
          "output_type": "stream",
          "name": "stderr",
          "text": [
            " 50%|█████     | 2012/4000 [04:12<02:52, 11.52it/s]"
          ]
        },
        {
          "output_type": "stream",
          "name": "stdout",
          "text": [
            "Processed sentence for image 429845.\n",
            "Processed sentence for image 120999.\n",
            "Processed sentence for image 733776.\n"
          ]
        },
        {
          "output_type": "stream",
          "name": "stderr",
          "text": [
            "\r 50%|█████     | 2014/4000 [04:12<02:59, 11.08it/s]"
          ]
        },
        {
          "output_type": "stream",
          "name": "stdout",
          "text": [
            "Processed sentence for image 45651.\n",
            "Processed sentence for image 1133605.\n",
            "Processed sentence for image 70886.\n"
          ]
        },
        {
          "output_type": "stream",
          "name": "stderr",
          "text": [
            "\r 50%|█████     | 2016/4000 [04:12<03:17, 10.05it/s]"
          ]
        },
        {
          "output_type": "stream",
          "name": "stdout",
          "text": [
            "Processed sentence for image 70077.\n",
            "Processed sentence for image 740515.\n"
          ]
        },
        {
          "output_type": "stream",
          "name": "stderr",
          "text": [
            "\r 50%|█████     | 2018/4000 [04:12<03:19,  9.94it/s]"
          ]
        },
        {
          "output_type": "stream",
          "name": "stdout",
          "text": [
            "Processed sentence for image 1014176.\n",
            "Processed sentence for image 568532.\n"
          ]
        },
        {
          "output_type": "stream",
          "name": "stderr",
          "text": [
            " 51%|█████     | 2022/4000 [04:13<03:07, 10.52it/s]"
          ]
        },
        {
          "output_type": "stream",
          "name": "stdout",
          "text": [
            "Processed sentence for image 130789.\n",
            "Processed sentence for image 855371.\n",
            "Processed sentence for image 73180.\n"
          ]
        },
        {
          "output_type": "stream",
          "name": "stderr",
          "text": [
            "\r 51%|█████     | 2024/4000 [04:13<03:14, 10.17it/s]"
          ]
        },
        {
          "output_type": "stream",
          "name": "stdout",
          "text": [
            "Processed sentence for image 1779633.\n",
            "Processed sentence for image 32394.\n"
          ]
        },
        {
          "output_type": "stream",
          "name": "stderr",
          "text": [
            "\r 51%|█████     | 2026/4000 [04:13<03:26,  9.55it/s]"
          ]
        },
        {
          "output_type": "stream",
          "name": "stdout",
          "text": [
            "Processed sentence for image 413953.\n",
            "Processed sentence for image 46143.\n",
            "Processed sentence for image 478688.\n"
          ]
        },
        {
          "output_type": "stream",
          "name": "stderr",
          "text": [
            " 51%|█████     | 2029/4000 [04:13<03:50,  8.54it/s]"
          ]
        },
        {
          "output_type": "stream",
          "name": "stdout",
          "text": [
            "Processed sentence for image 594180.\n",
            "Processed sentence for image 62422.\n"
          ]
        },
        {
          "output_type": "stream",
          "name": "stderr",
          "text": [
            "\r 51%|█████     | 2031/4000 [04:14<03:35,  9.13it/s]"
          ]
        },
        {
          "output_type": "stream",
          "name": "stdout",
          "text": [
            "Processed sentence for image 2095564.\n",
            "Processed sentence for image 26963.\n",
            "Processed sentence for image 1994028.\n"
          ]
        },
        {
          "output_type": "stream",
          "name": "stderr",
          "text": [
            " 51%|█████     | 2035/4000 [04:14<03:26,  9.54it/s]"
          ]
        },
        {
          "output_type": "stream",
          "name": "stdout",
          "text": [
            "Processed sentence for image 116973.\n",
            "Processed sentence for image 137599.\n",
            "Processed sentence for image 48598.\n"
          ]
        },
        {
          "output_type": "stream",
          "name": "stderr",
          "text": [
            " 51%|█████     | 2037/4000 [04:14<03:25,  9.54it/s]"
          ]
        },
        {
          "output_type": "stream",
          "name": "stdout",
          "text": [
            "Processed sentence for image 23629.\n",
            "Processed sentence for image 12379.\n",
            "Processed sentence for image 1294456.\n"
          ]
        },
        {
          "output_type": "stream",
          "name": "stderr",
          "text": [
            " 51%|█████     | 2041/4000 [04:15<02:59, 10.92it/s]"
          ]
        },
        {
          "output_type": "stream",
          "name": "stdout",
          "text": [
            "Processed sentence for image 554528.\n",
            "Processed sentence for image 804820.\n",
            "Processed sentence for image 72389.\n"
          ]
        },
        {
          "output_type": "stream",
          "name": "stderr",
          "text": [
            "\r 51%|█████     | 2043/4000 [04:15<02:55, 11.16it/s]"
          ]
        },
        {
          "output_type": "stream",
          "name": "stdout",
          "text": [
            "Processed sentence for image 71488.\n",
            "Processed sentence for image 121000.\n",
            "Processed sentence for image 33118.\n"
          ]
        },
        {
          "output_type": "stream",
          "name": "stderr",
          "text": [
            "\r 51%|█████     | 2045/4000 [04:15<03:23,  9.63it/s]"
          ]
        },
        {
          "output_type": "stream",
          "name": "stdout",
          "text": [
            "Processed sentence for image 62375.\n",
            "Processed sentence for image 1047400.\n"
          ]
        },
        {
          "output_type": "stream",
          "name": "stderr",
          "text": [
            " 51%|█████     | 2048/4000 [04:15<04:03,  8.01it/s]"
          ]
        },
        {
          "output_type": "stream",
          "name": "stdout",
          "text": [
            "Processed sentence for image 9650.\n",
            "Processed sentence for image 1018456.\n"
          ]
        },
        {
          "output_type": "stream",
          "name": "stderr",
          "text": [
            " 51%|█████▏    | 2050/4000 [04:16<04:21,  7.45it/s]"
          ]
        },
        {
          "output_type": "stream",
          "name": "stdout",
          "text": [
            "Processed sentence for image 520187.\n",
            "Processed sentence for image 1063983.\n"
          ]
        },
        {
          "output_type": "stream",
          "name": "stderr",
          "text": [
            "\r 51%|█████▏    | 2052/4000 [04:16<03:46,  8.60it/s]"
          ]
        },
        {
          "output_type": "stream",
          "name": "stdout",
          "text": [
            "Processed sentence for image 20631.\n",
            "Processed sentence for image 684715.\n",
            "Processed sentence for image 118865.\n"
          ]
        },
        {
          "output_type": "stream",
          "name": "stderr",
          "text": [
            " 51%|█████▏    | 2055/4000 [04:16<03:45,  8.63it/s]"
          ]
        },
        {
          "output_type": "stream",
          "name": "stdout",
          "text": [
            "Processed sentence for image 865562.\n",
            "Processed sentence for image 70324.\n"
          ]
        },
        {
          "output_type": "stream",
          "name": "stderr",
          "text": [
            " 51%|█████▏    | 2057/4000 [04:17<03:55,  8.25it/s]"
          ]
        },
        {
          "output_type": "stream",
          "name": "stdout",
          "text": [
            "Processed sentence for image 73689.\n",
            "Processed sentence for image 736863.\n"
          ]
        },
        {
          "output_type": "stream",
          "name": "stderr",
          "text": [
            " 51%|█████▏    | 2059/4000 [04:17<04:12,  7.67it/s]"
          ]
        },
        {
          "output_type": "stream",
          "name": "stdout",
          "text": [
            "Processed sentence for image 1701666.\n",
            "Processed sentence for image 154572.\n"
          ]
        },
        {
          "output_type": "stream",
          "name": "stderr",
          "text": [
            " 52%|█████▏    | 2062/4000 [04:17<03:30,  9.23it/s]"
          ]
        },
        {
          "output_type": "stream",
          "name": "stdout",
          "text": [
            "Processed sentence for image 117164.\n",
            "Processed sentence for image 1123121.\n",
            "Processed sentence for image 72573.\n"
          ]
        },
        {
          "output_type": "stream",
          "name": "stderr",
          "text": [
            " 52%|█████▏    | 2065/4000 [04:17<03:13, 10.00it/s]"
          ]
        },
        {
          "output_type": "stream",
          "name": "stdout",
          "text": [
            "Processed sentence for image 2083841.\n",
            "Processed sentence for image 128260.\n",
            "Processed sentence for image 1492818.\n"
          ]
        },
        {
          "output_type": "stream",
          "name": "stderr",
          "text": [
            " 52%|█████▏    | 2067/4000 [04:18<03:35,  8.97it/s]"
          ]
        },
        {
          "output_type": "stream",
          "name": "stdout",
          "text": [
            "Processed sentence for image 62403.\n",
            "Processed sentence for image 71480.\n",
            "Processed sentence for image 41202.\n"
          ]
        },
        {
          "output_type": "stream",
          "name": "stderr",
          "text": [
            " 52%|█████▏    | 2070/4000 [04:18<03:22,  9.54it/s]"
          ]
        },
        {
          "output_type": "stream",
          "name": "stdout",
          "text": [
            "Processed sentence for image 374394.\n",
            "Processed sentence for image 34849.\n",
            "Processed sentence for image 675823.\n"
          ]
        },
        {
          "output_type": "stream",
          "name": "stderr",
          "text": [
            "\r 52%|█████▏    | 2072/4000 [04:18<03:08, 10.22it/s]"
          ]
        },
        {
          "output_type": "stream",
          "name": "stdout",
          "text": [
            "Processed sentence for image 67324.\n",
            "Processed sentence for image 2130668.\n"
          ]
        },
        {
          "output_type": "stream",
          "name": "stderr",
          "text": [
            " 52%|█████▏    | 2075/4000 [04:19<03:46,  8.51it/s]"
          ]
        },
        {
          "output_type": "stream",
          "name": "stdout",
          "text": [
            "Processed sentence for image 70854.\n",
            "Processed sentence for image 817355.\n"
          ]
        },
        {
          "output_type": "stream",
          "name": "stderr",
          "text": [
            " 52%|█████▏    | 2077/4000 [04:19<03:49,  8.37it/s]"
          ]
        },
        {
          "output_type": "stream",
          "name": "stdout",
          "text": [
            "Processed sentence for image 627893.\n",
            "Processed sentence for image 820763.\n"
          ]
        },
        {
          "output_type": "stream",
          "name": "stderr",
          "text": [
            " 52%|█████▏    | 2080/4000 [04:19<03:39,  8.74it/s]"
          ]
        },
        {
          "output_type": "stream",
          "name": "stdout",
          "text": [
            "Processed sentence for image 114985.\n",
            "Processed sentence for image 122619.\n",
            "Processed sentence for image 171351.\n"
          ]
        },
        {
          "output_type": "stream",
          "name": "stderr",
          "text": [
            "\r 52%|█████▏    | 2082/4000 [04:19<03:19,  9.60it/s]"
          ]
        },
        {
          "output_type": "stream",
          "name": "stdout",
          "text": [
            "Processed sentence for image 847954.\n",
            "Processed sentence for image 507605.\n"
          ]
        },
        {
          "output_type": "stream",
          "name": "stderr",
          "text": [
            " 52%|█████▏    | 2084/4000 [04:20<03:44,  8.53it/s]"
          ]
        },
        {
          "output_type": "stream",
          "name": "stdout",
          "text": [
            "Processed sentence for image 20197.\n",
            "Processed sentence for image 768264.\n"
          ]
        },
        {
          "output_type": "stream",
          "name": "stderr",
          "text": [
            "\r 52%|█████▏    | 2086/4000 [04:20<03:29,  9.13it/s]"
          ]
        },
        {
          "output_type": "stream",
          "name": "stdout",
          "text": [
            "Processed sentence for image 90225.\n",
            "Processed sentence for image 141788.\n"
          ]
        },
        {
          "output_type": "stream",
          "name": "stderr",
          "text": [
            "\r 52%|█████▏    | 2087/4000 [04:20<03:32,  8.99it/s]"
          ]
        },
        {
          "output_type": "stream",
          "name": "stdout",
          "text": [
            "Processed sentence for image 37007.\n",
            "Processed sentence for image 117859.\n"
          ]
        },
        {
          "output_type": "stream",
          "name": "stderr",
          "text": [
            " 52%|█████▏    | 2091/4000 [04:20<03:16,  9.70it/s]"
          ]
        },
        {
          "output_type": "stream",
          "name": "stdout",
          "text": [
            "Processed sentence for image 50824.\n",
            "Processed sentence for image 15835.\n",
            "Processed sentence for image 883366.\n"
          ]
        },
        {
          "output_type": "stream",
          "name": "stderr",
          "text": [
            "\r 52%|█████▏    | 2093/4000 [04:20<03:09, 10.07it/s]"
          ]
        },
        {
          "output_type": "stream",
          "name": "stdout",
          "text": [
            "Processed sentence for image 62450.\n",
            "Processed sentence for image 344046.\n",
            "Processed sentence for image 1291771.\n"
          ]
        },
        {
          "output_type": "stream",
          "name": "stderr",
          "text": [
            "\r 52%|█████▏    | 2095/4000 [04:21<02:59, 10.64it/s]"
          ]
        },
        {
          "output_type": "stream",
          "name": "stdout",
          "text": [
            "Processed sentence for image 15383.\n",
            "Processed sentence for image 1106183.\n"
          ]
        },
        {
          "output_type": "stream",
          "name": "stderr",
          "text": [
            "\r 52%|█████▏    | 2097/4000 [04:21<03:08, 10.08it/s]"
          ]
        },
        {
          "output_type": "stream",
          "name": "stdout",
          "text": [
            "Processed sentence for image 1022981.\n",
            "Processed sentence for image 2058555.\n"
          ]
        },
        {
          "output_type": "stream",
          "name": "stderr",
          "text": [
            " 52%|█████▎    | 2100/4000 [04:21<03:25,  9.26it/s]"
          ]
        },
        {
          "output_type": "stream",
          "name": "stdout",
          "text": [
            "Processed sentence for image 7491.\n",
            "Processed sentence for image 1114120.\n"
          ]
        },
        {
          "output_type": "stream",
          "name": "stderr",
          "text": [
            "\r 53%|█████▎    | 2101/4000 [04:21<03:41,  8.58it/s]"
          ]
        },
        {
          "output_type": "stream",
          "name": "stdout",
          "text": [
            "Processed sentence for image 94038.\n",
            "Processed sentence for image 572771.\n"
          ]
        },
        {
          "output_type": "stream",
          "name": "stderr",
          "text": [
            " 53%|█████▎    | 2104/4000 [04:22<03:51,  8.21it/s]"
          ]
        },
        {
          "output_type": "stream",
          "name": "stdout",
          "text": [
            "Processed sentence for image 42037.\n",
            "Processed sentence for image 1012477.\n"
          ]
        },
        {
          "output_type": "stream",
          "name": "stderr",
          "text": [
            "\r 53%|█████▎    | 2106/4000 [04:22<03:30,  9.01it/s]"
          ]
        },
        {
          "output_type": "stream",
          "name": "stdout",
          "text": [
            "Processed sentence for image 802868.\n",
            "Processed sentence for image 423623.\n"
          ]
        },
        {
          "output_type": "stream",
          "name": "stderr",
          "text": [
            " 53%|█████▎    | 2109/4000 [04:22<03:17,  9.58it/s]"
          ]
        },
        {
          "output_type": "stream",
          "name": "stdout",
          "text": [
            "Processed sentence for image 552482.\n",
            "Processed sentence for image 478501.\n",
            "Processed sentence for image 31344.\n"
          ]
        },
        {
          "output_type": "stream",
          "name": "stderr",
          "text": [
            " 53%|█████▎    | 2111/4000 [04:22<03:30,  8.96it/s]"
          ]
        },
        {
          "output_type": "stream",
          "name": "stdout",
          "text": [
            "Processed sentence for image 70028.\n",
            "Processed sentence for image 423298.\n"
          ]
        },
        {
          "output_type": "stream",
          "name": "stderr",
          "text": [
            " 53%|█████▎    | 2113/4000 [04:23<03:56,  7.99it/s]"
          ]
        },
        {
          "output_type": "stream",
          "name": "stdout",
          "text": [
            "Processed sentence for image 421219.\n",
            "Processed sentence for image 116283.\n"
          ]
        },
        {
          "output_type": "stream",
          "name": "stderr",
          "text": [
            "\r 53%|█████▎    | 2115/4000 [04:23<03:09,  9.93it/s]"
          ]
        },
        {
          "output_type": "stream",
          "name": "stdout",
          "text": [
            "Processed sentence for image 1079515.\n",
            "Processed sentence for image 2119040.\n",
            "Processed sentence for image 24301.\n"
          ]
        },
        {
          "output_type": "stream",
          "name": "stderr",
          "text": [
            " 53%|█████▎    | 2119/4000 [04:23<03:00, 10.42it/s]"
          ]
        },
        {
          "output_type": "stream",
          "name": "stdout",
          "text": [
            "Processed sentence for image 63152.\n",
            "Processed sentence for image 15732.\n",
            "Processed sentence for image 49118.\n",
            "Processed sentence for image 1120191.\n"
          ]
        },
        {
          "output_type": "stream",
          "name": "stderr",
          "text": [
            " 53%|█████▎    | 2123/4000 [04:23<02:19, 13.47it/s]"
          ]
        },
        {
          "output_type": "stream",
          "name": "stdout",
          "text": [
            "Processed sentence for image 35861.\n",
            "Processed sentence for image 496961.\n",
            "Processed sentence for image 1388924.\n",
            "Processed sentence for image 121140.\n",
            "Processed sentence for image 481155.\n"
          ]
        },
        {
          "output_type": "stream",
          "name": "stderr",
          "text": [
            " 53%|█████▎    | 2128/4000 [04:24<02:12, 14.16it/s]"
          ]
        },
        {
          "output_type": "stream",
          "name": "stdout",
          "text": [
            "Processed sentence for image 529603.\n",
            "Processed sentence for image 1052633.\n",
            "Processed sentence for image 74516.\n"
          ]
        },
        {
          "output_type": "stream",
          "name": "stderr",
          "text": [
            "\r 53%|█████▎    | 2130/4000 [04:24<02:17, 13.56it/s]"
          ]
        },
        {
          "output_type": "stream",
          "name": "stdout",
          "text": [
            "Processed sentence for image 585261.\n",
            "Processed sentence for image 488.\n",
            "Processed sentence for image 74094.\n"
          ]
        },
        {
          "output_type": "stream",
          "name": "stderr",
          "text": [
            " 53%|█████▎    | 2134/4000 [04:24<02:06, 14.70it/s]"
          ]
        },
        {
          "output_type": "stream",
          "name": "stdout",
          "text": [
            "Processed sentence for image 528913.\n",
            "Processed sentence for image 110312.\n",
            "Processed sentence for image 847643.\n"
          ]
        },
        {
          "output_type": "stream",
          "name": "stderr",
          "text": [
            "\r 53%|█████▎    | 2136/4000 [04:24<02:20, 13.27it/s]"
          ]
        },
        {
          "output_type": "stream",
          "name": "stdout",
          "text": [
            "Processed sentence for image 70723.\n",
            "Processed sentence for image 115614.\n",
            "Processed sentence for image 34793.\n"
          ]
        },
        {
          "output_type": "stream",
          "name": "stderr",
          "text": [
            " 54%|█████▎    | 2140/4000 [04:25<02:13, 13.96it/s]"
          ]
        },
        {
          "output_type": "stream",
          "name": "stdout",
          "text": [
            "Processed sentence for image 14593.\n",
            "Processed sentence for image 1779546.\n",
            "Processed sentence for image 337685.\n"
          ]
        },
        {
          "output_type": "stream",
          "name": "stderr",
          "text": [
            " 54%|█████▎    | 2144/4000 [04:25<02:07, 14.57it/s]"
          ]
        },
        {
          "output_type": "stream",
          "name": "stdout",
          "text": [
            "Processed sentence for image 543588.\n",
            "Processed sentence for image 970882.\n",
            "Processed sentence for image 857707.\n",
            "Processed sentence for image 110876.\n"
          ]
        },
        {
          "output_type": "stream",
          "name": "stderr",
          "text": [
            " 54%|█████▎    | 2148/4000 [04:25<02:13, 13.90it/s]"
          ]
        },
        {
          "output_type": "stream",
          "name": "stdout",
          "text": [
            "Processed sentence for image 70336.\n",
            "Processed sentence for image 1687622.\n",
            "Processed sentence for image 2134355.\n",
            "Processed sentence for image 1433977.\n"
          ]
        },
        {
          "output_type": "stream",
          "name": "stderr",
          "text": [
            " 54%|█████▍    | 2152/4000 [04:26<02:09, 14.24it/s]"
          ]
        },
        {
          "output_type": "stream",
          "name": "stdout",
          "text": [
            "Processed sentence for image 73763.\n",
            "Processed sentence for image 1084185.\n",
            "Processed sentence for image 1994717.\n",
            "Processed sentence for image 74049.\n"
          ]
        },
        {
          "output_type": "stream",
          "name": "stderr",
          "text": [
            " 54%|█████▍    | 2156/4000 [04:26<02:04, 14.86it/s]"
          ]
        },
        {
          "output_type": "stream",
          "name": "stdout",
          "text": [
            "Processed sentence for image 770152.\n",
            "Processed sentence for image 72516.\n",
            "Processed sentence for image 14352.\n",
            "Processed sentence for image 24432.\n"
          ]
        },
        {
          "output_type": "stream",
          "name": "stderr",
          "text": [
            "\r 54%|█████▍    | 2158/4000 [04:26<02:08, 14.35it/s]"
          ]
        },
        {
          "output_type": "stream",
          "name": "stdout",
          "text": [
            "Processed sentence for image 70857.\n",
            "Processed sentence for image 1689343.\n",
            "Processed sentence for image 945219.\n"
          ]
        },
        {
          "output_type": "stream",
          "name": "stderr",
          "text": [
            " 54%|█████▍    | 2162/4000 [04:26<02:26, 12.54it/s]"
          ]
        },
        {
          "output_type": "stream",
          "name": "stdout",
          "text": [
            "Processed sentence for image 64593.\n",
            "Processed sentence for image 70012.\n",
            "Processed sentence for image 117723.\n"
          ]
        },
        {
          "output_type": "stream",
          "name": "stderr",
          "text": [
            "\r 54%|█████▍    | 2164/4000 [04:26<02:27, 12.42it/s]"
          ]
        },
        {
          "output_type": "stream",
          "name": "stdout",
          "text": [
            "Processed sentence for image 116172.\n",
            "Processed sentence for image 418409.\n",
            "Processed sentence for image 127571.\n"
          ]
        },
        {
          "output_type": "stream",
          "name": "stderr",
          "text": [
            " 54%|█████▍    | 2168/4000 [04:27<02:22, 12.84it/s]"
          ]
        },
        {
          "output_type": "stream",
          "name": "stdout",
          "text": [
            "Processed sentence for image 884030.\n",
            "Processed sentence for image 67566.\n",
            "Processed sentence for image 29716.\n",
            "Processed sentence for image 118798.\n"
          ]
        },
        {
          "output_type": "stream",
          "name": "stderr",
          "text": [
            " 54%|█████▍    | 2172/4000 [04:27<02:15, 13.50it/s]"
          ]
        },
        {
          "output_type": "stream",
          "name": "stdout",
          "text": [
            "Processed sentence for image 33603.\n",
            "Processed sentence for image 540057.\n",
            "Processed sentence for image 323935.\n"
          ]
        },
        {
          "output_type": "stream",
          "name": "stderr",
          "text": [
            "\r 54%|█████▍    | 2174/4000 [04:27<02:36, 11.69it/s]"
          ]
        },
        {
          "output_type": "stream",
          "name": "stdout",
          "text": [
            "Processed sentence for image 64351.\n",
            "Processed sentence for image 67682.\n",
            "Processed sentence for image 118227.\n"
          ]
        },
        {
          "output_type": "stream",
          "name": "stderr",
          "text": [
            " 54%|█████▍    | 2178/4000 [04:28<02:18, 13.11it/s]"
          ]
        },
        {
          "output_type": "stream",
          "name": "stdout",
          "text": [
            "Processed sentence for image 64629.\n",
            "Processed sentence for image 68658.\n",
            "Processed sentence for image 809685.\n",
            "Processed sentence for image 133226.\n"
          ]
        },
        {
          "output_type": "stream",
          "name": "stderr",
          "text": [
            " 55%|█████▍    | 2182/4000 [04:28<02:10, 13.95it/s]"
          ]
        },
        {
          "output_type": "stream",
          "name": "stdout",
          "text": [
            "Processed sentence for image 1953076.\n",
            "Processed sentence for image 15427.\n",
            "Processed sentence for image 2132695.\n",
            "Processed sentence for image 71953.\n"
          ]
        },
        {
          "output_type": "stream",
          "name": "stderr",
          "text": [
            " 55%|█████▍    | 2186/4000 [04:28<02:07, 14.22it/s]"
          ]
        },
        {
          "output_type": "stream",
          "name": "stdout",
          "text": [
            "Processed sentence for image 460915.\n",
            "Processed sentence for image 593573.\n",
            "Processed sentence for image 23589.\n"
          ]
        },
        {
          "output_type": "stream",
          "name": "stderr",
          "text": [
            " 55%|█████▍    | 2190/4000 [04:28<02:06, 14.34it/s]"
          ]
        },
        {
          "output_type": "stream",
          "name": "stdout",
          "text": [
            "Processed sentence for image 541490.\n",
            "Processed sentence for image 1065172.\n",
            "Processed sentence for image 72513.\n",
            "Processed sentence for image 70954.\n"
          ]
        },
        {
          "output_type": "stream",
          "name": "stderr",
          "text": [
            " 55%|█████▍    | 2194/4000 [04:29<02:01, 14.84it/s]"
          ]
        },
        {
          "output_type": "stream",
          "name": "stdout",
          "text": [
            "Processed sentence for image 416646.\n",
            "Processed sentence for image 842871.\n",
            "Processed sentence for image 15249.\n",
            "Processed sentence for image 160173.\n"
          ]
        },
        {
          "output_type": "stream",
          "name": "stderr",
          "text": [
            "\r 55%|█████▍    | 2196/4000 [04:29<02:09, 13.94it/s]"
          ]
        },
        {
          "output_type": "stream",
          "name": "stdout",
          "text": [
            "Processed sentence for image 251525.\n",
            "Processed sentence for image 42108.\n",
            "Processed sentence for image 15453.\n"
          ]
        },
        {
          "output_type": "stream",
          "name": "stderr",
          "text": [
            " 55%|█████▌    | 2200/4000 [04:29<02:22, 12.65it/s]"
          ]
        },
        {
          "output_type": "stream",
          "name": "stdout",
          "text": [
            "Processed sentence for image 1735431.\n",
            "Processed sentence for image 1040629.\n",
            "Processed sentence for image 1723295.\n"
          ]
        },
        {
          "output_type": "stream",
          "name": "stderr",
          "text": [
            "\r 55%|█████▌    | 2202/4000 [04:29<02:31, 11.89it/s]"
          ]
        },
        {
          "output_type": "stream",
          "name": "stdout",
          "text": [
            "Processed sentence for image 72781.\n",
            "Processed sentence for image 70376.\n",
            "Processed sentence for image 12935.\n",
            "Processed sentence for image 680753.\n"
          ]
        },
        {
          "output_type": "stream",
          "name": "stderr",
          "text": [
            " 55%|█████▌    | 2207/4000 [04:30<02:11, 13.59it/s]"
          ]
        },
        {
          "output_type": "stream",
          "name": "stdout",
          "text": [
            "Processed sentence for image 111029.\n",
            "Processed sentence for image 11408.\n",
            "Processed sentence for image 558426.\n"
          ]
        },
        {
          "output_type": "stream",
          "name": "stderr",
          "text": [
            " 55%|█████▌    | 2211/4000 [04:30<02:00, 14.89it/s]"
          ]
        },
        {
          "output_type": "stream",
          "name": "stdout",
          "text": [
            "Processed sentence for image 74724.\n",
            "Processed sentence for image 1945544.\n",
            "Processed sentence for image 15733.\n",
            "Processed sentence for image 146207.\n"
          ]
        },
        {
          "output_type": "stream",
          "name": "stderr",
          "text": [
            "\r 55%|█████▌    | 2213/4000 [04:30<02:14, 13.26it/s]"
          ]
        },
        {
          "output_type": "stream",
          "name": "stdout",
          "text": [
            "Processed sentence for image 1692225.\n",
            "Processed sentence for image 72828.\n",
            "Processed sentence for image 64967.\n"
          ]
        },
        {
          "output_type": "stream",
          "name": "stderr",
          "text": [
            " 55%|█████▌    | 2217/4000 [04:30<02:29, 11.92it/s]"
          ]
        },
        {
          "output_type": "stream",
          "name": "stdout",
          "text": [
            "Processed sentence for image 90106.\n",
            "Processed sentence for image 1018276.\n",
            "Processed sentence for image 209459.\n"
          ]
        },
        {
          "output_type": "stream",
          "name": "stderr",
          "text": [
            "\r 55%|█████▌    | 2219/4000 [04:31<02:31, 11.73it/s]"
          ]
        },
        {
          "output_type": "stream",
          "name": "stdout",
          "text": [
            "Processed sentence for image 67432.\n",
            "Processed sentence for image 807130.\n",
            "Processed sentence for image 733419.\n"
          ]
        },
        {
          "output_type": "stream",
          "name": "stderr",
          "text": [
            " 56%|█████▌    | 2223/4000 [04:31<02:24, 12.26it/s]"
          ]
        },
        {
          "output_type": "stream",
          "name": "stdout",
          "text": [
            "Processed sentence for image 27478.\n",
            "Processed sentence for image 264215.\n",
            "Processed sentence for image 468236.\n"
          ]
        },
        {
          "output_type": "stream",
          "name": "stderr",
          "text": [
            "\r 56%|█████▌    | 2225/4000 [04:31<02:31, 11.70it/s]"
          ]
        },
        {
          "output_type": "stream",
          "name": "stdout",
          "text": [
            "Processed sentence for image 932721.\n",
            "Processed sentence for image 702116.\n",
            "Processed sentence for image 74685.\n"
          ]
        },
        {
          "output_type": "stream",
          "name": "stderr",
          "text": [
            " 56%|█████▌    | 2229/4000 [04:31<02:22, 12.44it/s]"
          ]
        },
        {
          "output_type": "stream",
          "name": "stdout",
          "text": [
            "Processed sentence for image 1922708.\n",
            "Processed sentence for image 13498.\n",
            "Processed sentence for image 1861812.\n"
          ]
        },
        {
          "output_type": "stream",
          "name": "stderr",
          "text": [
            " 56%|█████▌    | 2233/4000 [04:32<02:06, 14.01it/s]"
          ]
        },
        {
          "output_type": "stream",
          "name": "stdout",
          "text": [
            "Processed sentence for image 862.\n",
            "Processed sentence for image 417736.\n",
            "Processed sentence for image 70909.\n",
            "Processed sentence for image 875874.\n"
          ]
        },
        {
          "output_type": "stream",
          "name": "stderr",
          "text": [
            " 56%|█████▌    | 2237/4000 [04:32<02:00, 14.66it/s]"
          ]
        },
        {
          "output_type": "stream",
          "name": "stdout",
          "text": [
            "Processed sentence for image 70114.\n",
            "Processed sentence for image 800577.\n",
            "Processed sentence for image 693608.\n",
            "Processed sentence for image 70016.\n"
          ]
        },
        {
          "output_type": "stream",
          "name": "stderr",
          "text": [
            "\r 56%|█████▌    | 2239/4000 [04:32<02:08, 13.66it/s]"
          ]
        },
        {
          "output_type": "stream",
          "name": "stdout",
          "text": [
            "Processed sentence for image 1358207.\n",
            "Processed sentence for image 70778.\n",
            "Processed sentence for image 386184.\n"
          ]
        },
        {
          "output_type": "stream",
          "name": "stderr",
          "text": [
            " 56%|█████▌    | 2243/4000 [04:32<02:07, 13.80it/s]"
          ]
        },
        {
          "output_type": "stream",
          "name": "stdout",
          "text": [
            "Processed sentence for image 93539.\n",
            "Processed sentence for image 70525.\n",
            "Processed sentence for image 74139.\n"
          ]
        },
        {
          "output_type": "stream",
          "name": "stderr",
          "text": [
            " 56%|█████▌    | 2247/4000 [04:33<02:08, 13.67it/s]"
          ]
        },
        {
          "output_type": "stream",
          "name": "stdout",
          "text": [
            "Processed sentence for image 41881.\n",
            "Processed sentence for image 1685055.\n",
            "Processed sentence for image 1003283.\n",
            "Processed sentence for image 581668.\n"
          ]
        },
        {
          "output_type": "stream",
          "name": "stderr",
          "text": [
            " 56%|█████▋    | 2251/4000 [04:33<02:05, 13.91it/s]"
          ]
        },
        {
          "output_type": "stream",
          "name": "stdout",
          "text": [
            "Processed sentence for image 1292823.\n",
            "Processed sentence for image 282903.\n",
            "Processed sentence for image 93885.\n",
            "Processed sentence for image 1077275.\n"
          ]
        },
        {
          "output_type": "stream",
          "name": "stderr",
          "text": [
            "\r 56%|█████▋    | 2253/4000 [04:33<02:18, 12.62it/s]"
          ]
        },
        {
          "output_type": "stream",
          "name": "stdout",
          "text": [
            "Processed sentence for image 1086668.\n",
            "Processed sentence for image 74555.\n",
            "Processed sentence for image 1055064.\n"
          ]
        },
        {
          "output_type": "stream",
          "name": "stderr",
          "text": [
            " 56%|█████▋    | 2257/4000 [04:34<02:42, 10.71it/s]"
          ]
        },
        {
          "output_type": "stream",
          "name": "stdout",
          "text": [
            "Processed sentence for image 572417.\n",
            "Processed sentence for image 9075.\n",
            "Processed sentence for image 1909397.\n"
          ]
        },
        {
          "output_type": "stream",
          "name": "stderr",
          "text": [
            "\r 56%|█████▋    | 2259/4000 [04:34<02:46, 10.48it/s]"
          ]
        },
        {
          "output_type": "stream",
          "name": "stdout",
          "text": [
            "Processed sentence for image 65464.\n",
            "Processed sentence for image 488240.\n"
          ]
        },
        {
          "output_type": "stream",
          "name": "stderr",
          "text": [
            "\r 57%|█████▋    | 2261/4000 [04:34<03:03,  9.48it/s]"
          ]
        },
        {
          "output_type": "stream",
          "name": "stdout",
          "text": [
            "Processed sentence for image 33390.\n",
            "Processed sentence for image 113460.\n"
          ]
        },
        {
          "output_type": "stream",
          "name": "stderr",
          "text": [
            "\r 57%|█████▋    | 2263/4000 [04:34<03:20,  8.67it/s]"
          ]
        },
        {
          "output_type": "stream",
          "name": "stdout",
          "text": [
            "Processed sentence for image 460597.\n",
            "Processed sentence for image 971179.\n"
          ]
        },
        {
          "output_type": "stream",
          "name": "stderr",
          "text": [
            " 57%|█████▋    | 2266/4000 [04:35<02:55,  9.89it/s]"
          ]
        },
        {
          "output_type": "stream",
          "name": "stdout",
          "text": [
            "Processed sentence for image 571716.\n",
            "Processed sentence for image 626976.\n",
            "Processed sentence for image 70688.\n"
          ]
        },
        {
          "output_type": "stream",
          "name": "stderr",
          "text": [
            "\r 57%|█████▋    | 2268/4000 [04:35<03:08,  9.18it/s]"
          ]
        },
        {
          "output_type": "stream",
          "name": "stdout",
          "text": [
            "Processed sentence for image 573903.\n",
            "Processed sentence for image 94274.\n"
          ]
        },
        {
          "output_type": "stream",
          "name": "stderr",
          "text": [
            " 57%|█████▋    | 2271/4000 [04:35<02:56,  9.80it/s]"
          ]
        },
        {
          "output_type": "stream",
          "name": "stdout",
          "text": [
            "Processed sentence for image 117083.\n",
            "Processed sentence for image 12612.\n",
            "Processed sentence for image 1038297.\n"
          ]
        },
        {
          "output_type": "stream",
          "name": "stderr",
          "text": [
            "\r 57%|█████▋    | 2273/4000 [04:35<02:32, 11.33it/s]"
          ]
        },
        {
          "output_type": "stream",
          "name": "stdout",
          "text": [
            "Processed sentence for image 230557.\n",
            "Processed sentence for image 1077098.\n",
            "Processed sentence for image 593870.\n"
          ]
        },
        {
          "output_type": "stream",
          "name": "stderr",
          "text": [
            " 57%|█████▋    | 2277/4000 [04:36<02:33, 11.19it/s]"
          ]
        },
        {
          "output_type": "stream",
          "name": "stdout",
          "text": [
            "Processed sentence for image 552887.\n",
            "Processed sentence for image 2022785.\n",
            "Processed sentence for image 45438.\n"
          ]
        },
        {
          "output_type": "stream",
          "name": "stderr",
          "text": [
            "\r 57%|█████▋    | 2279/4000 [04:36<02:37, 10.89it/s]"
          ]
        },
        {
          "output_type": "stream",
          "name": "stdout",
          "text": [
            "Processed sentence for image 427762.\n",
            "Processed sentence for image 63291.\n",
            "Processed sentence for image 90821.\n"
          ]
        },
        {
          "output_type": "stream",
          "name": "stderr",
          "text": [
            "\r 57%|█████▋    | 2281/4000 [04:36<02:34, 11.15it/s]"
          ]
        },
        {
          "output_type": "stream",
          "name": "stdout",
          "text": [
            "Processed sentence for image 737516.\n",
            "Processed sentence for image 283975.\n"
          ]
        },
        {
          "output_type": "stream",
          "name": "stderr",
          "text": [
            " 57%|█████▋    | 2285/4000 [04:36<02:30, 11.40it/s]"
          ]
        },
        {
          "output_type": "stream",
          "name": "stdout",
          "text": [
            "Processed sentence for image 418463.\n",
            "Processed sentence for image 119122.\n",
            "Processed sentence for image 1764409.\n",
            "Processed sentence for image 1790942.\n"
          ]
        },
        {
          "output_type": "stream",
          "name": "stderr",
          "text": [
            "\r 57%|█████▋    | 2287/4000 [04:37<02:22, 11.99it/s]"
          ]
        },
        {
          "output_type": "stream",
          "name": "stdout",
          "text": [
            "Processed sentence for image 285401.\n",
            "Processed sentence for image 887303.\n"
          ]
        },
        {
          "output_type": "stream",
          "name": "stderr",
          "text": [
            "\r 57%|█████▋    | 2289/4000 [04:37<02:32, 11.19it/s]"
          ]
        },
        {
          "output_type": "stream",
          "name": "stdout",
          "text": [
            "Processed sentence for image 1093719.\n",
            "Processed sentence for image 41437.\n"
          ]
        },
        {
          "output_type": "stream",
          "name": "stderr",
          "text": [
            " 57%|█████▋    | 2293/4000 [04:37<02:39, 10.69it/s]"
          ]
        },
        {
          "output_type": "stream",
          "name": "stdout",
          "text": [
            "Processed sentence for image 93873.\n",
            "Processed sentence for image 812538.\n",
            "Processed sentence for image 787671.\n"
          ]
        },
        {
          "output_type": "stream",
          "name": "stderr",
          "text": [
            "\r 57%|█████▋    | 2295/4000 [04:37<02:54,  9.77it/s]"
          ]
        },
        {
          "output_type": "stream",
          "name": "stdout",
          "text": [
            "Processed sentence for image 905131.\n",
            "Processed sentence for image 506403.\n",
            "Processed sentence for image 116233.\n"
          ]
        },
        {
          "output_type": "stream",
          "name": "stderr",
          "text": [
            "\r 57%|█████▋    | 2297/4000 [04:38<02:51,  9.94it/s]"
          ]
        },
        {
          "output_type": "stream",
          "name": "stdout",
          "text": [
            "Processed sentence for image 655160.\n",
            "Processed sentence for image 228710.\n"
          ]
        },
        {
          "output_type": "stream",
          "name": "stderr",
          "text": [
            " 57%|█████▊    | 2300/4000 [04:38<03:30,  8.06it/s]"
          ]
        },
        {
          "output_type": "stream",
          "name": "stdout",
          "text": [
            "Processed sentence for image 1022904.\n",
            "Processed sentence for image 464674.\n"
          ]
        },
        {
          "output_type": "stream",
          "name": "stderr",
          "text": [
            "\r 58%|█████▊    | 2301/4000 [04:38<03:41,  7.68it/s]"
          ]
        },
        {
          "output_type": "stream",
          "name": "stdout",
          "text": [
            "Processed sentence for image 748259.\n",
            "Processed sentence for image 382065.\n"
          ]
        },
        {
          "output_type": "stream",
          "name": "stderr",
          "text": [
            " 58%|█████▊    | 2304/4000 [04:39<03:48,  7.44it/s]"
          ]
        },
        {
          "output_type": "stream",
          "name": "stdout",
          "text": [
            "Processed sentence for image 632.\n",
            "Processed sentence for image 108911.\n"
          ]
        },
        {
          "output_type": "stream",
          "name": "stderr",
          "text": [
            " 58%|█████▊    | 2306/4000 [04:39<03:34,  7.88it/s]"
          ]
        },
        {
          "output_type": "stream",
          "name": "stdout",
          "text": [
            "Processed sentence for image 90050.\n",
            "Processed sentence for image 821265.\n"
          ]
        },
        {
          "output_type": "stream",
          "name": "stderr",
          "text": [
            "\r 58%|█████▊    | 2308/4000 [04:39<03:02,  9.26it/s]"
          ]
        },
        {
          "output_type": "stream",
          "name": "stdout",
          "text": [
            "Processed sentence for image 1807570.\n",
            "Processed sentence for image 15434.\n"
          ]
        },
        {
          "output_type": "stream",
          "name": "stderr",
          "text": [
            " 58%|█████▊    | 2310/4000 [04:39<03:20,  8.44it/s]"
          ]
        },
        {
          "output_type": "stream",
          "name": "stdout",
          "text": [
            "Processed sentence for image 451175.\n",
            "Processed sentence for image 736662.\n"
          ]
        },
        {
          "output_type": "stream",
          "name": "stderr",
          "text": [
            "\r 58%|█████▊    | 2311/4000 [04:39<03:35,  7.84it/s]"
          ]
        },
        {
          "output_type": "stream",
          "name": "stdout",
          "text": [
            "Processed sentence for image 63573.\n",
            "Processed sentence for image 45400.\n"
          ]
        },
        {
          "output_type": "stream",
          "name": "stderr",
          "text": [
            " 58%|█████▊    | 2314/4000 [04:40<03:20,  8.39it/s]"
          ]
        },
        {
          "output_type": "stream",
          "name": "stdout",
          "text": [
            "Processed sentence for image 90371.\n",
            "Processed sentence for image 1992922.\n"
          ]
        },
        {
          "output_type": "stream",
          "name": "stderr",
          "text": [
            " 58%|█████▊    | 2317/4000 [04:40<02:51,  9.81it/s]"
          ]
        },
        {
          "output_type": "stream",
          "name": "stdout",
          "text": [
            "Processed sentence for image 1060749.\n",
            "Processed sentence for image 353783.\n",
            "Processed sentence for image 114920.\n"
          ]
        },
        {
          "output_type": "stream",
          "name": "stderr",
          "text": [
            " 58%|█████▊    | 2320/4000 [04:40<02:34, 10.85it/s]"
          ]
        },
        {
          "output_type": "stream",
          "name": "stdout",
          "text": [
            "Processed sentence for image 71926.\n",
            "Processed sentence for image 48522.\n",
            "Processed sentence for image 342610.\n"
          ]
        },
        {
          "output_type": "stream",
          "name": "stderr",
          "text": [
            "\r 58%|█████▊    | 2322/4000 [04:41<02:51,  9.79it/s]"
          ]
        },
        {
          "output_type": "stream",
          "name": "stdout",
          "text": [
            "Processed sentence for image 34880.\n",
            "Processed sentence for image 62824.\n"
          ]
        },
        {
          "output_type": "stream",
          "name": "stderr",
          "text": [
            " 58%|█████▊    | 2324/4000 [04:41<03:09,  8.86it/s]"
          ]
        },
        {
          "output_type": "stream",
          "name": "stdout",
          "text": [
            "Processed sentence for image 464547.\n",
            "Processed sentence for image 820101.\n"
          ]
        },
        {
          "output_type": "stream",
          "name": "stderr",
          "text": [
            " 58%|█████▊    | 2326/4000 [04:41<03:15,  8.55it/s]"
          ]
        },
        {
          "output_type": "stream",
          "name": "stdout",
          "text": [
            "Processed sentence for image 1889455.\n",
            "Processed sentence for image 682598.\n"
          ]
        },
        {
          "output_type": "stream",
          "name": "stderr",
          "text": [
            " 58%|█████▊    | 2328/4000 [04:41<03:19,  8.38it/s]"
          ]
        },
        {
          "output_type": "stream",
          "name": "stdout",
          "text": [
            "Processed sentence for image 196973.\n",
            "Processed sentence for image 718213.\n"
          ]
        },
        {
          "output_type": "stream",
          "name": "stderr",
          "text": [
            " 58%|█████▊    | 2330/4000 [04:42<03:12,  8.67it/s]"
          ]
        },
        {
          "output_type": "stream",
          "name": "stdout",
          "text": [
            "Processed sentence for image 483242.\n",
            "Processed sentence for image 70700.\n"
          ]
        },
        {
          "output_type": "stream",
          "name": "stderr",
          "text": [
            " 58%|█████▊    | 2333/4000 [04:42<02:52,  9.69it/s]"
          ]
        },
        {
          "output_type": "stream",
          "name": "stdout",
          "text": [
            "Processed sentence for image 771939.\n",
            "Processed sentence for image 14123.\n",
            "Processed sentence for image 1874256.\n"
          ]
        },
        {
          "output_type": "stream",
          "name": "stderr",
          "text": [
            " 58%|█████▊    | 2336/4000 [04:42<02:37, 10.55it/s]"
          ]
        },
        {
          "output_type": "stream",
          "name": "stdout",
          "text": [
            "Processed sentence for image 694873.\n",
            "Processed sentence for image 781010.\n",
            "Processed sentence for image 483163.\n"
          ]
        },
        {
          "output_type": "stream",
          "name": "stderr",
          "text": [
            "\r 58%|█████▊    | 2338/4000 [04:42<02:47,  9.93it/s]"
          ]
        },
        {
          "output_type": "stream",
          "name": "stdout",
          "text": [
            "Processed sentence for image 116856.\n",
            "Processed sentence for image 48658.\n",
            "Processed sentence for image 1063819.\n"
          ]
        },
        {
          "output_type": "stream",
          "name": "stderr",
          "text": [
            "\r 58%|█████▊    | 2340/4000 [04:43<02:49,  9.77it/s]"
          ]
        },
        {
          "output_type": "stream",
          "name": "stdout",
          "text": [
            "Processed sentence for image 889765.\n"
          ]
        },
        {
          "output_type": "stream",
          "name": "stderr",
          "text": [
            " 59%|█████▊    | 2342/4000 [04:43<03:18,  8.35it/s]"
          ]
        },
        {
          "output_type": "stream",
          "name": "stdout",
          "text": [
            "Processed sentence for image 68079.\n",
            "Processed sentence for image 231261.\n",
            "Processed sentence for image 1355751.\n"
          ]
        },
        {
          "output_type": "stream",
          "name": "stderr",
          "text": [
            " 59%|█████▊    | 2346/4000 [04:43<02:47,  9.85it/s]"
          ]
        },
        {
          "output_type": "stream",
          "name": "stdout",
          "text": [
            "Processed sentence for image 781251.\n",
            "Processed sentence for image 491688.\n",
            "Processed sentence for image 1014192.\n",
            "Processed sentence for image 161349.\n"
          ]
        },
        {
          "output_type": "stream",
          "name": "stderr",
          "text": [
            " 59%|█████▉    | 2350/4000 [04:44<02:30, 10.99it/s]"
          ]
        },
        {
          "output_type": "stream",
          "name": "stdout",
          "text": [
            "Processed sentence for image 73013.\n",
            "Processed sentence for image 1837247.\n",
            "Processed sentence for image 575455.\n"
          ]
        },
        {
          "output_type": "stream",
          "name": "stderr",
          "text": [
            "\r 59%|█████▉    | 2352/4000 [04:44<02:42, 10.14it/s]"
          ]
        },
        {
          "output_type": "stream",
          "name": "stdout",
          "text": [
            "Processed sentence for image 521309.\n",
            "Processed sentence for image 125904.\n"
          ]
        },
        {
          "output_type": "stream",
          "name": "stderr",
          "text": [
            "\r 59%|█████▉    | 2354/4000 [04:44<02:51,  9.58it/s]"
          ]
        },
        {
          "output_type": "stream",
          "name": "stdout",
          "text": [
            "Processed sentence for image 811899.\n",
            "Processed sentence for image 604388.\n"
          ]
        },
        {
          "output_type": "stream",
          "name": "stderr",
          "text": [
            " 59%|█████▉    | 2357/4000 [04:44<02:39, 10.31it/s]"
          ]
        },
        {
          "output_type": "stream",
          "name": "stdout",
          "text": [
            "Processed sentence for image 106.\n",
            "Processed sentence for image 562396.\n",
            "Processed sentence for image 477889.\n"
          ]
        },
        {
          "output_type": "stream",
          "name": "stderr",
          "text": [
            " 59%|█████▉    | 2361/4000 [04:45<02:26, 11.19it/s]"
          ]
        },
        {
          "output_type": "stream",
          "name": "stdout",
          "text": [
            "Processed sentence for image 70414.\n",
            "Processed sentence for image 13948.\n",
            "Processed sentence for image 658358.\n",
            "Processed sentence for image 715416.\n"
          ]
        },
        {
          "output_type": "stream",
          "name": "stderr",
          "text": [
            "\r 59%|█████▉    | 2363/4000 [04:45<02:28, 11.06it/s]"
          ]
        },
        {
          "output_type": "stream",
          "name": "stdout",
          "text": [
            "Processed sentence for image 258871.\n",
            "Processed sentence for image 560325.\n",
            "Processed sentence for image 42019.\n"
          ]
        },
        {
          "output_type": "stream",
          "name": "stderr",
          "text": [
            " 59%|█████▉    | 2367/4000 [04:45<02:35, 10.48it/s]"
          ]
        },
        {
          "output_type": "stream",
          "name": "stdout",
          "text": [
            "Processed sentence for image 46010.\n",
            "Processed sentence for image 776219.\n",
            "Processed sentence for image 1884959.\n"
          ]
        },
        {
          "output_type": "stream",
          "name": "stderr",
          "text": [
            "\r 59%|█████▉    | 2369/4000 [04:45<02:29, 10.93it/s]"
          ]
        },
        {
          "output_type": "stream",
          "name": "stdout",
          "text": [
            "Processed sentence for image 116290.\n",
            "Processed sentence for image 234552.\n",
            "Processed sentence for image 8786.\n"
          ]
        },
        {
          "output_type": "stream",
          "name": "stderr",
          "text": [
            "\r 59%|█████▉    | 2371/4000 [04:46<02:30, 10.85it/s]"
          ]
        },
        {
          "output_type": "stream",
          "name": "stdout",
          "text": [
            "Processed sentence for image 420735.\n",
            "Processed sentence for image 562738.\n"
          ]
        },
        {
          "output_type": "stream",
          "name": "stderr",
          "text": [
            " 59%|█████▉    | 2375/4000 [04:46<02:31, 10.70it/s]"
          ]
        },
        {
          "output_type": "stream",
          "name": "stdout",
          "text": [
            "Processed sentence for image 573061.\n",
            "Processed sentence for image 655282.\n",
            "Processed sentence for image 64908.\n"
          ]
        },
        {
          "output_type": "stream",
          "name": "stderr",
          "text": [
            "\r 59%|█████▉    | 2377/4000 [04:46<02:39, 10.19it/s]"
          ]
        },
        {
          "output_type": "stream",
          "name": "stdout",
          "text": [
            "Processed sentence for image 728330.\n",
            "Processed sentence for image 74671.\n"
          ]
        },
        {
          "output_type": "stream",
          "name": "stderr",
          "text": [
            "\r 59%|█████▉    | 2379/4000 [04:46<02:43,  9.91it/s]"
          ]
        },
        {
          "output_type": "stream",
          "name": "stdout",
          "text": [
            "Processed sentence for image 33394.\n",
            "Processed sentence for image 73047.\n",
            "Processed sentence for image 1134198.\n"
          ]
        },
        {
          "output_type": "stream",
          "name": "stderr",
          "text": [
            " 60%|█████▉    | 2383/4000 [04:47<02:10, 12.43it/s]"
          ]
        },
        {
          "output_type": "stream",
          "name": "stdout",
          "text": [
            "Processed sentence for image 1013302.\n",
            "Processed sentence for image 46273.\n",
            "Processed sentence for image 423135.\n",
            "Processed sentence for image 714912.\n"
          ]
        },
        {
          "output_type": "stream",
          "name": "stderr",
          "text": [
            " 60%|█████▉    | 2387/4000 [04:47<01:52, 14.30it/s]"
          ]
        },
        {
          "output_type": "stream",
          "name": "stdout",
          "text": [
            "Processed sentence for image 42041.\n",
            "Processed sentence for image 120065.\n",
            "Processed sentence for image 22476.\n"
          ]
        },
        {
          "output_type": "stream",
          "name": "stderr",
          "text": [
            "\r 60%|█████▉    | 2389/4000 [04:47<01:52, 14.30it/s]"
          ]
        },
        {
          "output_type": "stream",
          "name": "stdout",
          "text": [
            "Processed sentence for image 480599.\n",
            "Processed sentence for image 352965.\n",
            "Processed sentence for image 29841.\n"
          ]
        },
        {
          "output_type": "stream",
          "name": "stderr",
          "text": [
            " 60%|█████▉    | 2393/4000 [04:47<02:05, 12.85it/s]"
          ]
        },
        {
          "output_type": "stream",
          "name": "stdout",
          "text": [
            "Processed sentence for image 1763285.\n",
            "Processed sentence for image 410665.\n",
            "Processed sentence for image 8575.\n"
          ]
        },
        {
          "output_type": "stream",
          "name": "stderr",
          "text": [
            "\r 60%|█████▉    | 2395/4000 [04:48<02:15, 11.86it/s]"
          ]
        },
        {
          "output_type": "stream",
          "name": "stdout",
          "text": [
            "Processed sentence for image 811414.\n",
            "Processed sentence for image 822570.\n",
            "Processed sentence for image 1291819.\n",
            "Processed sentence for image 1352028.\n"
          ]
        },
        {
          "output_type": "stream",
          "name": "stderr",
          "text": [
            " 60%|██████    | 2400/4000 [04:48<01:56, 13.76it/s]"
          ]
        },
        {
          "output_type": "stream",
          "name": "stdout",
          "text": [
            "Processed sentence for image 73840.\n",
            "Processed sentence for image 1786097.\n",
            "Processed sentence for image 966333.\n"
          ]
        },
        {
          "output_type": "stream",
          "name": "stderr",
          "text": [
            " 60%|██████    | 2404/4000 [04:48<01:47, 14.90it/s]"
          ]
        },
        {
          "output_type": "stream",
          "name": "stdout",
          "text": [
            "Processed sentence for image 71420.\n",
            "Processed sentence for image 660284.\n",
            "Processed sentence for image 12669.\n",
            "Processed sentence for image 1103705.\n"
          ]
        },
        {
          "output_type": "stream",
          "name": "stderr",
          "text": [
            "\r 60%|██████    | 2406/4000 [04:48<02:07, 12.54it/s]"
          ]
        },
        {
          "output_type": "stream",
          "name": "stdout",
          "text": [
            "Processed sentence for image 736896.\n",
            "Processed sentence for image 463519.\n",
            "Processed sentence for image 71471.\n"
          ]
        },
        {
          "output_type": "stream",
          "name": "stderr",
          "text": [
            " 60%|██████    | 2410/4000 [04:49<02:02, 13.03it/s]"
          ]
        },
        {
          "output_type": "stream",
          "name": "stdout",
          "text": [
            "Processed sentence for image 546111.\n",
            "Processed sentence for image 553062.\n",
            "Processed sentence for image 12634.\n",
            "Processed sentence for image 65421.\n"
          ]
        },
        {
          "output_type": "stream",
          "name": "stderr",
          "text": [
            " 60%|██████    | 2414/4000 [04:49<01:59, 13.33it/s]"
          ]
        },
        {
          "output_type": "stream",
          "name": "stdout",
          "text": [
            "Processed sentence for image 1024742.\n",
            "Processed sentence for image 111598.\n",
            "Processed sentence for image 494033.\n"
          ]
        },
        {
          "output_type": "stream",
          "name": "stderr",
          "text": [
            "\r 60%|██████    | 2416/4000 [04:49<02:04, 12.77it/s]"
          ]
        },
        {
          "output_type": "stream",
          "name": "stdout",
          "text": [
            "Processed sentence for image 314364.\n",
            "Processed sentence for image 90354.\n",
            "Processed sentence for image 63983.\n"
          ]
        },
        {
          "output_type": "stream",
          "name": "stderr",
          "text": [
            "\r 60%|██████    | 2418/4000 [04:49<02:20, 11.22it/s]"
          ]
        },
        {
          "output_type": "stream",
          "name": "stdout",
          "text": [
            "Processed sentence for image 590391.\n",
            "Processed sentence for image 744840.\n"
          ]
        },
        {
          "output_type": "stream",
          "name": "stderr",
          "text": [
            " 61%|██████    | 2422/4000 [04:50<02:21, 11.14it/s]"
          ]
        },
        {
          "output_type": "stream",
          "name": "stdout",
          "text": [
            "Processed sentence for image 62796.\n",
            "Processed sentence for image 70242.\n",
            "Processed sentence for image 8001.\n"
          ]
        },
        {
          "output_type": "stream",
          "name": "stderr",
          "text": [
            " 61%|██████    | 2426/4000 [04:50<02:02, 12.85it/s]"
          ]
        },
        {
          "output_type": "stream",
          "name": "stdout",
          "text": [
            "Processed sentence for image 46124.\n",
            "Processed sentence for image 581038.\n",
            "Processed sentence for image 62602.\n",
            "Processed sentence for image 1772642.\n"
          ]
        },
        {
          "output_type": "stream",
          "name": "stderr",
          "text": [
            "\r 61%|██████    | 2428/4000 [04:50<02:15, 11.56it/s]"
          ]
        },
        {
          "output_type": "stream",
          "name": "stdout",
          "text": [
            "Processed sentence for image 14068.\n",
            "Processed sentence for image 67288.\n",
            "Processed sentence for image 94317.\n"
          ]
        },
        {
          "output_type": "stream",
          "name": "stderr",
          "text": [
            " 61%|██████    | 2432/4000 [04:51<02:07, 12.27it/s]"
          ]
        },
        {
          "output_type": "stream",
          "name": "stdout",
          "text": [
            "Processed sentence for image 801241.\n",
            "Processed sentence for image 74629.\n",
            "Processed sentence for image 492113.\n"
          ]
        },
        {
          "output_type": "stream",
          "name": "stderr",
          "text": [
            "\r 61%|██████    | 2434/4000 [04:51<02:09, 12.12it/s]"
          ]
        },
        {
          "output_type": "stream",
          "name": "stdout",
          "text": [
            "Processed sentence for image 117945.\n",
            "Processed sentence for image 72618.\n",
            "Processed sentence for image 617164.\n"
          ]
        },
        {
          "output_type": "stream",
          "name": "stderr",
          "text": [
            " 61%|██████    | 2438/4000 [04:51<02:03, 12.60it/s]"
          ]
        },
        {
          "output_type": "stream",
          "name": "stdout",
          "text": [
            "Processed sentence for image 94754.\n",
            "Processed sentence for image 1707093.\n",
            "Processed sentence for image 1302746.\n"
          ]
        },
        {
          "output_type": "stream",
          "name": "stderr",
          "text": [
            "\r 61%|██████    | 2440/4000 [04:51<01:54, 13.65it/s]"
          ]
        },
        {
          "output_type": "stream",
          "name": "stdout",
          "text": [
            "Processed sentence for image 63603.\n",
            "Processed sentence for image 211845.\n",
            "Processed sentence for image 534213.\n"
          ]
        },
        {
          "output_type": "stream",
          "name": "stderr",
          "text": [
            " 61%|██████    | 2444/4000 [04:51<02:05, 12.44it/s]"
          ]
        },
        {
          "output_type": "stream",
          "name": "stdout",
          "text": [
            "Processed sentence for image 71812.\n",
            "Processed sentence for image 71798.\n",
            "Processed sentence for image 28157.\n"
          ]
        },
        {
          "output_type": "stream",
          "name": "stderr",
          "text": [
            "\r 61%|██████    | 2446/4000 [04:52<02:03, 12.55it/s]"
          ]
        },
        {
          "output_type": "stream",
          "name": "stdout",
          "text": [
            "Processed sentence for image 71180.\n",
            "Processed sentence for image 717741.\n",
            "Processed sentence for image 2121656.\n"
          ]
        },
        {
          "output_type": "stream",
          "name": "stderr",
          "text": [
            " 61%|██████▏   | 2450/4000 [04:52<02:01, 12.73it/s]"
          ]
        },
        {
          "output_type": "stream",
          "name": "stdout",
          "text": [
            "Processed sentence for image 572883.\n",
            "Processed sentence for image 1388442.\n",
            "Processed sentence for image 74869.\n"
          ]
        },
        {
          "output_type": "stream",
          "name": "stderr",
          "text": [
            " 61%|██████▏   | 2454/4000 [04:52<01:48, 14.25it/s]"
          ]
        },
        {
          "output_type": "stream",
          "name": "stdout",
          "text": [
            "Processed sentence for image 46517.\n",
            "Processed sentence for image 632187.\n",
            "Processed sentence for image 929977.\n",
            "Processed sentence for image 63051.\n"
          ]
        },
        {
          "output_type": "stream",
          "name": "stderr",
          "text": [
            "\r 61%|██████▏   | 2456/4000 [04:52<01:58, 13.00it/s]"
          ]
        },
        {
          "output_type": "stream",
          "name": "stdout",
          "text": [
            "Processed sentence for image 629624.\n",
            "Processed sentence for image 414619.\n",
            "Processed sentence for image 71069.\n"
          ]
        },
        {
          "output_type": "stream",
          "name": "stderr",
          "text": [
            " 62%|██████▏   | 2460/4000 [04:53<02:05, 12.32it/s]"
          ]
        },
        {
          "output_type": "stream",
          "name": "stdout",
          "text": [
            "Processed sentence for image 118363.\n",
            "Processed sentence for image 74846.\n",
            "Processed sentence for image 46076.\n"
          ]
        },
        {
          "output_type": "stream",
          "name": "stderr",
          "text": [
            "\r 62%|██████▏   | 2462/4000 [04:53<02:02, 12.57it/s]"
          ]
        },
        {
          "output_type": "stream",
          "name": "stdout",
          "text": [
            "Processed sentence for image 1331051.\n",
            "Processed sentence for image 740700.\n",
            "Processed sentence for image 7651.\n",
            "Processed sentence for image 871618.\n"
          ]
        },
        {
          "output_type": "stream",
          "name": "stderr",
          "text": [
            " 62%|██████▏   | 2467/4000 [04:53<01:47, 14.27it/s]"
          ]
        },
        {
          "output_type": "stream",
          "name": "stdout",
          "text": [
            "Processed sentence for image 50439.\n",
            "Processed sentence for image 521627.\n",
            "Processed sentence for image 1113794.\n"
          ]
        },
        {
          "output_type": "stream",
          "name": "stderr",
          "text": [
            " 62%|██████▏   | 2471/4000 [04:53<01:42, 14.88it/s]"
          ]
        },
        {
          "output_type": "stream",
          "name": "stdout",
          "text": [
            "Processed sentence for image 91973.\n",
            "Processed sentence for image 1953952.\n",
            "Processed sentence for image 114775.\n",
            "Processed sentence for image 557517.\n"
          ]
        },
        {
          "output_type": "stream",
          "name": "stderr",
          "text": [
            "\r 62%|██████▏   | 2473/4000 [04:54<01:47, 14.25it/s]"
          ]
        },
        {
          "output_type": "stream",
          "name": "stdout",
          "text": [
            "Processed sentence for image 1470351.\n",
            "Processed sentence for image 74155.\n",
            "Processed sentence for image 415961.\n"
          ]
        },
        {
          "output_type": "stream",
          "name": "stderr",
          "text": [
            " 62%|██████▏   | 2477/4000 [04:54<01:54, 13.35it/s]"
          ]
        },
        {
          "output_type": "stream",
          "name": "stdout",
          "text": [
            "Processed sentence for image 780434.\n",
            "Processed sentence for image 1156076.\n",
            "Processed sentence for image 403345.\n"
          ]
        },
        {
          "output_type": "stream",
          "name": "stderr",
          "text": [
            "\r 62%|██████▏   | 2479/4000 [04:54<02:01, 12.57it/s]"
          ]
        },
        {
          "output_type": "stream",
          "name": "stdout",
          "text": [
            "Processed sentence for image 280165.\n",
            "Processed sentence for image 72651.\n",
            "Processed sentence for image 786570.\n"
          ]
        },
        {
          "output_type": "stream",
          "name": "stderr",
          "text": [
            "\r 62%|██████▏   | 2481/4000 [04:54<01:55, 13.17it/s]"
          ]
        },
        {
          "output_type": "stream",
          "name": "stdout",
          "text": [
            "Processed sentence for image 130609.\n",
            "Processed sentence for image 351966.\n",
            "Processed sentence for image 1319942.\n"
          ]
        },
        {
          "output_type": "stream",
          "name": "stderr",
          "text": [
            " 62%|██████▏   | 2486/4000 [04:55<01:52, 13.41it/s]"
          ]
        },
        {
          "output_type": "stream",
          "name": "stdout",
          "text": [
            "Processed sentence for image 71805.\n",
            "Processed sentence for image 675295.\n",
            "Processed sentence for image 1768889.\n"
          ]
        },
        {
          "output_type": "stream",
          "name": "stderr",
          "text": [
            " 62%|██████▏   | 2490/4000 [04:55<01:45, 14.34it/s]"
          ]
        },
        {
          "output_type": "stream",
          "name": "stdout",
          "text": [
            "Processed sentence for image 1011101.\n",
            "Processed sentence for image 13305.\n",
            "Processed sentence for image 627711.\n",
            "Processed sentence for image 811257.\n"
          ]
        },
        {
          "output_type": "stream",
          "name": "stderr",
          "text": [
            "\r 62%|██████▏   | 2492/4000 [04:55<01:52, 13.38it/s]"
          ]
        },
        {
          "output_type": "stream",
          "name": "stdout",
          "text": [
            "Processed sentence for image 660852.\n",
            "Processed sentence for image 72904.\n",
            "Processed sentence for image 477707.\n"
          ]
        },
        {
          "output_type": "stream",
          "name": "stderr",
          "text": [
            " 62%|██████▏   | 2496/4000 [04:55<02:01, 12.38it/s]"
          ]
        },
        {
          "output_type": "stream",
          "name": "stdout",
          "text": [
            "Processed sentence for image 171064.\n",
            "Processed sentence for image 1402528.\n",
            "Processed sentence for image 48894.\n"
          ]
        },
        {
          "output_type": "stream",
          "name": "stderr",
          "text": [
            "\r 62%|██████▏   | 2498/4000 [04:56<02:16, 10.97it/s]"
          ]
        },
        {
          "output_type": "stream",
          "name": "stdout",
          "text": [
            "Processed sentence for image 1766655.\n",
            "Processed sentence for image 20061.\n",
            "Processed sentence for image 886017.\n"
          ]
        },
        {
          "output_type": "stream",
          "name": "stderr",
          "text": [
            " 63%|██████▎   | 2502/4000 [04:56<02:06, 11.85it/s]"
          ]
        },
        {
          "output_type": "stream",
          "name": "stdout",
          "text": [
            "Processed sentence for image 567024.\n",
            "Processed sentence for image 126351.\n",
            "Processed sentence for image 464019.\n",
            "Processed sentence for image 684742.\n"
          ]
        },
        {
          "output_type": "stream",
          "name": "stderr",
          "text": [
            " 63%|██████▎   | 2506/4000 [04:56<01:53, 13.17it/s]"
          ]
        },
        {
          "output_type": "stream",
          "name": "stdout",
          "text": [
            "Processed sentence for image 117023.\n",
            "Processed sentence for image 523563.\n",
            "Processed sentence for image 114213.\n"
          ]
        },
        {
          "output_type": "stream",
          "name": "stderr",
          "text": [
            "\r 63%|██████▎   | 2508/4000 [04:56<01:56, 12.84it/s]"
          ]
        },
        {
          "output_type": "stream",
          "name": "stdout",
          "text": [
            "Processed sentence for image 72779.\n",
            "Processed sentence for image 254520.\n",
            "Processed sentence for image 1994303.\n"
          ]
        },
        {
          "output_type": "stream",
          "name": "stderr",
          "text": [
            " 63%|██████▎   | 2512/4000 [04:57<02:06, 11.78it/s]"
          ]
        },
        {
          "output_type": "stream",
          "name": "stdout",
          "text": [
            "Processed sentence for image 772306.\n",
            "Processed sentence for image 810178.\n",
            "Processed sentence for image 1885131.\n"
          ]
        },
        {
          "output_type": "stream",
          "name": "stderr",
          "text": [
            "\r 63%|██████▎   | 2514/4000 [04:57<02:16, 10.90it/s]"
          ]
        },
        {
          "output_type": "stream",
          "name": "stdout",
          "text": [
            "Processed sentence for image 118592.\n",
            "Processed sentence for image 72538.\n",
            "Processed sentence for image 73753.\n"
          ]
        },
        {
          "output_type": "stream",
          "name": "stderr",
          "text": [
            "\r 63%|██████▎   | 2516/4000 [04:57<02:11, 11.31it/s]"
          ]
        },
        {
          "output_type": "stream",
          "name": "stdout",
          "text": [
            "Processed sentence for image 141365.\n",
            "Processed sentence for image 1375703.\n"
          ]
        },
        {
          "output_type": "stream",
          "name": "stderr",
          "text": [
            " 63%|██████▎   | 2520/4000 [04:57<02:17, 10.78it/s]"
          ]
        },
        {
          "output_type": "stream",
          "name": "stdout",
          "text": [
            "Processed sentence for image 2015824.\n",
            "Processed sentence for image 48414.\n",
            "Processed sentence for image 522291.\n"
          ]
        },
        {
          "output_type": "stream",
          "name": "stderr",
          "text": [
            "\r 63%|██████▎   | 2522/4000 [04:58<02:51,  8.60it/s]"
          ]
        },
        {
          "output_type": "stream",
          "name": "stdout",
          "text": [
            "Processed sentence for image 14710.\n",
            "Processed sentence for image 1450603.\n"
          ]
        },
        {
          "output_type": "stream",
          "name": "stderr",
          "text": [
            " 63%|██████▎   | 2525/4000 [04:58<02:38,  9.29it/s]"
          ]
        },
        {
          "output_type": "stream",
          "name": "stdout",
          "text": [
            "Processed sentence for image 942935.\n",
            "Processed sentence for image 114714.\n",
            "Processed sentence for image 11217.\n"
          ]
        },
        {
          "output_type": "stream",
          "name": "stderr",
          "text": [
            "\r 63%|██████▎   | 2527/4000 [04:58<02:26, 10.05it/s]"
          ]
        },
        {
          "output_type": "stream",
          "name": "stdout",
          "text": [
            "Processed sentence for image 125728.\n",
            "Processed sentence for image 578058.\n"
          ]
        },
        {
          "output_type": "stream",
          "name": "stderr",
          "text": [
            "\r 63%|██████▎   | 2529/4000 [04:59<02:39,  9.21it/s]"
          ]
        },
        {
          "output_type": "stream",
          "name": "stdout",
          "text": [
            "Processed sentence for image 91483.\n",
            "Processed sentence for image 920334.\n"
          ]
        },
        {
          "output_type": "stream",
          "name": "stderr",
          "text": [
            "\r 63%|██████▎   | 2530/4000 [04:59<02:45,  8.89it/s]"
          ]
        },
        {
          "output_type": "stream",
          "name": "stdout",
          "text": [
            "Processed sentence for image 116461.\n",
            "Processed sentence for image 1098520.\n"
          ]
        },
        {
          "output_type": "stream",
          "name": "stderr",
          "text": [
            " 63%|██████▎   | 2533/4000 [04:59<02:40,  9.15it/s]"
          ]
        },
        {
          "output_type": "stream",
          "name": "stdout",
          "text": [
            "Processed sentence for image 62675.\n",
            "Processed sentence for image 493777.\n"
          ]
        },
        {
          "output_type": "stream",
          "name": "stderr",
          "text": [
            " 63%|██████▎   | 2535/4000 [04:59<02:39,  9.16it/s]"
          ]
        },
        {
          "output_type": "stream",
          "name": "stdout",
          "text": [
            "Processed sentence for image 117701.\n",
            "Processed sentence for image 126215.\n"
          ]
        },
        {
          "output_type": "stream",
          "name": "stderr",
          "text": [
            " 63%|██████▎   | 2537/4000 [04:59<02:48,  8.68it/s]"
          ]
        },
        {
          "output_type": "stream",
          "name": "stdout",
          "text": [
            "Processed sentence for image 682249.\n",
            "Processed sentence for image 722168.\n"
          ]
        },
        {
          "output_type": "stream",
          "name": "stderr",
          "text": [
            " 64%|██████▎   | 2540/4000 [05:00<02:36,  9.36it/s]"
          ]
        },
        {
          "output_type": "stream",
          "name": "stdout",
          "text": [
            "Processed sentence for image 724492.\n",
            "Processed sentence for image 1990913.\n",
            "Processed sentence for image 24586.\n"
          ]
        },
        {
          "output_type": "stream",
          "name": "stderr",
          "text": [
            " 64%|██████▎   | 2542/4000 [05:00<02:55,  8.30it/s]"
          ]
        },
        {
          "output_type": "stream",
          "name": "stdout",
          "text": [
            "Processed sentence for image 126237.\n",
            "Processed sentence for image 14135.\n"
          ]
        },
        {
          "output_type": "stream",
          "name": "stderr",
          "text": [
            " 64%|██████▎   | 2545/4000 [05:00<02:36,  9.27it/s]"
          ]
        },
        {
          "output_type": "stream",
          "name": "stdout",
          "text": [
            "Processed sentence for image 72459.\n",
            "Processed sentence for image 33007.\n",
            "Processed sentence for image 70485.\n"
          ]
        },
        {
          "output_type": "stream",
          "name": "stderr",
          "text": [
            " 64%|██████▎   | 2547/4000 [05:01<03:02,  7.98it/s]"
          ]
        },
        {
          "output_type": "stream",
          "name": "stdout",
          "text": [
            "Processed sentence for image 597363.\n",
            "Processed sentence for image 93761.\n"
          ]
        },
        {
          "output_type": "stream",
          "name": "stderr",
          "text": [
            " 64%|██████▎   | 2549/4000 [05:01<03:04,  7.84it/s]"
          ]
        },
        {
          "output_type": "stream",
          "name": "stdout",
          "text": [
            "Processed sentence for image 318024.\n",
            "Processed sentence for image 1008493.\n"
          ]
        },
        {
          "output_type": "stream",
          "name": "stderr",
          "text": [
            "\r 64%|██████▍   | 2551/4000 [05:01<02:37,  9.20it/s]"
          ]
        },
        {
          "output_type": "stream",
          "name": "stdout",
          "text": [
            "Processed sentence for image 74985.\n",
            "Processed sentence for image 65475.\n"
          ]
        },
        {
          "output_type": "stream",
          "name": "stderr",
          "text": [
            "\r 64%|██████▍   | 2552/4000 [05:01<02:52,  8.40it/s]"
          ]
        },
        {
          "output_type": "stream",
          "name": "stdout",
          "text": [
            "Processed sentence for image 660743.\n",
            "Processed sentence for image 518870.\n",
            "Processed sentence for image 73729.\n"
          ]
        },
        {
          "output_type": "stream",
          "name": "stderr",
          "text": [
            " 64%|██████▍   | 2556/4000 [05:02<02:22, 10.10it/s]"
          ]
        },
        {
          "output_type": "stream",
          "name": "stdout",
          "text": [
            "Processed sentence for image 165967.\n",
            "Processed sentence for image 7498.\n"
          ]
        },
        {
          "output_type": "stream",
          "name": "stderr",
          "text": [
            " 64%|██████▍   | 2558/4000 [05:02<02:40,  9.01it/s]"
          ]
        },
        {
          "output_type": "stream",
          "name": "stdout",
          "text": [
            "Processed sentence for image 776527.\n",
            "Processed sentence for image 679072.\n"
          ]
        },
        {
          "output_type": "stream",
          "name": "stderr",
          "text": [
            " 64%|██████▍   | 2561/4000 [05:02<02:33,  9.36it/s]"
          ]
        },
        {
          "output_type": "stream",
          "name": "stdout",
          "text": [
            "Processed sentence for image 114554.\n",
            "Processed sentence for image 93804.\n",
            "Processed sentence for image 29472.\n"
          ]
        },
        {
          "output_type": "stream",
          "name": "stderr",
          "text": [
            " 64%|██████▍   | 2563/4000 [05:02<02:48,  8.53it/s]"
          ]
        },
        {
          "output_type": "stream",
          "name": "stdout",
          "text": [
            "Processed sentence for image 71274.\n",
            "Processed sentence for image 74684.\n"
          ]
        },
        {
          "output_type": "stream",
          "name": "stderr",
          "text": [
            " 64%|██████▍   | 2566/4000 [05:03<02:32,  9.43it/s]"
          ]
        },
        {
          "output_type": "stream",
          "name": "stdout",
          "text": [
            "Processed sentence for image 63381.\n",
            "Processed sentence for image 620448.\n",
            "Processed sentence for image 1378638.\n"
          ]
        },
        {
          "output_type": "stream",
          "name": "stderr",
          "text": [
            " 64%|██████▍   | 2568/4000 [05:03<02:53,  8.26it/s]"
          ]
        },
        {
          "output_type": "stream",
          "name": "stdout",
          "text": [
            "Processed sentence for image 703166.\n",
            "Processed sentence for image 1084328.\n"
          ]
        },
        {
          "output_type": "stream",
          "name": "stderr",
          "text": [
            " 64%|██████▍   | 2570/4000 [05:03<03:04,  7.75it/s]"
          ]
        },
        {
          "output_type": "stream",
          "name": "stdout",
          "text": [
            "Processed sentence for image 363964.\n",
            "Processed sentence for image 1074971.\n"
          ]
        },
        {
          "output_type": "stream",
          "name": "stderr",
          "text": [
            " 64%|██████▍   | 2572/4000 [05:04<03:05,  7.70it/s]"
          ]
        },
        {
          "output_type": "stream",
          "name": "stdout",
          "text": [
            "Processed sentence for image 73398.\n",
            "Processed sentence for image 13946.\n"
          ]
        },
        {
          "output_type": "stream",
          "name": "stderr",
          "text": [
            " 64%|██████▍   | 2574/4000 [05:04<03:22,  7.04it/s]"
          ]
        },
        {
          "output_type": "stream",
          "name": "stdout",
          "text": [
            "Processed sentence for image 700529.\n",
            "Processed sentence for image 416901.\n"
          ]
        },
        {
          "output_type": "stream",
          "name": "stderr",
          "text": [
            " 64%|██████▍   | 2576/4000 [05:04<03:11,  7.44it/s]"
          ]
        },
        {
          "output_type": "stream",
          "name": "stdout",
          "text": [
            "Processed sentence for image 423330.\n",
            "Processed sentence for image 1132231.\n",
            "Processed sentence for image 73977.\n"
          ]
        },
        {
          "output_type": "stream",
          "name": "stderr",
          "text": [
            " 64%|██████▍   | 2579/4000 [05:04<02:45,  8.56it/s]"
          ]
        },
        {
          "output_type": "stream",
          "name": "stdout",
          "text": [
            "Processed sentence for image 417617.\n",
            "Processed sentence for image 50396.\n"
          ]
        },
        {
          "output_type": "stream",
          "name": "stderr",
          "text": [
            " 65%|██████▍   | 2582/4000 [05:05<02:07, 11.11it/s]"
          ]
        },
        {
          "output_type": "stream",
          "name": "stdout",
          "text": [
            "Processed sentence for image 1819677.\n",
            "Processed sentence for image 1990906.\n",
            "Processed sentence for image 110551.\n",
            "Processed sentence for image 808432.\n"
          ]
        },
        {
          "output_type": "stream",
          "name": "stderr",
          "text": [
            "\r 65%|██████▍   | 2584/4000 [05:05<02:11, 10.80it/s]"
          ]
        },
        {
          "output_type": "stream",
          "name": "stdout",
          "text": [
            "Processed sentence for image 28851.\n",
            "Processed sentence for image 918692.\n"
          ]
        },
        {
          "output_type": "stream",
          "name": "stderr",
          "text": [
            "\r 65%|██████▍   | 2586/4000 [05:05<02:22,  9.91it/s]"
          ]
        },
        {
          "output_type": "stream",
          "name": "stdout",
          "text": [
            "Processed sentence for image 1045698.\n",
            "Processed sentence for image 718035.\n"
          ]
        },
        {
          "output_type": "stream",
          "name": "stderr",
          "text": [
            " 65%|██████▍   | 2589/4000 [05:05<02:40,  8.81it/s]"
          ]
        },
        {
          "output_type": "stream",
          "name": "stdout",
          "text": [
            "Processed sentence for image 73390.\n",
            "Processed sentence for image 178478.\n"
          ]
        },
        {
          "output_type": "stream",
          "name": "stderr",
          "text": [
            " 65%|██████▍   | 2592/4000 [05:06<02:24,  9.73it/s]"
          ]
        },
        {
          "output_type": "stream",
          "name": "stdout",
          "text": [
            "Processed sentence for image 68126.\n",
            "Processed sentence for image 74167.\n",
            "Processed sentence for image 458478.\n"
          ]
        },
        {
          "output_type": "stream",
          "name": "stderr",
          "text": [
            " 65%|██████▍   | 2594/4000 [05:06<02:31,  9.31it/s]"
          ]
        },
        {
          "output_type": "stream",
          "name": "stdout",
          "text": [
            "Processed sentence for image 611509.\n",
            "Processed sentence for image 632570.\n",
            "Processed sentence for image 1846818.\n"
          ]
        },
        {
          "output_type": "stream",
          "name": "stderr",
          "text": [
            " 65%|██████▍   | 2598/4000 [05:06<02:04, 11.24it/s]"
          ]
        },
        {
          "output_type": "stream",
          "name": "stdout",
          "text": [
            "Processed sentence for image 563640.\n",
            "Processed sentence for image 90045.\n",
            "Processed sentence for image 24471.\n"
          ]
        },
        {
          "output_type": "stream",
          "name": "stderr",
          "text": [
            "\r 65%|██████▌   | 2600/4000 [05:06<02:21,  9.88it/s]"
          ]
        },
        {
          "output_type": "stream",
          "name": "stdout",
          "text": [
            "Processed sentence for image 676993.\n",
            "Processed sentence for image 125108.\n"
          ]
        },
        {
          "output_type": "stream",
          "name": "stderr",
          "text": [
            "\r 65%|██████▌   | 2602/4000 [05:07<02:30,  9.29it/s]"
          ]
        },
        {
          "output_type": "stream",
          "name": "stdout",
          "text": [
            "Processed sentence for image 70492.\n",
            "Processed sentence for image 735433.\n",
            "Processed sentence for image 409319.\n"
          ]
        },
        {
          "output_type": "stream",
          "name": "stderr",
          "text": [
            " 65%|██████▌   | 2605/4000 [05:07<02:43,  8.56it/s]"
          ]
        },
        {
          "output_type": "stream",
          "name": "stdout",
          "text": [
            "Processed sentence for image 73450.\n",
            "Processed sentence for image 67872.\n"
          ]
        },
        {
          "output_type": "stream",
          "name": "stderr",
          "text": [
            " 65%|██████▌   | 2607/4000 [05:07<02:51,  8.13it/s]"
          ]
        },
        {
          "output_type": "stream",
          "name": "stdout",
          "text": [
            "Processed sentence for image 70606.\n",
            "Processed sentence for image 840380.\n",
            "Processed sentence for image 244118.\n"
          ]
        },
        {
          "output_type": "stream",
          "name": "stderr",
          "text": [
            " 65%|██████▌   | 2610/4000 [05:08<02:30,  9.21it/s]"
          ]
        },
        {
          "output_type": "stream",
          "name": "stdout",
          "text": [
            "Processed sentence for image 715781.\n",
            "Processed sentence for image 728750.\n",
            "Processed sentence for image 73730.\n"
          ]
        },
        {
          "output_type": "stream",
          "name": "stderr",
          "text": [
            " 65%|██████▌   | 2614/4000 [05:08<01:59, 11.63it/s]"
          ]
        },
        {
          "output_type": "stream",
          "name": "stdout",
          "text": [
            "Processed sentence for image 12619.\n",
            "Processed sentence for image 195984.\n",
            "Processed sentence for image 65314.\n"
          ]
        },
        {
          "output_type": "stream",
          "name": "stderr",
          "text": [
            "\r 65%|██████▌   | 2616/4000 [05:08<02:08, 10.76it/s]"
          ]
        },
        {
          "output_type": "stream",
          "name": "stdout",
          "text": [
            "Processed sentence for image 735030.\n",
            "Processed sentence for image 1892919.\n",
            "Processed sentence for image 70785.\n"
          ]
        },
        {
          "output_type": "stream",
          "name": "stderr",
          "text": [
            " 66%|██████▌   | 2620/4000 [05:08<01:52, 12.24it/s]"
          ]
        },
        {
          "output_type": "stream",
          "name": "stdout",
          "text": [
            "Processed sentence for image 72797.\n",
            "Processed sentence for image 13301.\n",
            "Processed sentence for image 116326.\n",
            "Processed sentence for image 549414.\n"
          ]
        },
        {
          "output_type": "stream",
          "name": "stderr",
          "text": [
            "\r 66%|██████▌   | 2622/4000 [05:09<01:41, 13.58it/s]"
          ]
        },
        {
          "output_type": "stream",
          "name": "stdout",
          "text": [
            "Processed sentence for image 304009.\n",
            "Processed sentence for image 1373582.\n"
          ]
        },
        {
          "output_type": "stream",
          "name": "stderr",
          "text": [
            "\r 66%|██████▌   | 2624/4000 [05:09<02:04, 11.02it/s]"
          ]
        },
        {
          "output_type": "stream",
          "name": "stdout",
          "text": [
            "Processed sentence for image 1422199.\n",
            "Processed sentence for image 855244.\n"
          ]
        },
        {
          "output_type": "stream",
          "name": "stderr",
          "text": [
            " 66%|██████▌   | 2628/4000 [05:09<02:07, 10.75it/s]"
          ]
        },
        {
          "output_type": "stream",
          "name": "stdout",
          "text": [
            "Processed sentence for image 405380.\n",
            "Processed sentence for image 38154.\n",
            "Processed sentence for image 73321.\n"
          ]
        },
        {
          "output_type": "stream",
          "name": "stderr",
          "text": [
            "\r 66%|██████▌   | 2630/4000 [05:09<02:14, 10.17it/s]"
          ]
        },
        {
          "output_type": "stream",
          "name": "stdout",
          "text": [
            "Processed sentence for image 629460.\n",
            "Processed sentence for image 1444271.\n"
          ]
        },
        {
          "output_type": "stream",
          "name": "stderr",
          "text": [
            "\r 66%|██████▌   | 2632/4000 [05:10<02:20,  9.72it/s]"
          ]
        },
        {
          "output_type": "stream",
          "name": "stdout",
          "text": [
            "Processed sentence for image 1136802.\n",
            "Processed sentence for image 1702821.\n"
          ]
        },
        {
          "output_type": "stream",
          "name": "stderr",
          "text": [
            " 66%|██████▌   | 2635/4000 [05:10<02:31,  9.02it/s]"
          ]
        },
        {
          "output_type": "stream",
          "name": "stdout",
          "text": [
            "Processed sentence for image 109385.\n",
            "Processed sentence for image 15883.\n",
            "Processed sentence for image 811385.\n"
          ]
        },
        {
          "output_type": "stream",
          "name": "stderr",
          "text": [
            " 66%|██████▌   | 2638/4000 [05:10<02:11, 10.34it/s]"
          ]
        },
        {
          "output_type": "stream",
          "name": "stdout",
          "text": [
            "Processed sentence for image 92231.\n",
            "Processed sentence for image 93728.\n",
            "Processed sentence for image 92787.\n"
          ]
        },
        {
          "output_type": "stream",
          "name": "stderr",
          "text": [
            " 66%|██████▌   | 2642/4000 [05:11<01:52, 12.07it/s]"
          ]
        },
        {
          "output_type": "stream",
          "name": "stdout",
          "text": [
            "Processed sentence for image 419772.\n",
            "Processed sentence for image 1064098.\n",
            "Processed sentence for image 63717.\n",
            "Processed sentence for image 599207.\n"
          ]
        },
        {
          "output_type": "stream",
          "name": "stderr",
          "text": [
            "\r 66%|██████▌   | 2644/4000 [05:11<01:50, 12.32it/s]"
          ]
        },
        {
          "output_type": "stream",
          "name": "stdout",
          "text": [
            "Processed sentence for image 115506.\n",
            "Processed sentence for image 478169.\n"
          ]
        },
        {
          "output_type": "stream",
          "name": "stderr",
          "text": [
            "\r 66%|██████▌   | 2646/4000 [05:11<02:03, 10.95it/s]"
          ]
        },
        {
          "output_type": "stream",
          "name": "stdout",
          "text": [
            "Processed sentence for image 63337.\n",
            "Processed sentence for image 366927.\n",
            "Processed sentence for image 334480.\n"
          ]
        },
        {
          "output_type": "stream",
          "name": "stderr",
          "text": [
            " 66%|██████▋   | 2650/4000 [05:11<02:01, 11.15it/s]"
          ]
        },
        {
          "output_type": "stream",
          "name": "stdout",
          "text": [
            "Processed sentence for image 1031051.\n",
            "Processed sentence for image 628229.\n",
            "Processed sentence for image 2130428.\n"
          ]
        },
        {
          "output_type": "stream",
          "name": "stderr",
          "text": [
            "\r 66%|██████▋   | 2652/4000 [05:11<01:54, 11.76it/s]"
          ]
        },
        {
          "output_type": "stream",
          "name": "stdout",
          "text": [
            "Processed sentence for image 506660.\n",
            "Processed sentence for image 74577.\n",
            "Processed sentence for image 2069958.\n"
          ]
        },
        {
          "output_type": "stream",
          "name": "stderr",
          "text": [
            " 66%|██████▋   | 2656/4000 [05:12<01:45, 12.72it/s]"
          ]
        },
        {
          "output_type": "stream",
          "name": "stdout",
          "text": [
            "Processed sentence for image 744647.\n",
            "Processed sentence for image 73355.\n",
            "Processed sentence for image 675016.\n"
          ]
        },
        {
          "output_type": "stream",
          "name": "stderr",
          "text": [
            " 66%|██████▋   | 2660/4000 [05:12<01:36, 13.87it/s]"
          ]
        },
        {
          "output_type": "stream",
          "name": "stdout",
          "text": [
            "Processed sentence for image 569267.\n",
            "Processed sentence for image 1292064.\n",
            "Processed sentence for image 644278.\n",
            "Processed sentence for image 111651.\n"
          ]
        },
        {
          "output_type": "stream",
          "name": "stderr",
          "text": [
            "\r 67%|██████▋   | 2662/4000 [05:12<01:41, 13.14it/s]"
          ]
        },
        {
          "output_type": "stream",
          "name": "stdout",
          "text": [
            "Processed sentence for image 672894.\n",
            "Processed sentence for image 72864.\n",
            "Processed sentence for image 66130.\n"
          ]
        },
        {
          "output_type": "stream",
          "name": "stderr",
          "text": [
            " 67%|██████▋   | 2666/4000 [05:13<01:51, 12.00it/s]"
          ]
        },
        {
          "output_type": "stream",
          "name": "stdout",
          "text": [
            "Processed sentence for image 529174.\n",
            "Processed sentence for image 73264.\n",
            "Processed sentence for image 1149838.\n"
          ]
        },
        {
          "output_type": "stream",
          "name": "stderr",
          "text": [
            " 67%|██████▋   | 2670/4000 [05:13<01:34, 14.10it/s]"
          ]
        },
        {
          "output_type": "stream",
          "name": "stdout",
          "text": [
            "Processed sentence for image 41905.\n",
            "Processed sentence for image 36756.\n",
            "Processed sentence for image 607369.\n",
            "Processed sentence for image 502370.\n"
          ]
        },
        {
          "output_type": "stream",
          "name": "stderr",
          "text": [
            " 67%|██████▋   | 2674/4000 [05:13<01:29, 14.86it/s]"
          ]
        },
        {
          "output_type": "stream",
          "name": "stdout",
          "text": [
            "Processed sentence for image 129405.\n",
            "Processed sentence for image 517057.\n",
            "Processed sentence for image 1490987.\n",
            "Processed sentence for image 9872.\n"
          ]
        },
        {
          "output_type": "stream",
          "name": "stderr",
          "text": [
            "\r 67%|██████▋   | 2676/4000 [05:13<01:41, 13.03it/s]"
          ]
        },
        {
          "output_type": "stream",
          "name": "stdout",
          "text": [
            "Processed sentence for image 1104526.\n",
            "Processed sentence for image 746662.\n",
            "Processed sentence for image 725051.\n"
          ]
        },
        {
          "output_type": "stream",
          "name": "stderr",
          "text": [
            " 67%|██████▋   | 2680/4000 [05:14<01:42, 12.89it/s]"
          ]
        },
        {
          "output_type": "stream",
          "name": "stdout",
          "text": [
            "Processed sentence for image 572621.\n",
            "Processed sentence for image 823028.\n",
            "Processed sentence for image 489826.\n",
            "Processed sentence for image 93679.\n"
          ]
        },
        {
          "output_type": "stream",
          "name": "stderr",
          "text": [
            " 67%|██████▋   | 2684/4000 [05:14<01:37, 13.56it/s]"
          ]
        },
        {
          "output_type": "stream",
          "name": "stdout",
          "text": [
            "Processed sentence for image 251079.\n",
            "Processed sentence for image 116293.\n",
            "Processed sentence for image 1773334.\n"
          ]
        },
        {
          "output_type": "stream",
          "name": "stderr",
          "text": [
            "\r 67%|██████▋   | 2686/4000 [05:14<01:42, 12.86it/s]"
          ]
        },
        {
          "output_type": "stream",
          "name": "stdout",
          "text": [
            "Processed sentence for image 122520.\n",
            "Processed sentence for image 179713.\n",
            "Processed sentence for image 157596.\n"
          ]
        },
        {
          "output_type": "stream",
          "name": "stderr",
          "text": [
            " 67%|██████▋   | 2690/4000 [05:14<01:44, 12.55it/s]"
          ]
        },
        {
          "output_type": "stream",
          "name": "stdout",
          "text": [
            "Processed sentence for image 481104.\n",
            "Processed sentence for image 113717.\n",
            "Processed sentence for image 213780.\n"
          ]
        },
        {
          "output_type": "stream",
          "name": "stderr",
          "text": [
            "\r 67%|██████▋   | 2692/4000 [05:15<01:49, 11.98it/s]"
          ]
        },
        {
          "output_type": "stream",
          "name": "stdout",
          "text": [
            "Processed sentence for image 747366.\n",
            "Processed sentence for image 423523.\n"
          ]
        },
        {
          "output_type": "stream",
          "name": "stderr",
          "text": [
            "\r 67%|██████▋   | 2694/4000 [05:15<01:50, 11.84it/s]"
          ]
        },
        {
          "output_type": "stream",
          "name": "stdout",
          "text": [
            "Processed sentence for image 420534.\n",
            "Processed sentence for image 457094.\n",
            "Processed sentence for image 338800.\n"
          ]
        },
        {
          "output_type": "stream",
          "name": "stderr",
          "text": [
            " 67%|██████▋   | 2698/4000 [05:15<01:55, 11.23it/s]"
          ]
        },
        {
          "output_type": "stream",
          "name": "stdout",
          "text": [
            "Processed sentence for image 323899.\n",
            "Processed sentence for image 878110.\n",
            "Processed sentence for image 923089.\n"
          ]
        },
        {
          "output_type": "stream",
          "name": "stderr",
          "text": [
            "\r 68%|██████▊   | 2700/4000 [05:15<01:49, 11.89it/s]"
          ]
        },
        {
          "output_type": "stream",
          "name": "stdout",
          "text": [
            "Processed sentence for image 33867.\n",
            "Processed sentence for image 729340.\n",
            "Processed sentence for image 620713.\n"
          ]
        },
        {
          "output_type": "stream",
          "name": "stderr",
          "text": [
            "\r 68%|██████▊   | 2702/4000 [05:15<01:46, 12.19it/s]"
          ]
        },
        {
          "output_type": "stream",
          "name": "stdout",
          "text": [
            "Processed sentence for image 71312.\n",
            "Processed sentence for image 735733.\n"
          ]
        },
        {
          "output_type": "stream",
          "name": "stderr",
          "text": [
            " 68%|██████▊   | 2706/4000 [05:16<01:50, 11.76it/s]"
          ]
        },
        {
          "output_type": "stream",
          "name": "stdout",
          "text": [
            "Processed sentence for image 559998.\n",
            "Processed sentence for image 706256.\n",
            "Processed sentence for image 10239.\n"
          ]
        },
        {
          "output_type": "stream",
          "name": "stderr",
          "text": [
            "\r 68%|██████▊   | 2708/4000 [05:16<01:46, 12.13it/s]"
          ]
        },
        {
          "output_type": "stream",
          "name": "stdout",
          "text": [
            "Processed sentence for image 1855393.\n",
            "Processed sentence for image 24379.\n",
            "Processed sentence for image 1038302.\n"
          ]
        },
        {
          "output_type": "stream",
          "name": "stderr",
          "text": [
            " 68%|██████▊   | 2712/4000 [05:16<01:44, 12.31it/s]"
          ]
        },
        {
          "output_type": "stream",
          "name": "stdout",
          "text": [
            "Processed sentence for image 65368.\n",
            "Processed sentence for image 33104.\n",
            "Processed sentence for image 35451.\n",
            "Processed sentence for image 351075.\n"
          ]
        },
        {
          "output_type": "stream",
          "name": "stderr",
          "text": [
            " 68%|██████▊   | 2716/4000 [05:17<01:36, 13.26it/s]"
          ]
        },
        {
          "output_type": "stream",
          "name": "stdout",
          "text": [
            "Processed sentence for image 71225.\n",
            "Processed sentence for image 638635.\n",
            "Processed sentence for image 72717.\n",
            "Processed sentence for image 555753.\n"
          ]
        },
        {
          "output_type": "stream",
          "name": "stderr",
          "text": [
            " 68%|██████▊   | 2720/4000 [05:17<01:36, 13.20it/s]"
          ]
        },
        {
          "output_type": "stream",
          "name": "stdout",
          "text": [
            "Processed sentence for image 1294421.\n",
            "Processed sentence for image 1080254.\n",
            "Processed sentence for image 72691.\n"
          ]
        },
        {
          "output_type": "stream",
          "name": "stderr",
          "text": [
            " 68%|██████▊   | 2724/4000 [05:17<01:35, 13.33it/s]"
          ]
        },
        {
          "output_type": "stream",
          "name": "stdout",
          "text": [
            "Processed sentence for image 119798.\n",
            "Processed sentence for image 626424.\n",
            "Processed sentence for image 478533.\n",
            "Processed sentence for image 2134295.\n"
          ]
        },
        {
          "output_type": "stream",
          "name": "stderr",
          "text": [
            "\r 68%|██████▊   | 2726/4000 [05:17<01:47, 11.88it/s]"
          ]
        },
        {
          "output_type": "stream",
          "name": "stdout",
          "text": [
            "Processed sentence for image 1030751.\n",
            "Processed sentence for image 1417047.\n",
            "Processed sentence for image 1046958.\n"
          ]
        },
        {
          "output_type": "stream",
          "name": "stderr",
          "text": [
            " 68%|██████▊   | 2730/4000 [05:18<01:33, 13.53it/s]"
          ]
        },
        {
          "output_type": "stream",
          "name": "stdout",
          "text": [
            "Processed sentence for image 22291.\n",
            "Processed sentence for image 65856.\n",
            "Processed sentence for image 969856.\n",
            "Processed sentence for image 1091283.\n"
          ]
        },
        {
          "output_type": "stream",
          "name": "stderr",
          "text": [
            " 68%|██████▊   | 2735/4000 [05:18<01:24, 14.96it/s]"
          ]
        },
        {
          "output_type": "stream",
          "name": "stdout",
          "text": [
            "Processed sentence for image 15046.\n",
            "Processed sentence for image 12529.\n",
            "Processed sentence for image 1080632.\n",
            "Processed sentence for image 923584.\n"
          ]
        },
        {
          "output_type": "stream",
          "name": "stderr",
          "text": [
            " 68%|██████▊   | 2739/4000 [05:18<01:26, 14.61it/s]"
          ]
        },
        {
          "output_type": "stream",
          "name": "stdout",
          "text": [
            "Processed sentence for image 42087.\n",
            "Processed sentence for image 67779.\n",
            "Processed sentence for image 731426.\n",
            "Processed sentence for image 1994511.\n"
          ]
        },
        {
          "output_type": "stream",
          "name": "stderr",
          "text": [
            "\r 69%|██████▊   | 2741/4000 [05:18<01:25, 14.76it/s]"
          ]
        },
        {
          "output_type": "stream",
          "name": "stdout",
          "text": [
            "Processed sentence for image 71739.\n",
            "Processed sentence for image 546559.\n",
            "Processed sentence for image 1823300.\n",
            "Processed sentence for image 1014108.\n"
          ]
        },
        {
          "output_type": "stream",
          "name": "stderr",
          "text": [
            " 69%|██████▊   | 2746/4000 [05:19<01:24, 14.83it/s]"
          ]
        },
        {
          "output_type": "stream",
          "name": "stdout",
          "text": [
            "Processed sentence for image 1141644.\n",
            "Processed sentence for image 177785.\n",
            "Processed sentence for image 110137.\n"
          ]
        },
        {
          "output_type": "stream",
          "name": "stderr",
          "text": [
            " 69%|██████▉   | 2750/4000 [05:19<01:20, 15.57it/s]"
          ]
        },
        {
          "output_type": "stream",
          "name": "stdout",
          "text": [
            "Processed sentence for image 812084.\n",
            "Processed sentence for image 454478.\n",
            "Processed sentence for image 464231.\n",
            "Processed sentence for image 121796.\n"
          ]
        },
        {
          "output_type": "stream",
          "name": "stderr",
          "text": [
            "\r 69%|██████▉   | 2752/4000 [05:19<01:28, 14.15it/s]"
          ]
        },
        {
          "output_type": "stream",
          "name": "stdout",
          "text": [
            "Processed sentence for image 743124.\n",
            "Processed sentence for image 35117.\n",
            "Processed sentence for image 291383.\n"
          ]
        },
        {
          "output_type": "stream",
          "name": "stderr",
          "text": [
            " 69%|██████▉   | 2756/4000 [05:19<01:44, 11.94it/s]"
          ]
        },
        {
          "output_type": "stream",
          "name": "stdout",
          "text": [
            "Processed sentence for image 1770964.\n",
            "Processed sentence for image 800353.\n",
            "Processed sentence for image 454134.\n"
          ]
        },
        {
          "output_type": "stream",
          "name": "stderr",
          "text": [
            "\r 69%|██████▉   | 2758/4000 [05:20<01:36, 12.81it/s]"
          ]
        },
        {
          "output_type": "stream",
          "name": "stdout",
          "text": [
            "Processed sentence for image 1413482.\n",
            "Processed sentence for image 671610.\n",
            "Processed sentence for image 118129.\n"
          ]
        },
        {
          "output_type": "stream",
          "name": "stderr",
          "text": [
            " 69%|██████▉   | 2762/4000 [05:20<01:45, 11.74it/s]"
          ]
        },
        {
          "output_type": "stream",
          "name": "stdout",
          "text": [
            "Processed sentence for image 127385.\n",
            "Processed sentence for image 127314.\n",
            "Processed sentence for image 980945.\n"
          ]
        },
        {
          "output_type": "stream",
          "name": "stderr",
          "text": [
            "\r 69%|██████▉   | 2764/4000 [05:20<01:44, 11.82it/s]"
          ]
        },
        {
          "output_type": "stream",
          "name": "stdout",
          "text": [
            "Processed sentence for image 1012623.\n",
            "Processed sentence for image 8735.\n",
            "Processed sentence for image 423832.\n"
          ]
        },
        {
          "output_type": "stream",
          "name": "stderr",
          "text": [
            " 69%|██████▉   | 2768/4000 [05:21<01:53, 10.87it/s]"
          ]
        },
        {
          "output_type": "stream",
          "name": "stdout",
          "text": [
            "Processed sentence for image 903649.\n",
            "Processed sentence for image 507616.\n",
            "Processed sentence for image 71574.\n"
          ]
        },
        {
          "output_type": "stream",
          "name": "stderr",
          "text": [
            "\r 69%|██████▉   | 2770/4000 [05:21<01:53, 10.82it/s]"
          ]
        },
        {
          "output_type": "stream",
          "name": "stdout",
          "text": [
            "Processed sentence for image 71717.\n",
            "Processed sentence for image 1433003.\n"
          ]
        },
        {
          "output_type": "stream",
          "name": "stderr",
          "text": [
            "\r 69%|██████▉   | 2772/4000 [05:21<02:00, 10.19it/s]"
          ]
        },
        {
          "output_type": "stream",
          "name": "stdout",
          "text": [
            "Processed sentence for image 38763.\n",
            "Processed sentence for image 114182.\n",
            "Processed sentence for image 71680.\n"
          ]
        },
        {
          "output_type": "stream",
          "name": "stderr",
          "text": [
            " 69%|██████▉   | 2776/4000 [05:21<01:59, 10.22it/s]"
          ]
        },
        {
          "output_type": "stream",
          "name": "stdout",
          "text": [
            "Processed sentence for image 1294329.\n",
            "Processed sentence for image 417839.\n",
            "Processed sentence for image 340886.\n"
          ]
        },
        {
          "output_type": "stream",
          "name": "stderr",
          "text": [
            "\r 69%|██████▉   | 2778/4000 [05:22<02:00, 10.13it/s]"
          ]
        },
        {
          "output_type": "stream",
          "name": "stdout",
          "text": [
            "Processed sentence for image 62383.\n",
            "Processed sentence for image 1065962.\n"
          ]
        },
        {
          "output_type": "stream",
          "name": "stderr",
          "text": [
            "\r 70%|██████▉   | 2780/4000 [05:22<02:16,  8.94it/s]"
          ]
        },
        {
          "output_type": "stream",
          "name": "stdout",
          "text": [
            "Processed sentence for image 441093.\n",
            "Processed sentence for image 813746.\n"
          ]
        },
        {
          "output_type": "stream",
          "name": "stderr",
          "text": [
            " 70%|██████▉   | 2783/4000 [05:22<02:18,  8.80it/s]"
          ]
        },
        {
          "output_type": "stream",
          "name": "stdout",
          "text": [
            "Processed sentence for image 36921.\n",
            "Processed sentence for image 1735160.\n",
            "Processed sentence for image 1095597.\n"
          ]
        },
        {
          "output_type": "stream",
          "name": "stderr",
          "text": [
            " 70%|██████▉   | 2786/4000 [05:22<01:56, 10.46it/s]"
          ]
        },
        {
          "output_type": "stream",
          "name": "stdout",
          "text": [
            "Processed sentence for image 735189.\n",
            "Processed sentence for image 93286.\n",
            "Processed sentence for image 1990811.\n"
          ]
        },
        {
          "output_type": "stream",
          "name": "stderr",
          "text": [
            "\r 70%|██████▉   | 2788/4000 [05:23<02:11,  9.19it/s]"
          ]
        },
        {
          "output_type": "stream",
          "name": "stdout",
          "text": [
            "Processed sentence for image 73014.\n",
            "Processed sentence for image 50881.\n"
          ]
        },
        {
          "output_type": "stream",
          "name": "stderr",
          "text": [
            " 70%|██████▉   | 2791/4000 [05:23<02:09,  9.36it/s]"
          ]
        },
        {
          "output_type": "stream",
          "name": "stdout",
          "text": [
            "Processed sentence for image 607203.\n",
            "Processed sentence for image 1001683.\n",
            "Processed sentence for image 563480.\n"
          ]
        },
        {
          "output_type": "stream",
          "name": "stderr",
          "text": [
            " 70%|██████▉   | 2793/4000 [05:23<02:27,  8.20it/s]"
          ]
        },
        {
          "output_type": "stream",
          "name": "stdout",
          "text": [
            "Processed sentence for image 519796.\n",
            "Processed sentence for image 116563.\n"
          ]
        },
        {
          "output_type": "stream",
          "name": "stderr",
          "text": [
            "\r 70%|██████▉   | 2795/4000 [05:23<01:56, 10.39it/s]"
          ]
        },
        {
          "output_type": "stream",
          "name": "stdout",
          "text": [
            "Processed sentence for image 67580.\n",
            "Processed sentence for image 1756426.\n",
            "Processed sentence for image 91099.\n"
          ]
        },
        {
          "output_type": "stream",
          "name": "stderr",
          "text": [
            " 70%|██████▉   | 2799/4000 [05:24<01:52, 10.70it/s]"
          ]
        },
        {
          "output_type": "stream",
          "name": "stdout",
          "text": [
            "Processed sentence for image 93825.\n",
            "Processed sentence for image 72437.\n",
            "Processed sentence for image 118152.\n"
          ]
        },
        {
          "output_type": "stream",
          "name": "stderr",
          "text": [
            "\r 70%|███████   | 2801/4000 [05:24<01:59, 10.03it/s]"
          ]
        },
        {
          "output_type": "stream",
          "name": "stdout",
          "text": [
            "Processed sentence for image 1114560.\n",
            "Processed sentence for image 109752.\n"
          ]
        },
        {
          "output_type": "stream",
          "name": "stderr",
          "text": [
            "\r 70%|███████   | 2803/4000 [05:24<01:54, 10.50it/s]"
          ]
        },
        {
          "output_type": "stream",
          "name": "stdout",
          "text": [
            "Processed sentence for image 115220.\n",
            "Processed sentence for image 856339.\n",
            "Processed sentence for image 774201.\n"
          ]
        },
        {
          "output_type": "stream",
          "name": "stderr",
          "text": [
            " 70%|███████   | 2806/4000 [05:25<02:10,  9.16it/s]"
          ]
        },
        {
          "output_type": "stream",
          "name": "stdout",
          "text": [
            "Processed sentence for image 31868.\n",
            "Processed sentence for image 603385.\n"
          ]
        },
        {
          "output_type": "stream",
          "name": "stderr",
          "text": [
            "\r 70%|███████   | 2807/4000 [05:25<02:14,  8.86it/s]"
          ]
        },
        {
          "output_type": "stream",
          "name": "stdout",
          "text": [
            "Processed sentence for image 709211.\n",
            "Processed sentence for image 651227.\n"
          ]
        },
        {
          "output_type": "stream",
          "name": "stderr",
          "text": [
            " 70%|███████   | 2811/4000 [05:25<01:54, 10.36it/s]"
          ]
        },
        {
          "output_type": "stream",
          "name": "stdout",
          "text": [
            "Processed sentence for image 14766.\n",
            "Processed sentence for image 16097.\n",
            "Processed sentence for image 138153.\n"
          ]
        },
        {
          "output_type": "stream",
          "name": "stderr",
          "text": [
            "\r 70%|███████   | 2813/4000 [05:25<02:05,  9.49it/s]"
          ]
        },
        {
          "output_type": "stream",
          "name": "stdout",
          "text": [
            "Processed sentence for image 116193.\n",
            "Processed sentence for image 71856.\n"
          ]
        },
        {
          "output_type": "stream",
          "name": "stderr",
          "text": [
            "\r 70%|███████   | 2815/4000 [05:26<01:58, 10.01it/s]"
          ]
        },
        {
          "output_type": "stream",
          "name": "stdout",
          "text": [
            "Processed sentence for image 42121.\n",
            "Processed sentence for image 153195.\n"
          ]
        },
        {
          "output_type": "stream",
          "name": "stderr",
          "text": [
            "\r 70%|███████   | 2817/4000 [05:26<02:14,  8.78it/s]"
          ]
        },
        {
          "output_type": "stream",
          "name": "stdout",
          "text": [
            "Processed sentence for image 599033.\n",
            "Processed sentence for image 33643.\n"
          ]
        },
        {
          "output_type": "stream",
          "name": "stderr",
          "text": [
            " 70%|███████   | 2819/4000 [05:26<02:10,  9.03it/s]"
          ]
        },
        {
          "output_type": "stream",
          "name": "stdout",
          "text": [
            "Processed sentence for image 517436.\n",
            "Processed sentence for image 818141.\n"
          ]
        },
        {
          "output_type": "stream",
          "name": "stderr",
          "text": [
            " 71%|███████   | 2821/4000 [05:26<02:26,  8.05it/s]"
          ]
        },
        {
          "output_type": "stream",
          "name": "stdout",
          "text": [
            "Processed sentence for image 422290.\n",
            "Processed sentence for image 1146480.\n"
          ]
        },
        {
          "output_type": "stream",
          "name": "stderr",
          "text": [
            " 71%|███████   | 2823/4000 [05:27<02:30,  7.81it/s]"
          ]
        },
        {
          "output_type": "stream",
          "name": "stdout",
          "text": [
            "Processed sentence for image 94015.\n",
            "Processed sentence for image 90005.\n"
          ]
        },
        {
          "output_type": "stream",
          "name": "stderr",
          "text": [
            "\r 71%|███████   | 2825/4000 [05:27<02:21,  8.30it/s]"
          ]
        },
        {
          "output_type": "stream",
          "name": "stdout",
          "text": [
            "Processed sentence for image 71848.\n",
            "Processed sentence for image 65711.\n",
            "Processed sentence for image 544997.\n"
          ]
        },
        {
          "output_type": "stream",
          "name": "stderr",
          "text": [
            " 71%|███████   | 2829/4000 [05:27<01:48, 10.79it/s]"
          ]
        },
        {
          "output_type": "stream",
          "name": "stdout",
          "text": [
            "Processed sentence for image 609277.\n",
            "Processed sentence for image 1308471.\n",
            "Processed sentence for image 482467.\n"
          ]
        },
        {
          "output_type": "stream",
          "name": "stderr",
          "text": [
            "\r 71%|███████   | 2831/4000 [05:27<01:48, 10.80it/s]"
          ]
        },
        {
          "output_type": "stream",
          "name": "stdout",
          "text": [
            "Processed sentence for image 768847.\n",
            "Processed sentence for image 1364981.\n",
            "Processed sentence for image 116472.\n"
          ]
        },
        {
          "output_type": "stream",
          "name": "stderr",
          "text": [
            "\r 71%|███████   | 2833/4000 [05:27<01:57,  9.92it/s]"
          ]
        },
        {
          "output_type": "stream",
          "name": "stdout",
          "text": [
            "Processed sentence for image 1118047.\n",
            "Processed sentence for image 422445.\n"
          ]
        },
        {
          "output_type": "stream",
          "name": "stderr",
          "text": [
            "\r 71%|███████   | 2835/4000 [05:28<01:59,  9.77it/s]"
          ]
        },
        {
          "output_type": "stream",
          "name": "stdout",
          "text": [
            "Processed sentence for image 383657.\n",
            "Processed sentence for image 64991.\n"
          ]
        },
        {
          "output_type": "stream",
          "name": "stderr",
          "text": [
            " 71%|███████   | 2839/4000 [05:28<02:09,  9.00it/s]"
          ]
        },
        {
          "output_type": "stream",
          "name": "stdout",
          "text": [
            "Processed sentence for image 73227.\n",
            "Processed sentence for image 1145856.\n",
            "Processed sentence for image 528713.\n"
          ]
        },
        {
          "output_type": "stream",
          "name": "stderr",
          "text": [
            " 71%|███████   | 2842/4000 [05:28<02:03,  9.38it/s]"
          ]
        },
        {
          "output_type": "stream",
          "name": "stdout",
          "text": [
            "Processed sentence for image 22450.\n",
            "Processed sentence for image 1288091.\n",
            "Processed sentence for image 116203.\n"
          ]
        },
        {
          "output_type": "stream",
          "name": "stderr",
          "text": [
            " 71%|███████   | 2844/4000 [05:29<02:01,  9.49it/s]"
          ]
        },
        {
          "output_type": "stream",
          "name": "stdout",
          "text": [
            "Processed sentence for image 32184.\n",
            "Processed sentence for image 1861485.\n",
            "Processed sentence for image 109574.\n"
          ]
        },
        {
          "output_type": "stream",
          "name": "stderr",
          "text": [
            " 71%|███████   | 2848/4000 [05:29<01:40, 11.45it/s]"
          ]
        },
        {
          "output_type": "stream",
          "name": "stdout",
          "text": [
            "Processed sentence for image 20172.\n",
            "Processed sentence for image 29373.\n",
            "Processed sentence for image 114883.\n"
          ]
        },
        {
          "output_type": "stream",
          "name": "stderr",
          "text": [
            "\r 71%|███████▏  | 2850/4000 [05:29<01:41, 11.35it/s]"
          ]
        },
        {
          "output_type": "stream",
          "name": "stdout",
          "text": [
            "Processed sentence for image 678516.\n",
            "Processed sentence for image 73682.\n",
            "Processed sentence for image 91242.\n"
          ]
        },
        {
          "output_type": "stream",
          "name": "stderr",
          "text": [
            " 71%|███████▏  | 2854/4000 [05:30<01:39, 11.50it/s]"
          ]
        },
        {
          "output_type": "stream",
          "name": "stdout",
          "text": [
            "Processed sentence for image 129809.\n",
            "Processed sentence for image 556359.\n",
            "Processed sentence for image 254266.\n"
          ]
        },
        {
          "output_type": "stream",
          "name": "stderr",
          "text": [
            "\r 71%|███████▏  | 2856/4000 [05:30<01:35, 11.96it/s]"
          ]
        },
        {
          "output_type": "stream",
          "name": "stdout",
          "text": [
            "Processed sentence for image 275599.\n",
            "Processed sentence for image 521301.\n",
            "Processed sentence for image 74911.\n"
          ]
        },
        {
          "output_type": "stream",
          "name": "stderr",
          "text": [
            " 72%|███████▏  | 2860/4000 [05:30<01:39, 11.50it/s]"
          ]
        },
        {
          "output_type": "stream",
          "name": "stdout",
          "text": [
            "Processed sentence for image 117690.\n",
            "Processed sentence for image 1324901.\n",
            "Processed sentence for image 818214.\n"
          ]
        },
        {
          "output_type": "stream",
          "name": "stderr",
          "text": [
            "\r 72%|███████▏  | 2862/4000 [05:30<01:46, 10.70it/s]"
          ]
        },
        {
          "output_type": "stream",
          "name": "stdout",
          "text": [
            "Processed sentence for image 543922.\n",
            "Processed sentence for image 571272.\n",
            "Processed sentence for image 48510.\n"
          ]
        },
        {
          "output_type": "stream",
          "name": "stderr",
          "text": [
            "\r 72%|███████▏  | 2864/4000 [05:31<01:55,  9.86it/s]"
          ]
        },
        {
          "output_type": "stream",
          "name": "stdout",
          "text": [
            "Processed sentence for image 662854.\n",
            "Processed sentence for image 924157.\n"
          ]
        },
        {
          "output_type": "stream",
          "name": "stderr",
          "text": [
            " 72%|███████▏  | 2867/4000 [05:31<02:02,  9.28it/s]"
          ]
        },
        {
          "output_type": "stream",
          "name": "stdout",
          "text": [
            "Processed sentence for image 13497.\n",
            "Processed sentence for image 604161.\n"
          ]
        },
        {
          "output_type": "stream",
          "name": "stderr",
          "text": [
            " 72%|███████▏  | 2869/4000 [05:31<02:09,  8.73it/s]"
          ]
        },
        {
          "output_type": "stream",
          "name": "stdout",
          "text": [
            "Processed sentence for image 768469.\n",
            "Processed sentence for image 175377.\n",
            "Processed sentence for image 1697370.\n"
          ]
        },
        {
          "output_type": "stream",
          "name": "stderr",
          "text": [
            " 72%|███████▏  | 2873/4000 [05:31<01:47, 10.46it/s]"
          ]
        },
        {
          "output_type": "stream",
          "name": "stdout",
          "text": [
            "Processed sentence for image 1992641.\n",
            "Processed sentence for image 67778.\n",
            "Processed sentence for image 73852.\n"
          ]
        },
        {
          "output_type": "stream",
          "name": "stderr",
          "text": [
            "\r 72%|███████▏  | 2875/4000 [05:32<01:55,  9.74it/s]"
          ]
        },
        {
          "output_type": "stream",
          "name": "stdout",
          "text": [
            "Processed sentence for image 450320.\n",
            "Processed sentence for image 64429.\n",
            "Processed sentence for image 702846.\n"
          ]
        },
        {
          "output_type": "stream",
          "name": "stderr",
          "text": [
            " 72%|███████▏  | 2878/4000 [05:32<01:56,  9.63it/s]"
          ]
        },
        {
          "output_type": "stream",
          "name": "stdout",
          "text": [
            "Processed sentence for image 73667.\n",
            "Processed sentence for image 45500.\n"
          ]
        },
        {
          "output_type": "stream",
          "name": "stderr",
          "text": [
            " 72%|███████▏  | 2880/4000 [05:32<02:06,  8.86it/s]"
          ]
        },
        {
          "output_type": "stream",
          "name": "stdout",
          "text": [
            "Processed sentence for image 701357.\n",
            "Processed sentence for image 73945.\n"
          ]
        },
        {
          "output_type": "stream",
          "name": "stderr",
          "text": [
            "\r 72%|███████▏  | 2882/4000 [05:32<01:49, 10.19it/s]"
          ]
        },
        {
          "output_type": "stream",
          "name": "stdout",
          "text": [
            "Processed sentence for image 1030631.\n",
            "Processed sentence for image 365118.\n",
            "Processed sentence for image 322733.\n"
          ]
        },
        {
          "output_type": "stream",
          "name": "stderr",
          "text": [
            " 72%|███████▏  | 2886/4000 [05:33<01:43, 10.71it/s]"
          ]
        },
        {
          "output_type": "stream",
          "name": "stdout",
          "text": [
            "Processed sentence for image 64091.\n",
            "Processed sentence for image 1106667.\n",
            "Processed sentence for image 1292420.\n"
          ]
        },
        {
          "output_type": "stream",
          "name": "stderr",
          "text": [
            "\r 72%|███████▏  | 2888/4000 [05:33<01:44, 10.69it/s]"
          ]
        },
        {
          "output_type": "stream",
          "name": "stdout",
          "text": [
            "Processed sentence for image 116978.\n",
            "Processed sentence for image 422029.\n"
          ]
        },
        {
          "output_type": "stream",
          "name": "stderr",
          "text": [
            "\r 72%|███████▏  | 2890/4000 [05:33<02:06,  8.79it/s]"
          ]
        },
        {
          "output_type": "stream",
          "name": "stdout",
          "text": [
            "Processed sentence for image 116468.\n",
            "Processed sentence for image 1134168.\n"
          ]
        },
        {
          "output_type": "stream",
          "name": "stderr",
          "text": [
            " 72%|███████▏  | 2893/4000 [05:34<01:58,  9.36it/s]"
          ]
        },
        {
          "output_type": "stream",
          "name": "stdout",
          "text": [
            "Processed sentence for image 812135.\n",
            "Processed sentence for image 1072793.\n",
            "Processed sentence for image 118281.\n"
          ]
        },
        {
          "output_type": "stream",
          "name": "stderr",
          "text": [
            "\r 72%|███████▏  | 2895/4000 [05:34<01:40, 11.05it/s]"
          ]
        },
        {
          "output_type": "stream",
          "name": "stdout",
          "text": [
            "Processed sentence for image 535421.\n",
            "Processed sentence for image 74508.\n",
            "Processed sentence for image 70731.\n",
            "Processed sentence for image 595230.\n"
          ]
        },
        {
          "output_type": "stream",
          "name": "stderr",
          "text": [
            " 73%|███████▎  | 2901/4000 [05:34<01:18, 13.98it/s]"
          ]
        },
        {
          "output_type": "stream",
          "name": "stdout",
          "text": [
            "Processed sentence for image 72380.\n",
            "Processed sentence for image 303279.\n",
            "Processed sentence for image 555806.\n",
            "Processed sentence for image 41900.\n"
          ]
        },
        {
          "output_type": "stream",
          "name": "stderr",
          "text": [
            " 73%|███████▎  | 2905/4000 [05:34<01:19, 13.78it/s]"
          ]
        },
        {
          "output_type": "stream",
          "name": "stdout",
          "text": [
            "Processed sentence for image 1008900.\n",
            "Processed sentence for image 465687.\n",
            "Processed sentence for image 1438554.\n",
            "Processed sentence for image 66102.\n"
          ]
        },
        {
          "output_type": "stream",
          "name": "stderr",
          "text": [
            "\r 73%|███████▎  | 2907/4000 [05:35<01:23, 13.01it/s]"
          ]
        },
        {
          "output_type": "stream",
          "name": "stdout",
          "text": [
            "Processed sentence for image 417446.\n",
            "Processed sentence for image 90456.\n",
            "Processed sentence for image 254182.\n"
          ]
        },
        {
          "output_type": "stream",
          "name": "stderr",
          "text": [
            " 73%|███████▎  | 2911/4000 [05:35<01:20, 13.49it/s]"
          ]
        },
        {
          "output_type": "stream",
          "name": "stdout",
          "text": [
            "Processed sentence for image 1285655.\n",
            "Processed sentence for image 675747.\n",
            "Processed sentence for image 33789.\n"
          ]
        },
        {
          "output_type": "stream",
          "name": "stderr",
          "text": [
            "\r 73%|███████▎  | 2913/4000 [05:35<01:21, 13.33it/s]"
          ]
        },
        {
          "output_type": "stream",
          "name": "stdout",
          "text": [
            "Processed sentence for image 281345.\n",
            "Processed sentence for image 702960.\n",
            "Processed sentence for image 30747.\n"
          ]
        },
        {
          "output_type": "stream",
          "name": "stderr",
          "text": [
            " 73%|███████▎  | 2917/4000 [05:35<01:24, 12.83it/s]"
          ]
        },
        {
          "output_type": "stream",
          "name": "stdout",
          "text": [
            "Processed sentence for image 14288.\n",
            "Processed sentence for image 1101140.\n",
            "Processed sentence for image 166048.\n",
            "Processed sentence for image 567629.\n"
          ]
        },
        {
          "output_type": "stream",
          "name": "stderr",
          "text": [
            " 73%|███████▎  | 2921/4000 [05:36<01:25, 12.65it/s]"
          ]
        },
        {
          "output_type": "stream",
          "name": "stdout",
          "text": [
            "Processed sentence for image 155680.\n",
            "Processed sentence for image 242521.\n",
            "Processed sentence for image 1110932.\n"
          ]
        },
        {
          "output_type": "stream",
          "name": "stderr",
          "text": [
            " 73%|███████▎  | 2926/4000 [05:36<01:10, 15.27it/s]"
          ]
        },
        {
          "output_type": "stream",
          "name": "stdout",
          "text": [
            "Processed sentence for image 1009834.\n",
            "Processed sentence for image 521802.\n",
            "Processed sentence for image 444201.\n",
            "Processed sentence for image 1712943.\n",
            "Processed sentence for image 1465103.\n"
          ]
        },
        {
          "output_type": "stream",
          "name": "stderr",
          "text": [
            "\r 73%|███████▎  | 2928/4000 [05:36<01:13, 14.56it/s]"
          ]
        },
        {
          "output_type": "stream",
          "name": "stdout",
          "text": [
            "Processed sentence for image 110200.\n",
            "Processed sentence for image 116738.\n",
            "Processed sentence for image 1010214.\n"
          ]
        },
        {
          "output_type": "stream",
          "name": "stderr",
          "text": [
            " 73%|███████▎  | 2932/4000 [05:36<01:24, 12.63it/s]"
          ]
        },
        {
          "output_type": "stream",
          "name": "stdout",
          "text": [
            "Processed sentence for image 73056.\n",
            "Processed sentence for image 459783.\n",
            "Processed sentence for image 800562.\n"
          ]
        },
        {
          "output_type": "stream",
          "name": "stderr",
          "text": [
            " 73%|███████▎  | 2936/4000 [05:37<01:20, 13.29it/s]"
          ]
        },
        {
          "output_type": "stream",
          "name": "stdout",
          "text": [
            "Processed sentence for image 2130103.\n",
            "Processed sentence for image 900799.\n",
            "Processed sentence for image 35028.\n",
            "Processed sentence for image 579032.\n"
          ]
        },
        {
          "output_type": "stream",
          "name": "stderr",
          "text": [
            "\r 73%|███████▎  | 2938/4000 [05:37<01:24, 12.53it/s]"
          ]
        },
        {
          "output_type": "stream",
          "name": "stdout",
          "text": [
            "Processed sentence for image 717901.\n",
            "Processed sentence for image 1929377.\n",
            "Processed sentence for image 7559.\n"
          ]
        },
        {
          "output_type": "stream",
          "name": "stderr",
          "text": [
            " 74%|███████▎  | 2942/4000 [05:37<01:26, 12.26it/s]"
          ]
        },
        {
          "output_type": "stream",
          "name": "stdout",
          "text": [
            "Processed sentence for image 74170.\n",
            "Processed sentence for image 457211.\n",
            "Processed sentence for image 67336.\n"
          ]
        },
        {
          "output_type": "stream",
          "name": "stderr",
          "text": [
            "\r 74%|███████▎  | 2944/4000 [05:37<01:26, 12.20it/s]"
          ]
        },
        {
          "output_type": "stream",
          "name": "stdout",
          "text": [
            "Processed sentence for image 1808427.\n",
            "Processed sentence for image 607580.\n",
            "Processed sentence for image 67354.\n"
          ]
        },
        {
          "output_type": "stream",
          "name": "stderr",
          "text": [
            " 74%|███████▎  | 2948/4000 [05:38<01:18, 13.32it/s]"
          ]
        },
        {
          "output_type": "stream",
          "name": "stdout",
          "text": [
            "Processed sentence for image 1451395.\n",
            "Processed sentence for image 45399.\n",
            "Processed sentence for image 93465.\n",
            "Processed sentence for image 21400.\n"
          ]
        },
        {
          "output_type": "stream",
          "name": "stderr",
          "text": [
            " 74%|███████▍  | 2953/4000 [05:38<01:10, 14.88it/s]"
          ]
        },
        {
          "output_type": "stream",
          "name": "stdout",
          "text": [
            "Processed sentence for image 110342.\n",
            "Processed sentence for image 735553.\n",
            "Processed sentence for image 1344013.\n",
            "Processed sentence for image 1293351.\n"
          ]
        },
        {
          "output_type": "stream",
          "name": "stderr",
          "text": [
            "\r 74%|███████▍  | 2955/4000 [05:38<01:12, 14.47it/s]"
          ]
        },
        {
          "output_type": "stream",
          "name": "stdout",
          "text": [
            "Processed sentence for image 73718.\n",
            "Processed sentence for image 566271.\n",
            "Processed sentence for image 14084.\n"
          ]
        },
        {
          "output_type": "stream",
          "name": "stderr",
          "text": [
            " 74%|███████▍  | 2959/4000 [05:38<01:21, 12.73it/s]"
          ]
        },
        {
          "output_type": "stream",
          "name": "stdout",
          "text": [
            "Processed sentence for image 711608.\n",
            "Processed sentence for image 462450.\n",
            "Processed sentence for image 33903.\n"
          ]
        },
        {
          "output_type": "stream",
          "name": "stderr",
          "text": [
            "\r 74%|███████▍  | 2962/4000 [05:39<01:12, 14.33it/s]"
          ]
        },
        {
          "output_type": "stream",
          "name": "stdout",
          "text": [
            "Processed sentence for image 163731.\n",
            "Processed sentence for image 1397838.\n",
            "Processed sentence for image 126978.\n",
            "Processed sentence for image 68212.\n"
          ]
        },
        {
          "output_type": "stream",
          "name": "stderr",
          "text": [
            " 74%|███████▍  | 2966/4000 [05:39<01:17, 13.33it/s]"
          ]
        },
        {
          "output_type": "stream",
          "name": "stdout",
          "text": [
            "Processed sentence for image 216208.\n",
            "Processed sentence for image 72763.\n",
            "Processed sentence for image 636155.\n"
          ]
        },
        {
          "output_type": "stream",
          "name": "stderr",
          "text": [
            "\r 74%|███████▍  | 2969/4000 [05:39<01:13, 14.08it/s]"
          ]
        },
        {
          "output_type": "stream",
          "name": "stdout",
          "text": [
            "Processed sentence for image 1931560.\n",
            "Processed sentence for image 732768.\n",
            "Processed sentence for image 883728.\n",
            "Processed sentence for image 922909.\n"
          ]
        },
        {
          "output_type": "stream",
          "name": "stderr",
          "text": [
            " 74%|███████▍  | 2973/4000 [05:39<01:18, 13.07it/s]"
          ]
        },
        {
          "output_type": "stream",
          "name": "stdout",
          "text": [
            "Processed sentence for image 29361.\n",
            "Processed sentence for image 12739.\n",
            "Processed sentence for image 14813.\n"
          ]
        },
        {
          "output_type": "stream",
          "name": "stderr",
          "text": [
            "\r 74%|███████▍  | 2975/4000 [05:40<01:34, 10.85it/s]"
          ]
        },
        {
          "output_type": "stream",
          "name": "stdout",
          "text": [
            "Processed sentence for image 1123507.\n",
            "Processed sentence for image 245069.\n"
          ]
        },
        {
          "output_type": "stream",
          "name": "stderr",
          "text": [
            "\r 74%|███████▍  | 2977/4000 [05:40<01:34, 10.82it/s]"
          ]
        },
        {
          "output_type": "stream",
          "name": "stdout",
          "text": [
            "Processed sentence for image 29384.\n",
            "Processed sentence for image 126029.\n",
            "Processed sentence for image 73884.\n"
          ]
        },
        {
          "output_type": "stream",
          "name": "stderr",
          "text": [
            " 75%|███████▍  | 2981/4000 [05:40<01:28, 11.50it/s]"
          ]
        },
        {
          "output_type": "stream",
          "name": "stdout",
          "text": [
            "Processed sentence for image 64050.\n",
            "Processed sentence for image 1293934.\n",
            "Processed sentence for image 73686.\n"
          ]
        },
        {
          "output_type": "stream",
          "name": "stderr",
          "text": [
            " 75%|███████▍  | 2985/4000 [05:40<01:14, 13.64it/s]"
          ]
        },
        {
          "output_type": "stream",
          "name": "stdout",
          "text": [
            "Processed sentence for image 475049.\n",
            "Processed sentence for image 1947290.\n",
            "Processed sentence for image 544096.\n",
            "Processed sentence for image 1294593.\n"
          ]
        },
        {
          "output_type": "stream",
          "name": "stderr",
          "text": [
            " 75%|███████▍  | 2989/4000 [05:41<01:07, 14.94it/s]"
          ]
        },
        {
          "output_type": "stream",
          "name": "stdout",
          "text": [
            "Processed sentence for image 549978.\n",
            "Processed sentence for image 1005776.\n",
            "Processed sentence for image 1814946.\n",
            "Processed sentence for image 111417.\n"
          ]
        },
        {
          "output_type": "stream",
          "name": "stderr",
          "text": [
            " 75%|███████▍  | 2993/4000 [05:41<01:07, 14.90it/s]"
          ]
        },
        {
          "output_type": "stream",
          "name": "stdout",
          "text": [
            "Processed sentence for image 1042987.\n",
            "Processed sentence for image 70946.\n",
            "Processed sentence for image 485815.\n",
            "Processed sentence for image 36176.\n"
          ]
        },
        {
          "output_type": "stream",
          "name": "stderr",
          "text": [
            " 75%|███████▍  | 2997/4000 [05:41<01:09, 14.39it/s]"
          ]
        },
        {
          "output_type": "stream",
          "name": "stdout",
          "text": [
            "Processed sentence for image 1779713.\n",
            "Processed sentence for image 489061.\n",
            "Processed sentence for image 514.\n",
            "Processed sentence for image 71803.\n"
          ]
        },
        {
          "output_type": "stream",
          "name": "stderr",
          "text": [
            "\r 75%|███████▍  | 2999/4000 [05:41<01:11, 13.92it/s]"
          ]
        },
        {
          "output_type": "stream",
          "name": "stdout",
          "text": [
            "Processed sentence for image 385.\n",
            "Processed sentence for image 1349406.\n",
            "Processed sentence for image 1317539.\n"
          ]
        },
        {
          "output_type": "stream",
          "name": "stderr",
          "text": [
            " 75%|███████▌  | 3003/4000 [05:42<01:10, 14.22it/s]"
          ]
        },
        {
          "output_type": "stream",
          "name": "stdout",
          "text": [
            "Processed sentence for image 551759.\n",
            "Processed sentence for image 497191.\n",
            "Processed sentence for image 458861.\n"
          ]
        },
        {
          "output_type": "stream",
          "name": "stderr",
          "text": [
            "\r 75%|███████▌  | 3005/4000 [05:42<01:20, 12.35it/s]"
          ]
        },
        {
          "output_type": "stream",
          "name": "stdout",
          "text": [
            "Processed sentence for image 72129.\n",
            "Processed sentence for image 73531.\n",
            "Processed sentence for image 1970511.\n"
          ]
        },
        {
          "output_type": "stream",
          "name": "stderr",
          "text": [
            " 75%|███████▌  | 3009/4000 [05:42<01:15, 13.06it/s]"
          ]
        },
        {
          "output_type": "stream",
          "name": "stdout",
          "text": [
            "Processed sentence for image 515969.\n",
            "Processed sentence for image 1347364.\n",
            "Processed sentence for image 1076201.\n",
            "Processed sentence for image 526805.\n"
          ]
        },
        {
          "output_type": "stream",
          "name": "stderr",
          "text": [
            " 75%|███████▌  | 3013/4000 [05:43<01:17, 12.68it/s]"
          ]
        },
        {
          "output_type": "stream",
          "name": "stdout",
          "text": [
            "Processed sentence for image 65089.\n",
            "Processed sentence for image 736811.\n",
            "Processed sentence for image 72421.\n",
            "Processed sentence for image 1030624.\n"
          ]
        },
        {
          "output_type": "stream",
          "name": "stderr",
          "text": [
            " 75%|███████▌  | 3017/4000 [05:43<01:11, 13.70it/s]"
          ]
        },
        {
          "output_type": "stream",
          "name": "stdout",
          "text": [
            "Processed sentence for image 415582.\n",
            "Processed sentence for image 67793.\n",
            "Processed sentence for image 1815421.\n"
          ]
        },
        {
          "output_type": "stream",
          "name": "stderr",
          "text": [
            "\r 75%|███████▌  | 3019/4000 [05:43<01:13, 13.43it/s]"
          ]
        },
        {
          "output_type": "stream",
          "name": "stdout",
          "text": [
            "Processed sentence for image 71598.\n",
            "Processed sentence for image 552201.\n",
            "Processed sentence for image 538629.\n"
          ]
        },
        {
          "output_type": "stream",
          "name": "stderr",
          "text": [
            " 76%|███████▌  | 3023/4000 [05:43<01:15, 12.86it/s]"
          ]
        },
        {
          "output_type": "stream",
          "name": "stdout",
          "text": [
            "Processed sentence for image 505300.\n",
            "Processed sentence for image 74519.\n",
            "Processed sentence for image 128023.\n",
            "Processed sentence for image 71032.\n"
          ]
        },
        {
          "output_type": "stream",
          "name": "stderr",
          "text": [
            "\r 76%|███████▌  | 3026/4000 [05:43<01:06, 14.56it/s]"
          ]
        },
        {
          "output_type": "stream",
          "name": "stdout",
          "text": [
            "Processed sentence for image 73902.\n",
            "Processed sentence for image 73300.\n",
            "Processed sentence for image 421956.\n"
          ]
        },
        {
          "output_type": "stream",
          "name": "stderr",
          "text": [
            "\r 76%|███████▌  | 3028/4000 [05:44<01:13, 13.23it/s]"
          ]
        },
        {
          "output_type": "stream",
          "name": "stdout",
          "text": [
            "Processed sentence for image 571683.\n",
            "Processed sentence for image 74056.\n"
          ]
        },
        {
          "output_type": "stream",
          "name": "stderr",
          "text": [
            "\r 76%|███████▌  | 3030/4000 [05:44<01:22, 11.75it/s]"
          ]
        },
        {
          "output_type": "stream",
          "name": "stdout",
          "text": [
            "Processed sentence for image 414742.\n",
            "Processed sentence for image 1448449.\n"
          ]
        },
        {
          "output_type": "stream",
          "name": "stderr",
          "text": [
            "\r 76%|███████▌  | 3032/4000 [05:44<01:33, 10.31it/s]"
          ]
        },
        {
          "output_type": "stream",
          "name": "stdout",
          "text": [
            "Processed sentence for image 1706439.\n",
            "Processed sentence for image 92180.\n"
          ]
        },
        {
          "output_type": "stream",
          "name": "stderr",
          "text": [
            " 76%|███████▌  | 3036/4000 [05:45<01:36, 10.01it/s]"
          ]
        },
        {
          "output_type": "stream",
          "name": "stdout",
          "text": [
            "Processed sentence for image 13796.\n",
            "Processed sentence for image 72929.\n",
            "Processed sentence for image 74376.\n"
          ]
        },
        {
          "output_type": "stream",
          "name": "stderr",
          "text": [
            "\r 76%|███████▌  | 3038/4000 [05:45<01:35, 10.06it/s]"
          ]
        },
        {
          "output_type": "stream",
          "name": "stdout",
          "text": [
            "Processed sentence for image 878481.\n",
            "Processed sentence for image 280092.\n"
          ]
        },
        {
          "output_type": "stream",
          "name": "stderr",
          "text": [
            "\r 76%|███████▌  | 3040/4000 [05:45<01:45,  9.06it/s]"
          ]
        },
        {
          "output_type": "stream",
          "name": "stdout",
          "text": [
            "Processed sentence for image 48509.\n",
            "Processed sentence for image 71903.\n"
          ]
        },
        {
          "output_type": "stream",
          "name": "stderr",
          "text": [
            " 76%|███████▌  | 3043/4000 [05:45<01:34, 10.17it/s]"
          ]
        },
        {
          "output_type": "stream",
          "name": "stdout",
          "text": [
            "Processed sentence for image 33539.\n",
            "Processed sentence for image 550071.\n",
            "Processed sentence for image 1504014.\n"
          ]
        },
        {
          "output_type": "stream",
          "name": "stderr",
          "text": [
            "\r 76%|███████▌  | 3045/4000 [05:45<01:32, 10.29it/s]"
          ]
        },
        {
          "output_type": "stream",
          "name": "stdout",
          "text": [
            "Processed sentence for image 71146.\n",
            "Processed sentence for image 571871.\n",
            "Processed sentence for image 31345.\n"
          ]
        },
        {
          "output_type": "stream",
          "name": "stderr",
          "text": [
            " 76%|███████▌  | 3048/4000 [05:46<01:45,  9.05it/s]"
          ]
        },
        {
          "output_type": "stream",
          "name": "stdout",
          "text": [
            "Processed sentence for image 1092808.\n",
            "Processed sentence for image 67074.\n"
          ]
        },
        {
          "output_type": "stream",
          "name": "stderr",
          "text": [
            " 76%|███████▋  | 3051/4000 [05:46<01:42,  9.29it/s]"
          ]
        },
        {
          "output_type": "stream",
          "name": "stdout",
          "text": [
            "Processed sentence for image 130782.\n",
            "Processed sentence for image 46035.\n",
            "Processed sentence for image 65272.\n"
          ]
        },
        {
          "output_type": "stream",
          "name": "stderr",
          "text": [
            " 76%|███████▋  | 3054/4000 [05:46<01:23, 11.32it/s]"
          ]
        },
        {
          "output_type": "stream",
          "name": "stdout",
          "text": [
            "Processed sentence for image 111810.\n",
            "Processed sentence for image 14665.\n",
            "Processed sentence for image 13788.\n"
          ]
        },
        {
          "output_type": "stream",
          "name": "stderr",
          "text": [
            "\r 76%|███████▋  | 3056/4000 [05:47<01:27, 10.81it/s]"
          ]
        },
        {
          "output_type": "stream",
          "name": "stdout",
          "text": [
            "Processed sentence for image 507948.\n",
            "Processed sentence for image 65250.\n",
            "Processed sentence for image 515898.\n"
          ]
        },
        {
          "output_type": "stream",
          "name": "stderr",
          "text": [
            "\r 76%|███████▋  | 3058/4000 [05:47<01:36,  9.75it/s]"
          ]
        },
        {
          "output_type": "stream",
          "name": "stdout",
          "text": [
            "Processed sentence for image 34561.\n",
            "Processed sentence for image 122149.\n"
          ]
        },
        {
          "output_type": "stream",
          "name": "stderr",
          "text": [
            " 77%|███████▋  | 3062/4000 [05:47<01:34,  9.94it/s]"
          ]
        },
        {
          "output_type": "stream",
          "name": "stdout",
          "text": [
            "Processed sentence for image 45561.\n",
            "Processed sentence for image 1044690.\n",
            "Processed sentence for image 304294.\n"
          ]
        },
        {
          "output_type": "stream",
          "name": "stderr",
          "text": [
            "\r 77%|███████▋  | 3064/4000 [05:47<01:27, 10.69it/s]"
          ]
        },
        {
          "output_type": "stream",
          "name": "stdout",
          "text": [
            "Processed sentence for image 609215.\n",
            "Processed sentence for image 118836.\n",
            "Processed sentence for image 1040724.\n"
          ]
        },
        {
          "output_type": "stream",
          "name": "stderr",
          "text": [
            " 77%|███████▋  | 3068/4000 [05:48<01:31, 10.18it/s]"
          ]
        },
        {
          "output_type": "stream",
          "name": "stdout",
          "text": [
            "Processed sentence for image 1290332.\n",
            "Processed sentence for image 638010.\n",
            "Processed sentence for image 70382.\n"
          ]
        },
        {
          "output_type": "stream",
          "name": "stderr",
          "text": [
            "\r 77%|███████▋  | 3070/4000 [05:48<01:34,  9.85it/s]"
          ]
        },
        {
          "output_type": "stream",
          "name": "stdout",
          "text": [
            "Processed sentence for image 347158.\n",
            "Processed sentence for image 441031.\n"
          ]
        },
        {
          "output_type": "stream",
          "name": "stderr",
          "text": [
            "\r 77%|███████▋  | 3072/4000 [05:48<01:31, 10.16it/s]"
          ]
        },
        {
          "output_type": "stream",
          "name": "stdout",
          "text": [
            "Processed sentence for image 114299.\n",
            "Processed sentence for image 430626.\n",
            "Processed sentence for image 648717.\n"
          ]
        },
        {
          "output_type": "stream",
          "name": "stderr",
          "text": [
            " 77%|███████▋  | 3076/4000 [05:49<01:32, 10.03it/s]"
          ]
        },
        {
          "output_type": "stream",
          "name": "stdout",
          "text": [
            "Processed sentence for image 1093274.\n",
            "Processed sentence for image 322023.\n",
            "Processed sentence for image 745935.\n"
          ]
        },
        {
          "output_type": "stream",
          "name": "stderr",
          "text": [
            "\r 77%|███████▋  | 3078/4000 [05:49<01:28, 10.40it/s]"
          ]
        },
        {
          "output_type": "stream",
          "name": "stdout",
          "text": [
            "Processed sentence for image 2064940.\n",
            "Processed sentence for image 575811.\n",
            "Processed sentence for image 35225.\n"
          ]
        },
        {
          "output_type": "stream",
          "name": "stderr",
          "text": [
            "\r 77%|███████▋  | 3080/4000 [05:49<01:27, 10.54it/s]"
          ]
        },
        {
          "output_type": "stream",
          "name": "stdout",
          "text": [
            "Processed sentence for image 592276.\n",
            "Processed sentence for image 222152.\n"
          ]
        },
        {
          "output_type": "stream",
          "name": "stderr",
          "text": [
            " 77%|███████▋  | 3084/4000 [05:49<01:24, 10.81it/s]"
          ]
        },
        {
          "output_type": "stream",
          "name": "stdout",
          "text": [
            "Processed sentence for image 48637.\n",
            "Processed sentence for image 38329.\n",
            "Processed sentence for image 90767.\n"
          ]
        },
        {
          "output_type": "stream",
          "name": "stderr",
          "text": [
            "\r 77%|███████▋  | 3086/4000 [05:50<01:34,  9.67it/s]"
          ]
        },
        {
          "output_type": "stream",
          "name": "stdout",
          "text": [
            "Processed sentence for image 593038.\n",
            "Processed sentence for image 1034408.\n"
          ]
        },
        {
          "output_type": "stream",
          "name": "stderr",
          "text": [
            "\r 77%|███████▋  | 3088/4000 [05:50<01:28, 10.27it/s]"
          ]
        },
        {
          "output_type": "stream",
          "name": "stdout",
          "text": [
            "Processed sentence for image 22850.\n",
            "Processed sentence for image 1289692.\n",
            "Processed sentence for image 507852.\n"
          ]
        },
        {
          "output_type": "stream",
          "name": "stderr",
          "text": [
            " 77%|███████▋  | 3092/4000 [05:50<01:28, 10.20it/s]"
          ]
        },
        {
          "output_type": "stream",
          "name": "stdout",
          "text": [
            "Processed sentence for image 321502.\n",
            "Processed sentence for image 48396.\n",
            "Processed sentence for image 604586.\n"
          ]
        },
        {
          "output_type": "stream",
          "name": "stderr",
          "text": [
            "\r 77%|███████▋  | 3094/4000 [05:50<01:28, 10.22it/s]"
          ]
        },
        {
          "output_type": "stream",
          "name": "stdout",
          "text": [
            "Processed sentence for image 118974.\n",
            "Processed sentence for image 71711.\n"
          ]
        },
        {
          "output_type": "stream",
          "name": "stderr",
          "text": [
            "\r 77%|███████▋  | 3096/4000 [05:51<01:30,  9.95it/s]"
          ]
        },
        {
          "output_type": "stream",
          "name": "stdout",
          "text": [
            "Processed sentence for image 604463.\n",
            "Processed sentence for image 1019126.\n",
            "Processed sentence for image 73234.\n"
          ]
        },
        {
          "output_type": "stream",
          "name": "stderr",
          "text": [
            "\r 77%|███████▋  | 3098/4000 [05:51<01:30,  9.98it/s]"
          ]
        },
        {
          "output_type": "stream",
          "name": "stdout",
          "text": [
            "Processed sentence for image 63393.\n",
            "Processed sentence for image 759465.\n"
          ]
        },
        {
          "output_type": "stream",
          "name": "stderr",
          "text": [
            " 78%|███████▊  | 3102/4000 [05:51<01:28, 10.14it/s]"
          ]
        },
        {
          "output_type": "stream",
          "name": "stdout",
          "text": [
            "Processed sentence for image 64481.\n",
            "Processed sentence for image 282554.\n",
            "Processed sentence for image 911619.\n"
          ]
        },
        {
          "output_type": "stream",
          "name": "stderr",
          "text": [
            "\r 78%|███████▊  | 3104/4000 [05:51<01:19, 11.26it/s]"
          ]
        },
        {
          "output_type": "stream",
          "name": "stdout",
          "text": [
            "Processed sentence for image 517291.\n",
            "Processed sentence for image 94169.\n",
            "Processed sentence for image 673147.\n"
          ]
        },
        {
          "output_type": "stream",
          "name": "stderr",
          "text": [
            " 78%|███████▊  | 3108/4000 [05:52<01:23, 10.72it/s]"
          ]
        },
        {
          "output_type": "stream",
          "name": "stdout",
          "text": [
            "Processed sentence for image 771692.\n",
            "Processed sentence for image 113570.\n",
            "Processed sentence for image 2060010.\n"
          ]
        },
        {
          "output_type": "stream",
          "name": "stderr",
          "text": [
            "\r 78%|███████▊  | 3110/4000 [05:52<01:24, 10.52it/s]"
          ]
        },
        {
          "output_type": "stream",
          "name": "stdout",
          "text": [
            "Processed sentence for image 1110737.\n",
            "Processed sentence for image 702499.\n",
            "Processed sentence for image 477420.\n"
          ]
        },
        {
          "output_type": "stream",
          "name": "stderr",
          "text": [
            "\r 78%|███████▊  | 3112/4000 [05:52<01:21, 10.83it/s]"
          ]
        },
        {
          "output_type": "stream",
          "name": "stdout",
          "text": [
            "Processed sentence for image 748269.\n",
            "Processed sentence for image 71380.\n"
          ]
        },
        {
          "output_type": "stream",
          "name": "stderr",
          "text": [
            " 78%|███████▊  | 3115/4000 [05:52<01:36,  9.14it/s]"
          ]
        },
        {
          "output_type": "stream",
          "name": "stdout",
          "text": [
            "Processed sentence for image 681919.\n",
            "Processed sentence for image 735644.\n"
          ]
        },
        {
          "output_type": "stream",
          "name": "stderr",
          "text": [
            " 78%|███████▊  | 3119/4000 [05:53<01:19, 11.15it/s]"
          ]
        },
        {
          "output_type": "stream",
          "name": "stdout",
          "text": [
            "Processed sentence for image 1696192.\n",
            "Processed sentence for image 1123208.\n",
            "Processed sentence for image 1845874.\n",
            "Processed sentence for image 344876.\n"
          ]
        },
        {
          "output_type": "stream",
          "name": "stderr",
          "text": [
            "\r 78%|███████▊  | 3121/4000 [05:53<01:21, 10.75it/s]"
          ]
        },
        {
          "output_type": "stream",
          "name": "stdout",
          "text": [
            "Processed sentence for image 74830.\n",
            "Processed sentence for image 70401.\n"
          ]
        },
        {
          "output_type": "stream",
          "name": "stderr",
          "text": [
            "\r 78%|███████▊  | 3123/4000 [05:53<01:20, 10.88it/s]"
          ]
        },
        {
          "output_type": "stream",
          "name": "stdout",
          "text": [
            "Processed sentence for image 703723.\n",
            "Processed sentence for image 73835.\n",
            "Processed sentence for image 478716.\n"
          ]
        },
        {
          "output_type": "stream",
          "name": "stderr",
          "text": [
            " 78%|███████▊  | 3127/4000 [05:54<01:24, 10.27it/s]"
          ]
        },
        {
          "output_type": "stream",
          "name": "stdout",
          "text": [
            "Processed sentence for image 1456829.\n",
            "Processed sentence for image 240939.\n",
            "Processed sentence for image 26983.\n"
          ]
        },
        {
          "output_type": "stream",
          "name": "stderr",
          "text": [
            "\r 78%|███████▊  | 3129/4000 [05:54<01:15, 11.47it/s]"
          ]
        },
        {
          "output_type": "stream",
          "name": "stdout",
          "text": [
            "Processed sentence for image 1336838.\n",
            "Processed sentence for image 29578.\n",
            "Processed sentence for image 74613.\n"
          ]
        },
        {
          "output_type": "stream",
          "name": "stderr",
          "text": [
            "\r 78%|███████▊  | 3131/4000 [05:54<01:22, 10.48it/s]"
          ]
        },
        {
          "output_type": "stream",
          "name": "stdout",
          "text": [
            "Processed sentence for image 90115.\n",
            "Processed sentence for image 65774.\n"
          ]
        },
        {
          "output_type": "stream",
          "name": "stderr",
          "text": [
            " 78%|███████▊  | 3135/4000 [05:54<01:27,  9.87it/s]"
          ]
        },
        {
          "output_type": "stream",
          "name": "stdout",
          "text": [
            "Processed sentence for image 800646.\n",
            "Processed sentence for image 655757.\n",
            "Processed sentence for image 750689.\n"
          ]
        },
        {
          "output_type": "stream",
          "name": "stderr",
          "text": [
            "\r 78%|███████▊  | 3137/4000 [05:55<01:30,  9.55it/s]"
          ]
        },
        {
          "output_type": "stream",
          "name": "stdout",
          "text": [
            "Processed sentence for image 782469.\n",
            "Processed sentence for image 73030.\n"
          ]
        },
        {
          "output_type": "stream",
          "name": "stderr",
          "text": [
            " 78%|███████▊  | 3139/4000 [05:55<01:33,  9.22it/s]"
          ]
        },
        {
          "output_type": "stream",
          "name": "stdout",
          "text": [
            "Processed sentence for image 1018547.\n",
            "Processed sentence for image 464371.\n"
          ]
        },
        {
          "output_type": "stream",
          "name": "stderr",
          "text": [
            " 79%|███████▊  | 3142/4000 [05:55<01:29,  9.56it/s]"
          ]
        },
        {
          "output_type": "stream",
          "name": "stdout",
          "text": [
            "Processed sentence for image 1141299.\n",
            "Processed sentence for image 632731.\n",
            "Processed sentence for image 223560.\n"
          ]
        },
        {
          "output_type": "stream",
          "name": "stderr",
          "text": [
            " 79%|███████▊  | 3145/4000 [05:55<01:26,  9.91it/s]"
          ]
        },
        {
          "output_type": "stream",
          "name": "stdout",
          "text": [
            "Processed sentence for image 1285073.\n",
            "Processed sentence for image 1083165.\n",
            "Processed sentence for image 213694.\n"
          ]
        },
        {
          "output_type": "stream",
          "name": "stderr",
          "text": [
            " 79%|███████▊  | 3148/4000 [05:56<01:24, 10.11it/s]"
          ]
        },
        {
          "output_type": "stream",
          "name": "stdout",
          "text": [
            "Processed sentence for image 72982.\n",
            "Processed sentence for image 1345216.\n",
            "Processed sentence for image 117613.\n"
          ]
        },
        {
          "output_type": "stream",
          "name": "stderr",
          "text": [
            "\r 79%|███████▉  | 3150/4000 [05:56<01:22, 10.27it/s]"
          ]
        },
        {
          "output_type": "stream",
          "name": "stdout",
          "text": [
            "Processed sentence for image 1942927.\n",
            "Processed sentence for image 1135973.\n",
            "Processed sentence for image 664451.\n"
          ]
        },
        {
          "output_type": "stream",
          "name": "stderr",
          "text": [
            " 79%|███████▉  | 3154/4000 [05:56<01:13, 11.56it/s]"
          ]
        },
        {
          "output_type": "stream",
          "name": "stdout",
          "text": [
            "Processed sentence for image 1703971.\n",
            "Processed sentence for image 240616.\n",
            "Processed sentence for image 414251.\n"
          ]
        },
        {
          "output_type": "stream",
          "name": "stderr",
          "text": [
            " 79%|███████▉  | 3158/4000 [05:57<01:03, 13.27it/s]"
          ]
        },
        {
          "output_type": "stream",
          "name": "stdout",
          "text": [
            "Processed sentence for image 116241.\n",
            "Processed sentence for image 899395.\n",
            "Processed sentence for image 49121.\n",
            "Processed sentence for image 1740559.\n"
          ]
        },
        {
          "output_type": "stream",
          "name": "stderr",
          "text": [
            "\r 79%|███████▉  | 3160/4000 [05:57<01:03, 13.23it/s]"
          ]
        },
        {
          "output_type": "stream",
          "name": "stdout",
          "text": [
            "Processed sentence for image 1876041.\n",
            "Processed sentence for image 842952.\n",
            "Processed sentence for image 1383981.\n"
          ]
        },
        {
          "output_type": "stream",
          "name": "stderr",
          "text": [
            " 79%|███████▉  | 3164/4000 [05:57<01:04, 13.06it/s]"
          ]
        },
        {
          "output_type": "stream",
          "name": "stdout",
          "text": [
            "Processed sentence for image 108676.\n",
            "Processed sentence for image 337916.\n",
            "Processed sentence for image 13656.\n"
          ]
        },
        {
          "output_type": "stream",
          "name": "stderr",
          "text": [
            " 79%|███████▉  | 3168/4000 [05:57<00:59, 13.90it/s]"
          ]
        },
        {
          "output_type": "stream",
          "name": "stdout",
          "text": [
            "Processed sentence for image 46234.\n",
            "Processed sentence for image 63456.\n",
            "Processed sentence for image 911931.\n",
            "Processed sentence for image 922905.\n"
          ]
        },
        {
          "output_type": "stream",
          "name": "stderr",
          "text": [
            "\r 79%|███████▉  | 3171/4000 [05:57<00:51, 16.18it/s]"
          ]
        },
        {
          "output_type": "stream",
          "name": "stdout",
          "text": [
            "Processed sentence for image 1083038.\n",
            "Processed sentence for image 323483.\n",
            "Processed sentence for image 405305.\n",
            "Processed sentence for image 500370.\n"
          ]
        },
        {
          "output_type": "stream",
          "name": "stderr",
          "text": [
            " 79%|███████▉  | 3175/4000 [05:58<01:06, 12.45it/s]"
          ]
        },
        {
          "output_type": "stream",
          "name": "stdout",
          "text": [
            "Processed sentence for image 1113775.\n",
            "Processed sentence for image 728939.\n",
            "Processed sentence for image 113633.\n"
          ]
        },
        {
          "output_type": "stream",
          "name": "stderr",
          "text": [
            " 79%|███████▉  | 3179/4000 [05:58<00:57, 14.36it/s]"
          ]
        },
        {
          "output_type": "stream",
          "name": "stdout",
          "text": [
            "Processed sentence for image 115535.\n",
            "Processed sentence for image 70916.\n",
            "Processed sentence for image 134865.\n",
            "Processed sentence for image 67577.\n"
          ]
        },
        {
          "output_type": "stream",
          "name": "stderr",
          "text": [
            "\r 80%|███████▉  | 3182/4000 [05:58<00:51, 16.02it/s]"
          ]
        },
        {
          "output_type": "stream",
          "name": "stdout",
          "text": [
            "Processed sentence for image 846013.\n",
            "Processed sentence for image 418080.\n",
            "Processed sentence for image 950886.\n",
            "Processed sentence for image 319676.\n"
          ]
        },
        {
          "output_type": "stream",
          "name": "stderr",
          "text": [
            " 80%|███████▉  | 3186/4000 [05:58<00:55, 14.67it/s]"
          ]
        },
        {
          "output_type": "stream",
          "name": "stdout",
          "text": [
            "Processed sentence for image 24329.\n",
            "Processed sentence for image 34916.\n",
            "Processed sentence for image 1041792.\n"
          ]
        },
        {
          "output_type": "stream",
          "name": "stderr",
          "text": [
            "\r 80%|███████▉  | 3188/4000 [05:59<00:57, 14.18it/s]"
          ]
        },
        {
          "output_type": "stream",
          "name": "stdout",
          "text": [
            "Processed sentence for image 1890173.\n",
            "Processed sentence for image 34590.\n",
            "Processed sentence for image 541406.\n"
          ]
        },
        {
          "output_type": "stream",
          "name": "stderr",
          "text": [
            " 80%|███████▉  | 3192/4000 [05:59<01:01, 13.17it/s]"
          ]
        },
        {
          "output_type": "stream",
          "name": "stdout",
          "text": [
            "Processed sentence for image 755149.\n",
            "Processed sentence for image 73141.\n",
            "Processed sentence for image 109554.\n"
          ]
        },
        {
          "output_type": "stream",
          "name": "stderr",
          "text": [
            "\r 80%|███████▉  | 3194/4000 [05:59<01:02, 12.84it/s]"
          ]
        },
        {
          "output_type": "stream",
          "name": "stdout",
          "text": [
            "Processed sentence for image 1839276.\n",
            "Processed sentence for image 28588.\n",
            "Processed sentence for image 36148.\n"
          ]
        },
        {
          "output_type": "stream",
          "name": "stderr",
          "text": [
            " 80%|███████▉  | 3198/4000 [05:59<01:00, 13.18it/s]"
          ]
        },
        {
          "output_type": "stream",
          "name": "stdout",
          "text": [
            "Processed sentence for image 700468.\n",
            "Processed sentence for image 94719.\n",
            "Processed sentence for image 1459873.\n"
          ]
        },
        {
          "output_type": "stream",
          "name": "stderr",
          "text": [
            "\r 80%|████████  | 3200/4000 [06:00<01:04, 12.37it/s]"
          ]
        },
        {
          "output_type": "stream",
          "name": "stdout",
          "text": [
            "Processed sentence for image 73813.\n",
            "Processed sentence for image 270641.\n"
          ]
        },
        {
          "output_type": "stream",
          "name": "stderr",
          "text": [
            "\r 80%|████████  | 3202/4000 [06:00<01:24,  9.42it/s]"
          ]
        },
        {
          "output_type": "stream",
          "name": "stdout",
          "text": [
            "Processed sentence for image 748140.\n",
            "Processed sentence for image 22760.\n"
          ]
        },
        {
          "output_type": "stream",
          "name": "stderr",
          "text": [
            " 80%|████████  | 3206/4000 [06:00<01:06, 11.97it/s]"
          ]
        },
        {
          "output_type": "stream",
          "name": "stdout",
          "text": [
            "Processed sentence for image 447436.\n",
            "Processed sentence for image 149145.\n",
            "Processed sentence for image 72420.\n",
            "Processed sentence for image 512779.\n"
          ]
        },
        {
          "output_type": "stream",
          "name": "stderr",
          "text": [
            " 80%|████████  | 3210/4000 [06:00<01:00, 12.96it/s]"
          ]
        },
        {
          "output_type": "stream",
          "name": "stdout",
          "text": [
            "Processed sentence for image 1033482.\n",
            "Processed sentence for image 1413197.\n",
            "Processed sentence for image 857174.\n",
            "Processed sentence for image 944031.\n"
          ]
        },
        {
          "output_type": "stream",
          "name": "stderr",
          "text": [
            " 80%|████████  | 3214/4000 [06:01<00:54, 14.48it/s]"
          ]
        },
        {
          "output_type": "stream",
          "name": "stdout",
          "text": [
            "Processed sentence for image 1084912.\n",
            "Processed sentence for image 530066.\n",
            "Processed sentence for image 1124130.\n",
            "Processed sentence for image 593263.\n"
          ]
        },
        {
          "output_type": "stream",
          "name": "stderr",
          "text": [
            " 80%|████████  | 3218/4000 [06:01<00:49, 15.70it/s]"
          ]
        },
        {
          "output_type": "stream",
          "name": "stdout",
          "text": [
            "Processed sentence for image 1870402.\n",
            "Processed sentence for image 877759.\n",
            "Processed sentence for image 798699.\n",
            "Processed sentence for image 613420.\n"
          ]
        },
        {
          "output_type": "stream",
          "name": "stderr",
          "text": [
            "\r 80%|████████  | 3220/4000 [06:01<00:56, 13.88it/s]"
          ]
        },
        {
          "output_type": "stream",
          "name": "stdout",
          "text": [
            "Processed sentence for image 749890.\n",
            "Processed sentence for image 653235.\n",
            "Processed sentence for image 545985.\n",
            "Processed sentence for image 1855355.\n"
          ]
        },
        {
          "output_type": "stream",
          "name": "stderr",
          "text": [
            " 81%|████████  | 3225/4000 [06:01<00:50, 15.21it/s]"
          ]
        },
        {
          "output_type": "stream",
          "name": "stdout",
          "text": [
            "Processed sentence for image 71887.\n",
            "Processed sentence for image 629358.\n",
            "Processed sentence for image 12760.\n",
            "Processed sentence for image 64684.\n"
          ]
        },
        {
          "output_type": "stream",
          "name": "stderr",
          "text": [
            " 81%|████████  | 3229/4000 [06:02<00:52, 14.79it/s]"
          ]
        },
        {
          "output_type": "stream",
          "name": "stdout",
          "text": [
            "Processed sentence for image 1376623.\n",
            "Processed sentence for image 614998.\n",
            "Processed sentence for image 109248.\n",
            "Processed sentence for image 1011542.\n"
          ]
        },
        {
          "output_type": "stream",
          "name": "stderr",
          "text": [
            " 81%|████████  | 3233/4000 [06:02<00:52, 14.49it/s]"
          ]
        },
        {
          "output_type": "stream",
          "name": "stdout",
          "text": [
            "Processed sentence for image 1135581.\n",
            "Processed sentence for image 791319.\n",
            "Processed sentence for image 110936.\n"
          ]
        },
        {
          "output_type": "stream",
          "name": "stderr",
          "text": [
            "\r 81%|████████  | 3235/4000 [06:02<00:57, 13.19it/s]"
          ]
        },
        {
          "output_type": "stream",
          "name": "stdout",
          "text": [
            "Processed sentence for image 734548.\n",
            "Processed sentence for image 392487.\n",
            "Processed sentence for image 1063328.\n"
          ]
        },
        {
          "output_type": "stream",
          "name": "stderr",
          "text": [
            " 81%|████████  | 3239/4000 [06:02<00:55, 13.60it/s]"
          ]
        },
        {
          "output_type": "stream",
          "name": "stdout",
          "text": [
            "Processed sentence for image 129031.\n",
            "Processed sentence for image 1122132.\n",
            "Processed sentence for image 534155.\n"
          ]
        },
        {
          "output_type": "stream",
          "name": "stderr",
          "text": [
            "\r 81%|████████  | 3241/4000 [06:03<00:58, 12.88it/s]"
          ]
        },
        {
          "output_type": "stream",
          "name": "stdout",
          "text": [
            "Processed sentence for image 20107.\n",
            "Processed sentence for image 109795.\n",
            "Processed sentence for image 441989.\n"
          ]
        },
        {
          "output_type": "stream",
          "name": "stderr",
          "text": [
            " 81%|████████  | 3245/4000 [06:03<00:52, 14.35it/s]"
          ]
        },
        {
          "output_type": "stream",
          "name": "stdout",
          "text": [
            "Processed sentence for image 45825.\n",
            "Processed sentence for image 119118.\n",
            "Processed sentence for image 620161.\n",
            "Processed sentence for image 1046722.\n"
          ]
        },
        {
          "output_type": "stream",
          "name": "stderr",
          "text": [
            " 81%|████████  | 3249/4000 [06:03<00:53, 13.96it/s]"
          ]
        },
        {
          "output_type": "stream",
          "name": "stdout",
          "text": [
            "Processed sentence for image 73113.\n",
            "Processed sentence for image 37031.\n",
            "Processed sentence for image 476440.\n"
          ]
        },
        {
          "output_type": "stream",
          "name": "stderr",
          "text": [
            " 81%|████████▏ | 3253/4000 [06:03<00:51, 14.62it/s]"
          ]
        },
        {
          "output_type": "stream",
          "name": "stdout",
          "text": [
            "Processed sentence for image 74728.\n",
            "Processed sentence for image 512173.\n",
            "Processed sentence for image 71912.\n",
            "Processed sentence for image 1077733.\n"
          ]
        },
        {
          "output_type": "stream",
          "name": "stderr",
          "text": [
            "\r 81%|████████▏ | 3255/4000 [06:04<00:52, 14.20it/s]"
          ]
        },
        {
          "output_type": "stream",
          "name": "stdout",
          "text": [
            "Processed sentence for image 45850.\n",
            "Processed sentence for image 62668.\n",
            "Processed sentence for image 474860.\n"
          ]
        },
        {
          "output_type": "stream",
          "name": "stderr",
          "text": [
            "\r 81%|████████▏ | 3257/4000 [06:04<00:55, 13.33it/s]"
          ]
        },
        {
          "output_type": "stream",
          "name": "stdout",
          "text": [
            "Processed sentence for image 20085.\n",
            "Processed sentence for image 638582.\n"
          ]
        },
        {
          "output_type": "stream",
          "name": "stderr",
          "text": [
            " 82%|████████▏ | 3261/4000 [06:04<00:59, 12.42it/s]"
          ]
        },
        {
          "output_type": "stream",
          "name": "stdout",
          "text": [
            "Processed sentence for image 735890.\n",
            "Processed sentence for image 494847.\n",
            "Processed sentence for image 616925.\n"
          ]
        },
        {
          "output_type": "stream",
          "name": "stderr",
          "text": [
            "\r 82%|████████▏ | 3263/4000 [06:04<00:58, 12.55it/s]"
          ]
        },
        {
          "output_type": "stream",
          "name": "stdout",
          "text": [
            "Processed sentence for image 90078.\n",
            "Processed sentence for image 72110.\n",
            "Processed sentence for image 354865.\n"
          ]
        },
        {
          "output_type": "stream",
          "name": "stderr",
          "text": [
            " 82%|████████▏ | 3267/4000 [06:05<00:53, 13.65it/s]"
          ]
        },
        {
          "output_type": "stream",
          "name": "stdout",
          "text": [
            "Processed sentence for image 108910.\n",
            "Processed sentence for image 70565.\n",
            "Processed sentence for image 73918.\n",
            "Processed sentence for image 117297.\n"
          ]
        },
        {
          "output_type": "stream",
          "name": "stderr",
          "text": [
            " 82%|████████▏ | 3271/4000 [06:05<00:47, 15.23it/s]"
          ]
        },
        {
          "output_type": "stream",
          "name": "stdout",
          "text": [
            "Processed sentence for image 72312.\n",
            "Processed sentence for image 703599.\n",
            "Processed sentence for image 493266.\n",
            "Processed sentence for image 552499.\n"
          ]
        },
        {
          "output_type": "stream",
          "name": "stderr",
          "text": [
            " 82%|████████▏ | 3275/4000 [06:05<00:56, 12.86it/s]"
          ]
        },
        {
          "output_type": "stream",
          "name": "stdout",
          "text": [
            "Processed sentence for image 699969.\n",
            "Processed sentence for image 722662.\n",
            "Processed sentence for image 952916.\n"
          ]
        },
        {
          "output_type": "stream",
          "name": "stderr",
          "text": [
            "\r 82%|████████▏ | 3277/4000 [06:05<00:58, 12.32it/s]"
          ]
        },
        {
          "output_type": "stream",
          "name": "stdout",
          "text": [
            "Processed sentence for image 62275.\n",
            "Processed sentence for image 756723.\n",
            "Processed sentence for image 552214.\n"
          ]
        },
        {
          "output_type": "stream",
          "name": "stderr",
          "text": [
            " 82%|████████▏ | 3281/4000 [06:06<00:55, 12.93it/s]"
          ]
        },
        {
          "output_type": "stream",
          "name": "stdout",
          "text": [
            "Processed sentence for image 1689563.\n",
            "Processed sentence for image 1831392.\n",
            "Processed sentence for image 470112.\n"
          ]
        },
        {
          "output_type": "stream",
          "name": "stderr",
          "text": [
            "\r 82%|████████▏ | 3283/4000 [06:06<01:01, 11.58it/s]"
          ]
        },
        {
          "output_type": "stream",
          "name": "stdout",
          "text": [
            "Processed sentence for image 300677.\n",
            "Processed sentence for image 1295228.\n",
            "Processed sentence for image 73678.\n"
          ]
        },
        {
          "output_type": "stream",
          "name": "stderr",
          "text": [
            "\r 82%|████████▏ | 3285/4000 [06:06<01:00, 11.73it/s]"
          ]
        },
        {
          "output_type": "stream",
          "name": "stdout",
          "text": [
            "Processed sentence for image 1464226.\n",
            "Processed sentence for image 26048.\n"
          ]
        },
        {
          "output_type": "stream",
          "name": "stderr",
          "text": [
            "\r 82%|████████▏ | 3287/4000 [06:06<01:05, 10.93it/s]"
          ]
        },
        {
          "output_type": "stream",
          "name": "stdout",
          "text": [
            "Processed sentence for image 598583.\n",
            "Processed sentence for image 92317.\n"
          ]
        },
        {
          "output_type": "stream",
          "name": "stderr",
          "text": [
            "\r 82%|████████▏ | 3289/4000 [06:06<01:08, 10.34it/s]"
          ]
        },
        {
          "output_type": "stream",
          "name": "stdout",
          "text": [
            "Processed sentence for image 2014884.\n",
            "Processed sentence for image 68141.\n"
          ]
        },
        {
          "output_type": "stream",
          "name": "stderr",
          "text": [
            " 82%|████████▏ | 3292/4000 [06:07<01:26,  8.17it/s]"
          ]
        },
        {
          "output_type": "stream",
          "name": "stdout",
          "text": [
            "Processed sentence for image 72910.\n",
            "Processed sentence for image 34470.\n"
          ]
        },
        {
          "output_type": "stream",
          "name": "stderr",
          "text": [
            "\r 82%|████████▏ | 3293/4000 [06:07<01:26,  8.21it/s]"
          ]
        },
        {
          "output_type": "stream",
          "name": "stdout",
          "text": [
            "Processed sentence for image 62957.\n",
            "Processed sentence for image 70952.\n"
          ]
        },
        {
          "output_type": "stream",
          "name": "stderr",
          "text": [
            " 82%|████████▏ | 3296/4000 [06:07<01:21,  8.68it/s]"
          ]
        },
        {
          "output_type": "stream",
          "name": "stdout",
          "text": [
            "Processed sentence for image 576.\n",
            "Processed sentence for image 1363904.\n"
          ]
        },
        {
          "output_type": "stream",
          "name": "stderr",
          "text": [
            "\r 82%|████████▏ | 3298/4000 [06:08<01:21,  8.66it/s]"
          ]
        },
        {
          "output_type": "stream",
          "name": "stdout",
          "text": [
            "Processed sentence for image 382341.\n",
            "Processed sentence for image 67912.\n"
          ]
        },
        {
          "output_type": "stream",
          "name": "stderr",
          "text": [
            " 83%|████████▎ | 3301/4000 [06:08<01:12,  9.62it/s]"
          ]
        },
        {
          "output_type": "stream",
          "name": "stdout",
          "text": [
            "Processed sentence for image 482432.\n",
            "Processed sentence for image 124766.\n",
            "Processed sentence for image 1710923.\n"
          ]
        },
        {
          "output_type": "stream",
          "name": "stderr",
          "text": [
            " 83%|████████▎ | 3304/4000 [06:08<01:08, 10.10it/s]"
          ]
        },
        {
          "output_type": "stream",
          "name": "stdout",
          "text": [
            "Processed sentence for image 837057.\n",
            "Processed sentence for image 73195.\n",
            "Processed sentence for image 45851.\n",
            "Processed sentence for image 120200.\n",
            "Processed sentence for image 683849.\n"
          ]
        },
        {
          "output_type": "stream",
          "name": "stderr",
          "text": [
            " 83%|████████▎ | 3309/4000 [06:09<01:03, 10.84it/s]"
          ]
        },
        {
          "output_type": "stream",
          "name": "stdout",
          "text": [
            "Processed sentence for image 109338.\n",
            "Processed sentence for image 20849.\n",
            "Processed sentence for image 535456.\n",
            "Processed sentence for image 73432.\n"
          ]
        },
        {
          "output_type": "stream",
          "name": "stderr",
          "text": [
            "\r 83%|████████▎ | 3311/4000 [06:09<01:09,  9.96it/s]"
          ]
        },
        {
          "output_type": "stream",
          "name": "stdout",
          "text": [
            "Processed sentence for image 546499.\n",
            "Processed sentence for image 1464690.\n"
          ]
        },
        {
          "output_type": "stream",
          "name": "stderr",
          "text": [
            " 83%|████████▎ | 3314/4000 [06:09<01:13,  9.37it/s]"
          ]
        },
        {
          "output_type": "stream",
          "name": "stdout",
          "text": [
            "Processed sentence for image 346279.\n",
            "Processed sentence for image 6187.\n",
            "Processed sentence for image 109287.\n"
          ]
        },
        {
          "output_type": "stream",
          "name": "stderr",
          "text": [
            " 83%|████████▎ | 3317/4000 [06:10<01:11,  9.52it/s]"
          ]
        },
        {
          "output_type": "stream",
          "name": "stdout",
          "text": [
            "Processed sentence for image 886217.\n",
            "Processed sentence for image 752065.\n"
          ]
        },
        {
          "output_type": "stream",
          "name": "stderr",
          "text": [
            " 83%|████████▎ | 3320/4000 [06:10<01:08,  9.97it/s]"
          ]
        },
        {
          "output_type": "stream",
          "name": "stdout",
          "text": [
            "Processed sentence for image 65342.\n",
            "Processed sentence for image 94131.\n",
            "Processed sentence for image 49239.\n"
          ]
        },
        {
          "output_type": "stream",
          "name": "stderr",
          "text": [
            "\r 83%|████████▎ | 3321/4000 [06:10<01:10,  9.63it/s]"
          ]
        },
        {
          "output_type": "stream",
          "name": "stdout",
          "text": [
            "Processed sentence for image 1106524.\n"
          ]
        },
        {
          "output_type": "stream",
          "name": "stderr",
          "text": [
            " 83%|████████▎ | 3323/4000 [06:10<01:30,  7.50it/s]"
          ]
        },
        {
          "output_type": "stream",
          "name": "stdout",
          "text": [
            "Processed sentence for image 1330808.\n",
            "Processed sentence for image 552211.\n"
          ]
        },
        {
          "output_type": "stream",
          "name": "stderr",
          "text": [
            "\r 83%|████████▎ | 3325/4000 [06:10<01:15,  8.92it/s]"
          ]
        },
        {
          "output_type": "stream",
          "name": "stdout",
          "text": [
            "Processed sentence for image 1723362.\n",
            "Processed sentence for image 1083999.\n"
          ]
        },
        {
          "output_type": "stream",
          "name": "stderr",
          "text": [
            " 83%|████████▎ | 3327/4000 [06:11<01:29,  7.48it/s]"
          ]
        },
        {
          "output_type": "stream",
          "name": "stdout",
          "text": [
            "Processed sentence for image 1078832.\n",
            "Processed sentence for image 790683.\n"
          ]
        },
        {
          "output_type": "stream",
          "name": "stderr",
          "text": [
            " 83%|████████▎ | 3329/4000 [06:11<01:29,  7.48it/s]"
          ]
        },
        {
          "output_type": "stream",
          "name": "stdout",
          "text": [
            "Processed sentence for image 73538.\n",
            "Processed sentence for image 130977.\n"
          ]
        },
        {
          "output_type": "stream",
          "name": "stderr",
          "text": [
            " 83%|████████▎ | 3332/4000 [06:11<01:15,  8.80it/s]"
          ]
        },
        {
          "output_type": "stream",
          "name": "stdout",
          "text": [
            "Processed sentence for image 127709.\n",
            "Processed sentence for image 575843.\n",
            "Processed sentence for image 1015598.\n"
          ]
        },
        {
          "output_type": "stream",
          "name": "stderr",
          "text": [
            " 83%|████████▎ | 3335/4000 [06:12<01:01, 10.76it/s]"
          ]
        },
        {
          "output_type": "stream",
          "name": "stdout",
          "text": [
            "Processed sentence for image 1814985.\n",
            "Processed sentence for image 693696.\n",
            "Processed sentence for image 1358151.\n"
          ]
        },
        {
          "output_type": "stream",
          "name": "stderr",
          "text": [
            "\r 83%|████████▎ | 3337/4000 [06:12<01:01, 10.80it/s]"
          ]
        },
        {
          "output_type": "stream",
          "name": "stdout",
          "text": [
            "Processed sentence for image 338898.\n",
            "Processed sentence for image 1953972.\n"
          ]
        },
        {
          "output_type": "stream",
          "name": "stderr",
          "text": [
            "\r 83%|████████▎ | 3339/4000 [06:12<01:17,  8.51it/s]"
          ]
        },
        {
          "output_type": "stream",
          "name": "stdout",
          "text": [
            "Processed sentence for image 62366.\n",
            "Processed sentence for image 71820.\n"
          ]
        },
        {
          "output_type": "stream",
          "name": "stderr",
          "text": [
            "\r 84%|████████▎ | 3341/4000 [06:12<01:04, 10.28it/s]"
          ]
        },
        {
          "output_type": "stream",
          "name": "stdout",
          "text": [
            "Processed sentence for image 25434.\n",
            "Processed sentence for image 67575.\n",
            "Processed sentence for image 1762879.\n"
          ]
        },
        {
          "output_type": "stream",
          "name": "stderr",
          "text": [
            "\r 84%|████████▎ | 3343/4000 [06:12<01:08,  9.64it/s]"
          ]
        },
        {
          "output_type": "stream",
          "name": "stdout",
          "text": [
            "Processed sentence for image 804524.\n",
            "Processed sentence for image 1450627.\n"
          ]
        },
        {
          "output_type": "stream",
          "name": "stderr",
          "text": [
            " 84%|████████▎ | 3347/4000 [06:13<01:05, 10.00it/s]"
          ]
        },
        {
          "output_type": "stream",
          "name": "stdout",
          "text": [
            "Processed sentence for image 71741.\n",
            "Processed sentence for image 29383.\n",
            "Processed sentence for image 96470.\n"
          ]
        },
        {
          "output_type": "stream",
          "name": "stderr",
          "text": [
            "\r 84%|████████▎ | 3349/4000 [06:13<01:08,  9.47it/s]"
          ]
        },
        {
          "output_type": "stream",
          "name": "stdout",
          "text": [
            "Processed sentence for image 74992.\n",
            "Processed sentence for image 1942382.\n"
          ]
        },
        {
          "output_type": "stream",
          "name": "stderr",
          "text": [
            " 84%|████████▍ | 3352/4000 [06:13<01:09,  9.35it/s]"
          ]
        },
        {
          "output_type": "stream",
          "name": "stdout",
          "text": [
            "Processed sentence for image 113620.\n",
            "Processed sentence for image 73252.\n",
            "Processed sentence for image 170834.\n"
          ]
        },
        {
          "output_type": "stream",
          "name": "stderr",
          "text": [
            " 84%|████████▍ | 3354/4000 [06:14<01:10,  9.13it/s]"
          ]
        },
        {
          "output_type": "stream",
          "name": "stdout",
          "text": [
            "Processed sentence for image 678447.\n",
            "Processed sentence for image 1113969.\n",
            "Processed sentence for image 111254.\n"
          ]
        },
        {
          "output_type": "stream",
          "name": "stderr",
          "text": [
            " 84%|████████▍ | 3357/4000 [06:14<01:09,  9.20it/s]"
          ]
        },
        {
          "output_type": "stream",
          "name": "stdout",
          "text": [
            "Processed sentence for image 1352094.\n",
            "Processed sentence for image 671565.\n"
          ]
        },
        {
          "output_type": "stream",
          "name": "stderr",
          "text": [
            "\r 84%|████████▍ | 3359/4000 [06:14<01:10,  9.07it/s]"
          ]
        },
        {
          "output_type": "stream",
          "name": "stdout",
          "text": [
            "Processed sentence for image 1289261.\n",
            "Processed sentence for image 1720574.\n",
            "Processed sentence for image 119370.\n"
          ]
        },
        {
          "output_type": "stream",
          "name": "stderr",
          "text": [
            " 84%|████████▍ | 3363/4000 [06:14<00:55, 11.53it/s]"
          ]
        },
        {
          "output_type": "stream",
          "name": "stdout",
          "text": [
            "Processed sentence for image 1043175.\n",
            "Processed sentence for image 1094426.\n",
            "Processed sentence for image 1691415.\n"
          ]
        },
        {
          "output_type": "stream",
          "name": "stderr",
          "text": [
            "\r 84%|████████▍ | 3365/4000 [06:15<00:54, 11.63it/s]"
          ]
        },
        {
          "output_type": "stream",
          "name": "stdout",
          "text": [
            "Processed sentence for image 1025384.\n",
            "Processed sentence for image 14980.\n",
            "Processed sentence for image 50430.\n"
          ]
        },
        {
          "output_type": "stream",
          "name": "stderr",
          "text": [
            " 84%|████████▍ | 3369/4000 [06:15<00:56, 11.25it/s]"
          ]
        },
        {
          "output_type": "stream",
          "name": "stdout",
          "text": [
            "Processed sentence for image 45467.\n",
            "Processed sentence for image 701488.\n",
            "Processed sentence for image 33819.\n"
          ]
        },
        {
          "output_type": "stream",
          "name": "stderr",
          "text": [
            "\r 84%|████████▍ | 3371/4000 [06:15<01:00, 10.32it/s]"
          ]
        },
        {
          "output_type": "stream",
          "name": "stdout",
          "text": [
            "Processed sentence for image 790590.\n",
            "Processed sentence for image 113713.\n",
            "Processed sentence for image 1133813.\n"
          ]
        },
        {
          "output_type": "stream",
          "name": "stderr",
          "text": [
            " 84%|████████▍ | 3375/4000 [06:16<00:55, 11.27it/s]"
          ]
        },
        {
          "output_type": "stream",
          "name": "stdout",
          "text": [
            "Processed sentence for image 773183.\n",
            "Processed sentence for image 738607.\n",
            "Processed sentence for image 301966.\n"
          ]
        },
        {
          "output_type": "stream",
          "name": "stderr",
          "text": [
            "\r 84%|████████▍ | 3377/4000 [06:16<00:53, 11.54it/s]"
          ]
        },
        {
          "output_type": "stream",
          "name": "stdout",
          "text": [
            "Processed sentence for image 74118.\n",
            "Processed sentence for image 722664.\n"
          ]
        },
        {
          "output_type": "stream",
          "name": "stderr",
          "text": [
            "\r 84%|████████▍ | 3379/4000 [06:16<00:57, 10.79it/s]"
          ]
        },
        {
          "output_type": "stream",
          "name": "stdout",
          "text": [
            "Processed sentence for image 74461.\n",
            "Processed sentence for image 932640.\n",
            "Processed sentence for image 1997881.\n"
          ]
        },
        {
          "output_type": "stream",
          "name": "stderr",
          "text": [
            "\r 85%|████████▍ | 3381/4000 [06:16<00:57, 10.79it/s]"
          ]
        },
        {
          "output_type": "stream",
          "name": "stdout",
          "text": [
            "Processed sentence for image 1007521.\n",
            "Processed sentence for image 45855.\n"
          ]
        },
        {
          "output_type": "stream",
          "name": "stderr",
          "text": [
            "\r 85%|████████▍ | 3383/4000 [06:16<01:03,  9.74it/s]"
          ]
        },
        {
          "output_type": "stream",
          "name": "stdout",
          "text": [
            "Processed sentence for image 16146.\n",
            "Processed sentence for image 310296.\n"
          ]
        },
        {
          "output_type": "stream",
          "name": "stderr",
          "text": [
            " 85%|████████▍ | 3386/4000 [06:17<01:17,  7.94it/s]"
          ]
        },
        {
          "output_type": "stream",
          "name": "stdout",
          "text": [
            "Processed sentence for image 209240.\n",
            "Processed sentence for image 641920.\n"
          ]
        },
        {
          "output_type": "stream",
          "name": "stderr",
          "text": [
            " 85%|████████▍ | 3388/4000 [06:17<01:16,  8.01it/s]"
          ]
        },
        {
          "output_type": "stream",
          "name": "stdout",
          "text": [
            "Processed sentence for image 557635.\n",
            "Processed sentence for image 1842155.\n"
          ]
        },
        {
          "output_type": "stream",
          "name": "stderr",
          "text": [
            " 85%|████████▍ | 3390/4000 [06:17<01:21,  7.49it/s]"
          ]
        },
        {
          "output_type": "stream",
          "name": "stdout",
          "text": [
            "Processed sentence for image 119019.\n",
            "Processed sentence for image 122594.\n"
          ]
        },
        {
          "output_type": "stream",
          "name": "stderr",
          "text": [
            " 85%|████████▍ | 3393/4000 [06:18<01:11,  8.47it/s]"
          ]
        },
        {
          "output_type": "stream",
          "name": "stdout",
          "text": [
            "Processed sentence for image 526589.\n",
            "Processed sentence for image 190704.\n",
            "Processed sentence for image 422153.\n"
          ]
        },
        {
          "output_type": "stream",
          "name": "stderr",
          "text": [
            " 85%|████████▍ | 3395/4000 [06:18<01:26,  7.03it/s]"
          ]
        },
        {
          "output_type": "stream",
          "name": "stdout",
          "text": [
            "Processed sentence for image 307844.\n",
            "Processed sentence for image 14921.\n"
          ]
        },
        {
          "output_type": "stream",
          "name": "stderr",
          "text": [
            " 85%|████████▍ | 3397/4000 [06:19<01:53,  5.30it/s]"
          ]
        },
        {
          "output_type": "stream",
          "name": "stdout",
          "text": [
            "Processed sentence for image 23484.\n",
            "Processed sentence for image 71774.\n"
          ]
        },
        {
          "output_type": "stream",
          "name": "stderr",
          "text": [
            "\r 85%|████████▍ | 3399/4000 [06:19<01:37,  6.16it/s]"
          ]
        },
        {
          "output_type": "stream",
          "name": "stdout",
          "text": [
            "Processed sentence for image 1007631.\n",
            "Processed sentence for image 423588.\n"
          ]
        },
        {
          "output_type": "stream",
          "name": "stderr",
          "text": [
            " 85%|████████▌ | 3401/4000 [06:19<01:30,  6.60it/s]"
          ]
        },
        {
          "output_type": "stream",
          "name": "stdout",
          "text": [
            "Processed sentence for image 886689.\n",
            "Processed sentence for image 50397.\n"
          ]
        },
        {
          "output_type": "stream",
          "name": "stderr",
          "text": [
            "\r 85%|████████▌ | 3402/4000 [06:19<01:24,  7.04it/s]"
          ]
        },
        {
          "output_type": "stream",
          "name": "stdout",
          "text": [
            "Processed sentence for image 66045.\n"
          ]
        },
        {
          "output_type": "stream",
          "name": "stderr",
          "text": [
            " 85%|████████▌ | 3404/4000 [06:20<01:29,  6.63it/s]"
          ]
        },
        {
          "output_type": "stream",
          "name": "stdout",
          "text": [
            "Processed sentence for image 62671.\n",
            "Processed sentence for image 955705.\n"
          ]
        },
        {
          "output_type": "stream",
          "name": "stderr",
          "text": [
            " 85%|████████▌ | 3406/4000 [06:20<01:25,  6.97it/s]"
          ]
        },
        {
          "output_type": "stream",
          "name": "stdout",
          "text": [
            "Processed sentence for image 67380.\n",
            "Processed sentence for image 14690.\n"
          ]
        },
        {
          "output_type": "stream",
          "name": "stderr",
          "text": [
            " 85%|████████▌ | 3409/4000 [06:20<01:11,  8.30it/s]"
          ]
        },
        {
          "output_type": "stream",
          "name": "stdout",
          "text": [
            "Processed sentence for image 122565.\n",
            "Processed sentence for image 781012.\n",
            "Processed sentence for image 490569.\n"
          ]
        },
        {
          "output_type": "stream",
          "name": "stderr",
          "text": [
            " 85%|████████▌ | 3411/4000 [06:20<01:18,  7.50it/s]"
          ]
        },
        {
          "output_type": "stream",
          "name": "stdout",
          "text": [
            "Processed sentence for image 1328906.\n",
            "Processed sentence for image 593197.\n"
          ]
        },
        {
          "output_type": "stream",
          "name": "stderr",
          "text": [
            " 85%|████████▌ | 3413/4000 [06:21<01:19,  7.38it/s]"
          ]
        },
        {
          "output_type": "stream",
          "name": "stdout",
          "text": [
            "Processed sentence for image 988188.\n",
            "Processed sentence for image 424297.\n"
          ]
        },
        {
          "output_type": "stream",
          "name": "stderr",
          "text": [
            " 85%|████████▌ | 3415/4000 [06:21<01:15,  7.71it/s]"
          ]
        },
        {
          "output_type": "stream",
          "name": "stdout",
          "text": [
            "Processed sentence for image 1042297.\n",
            "Processed sentence for image 21678.\n"
          ]
        },
        {
          "output_type": "stream",
          "name": "stderr",
          "text": [
            "\r 85%|████████▌ | 3417/4000 [06:21<01:12,  8.07it/s]"
          ]
        },
        {
          "output_type": "stream",
          "name": "stdout",
          "text": [
            "Processed sentence for image 1809672.\n",
            "Processed sentence for image 129457.\n"
          ]
        },
        {
          "output_type": "stream",
          "name": "stderr",
          "text": [
            " 86%|████████▌ | 3420/4000 [06:22<01:08,  8.46it/s]"
          ]
        },
        {
          "output_type": "stream",
          "name": "stdout",
          "text": [
            "Processed sentence for image 90785.\n",
            "Processed sentence for image 1771351.\n",
            "Processed sentence for image 1908966.\n"
          ]
        },
        {
          "output_type": "stream",
          "name": "stderr",
          "text": [
            " 86%|████████▌ | 3422/4000 [06:22<01:17,  7.43it/s]"
          ]
        },
        {
          "output_type": "stream",
          "name": "stdout",
          "text": [
            "Processed sentence for image 63129.\n",
            "Processed sentence for image 780470.\n"
          ]
        },
        {
          "output_type": "stream",
          "name": "stderr",
          "text": [
            " 86%|████████▌ | 3424/4000 [06:22<01:19,  7.21it/s]"
          ]
        },
        {
          "output_type": "stream",
          "name": "stdout",
          "text": [
            "Processed sentence for image 64706.\n",
            "Processed sentence for image 118294.\n"
          ]
        },
        {
          "output_type": "stream",
          "name": "stderr",
          "text": [
            "\r 86%|████████▌ | 3425/4000 [06:22<01:22,  6.96it/s]"
          ]
        },
        {
          "output_type": "stream",
          "name": "stdout",
          "text": [
            "Processed sentence for image 6680.\n",
            "Processed sentence for image 114504.\n",
            "Processed sentence for image 231974.\n"
          ]
        },
        {
          "output_type": "stream",
          "name": "stderr",
          "text": [
            " 86%|████████▌ | 3428/4000 [06:23<01:14,  7.67it/s]"
          ]
        },
        {
          "output_type": "stream",
          "name": "stdout",
          "text": [
            "Processed sentence for image 32866.\n"
          ]
        },
        {
          "output_type": "stream",
          "name": "stderr",
          "text": [
            " 86%|████████▌ | 3430/4000 [06:23<01:17,  7.33it/s]"
          ]
        },
        {
          "output_type": "stream",
          "name": "stdout",
          "text": [
            "Processed sentence for image 24782.\n",
            "Processed sentence for image 14788.\n",
            "Processed sentence for image 124341.\n"
          ]
        },
        {
          "output_type": "stream",
          "name": "stderr",
          "text": [
            " 86%|████████▌ | 3433/4000 [06:23<01:11,  7.95it/s]"
          ]
        },
        {
          "output_type": "stream",
          "name": "stdout",
          "text": [
            "Processed sentence for image 477005.\n",
            "Processed sentence for image 1306854.\n"
          ]
        },
        {
          "output_type": "stream",
          "name": "stderr",
          "text": [
            " 86%|████████▌ | 3435/4000 [06:24<01:19,  7.14it/s]"
          ]
        },
        {
          "output_type": "stream",
          "name": "stdout",
          "text": [
            "Processed sentence for image 414386.\n",
            "Processed sentence for image 1704395.\n"
          ]
        },
        {
          "output_type": "stream",
          "name": "stderr",
          "text": [
            "\r 86%|████████▌ | 3437/4000 [06:24<01:07,  8.33it/s]"
          ]
        },
        {
          "output_type": "stream",
          "name": "stdout",
          "text": [
            "Processed sentence for image 631658.\n",
            "Processed sentence for image 477410.\n"
          ]
        },
        {
          "output_type": "stream",
          "name": "stderr",
          "text": [
            " 86%|████████▌ | 3440/4000 [06:24<00:56,  9.84it/s]"
          ]
        },
        {
          "output_type": "stream",
          "name": "stdout",
          "text": [
            "Processed sentence for image 65332.\n",
            "Processed sentence for image 70765.\n",
            "Processed sentence for image 237093.\n"
          ]
        },
        {
          "output_type": "stream",
          "name": "stderr",
          "text": [
            "\r 86%|████████▌ | 3442/4000 [06:24<00:59,  9.43it/s]"
          ]
        },
        {
          "output_type": "stream",
          "name": "stdout",
          "text": [
            "Processed sentence for image 90478.\n",
            "Processed sentence for image 1492273.\n"
          ]
        },
        {
          "output_type": "stream",
          "name": "stderr",
          "text": [
            " 86%|████████▌ | 3445/4000 [06:25<00:55, 10.02it/s]"
          ]
        },
        {
          "output_type": "stream",
          "name": "stdout",
          "text": [
            "Processed sentence for image 568010.\n",
            "Processed sentence for image 111583.\n",
            "Processed sentence for image 92957.\n"
          ]
        },
        {
          "output_type": "stream",
          "name": "stderr",
          "text": [
            "\r 86%|████████▌ | 3447/4000 [06:25<00:53, 10.40it/s]"
          ]
        },
        {
          "output_type": "stream",
          "name": "stdout",
          "text": [
            "Processed sentence for image 1835147.\n",
            "Processed sentence for image 72678.\n",
            "Processed sentence for image 254440.\n"
          ]
        },
        {
          "output_type": "stream",
          "name": "stderr",
          "text": [
            "\r 86%|████████▌ | 3449/4000 [06:25<00:55,  9.94it/s]"
          ]
        },
        {
          "output_type": "stream",
          "name": "stdout",
          "text": [
            "Processed sentence for image 1080036.\n",
            "Processed sentence for image 41554.\n"
          ]
        },
        {
          "output_type": "stream",
          "name": "stderr",
          "text": [
            " 86%|████████▋ | 3452/4000 [06:25<01:02,  8.80it/s]"
          ]
        },
        {
          "output_type": "stream",
          "name": "stdout",
          "text": [
            "Processed sentence for image 71582.\n",
            "Processed sentence for image 735475.\n"
          ]
        },
        {
          "output_type": "stream",
          "name": "stderr",
          "text": [
            "\r 86%|████████▋ | 3454/4000 [06:26<00:54, 10.04it/s]"
          ]
        },
        {
          "output_type": "stream",
          "name": "stdout",
          "text": [
            "Processed sentence for image 21768.\n",
            "Processed sentence for image 655561.\n",
            "Processed sentence for image 459003.\n"
          ]
        },
        {
          "output_type": "stream",
          "name": "stderr",
          "text": [
            "\r 86%|████████▋ | 3456/4000 [06:26<00:53, 10.19it/s]"
          ]
        },
        {
          "output_type": "stream",
          "name": "stdout",
          "text": [
            "Processed sentence for image 111056.\n",
            "Processed sentence for image 481582.\n"
          ]
        },
        {
          "output_type": "stream",
          "name": "stderr",
          "text": [
            " 86%|████████▋ | 3459/4000 [06:26<01:00,  8.93it/s]"
          ]
        },
        {
          "output_type": "stream",
          "name": "stdout",
          "text": [
            "Processed sentence for image 512435.\n",
            "Processed sentence for image 541745.\n"
          ]
        },
        {
          "output_type": "stream",
          "name": "stderr",
          "text": [
            " 87%|████████▋ | 3461/4000 [06:26<01:06,  8.09it/s]"
          ]
        },
        {
          "output_type": "stream",
          "name": "stdout",
          "text": [
            "Processed sentence for image 23669.\n",
            "Processed sentence for image 10005.\n"
          ]
        },
        {
          "output_type": "stream",
          "name": "stderr",
          "text": [
            " 87%|████████▋ | 3463/4000 [06:27<01:04,  8.32it/s]"
          ]
        },
        {
          "output_type": "stream",
          "name": "stdout",
          "text": [
            "Processed sentence for image 258650.\n",
            "Processed sentence for image 70861.\n"
          ]
        },
        {
          "output_type": "stream",
          "name": "stderr",
          "text": [
            "\r 87%|████████▋ | 3464/4000 [06:27<01:10,  7.57it/s]"
          ]
        },
        {
          "output_type": "stream",
          "name": "stdout",
          "text": [
            "Processed sentence for image 121958.\n",
            "Processed sentence for image 72008.\n"
          ]
        },
        {
          "output_type": "stream",
          "name": "stderr",
          "text": [
            " 87%|████████▋ | 3467/4000 [06:27<01:08,  7.76it/s]"
          ]
        },
        {
          "output_type": "stream",
          "name": "stdout",
          "text": [
            "Processed sentence for image 72890.\n",
            "Processed sentence for image 426119.\n"
          ]
        },
        {
          "output_type": "stream",
          "name": "stderr",
          "text": [
            " 87%|████████▋ | 3470/4000 [06:27<01:00,  8.71it/s]"
          ]
        },
        {
          "output_type": "stream",
          "name": "stdout",
          "text": [
            "Processed sentence for image 70157.\n",
            "Processed sentence for image 282077.\n",
            "Processed sentence for image 1875667.\n"
          ]
        },
        {
          "output_type": "stream",
          "name": "stderr",
          "text": [
            " 87%|████████▋ | 3473/4000 [06:28<00:53,  9.87it/s]"
          ]
        },
        {
          "output_type": "stream",
          "name": "stdout",
          "text": [
            "Processed sentence for image 934865.\n",
            "Processed sentence for image 696456.\n",
            "Processed sentence for image 34026.\n"
          ]
        },
        {
          "output_type": "stream",
          "name": "stderr",
          "text": [
            " 87%|████████▋ | 3475/4000 [06:28<00:57,  9.07it/s]"
          ]
        },
        {
          "output_type": "stream",
          "name": "stdout",
          "text": [
            "Processed sentence for image 325563.\n",
            "Processed sentence for image 71861.\n",
            "Processed sentence for image 1114623.\n"
          ]
        },
        {
          "output_type": "stream",
          "name": "stderr",
          "text": [
            " 87%|████████▋ | 3479/4000 [06:28<00:49, 10.43it/s]"
          ]
        },
        {
          "output_type": "stream",
          "name": "stdout",
          "text": [
            "Processed sentence for image 12298.\n",
            "Processed sentence for image 524826.\n",
            "Processed sentence for image 66012.\n"
          ]
        },
        {
          "output_type": "stream",
          "name": "stderr",
          "text": [
            "\r 87%|████████▋ | 3481/4000 [06:29<00:56,  9.22it/s]"
          ]
        },
        {
          "output_type": "stream",
          "name": "stdout",
          "text": [
            "Processed sentence for image 14805.\n",
            "Processed sentence for image 1979462.\n"
          ]
        },
        {
          "output_type": "stream",
          "name": "stderr",
          "text": [
            " 87%|████████▋ | 3483/4000 [06:29<01:05,  7.93it/s]"
          ]
        },
        {
          "output_type": "stream",
          "name": "stdout",
          "text": [
            "Processed sentence for image 638674.\n",
            "Processed sentence for image 121503.\n"
          ]
        },
        {
          "output_type": "stream",
          "name": "stderr",
          "text": [
            "\r 87%|████████▋ | 3485/4000 [06:29<00:51,  9.93it/s]"
          ]
        },
        {
          "output_type": "stream",
          "name": "stdout",
          "text": [
            "Processed sentence for image 2133401.\n",
            "Processed sentence for image 74604.\n",
            "Processed sentence for image 9479.\n"
          ]
        },
        {
          "output_type": "stream",
          "name": "stderr",
          "text": [
            " 87%|████████▋ | 3489/4000 [06:29<00:43, 11.64it/s]"
          ]
        },
        {
          "output_type": "stream",
          "name": "stdout",
          "text": [
            "Processed sentence for image 300911.\n",
            "Processed sentence for image 109978.\n",
            "Processed sentence for image 804572.\n"
          ]
        },
        {
          "output_type": "stream",
          "name": "stderr",
          "text": [
            "\r 87%|████████▋ | 3491/4000 [06:30<00:49, 10.36it/s]"
          ]
        },
        {
          "output_type": "stream",
          "name": "stdout",
          "text": [
            "Processed sentence for image 511703.\n",
            "Processed sentence for image 72867.\n",
            "Processed sentence for image 647485.\n"
          ]
        },
        {
          "output_type": "stream",
          "name": "stderr",
          "text": [
            " 87%|████████▋ | 3495/4000 [06:30<00:46, 10.95it/s]"
          ]
        },
        {
          "output_type": "stream",
          "name": "stdout",
          "text": [
            "Processed sentence for image 727447.\n",
            "Processed sentence for image 117433.\n",
            "Processed sentence for image 629617.\n"
          ]
        },
        {
          "output_type": "stream",
          "name": "stderr",
          "text": [
            "\r 87%|████████▋ | 3497/4000 [06:30<00:48, 10.33it/s]"
          ]
        },
        {
          "output_type": "stream",
          "name": "stdout",
          "text": [
            "Processed sentence for image 31947.\n",
            "Processed sentence for image 854419.\n",
            "Processed sentence for image 746160.\n"
          ]
        },
        {
          "output_type": "stream",
          "name": "stderr",
          "text": [
            "\r 87%|████████▋ | 3499/4000 [06:30<00:45, 10.96it/s]"
          ]
        },
        {
          "output_type": "stream",
          "name": "stdout",
          "text": [
            "Processed sentence for image 1107357.\n",
            "Processed sentence for image 1008823.\n"
          ]
        },
        {
          "output_type": "stream",
          "name": "stderr",
          "text": [
            " 88%|████████▊ | 3503/4000 [06:31<00:45, 10.85it/s]"
          ]
        },
        {
          "output_type": "stream",
          "name": "stdout",
          "text": [
            "Processed sentence for image 62781.\n",
            "Processed sentence for image 1104327.\n",
            "Processed sentence for image 13271.\n"
          ]
        },
        {
          "output_type": "stream",
          "name": "stderr",
          "text": [
            "\r 88%|████████▊ | 3505/4000 [06:31<00:48, 10.16it/s]"
          ]
        },
        {
          "output_type": "stream",
          "name": "stdout",
          "text": [
            "Processed sentence for image 33942.\n",
            "Processed sentence for image 898188.\n"
          ]
        },
        {
          "output_type": "stream",
          "name": "stderr",
          "text": [
            "\r 88%|████████▊ | 3507/4000 [06:31<00:51,  9.58it/s]"
          ]
        },
        {
          "output_type": "stream",
          "name": "stdout",
          "text": [
            "Processed sentence for image 64239.\n",
            "Processed sentence for image 520983.\n",
            "Processed sentence for image 1687921.\n"
          ]
        },
        {
          "output_type": "stream",
          "name": "stderr",
          "text": [
            " 88%|████████▊ | 3511/4000 [06:32<00:46, 10.50it/s]"
          ]
        },
        {
          "output_type": "stream",
          "name": "stdout",
          "text": [
            "Processed sentence for image 863874.\n",
            "Processed sentence for image 71241.\n",
            "Processed sentence for image 111535.\n"
          ]
        },
        {
          "output_type": "stream",
          "name": "stderr",
          "text": [
            "\r 88%|████████▊ | 3513/4000 [06:32<00:50,  9.71it/s]"
          ]
        },
        {
          "output_type": "stream",
          "name": "stdout",
          "text": [
            "Processed sentence for image 415155.\n",
            "Processed sentence for image 116421.\n",
            "Processed sentence for image 172952.\n"
          ]
        },
        {
          "output_type": "stream",
          "name": "stderr",
          "text": [
            "\r 88%|████████▊ | 3515/4000 [06:32<00:48, 10.05it/s]"
          ]
        },
        {
          "output_type": "stream",
          "name": "stdout",
          "text": [
            "Processed sentence for image 664.\n",
            "Processed sentence for image 65053.\n"
          ]
        },
        {
          "output_type": "stream",
          "name": "stderr",
          "text": [
            " 88%|████████▊ | 3518/4000 [06:32<00:57,  8.36it/s]"
          ]
        },
        {
          "output_type": "stream",
          "name": "stdout",
          "text": [
            "Processed sentence for image 853559.\n",
            "Processed sentence for image 491961.\n"
          ]
        },
        {
          "output_type": "stream",
          "name": "stderr",
          "text": [
            " 88%|████████▊ | 3521/4000 [06:33<00:51,  9.22it/s]"
          ]
        },
        {
          "output_type": "stream",
          "name": "stdout",
          "text": [
            "Processed sentence for image 1491444.\n",
            "Processed sentence for image 1096585.\n",
            "Processed sentence for image 1448547.\n"
          ]
        },
        {
          "output_type": "stream",
          "name": "stderr",
          "text": [
            " 88%|████████▊ | 3523/4000 [06:33<00:53,  8.94it/s]"
          ]
        },
        {
          "output_type": "stream",
          "name": "stdout",
          "text": [
            "Processed sentence for image 820225.\n",
            "Processed sentence for image 34879.\n"
          ]
        },
        {
          "output_type": "stream",
          "name": "stderr",
          "text": [
            " 88%|████████▊ | 3525/4000 [06:33<00:57,  8.23it/s]"
          ]
        },
        {
          "output_type": "stream",
          "name": "stdout",
          "text": [
            "Processed sentence for image 812992.\n",
            "Processed sentence for image 664112.\n"
          ]
        },
        {
          "output_type": "stream",
          "name": "stderr",
          "text": [
            " 88%|████████▊ | 3527/4000 [06:33<01:01,  7.67it/s]"
          ]
        },
        {
          "output_type": "stream",
          "name": "stdout",
          "text": [
            "Processed sentence for image 35965.\n",
            "Processed sentence for image 41899.\n"
          ]
        },
        {
          "output_type": "stream",
          "name": "stderr",
          "text": [
            " 88%|████████▊ | 3530/4000 [06:34<00:49,  9.43it/s]"
          ]
        },
        {
          "output_type": "stream",
          "name": "stdout",
          "text": [
            "Processed sentence for image 65276.\n",
            "Processed sentence for image 1797854.\n",
            "Processed sentence for image 93932.\n"
          ]
        },
        {
          "output_type": "stream",
          "name": "stderr",
          "text": [
            " 88%|████████▊ | 3533/4000 [06:34<00:46,  9.97it/s]"
          ]
        },
        {
          "output_type": "stream",
          "name": "stdout",
          "text": [
            "Processed sentence for image 611566.\n",
            "Processed sentence for image 1813380.\n",
            "Processed sentence for image 1122488.\n"
          ]
        },
        {
          "output_type": "stream",
          "name": "stderr",
          "text": [
            " 88%|████████▊ | 3535/4000 [06:34<00:55,  8.43it/s]"
          ]
        },
        {
          "output_type": "stream",
          "name": "stdout",
          "text": [
            "Processed sentence for image 7280.\n",
            "Processed sentence for image 571865.\n"
          ]
        },
        {
          "output_type": "stream",
          "name": "stderr",
          "text": [
            "\r 88%|████████▊ | 3537/4000 [06:35<00:51,  9.01it/s]"
          ]
        },
        {
          "output_type": "stream",
          "name": "stdout",
          "text": [
            "Processed sentence for image 50237.\n",
            "Processed sentence for image 1799603.\n"
          ]
        },
        {
          "output_type": "stream",
          "name": "stderr",
          "text": [
            " 88%|████████▊ | 3540/4000 [06:35<00:48,  9.49it/s]"
          ]
        },
        {
          "output_type": "stream",
          "name": "stdout",
          "text": [
            "Processed sentence for image 506192.\n",
            "Processed sentence for image 34256.\n",
            "Processed sentence for image 36562.\n"
          ]
        },
        {
          "output_type": "stream",
          "name": "stderr",
          "text": [
            " 89%|████████▊ | 3542/4000 [06:35<00:52,  8.69it/s]"
          ]
        },
        {
          "output_type": "stream",
          "name": "stdout",
          "text": [
            "Processed sentence for image 37016.\n",
            "Processed sentence for image 1422611.\n"
          ]
        },
        {
          "output_type": "stream",
          "name": "stderr",
          "text": [
            " 89%|████████▊ | 3544/4000 [06:35<00:54,  8.39it/s]"
          ]
        },
        {
          "output_type": "stream",
          "name": "stdout",
          "text": [
            "Processed sentence for image 128552.\n",
            "Processed sentence for image 722440.\n"
          ]
        },
        {
          "output_type": "stream",
          "name": "stderr",
          "text": [
            " 89%|████████▊ | 3546/4000 [06:36<00:53,  8.54it/s]"
          ]
        },
        {
          "output_type": "stream",
          "name": "stdout",
          "text": [
            "Processed sentence for image 1118998.\n",
            "Processed sentence for image 141263.\n",
            "Processed sentence for image 149529.\n"
          ]
        },
        {
          "output_type": "stream",
          "name": "stderr",
          "text": [
            " 89%|████████▊ | 3549/4000 [06:36<00:48,  9.34it/s]"
          ]
        },
        {
          "output_type": "stream",
          "name": "stdout",
          "text": [
            "Processed sentence for image 71189.\n",
            "Processed sentence for image 29877.\n"
          ]
        },
        {
          "output_type": "stream",
          "name": "stderr",
          "text": [
            " 89%|████████▉ | 3551/4000 [06:36<00:52,  8.52it/s]"
          ]
        },
        {
          "output_type": "stream",
          "name": "stdout",
          "text": [
            "Processed sentence for image 587505.\n",
            "Processed sentence for image 638833.\n"
          ]
        },
        {
          "output_type": "stream",
          "name": "stderr",
          "text": [
            "\r 89%|████████▉ | 3553/4000 [06:36<00:51,  8.74it/s]"
          ]
        },
        {
          "output_type": "stream",
          "name": "stdout",
          "text": [
            "Processed sentence for image 1328042.\n",
            "Processed sentence for image 117929.\n",
            "Processed sentence for image 572.\n"
          ]
        },
        {
          "output_type": "stream",
          "name": "stderr",
          "text": [
            " 89%|████████▉ | 3556/4000 [06:37<00:46,  9.45it/s]"
          ]
        },
        {
          "output_type": "stream",
          "name": "stdout",
          "text": [
            "Processed sentence for image 507921.\n",
            "Processed sentence for image 72423.\n"
          ]
        },
        {
          "output_type": "stream",
          "name": "stderr",
          "text": [
            " 89%|████████▉ | 3558/4000 [06:37<00:51,  8.63it/s]"
          ]
        },
        {
          "output_type": "stream",
          "name": "stdout",
          "text": [
            "Processed sentence for image 13669.\n",
            "Processed sentence for image 1888103.\n"
          ]
        },
        {
          "output_type": "stream",
          "name": "stderr",
          "text": [
            " 89%|████████▉ | 3560/4000 [06:37<00:49,  8.89it/s]"
          ]
        },
        {
          "output_type": "stream",
          "name": "stdout",
          "text": [
            "Processed sentence for image 671139.\n",
            "Processed sentence for image 42119.\n",
            "Processed sentence for image 108681.\n"
          ]
        },
        {
          "output_type": "stream",
          "name": "stderr",
          "text": [
            "\r 89%|████████▉ | 3562/4000 [06:37<00:44,  9.81it/s]"
          ]
        },
        {
          "output_type": "stream",
          "name": "stdout",
          "text": [
            "Processed sentence for image 90024.\n",
            "Processed sentence for image 123939.\n"
          ]
        },
        {
          "output_type": "stream",
          "name": "stderr",
          "text": [
            "\r 89%|████████▉ | 3564/4000 [06:38<00:47,  9.25it/s]"
          ]
        },
        {
          "output_type": "stream",
          "name": "stdout",
          "text": [
            "Processed sentence for image 32749.\n",
            "Processed sentence for image 540353.\n"
          ]
        },
        {
          "output_type": "stream",
          "name": "stderr",
          "text": [
            " 89%|████████▉ | 3567/4000 [06:38<00:49,  8.66it/s]"
          ]
        },
        {
          "output_type": "stream",
          "name": "stdout",
          "text": [
            "Processed sentence for image 627840.\n",
            "Processed sentence for image 64700.\n"
          ]
        },
        {
          "output_type": "stream",
          "name": "stderr",
          "text": [
            " 89%|████████▉ | 3570/4000 [06:38<00:42, 10.15it/s]"
          ]
        },
        {
          "output_type": "stream",
          "name": "stdout",
          "text": [
            "Processed sentence for image 15988.\n",
            "Processed sentence for image 15971.\n",
            "Processed sentence for image 170813.\n"
          ]
        },
        {
          "output_type": "stream",
          "name": "stderr",
          "text": [
            "\r 89%|████████▉ | 3572/4000 [06:38<00:44,  9.69it/s]"
          ]
        },
        {
          "output_type": "stream",
          "name": "stdout",
          "text": [
            "Processed sentence for image 310297.\n",
            "Processed sentence for image 737457.\n"
          ]
        },
        {
          "output_type": "stream",
          "name": "stderr",
          "text": [
            " 89%|████████▉ | 3575/4000 [06:39<00:45,  9.35it/s]"
          ]
        },
        {
          "output_type": "stream",
          "name": "stdout",
          "text": [
            "Processed sentence for image 15070.\n",
            "Processed sentence for image 159708.\n",
            "Processed sentence for image 115886.\n"
          ]
        },
        {
          "output_type": "stream",
          "name": "stderr",
          "text": [
            "\r 89%|████████▉ | 3577/4000 [06:39<00:41, 10.10it/s]"
          ]
        },
        {
          "output_type": "stream",
          "name": "stdout",
          "text": [
            "Processed sentence for image 128777.\n",
            "Processed sentence for image 29115.\n"
          ]
        },
        {
          "output_type": "stream",
          "name": "stderr",
          "text": [
            "\r 89%|████████▉ | 3579/4000 [06:39<00:45,  9.26it/s]"
          ]
        },
        {
          "output_type": "stream",
          "name": "stdout",
          "text": [
            "Processed sentence for image 1349752.\n",
            "Processed sentence for image 1295342.\n"
          ]
        },
        {
          "output_type": "stream",
          "name": "stderr",
          "text": [
            " 90%|████████▉ | 3581/4000 [06:39<00:46,  9.09it/s]"
          ]
        },
        {
          "output_type": "stream",
          "name": "stdout",
          "text": [
            "Processed sentence for image 617873.\n",
            "Processed sentence for image 23390.\n"
          ]
        },
        {
          "output_type": "stream",
          "name": "stderr",
          "text": [
            " 90%|████████▉ | 3584/4000 [06:40<00:39, 10.48it/s]"
          ]
        },
        {
          "output_type": "stream",
          "name": "stdout",
          "text": [
            "Processed sentence for image 605818.\n",
            "Processed sentence for image 673619.\n",
            "Processed sentence for image 2077524.\n",
            "Processed sentence for image 739268.\n"
          ]
        },
        {
          "output_type": "stream",
          "name": "stderr",
          "text": [
            " 90%|████████▉ | 3588/4000 [06:40<00:35, 11.63it/s]"
          ]
        },
        {
          "output_type": "stream",
          "name": "stdout",
          "text": [
            "Processed sentence for image 826094.\n",
            "Processed sentence for image 501295.\n",
            "Processed sentence for image 90360.\n"
          ]
        },
        {
          "output_type": "stream",
          "name": "stderr",
          "text": [
            "\r 90%|████████▉ | 3590/4000 [06:40<00:38, 10.75it/s]"
          ]
        },
        {
          "output_type": "stream",
          "name": "stdout",
          "text": [
            "Processed sentence for image 1825763.\n",
            "Processed sentence for image 593536.\n"
          ]
        },
        {
          "output_type": "stream",
          "name": "stderr",
          "text": [
            "\r 90%|████████▉ | 3592/4000 [06:40<00:39, 10.45it/s]"
          ]
        },
        {
          "output_type": "stream",
          "name": "stdout",
          "text": [
            "Processed sentence for image 1354389.\n",
            "Processed sentence for image 117936.\n"
          ]
        },
        {
          "output_type": "stream",
          "name": "stderr",
          "text": [
            "\r 90%|████████▉ | 3594/4000 [06:41<00:39, 10.29it/s]"
          ]
        },
        {
          "output_type": "stream",
          "name": "stdout",
          "text": [
            "Processed sentence for image 30185.\n",
            "Processed sentence for image 413429.\n",
            "Processed sentence for image 517267.\n"
          ]
        },
        {
          "output_type": "stream",
          "name": "stderr",
          "text": [
            " 90%|████████▉ | 3598/4000 [06:41<00:40,  9.98it/s]"
          ]
        },
        {
          "output_type": "stream",
          "name": "stdout",
          "text": [
            "Processed sentence for image 138268.\n",
            "Processed sentence for image 552711.\n",
            "Processed sentence for image 787212.\n"
          ]
        },
        {
          "output_type": "stream",
          "name": "stderr",
          "text": [
            "\r 90%|█████████ | 3600/4000 [06:41<00:40,  9.78it/s]"
          ]
        },
        {
          "output_type": "stream",
          "name": "stdout",
          "text": [
            "Processed sentence for image 1481462.\n",
            "Processed sentence for image 23317.\n"
          ]
        },
        {
          "output_type": "stream",
          "name": "stderr",
          "text": [
            " 90%|█████████ | 3602/4000 [06:41<00:41,  9.52it/s]"
          ]
        },
        {
          "output_type": "stream",
          "name": "stdout",
          "text": [
            "Processed sentence for image 70959.\n",
            "Processed sentence for image 73066.\n"
          ]
        },
        {
          "output_type": "stream",
          "name": "stderr",
          "text": [
            " 90%|█████████ | 3604/4000 [06:42<00:45,  8.63it/s]"
          ]
        },
        {
          "output_type": "stream",
          "name": "stdout",
          "text": [
            "Processed sentence for image 229177.\n",
            "Processed sentence for image 933788.\n"
          ]
        },
        {
          "output_type": "stream",
          "name": "stderr",
          "text": [
            " 90%|█████████ | 3606/4000 [06:42<00:45,  8.60it/s]"
          ]
        },
        {
          "output_type": "stream",
          "name": "stdout",
          "text": [
            "Processed sentence for image 164588.\n",
            "Processed sentence for image 638395.\n"
          ]
        },
        {
          "output_type": "stream",
          "name": "stderr",
          "text": [
            " 90%|█████████ | 3609/4000 [06:42<00:42,  9.20it/s]"
          ]
        },
        {
          "output_type": "stream",
          "name": "stdout",
          "text": [
            "Processed sentence for image 421972.\n",
            "Processed sentence for image 796341.\n",
            "Processed sentence for image 63164.\n"
          ]
        },
        {
          "output_type": "stream",
          "name": "stderr",
          "text": [
            "\r 90%|█████████ | 3611/4000 [06:42<00:39,  9.84it/s]"
          ]
        },
        {
          "output_type": "stream",
          "name": "stdout",
          "text": [
            "Processed sentence for image 1794019.\n",
            "Processed sentence for image 33119.\n",
            "Processed sentence for image 1084260.\n"
          ]
        },
        {
          "output_type": "stream",
          "name": "stderr",
          "text": [
            "\r 90%|█████████ | 3613/4000 [06:43<00:34, 11.07it/s]"
          ]
        },
        {
          "output_type": "stream",
          "name": "stdout",
          "text": [
            "Processed sentence for image 529977.\n",
            "Processed sentence for image 929240.\n"
          ]
        },
        {
          "output_type": "stream",
          "name": "stderr",
          "text": [
            "\r 90%|█████████ | 3615/4000 [06:43<00:38,  9.87it/s]"
          ]
        },
        {
          "output_type": "stream",
          "name": "stdout",
          "text": [
            "Processed sentence for image 115853.\n",
            "Processed sentence for image 758256.\n"
          ]
        },
        {
          "output_type": "stream",
          "name": "stderr",
          "text": [
            "\r 90%|█████████ | 3617/4000 [06:43<00:42,  9.08it/s]"
          ]
        },
        {
          "output_type": "stream",
          "name": "stdout",
          "text": [
            "Processed sentence for image 384882.\n",
            "Processed sentence for image 1777534.\n"
          ]
        },
        {
          "output_type": "stream",
          "name": "stderr",
          "text": [
            "\r 90%|█████████ | 3619/4000 [06:43<00:41,  9.07it/s]"
          ]
        },
        {
          "output_type": "stream",
          "name": "stdout",
          "text": [
            "Processed sentence for image 90063.\n",
            "Processed sentence for image 21231.\n"
          ]
        },
        {
          "output_type": "stream",
          "name": "stderr",
          "text": [
            " 91%|█████████ | 3622/4000 [06:44<00:43,  8.67it/s]"
          ]
        },
        {
          "output_type": "stream",
          "name": "stdout",
          "text": [
            "Processed sentence for image 253776.\n",
            "Processed sentence for image 35856.\n"
          ]
        },
        {
          "output_type": "stream",
          "name": "stderr",
          "text": [
            " 91%|█████████ | 3624/4000 [06:44<00:50,  7.44it/s]"
          ]
        },
        {
          "output_type": "stream",
          "name": "stdout",
          "text": [
            "Processed sentence for image 196619.\n",
            "Processed sentence for image 1295130.\n"
          ]
        },
        {
          "output_type": "stream",
          "name": "stderr",
          "text": [
            "\r 91%|█████████ | 3626/4000 [06:44<00:45,  8.23it/s]"
          ]
        },
        {
          "output_type": "stream",
          "name": "stdout",
          "text": [
            "Processed sentence for image 502857.\n",
            "Processed sentence for image 70720.\n"
          ]
        },
        {
          "output_type": "stream",
          "name": "stderr",
          "text": [
            " 91%|█████████ | 3628/4000 [06:44<00:47,  7.77it/s]"
          ]
        },
        {
          "output_type": "stream",
          "name": "stdout",
          "text": [
            "Processed sentence for image 1097769.\n",
            "Processed sentence for image 1052805.\n"
          ]
        },
        {
          "output_type": "stream",
          "name": "stderr",
          "text": [
            " 91%|█████████ | 3631/4000 [06:45<00:42,  8.73it/s]"
          ]
        },
        {
          "output_type": "stream",
          "name": "stdout",
          "text": [
            "Processed sentence for image 8801.\n",
            "Processed sentence for image 115904.\n",
            "Processed sentence for image 541332.\n"
          ]
        },
        {
          "output_type": "stream",
          "name": "stderr",
          "text": [
            "\r 91%|█████████ | 3633/4000 [06:45<00:40,  9.03it/s]"
          ]
        },
        {
          "output_type": "stream",
          "name": "stdout",
          "text": [
            "Processed sentence for image 32086.\n",
            "Processed sentence for image 626522.\n"
          ]
        },
        {
          "output_type": "stream",
          "name": "stderr",
          "text": [
            " 91%|█████████ | 3636/4000 [06:45<00:38,  9.55it/s]"
          ]
        },
        {
          "output_type": "stream",
          "name": "stdout",
          "text": [
            "Processed sentence for image 598516.\n",
            "Processed sentence for image 141344.\n",
            "Processed sentence for image 322679.\n"
          ]
        },
        {
          "output_type": "stream",
          "name": "stderr",
          "text": [
            "\r 91%|█████████ | 3638/4000 [06:45<00:34, 10.43it/s]"
          ]
        },
        {
          "output_type": "stream",
          "name": "stdout",
          "text": [
            "Processed sentence for image 1075863.\n",
            "Processed sentence for image 1752962.\n",
            "Processed sentence for image 399190.\n"
          ]
        },
        {
          "output_type": "stream",
          "name": "stderr",
          "text": [
            " 91%|█████████ | 3643/4000 [06:46<00:25, 13.77it/s]"
          ]
        },
        {
          "output_type": "stream",
          "name": "stdout",
          "text": [
            "Processed sentence for image 1908462.\n",
            "Processed sentence for image 809435.\n",
            "Processed sentence for image 73553.\n",
            "Processed sentence for image 665455.\n"
          ]
        },
        {
          "output_type": "stream",
          "name": "stderr",
          "text": [
            " 91%|█████████ | 3648/4000 [06:46<00:21, 16.71it/s]"
          ]
        },
        {
          "output_type": "stream",
          "name": "stdout",
          "text": [
            "Processed sentence for image 970880.\n",
            "Processed sentence for image 1311544.\n",
            "Processed sentence for image 126187.\n",
            "Processed sentence for image 15173.\n",
            "Processed sentence for image 1973760.\n"
          ]
        },
        {
          "output_type": "stream",
          "name": "stderr",
          "text": [
            " 91%|█████████▏| 3652/4000 [06:46<00:24, 14.27it/s]"
          ]
        },
        {
          "output_type": "stream",
          "name": "stdout",
          "text": [
            "Processed sentence for image 62902.\n",
            "Processed sentence for image 14628.\n",
            "Processed sentence for image 1739565.\n",
            "Processed sentence for image 1110566.\n"
          ]
        },
        {
          "output_type": "stream",
          "name": "stderr",
          "text": [
            "\r 91%|█████████▏| 3654/4000 [06:46<00:22, 15.39it/s]"
          ]
        },
        {
          "output_type": "stream",
          "name": "stdout",
          "text": [
            "Processed sentence for image 1312471.\n",
            "Processed sentence for image 718727.\n",
            "Processed sentence for image 616892.\n"
          ]
        },
        {
          "output_type": "stream",
          "name": "stderr",
          "text": [
            " 91%|█████████▏| 3658/4000 [06:47<00:25, 13.62it/s]"
          ]
        },
        {
          "output_type": "stream",
          "name": "stdout",
          "text": [
            "Processed sentence for image 451614.\n",
            "Processed sentence for image 478477.\n",
            "Processed sentence for image 126172.\n"
          ]
        },
        {
          "output_type": "stream",
          "name": "stderr",
          "text": [
            "\r 92%|█████████▏| 3660/4000 [06:47<00:26, 12.64it/s]"
          ]
        },
        {
          "output_type": "stream",
          "name": "stdout",
          "text": [
            "Processed sentence for image 20316.\n",
            "Processed sentence for image 734561.\n",
            "Processed sentence for image 459056.\n"
          ]
        },
        {
          "output_type": "stream",
          "name": "stderr",
          "text": [
            " 92%|█████████▏| 3664/4000 [06:47<00:24, 13.94it/s]"
          ]
        },
        {
          "output_type": "stream",
          "name": "stdout",
          "text": [
            "Processed sentence for image 1806673.\n",
            "Processed sentence for image 30691.\n",
            "Processed sentence for image 926460.\n"
          ]
        },
        {
          "output_type": "stream",
          "name": "stderr",
          "text": [
            " 92%|█████████▏| 3668/4000 [06:47<00:21, 15.46it/s]"
          ]
        },
        {
          "output_type": "stream",
          "name": "stdout",
          "text": [
            "Processed sentence for image 594660.\n",
            "Processed sentence for image 610354.\n",
            "Processed sentence for image 35569.\n",
            "Processed sentence for image 1444667.\n"
          ]
        },
        {
          "output_type": "stream",
          "name": "stderr",
          "text": [
            "\r 92%|█████████▏| 3670/4000 [06:48<00:21, 15.69it/s]"
          ]
        },
        {
          "output_type": "stream",
          "name": "stdout",
          "text": [
            "Processed sentence for image 428281.\n",
            "Processed sentence for image 8158.\n",
            "Processed sentence for image 178776.\n"
          ]
        },
        {
          "output_type": "stream",
          "name": "stderr",
          "text": [
            " 92%|█████████▏| 3675/4000 [06:48<00:20, 15.98it/s]"
          ]
        },
        {
          "output_type": "stream",
          "name": "stdout",
          "text": [
            "Processed sentence for image 15505.\n",
            "Processed sentence for image 116178.\n",
            "Processed sentence for image 74386.\n",
            "Processed sentence for image 65241.\n"
          ]
        },
        {
          "output_type": "stream",
          "name": "stderr",
          "text": [
            " 92%|█████████▏| 3679/4000 [06:48<00:20, 15.64it/s]"
          ]
        },
        {
          "output_type": "stream",
          "name": "stdout",
          "text": [
            "Processed sentence for image 71463.\n",
            "Processed sentence for image 1315056.\n",
            "Processed sentence for image 50098.\n",
            "Processed sentence for image 481746.\n"
          ]
        },
        {
          "output_type": "stream",
          "name": "stderr",
          "text": [
            " 92%|█████████▏| 3683/4000 [06:48<00:19, 15.92it/s]"
          ]
        },
        {
          "output_type": "stream",
          "name": "stdout",
          "text": [
            "Processed sentence for image 903419.\n",
            "Processed sentence for image 1106690.\n",
            "Processed sentence for image 117073.\n",
            "Processed sentence for image 477511.\n"
          ]
        },
        {
          "output_type": "stream",
          "name": "stderr",
          "text": [
            " 92%|█████████▏| 3687/4000 [06:49<00:20, 15.31it/s]"
          ]
        },
        {
          "output_type": "stream",
          "name": "stdout",
          "text": [
            "Processed sentence for image 842943.\n",
            "Processed sentence for image 70725.\n",
            "Processed sentence for image 122144.\n",
            "Processed sentence for image 1083334.\n"
          ]
        },
        {
          "output_type": "stream",
          "name": "stderr",
          "text": [
            "\r 92%|█████████▏| 3689/4000 [06:49<00:23, 13.07it/s]"
          ]
        },
        {
          "output_type": "stream",
          "name": "stdout",
          "text": [
            "Processed sentence for image 1330223.\n",
            "Processed sentence for image 74306.\n",
            "Processed sentence for image 1502926.\n"
          ]
        },
        {
          "output_type": "stream",
          "name": "stderr",
          "text": [
            " 92%|█████████▏| 3693/4000 [06:49<00:22, 13.51it/s]"
          ]
        },
        {
          "output_type": "stream",
          "name": "stdout",
          "text": [
            "Processed sentence for image 555280.\n",
            "Processed sentence for image 1042548.\n",
            "Processed sentence for image 72230.\n"
          ]
        },
        {
          "output_type": "stream",
          "name": "stderr",
          "text": [
            "\r 92%|█████████▏| 3695/4000 [06:49<00:21, 14.18it/s]"
          ]
        },
        {
          "output_type": "stream",
          "name": "stdout",
          "text": [
            "Processed sentence for image 233374.\n",
            "Processed sentence for image 884984.\n",
            "Processed sentence for image 72695.\n"
          ]
        },
        {
          "output_type": "stream",
          "name": "stderr",
          "text": [
            " 92%|█████████▏| 3699/4000 [06:50<00:20, 14.75it/s]"
          ]
        },
        {
          "output_type": "stream",
          "name": "stdout",
          "text": [
            "Processed sentence for image 797209.\n",
            "Processed sentence for image 1413646.\n",
            "Processed sentence for image 213612.\n",
            "Processed sentence for image 1351289.\n"
          ]
        },
        {
          "output_type": "stream",
          "name": "stderr",
          "text": [
            " 93%|█████████▎| 3703/4000 [06:50<00:22, 13.27it/s]"
          ]
        },
        {
          "output_type": "stream",
          "name": "stdout",
          "text": [
            "Processed sentence for image 1101213.\n",
            "Processed sentence for image 818604.\n",
            "Processed sentence for image 1026603.\n"
          ]
        },
        {
          "output_type": "stream",
          "name": "stderr",
          "text": [
            "\r 93%|█████████▎| 3705/4000 [06:50<00:21, 13.54it/s]"
          ]
        },
        {
          "output_type": "stream",
          "name": "stdout",
          "text": [
            "Processed sentence for image 422288.\n",
            "Processed sentence for image 733608.\n",
            "Processed sentence for image 74601.\n"
          ]
        },
        {
          "output_type": "stream",
          "name": "stderr",
          "text": [
            " 93%|█████████▎| 3709/4000 [06:50<00:22, 13.13it/s]"
          ]
        },
        {
          "output_type": "stream",
          "name": "stdout",
          "text": [
            "Processed sentence for image 1007628.\n",
            "Processed sentence for image 1107812.\n",
            "Processed sentence for image 418041.\n"
          ]
        },
        {
          "output_type": "stream",
          "name": "stderr",
          "text": [
            "\r 93%|█████████▎| 3712/4000 [06:51<00:19, 14.59it/s]"
          ]
        },
        {
          "output_type": "stream",
          "name": "stdout",
          "text": [
            "Processed sentence for image 114566.\n",
            "Processed sentence for image 350380.\n",
            "Processed sentence for image 1327405.\n",
            "Processed sentence for image 1077115.\n"
          ]
        },
        {
          "output_type": "stream",
          "name": "stderr",
          "text": [
            " 93%|█████████▎| 3716/4000 [06:51<00:18, 15.38it/s]"
          ]
        },
        {
          "output_type": "stream",
          "name": "stdout",
          "text": [
            "Processed sentence for image 250269.\n",
            "Processed sentence for image 420695.\n",
            "Processed sentence for image 94207.\n"
          ]
        },
        {
          "output_type": "stream",
          "name": "stderr",
          "text": [
            "\r 93%|█████████▎| 3718/4000 [06:51<00:20, 14.08it/s]"
          ]
        },
        {
          "output_type": "stream",
          "name": "stdout",
          "text": [
            "Processed sentence for image 70899.\n",
            "Processed sentence for image 744334.\n",
            "Processed sentence for image 93327.\n"
          ]
        },
        {
          "output_type": "stream",
          "name": "stderr",
          "text": [
            " 93%|█████████▎| 3722/4000 [06:51<00:19, 14.05it/s]"
          ]
        },
        {
          "output_type": "stream",
          "name": "stdout",
          "text": [
            "Processed sentence for image 1060397.\n",
            "Processed sentence for image 701675.\n",
            "Processed sentence for image 73415.\n",
            "Processed sentence for image 30247.\n"
          ]
        },
        {
          "output_type": "stream",
          "name": "stderr",
          "text": [
            " 93%|█████████▎| 3726/4000 [06:52<00:21, 12.51it/s]"
          ]
        },
        {
          "output_type": "stream",
          "name": "stdout",
          "text": [
            "Processed sentence for image 1711960.\n",
            "Processed sentence for image 21814.\n",
            "Processed sentence for image 73477.\n"
          ]
        },
        {
          "output_type": "stream",
          "name": "stderr",
          "text": [
            " 93%|█████████▎| 3730/4000 [06:52<00:18, 14.26it/s]"
          ]
        },
        {
          "output_type": "stream",
          "name": "stdout",
          "text": [
            "Processed sentence for image 421933.\n",
            "Processed sentence for image 1337714.\n",
            "Processed sentence for image 94416.\n",
            "Processed sentence for image 74866.\n"
          ]
        },
        {
          "output_type": "stream",
          "name": "stderr",
          "text": [
            " 93%|█████████▎| 3734/4000 [06:52<00:16, 15.70it/s]"
          ]
        },
        {
          "output_type": "stream",
          "name": "stdout",
          "text": [
            "Processed sentence for image 801.\n",
            "Processed sentence for image 1337669.\n",
            "Processed sentence for image 27187.\n",
            "Processed sentence for image 407410.\n"
          ]
        },
        {
          "output_type": "stream",
          "name": "stderr",
          "text": [
            " 93%|█████████▎| 3738/4000 [06:52<00:17, 14.78it/s]"
          ]
        },
        {
          "output_type": "stream",
          "name": "stdout",
          "text": [
            "Processed sentence for image 158193.\n",
            "Processed sentence for image 1374968.\n",
            "Processed sentence for image 528381.\n",
            "Processed sentence for image 796007.\n"
          ]
        },
        {
          "output_type": "stream",
          "name": "stderr",
          "text": [
            "\r 94%|█████████▎| 3741/4000 [06:53<00:16, 16.16it/s]"
          ]
        },
        {
          "output_type": "stream",
          "name": "stdout",
          "text": [
            "Processed sentence for image 610581.\n",
            "Processed sentence for image 36762.\n",
            "Processed sentence for image 126152.\n"
          ]
        },
        {
          "output_type": "stream",
          "name": "stderr",
          "text": [
            "\r 94%|█████████▎| 3743/4000 [06:53<00:17, 14.55it/s]"
          ]
        },
        {
          "output_type": "stream",
          "name": "stdout",
          "text": [
            "Processed sentence for image 92922.\n",
            "Processed sentence for image 729435.\n",
            "Processed sentence for image 90661.\n"
          ]
        },
        {
          "output_type": "stream",
          "name": "stderr",
          "text": [
            " 94%|█████████▎| 3747/4000 [06:53<00:20, 12.60it/s]"
          ]
        },
        {
          "output_type": "stream",
          "name": "stdout",
          "text": [
            "Processed sentence for image 74888.\n",
            "Processed sentence for image 110275.\n",
            "Processed sentence for image 65257.\n"
          ]
        },
        {
          "output_type": "stream",
          "name": "stderr",
          "text": [
            " 94%|█████████▍| 3751/4000 [06:53<00:17, 13.94it/s]"
          ]
        },
        {
          "output_type": "stream",
          "name": "stdout",
          "text": [
            "Processed sentence for image 93196.\n",
            "Processed sentence for image 441548.\n",
            "Processed sentence for image 72444.\n",
            "Processed sentence for image 335477.\n"
          ]
        },
        {
          "output_type": "stream",
          "name": "stderr",
          "text": [
            " 94%|█████████▍| 3755/4000 [06:54<00:16, 14.83it/s]"
          ]
        },
        {
          "output_type": "stream",
          "name": "stdout",
          "text": [
            "Processed sentence for image 1037210.\n",
            "Processed sentence for image 115832.\n",
            "Processed sentence for image 520901.\n",
            "Processed sentence for image 116180.\n",
            "Processed sentence for image 74249.\n"
          ]
        },
        {
          "output_type": "stream",
          "name": "stderr",
          "text": [
            "\r 94%|█████████▍| 3758/4000 [06:54<00:14, 16.51it/s]"
          ]
        },
        {
          "output_type": "stream",
          "name": "stdout",
          "text": [
            "Processed sentence for image 1097438.\n",
            "Processed sentence for image 961068.\n",
            "Processed sentence for image 1009966.\n"
          ]
        },
        {
          "output_type": "stream",
          "name": "stderr",
          "text": [
            " 94%|█████████▍| 3762/4000 [06:54<00:16, 14.60it/s]"
          ]
        },
        {
          "output_type": "stream",
          "name": "stdout",
          "text": [
            "Processed sentence for image 1114143.\n",
            "Processed sentence for image 1135540.\n",
            "Processed sentence for image 139624.\n"
          ]
        },
        {
          "output_type": "stream",
          "name": "stderr",
          "text": [
            " 94%|█████████▍| 3766/4000 [06:54<00:16, 14.34it/s]"
          ]
        },
        {
          "output_type": "stream",
          "name": "stdout",
          "text": [
            "Processed sentence for image 24913.\n",
            "Processed sentence for image 790.\n",
            "Processed sentence for image 647640.\n",
            "Processed sentence for image 628288.\n"
          ]
        },
        {
          "output_type": "stream",
          "name": "stderr",
          "text": [
            "\r 94%|█████████▍| 3768/4000 [06:54<00:15, 15.04it/s]"
          ]
        },
        {
          "output_type": "stream",
          "name": "stdout",
          "text": [
            "Processed sentence for image 854350.\n",
            "Processed sentence for image 290.\n",
            "Processed sentence for image 65193.\n"
          ]
        },
        {
          "output_type": "stream",
          "name": "stderr",
          "text": [
            " 94%|█████████▍| 3772/4000 [06:55<00:16, 13.76it/s]"
          ]
        },
        {
          "output_type": "stream",
          "name": "stdout",
          "text": [
            "Processed sentence for image 1767744.\n",
            "Processed sentence for image 1693629.\n",
            "Processed sentence for image 614975.\n"
          ]
        },
        {
          "output_type": "stream",
          "name": "stderr",
          "text": [
            "\r 94%|█████████▍| 3774/4000 [06:55<00:16, 13.68it/s]"
          ]
        },
        {
          "output_type": "stream",
          "name": "stdout",
          "text": [
            "Processed sentence for image 812074.\n",
            "Processed sentence for image 1949707.\n",
            "Processed sentence for image 657063.\n"
          ]
        },
        {
          "output_type": "stream",
          "name": "stderr",
          "text": [
            "\r 94%|█████████▍| 3776/4000 [06:55<00:17, 13.05it/s]"
          ]
        },
        {
          "output_type": "stream",
          "name": "stdout",
          "text": [
            "Processed sentence for image 1124574.\n",
            "Processed sentence for image 117304.\n"
          ]
        },
        {
          "output_type": "stream",
          "name": "stderr",
          "text": [
            "\r 94%|█████████▍| 3778/4000 [06:55<00:20, 10.93it/s]"
          ]
        },
        {
          "output_type": "stream",
          "name": "stdout",
          "text": [
            "Processed sentence for image 449792.\n",
            "Processed sentence for image 1373165.\n"
          ]
        },
        {
          "output_type": "stream",
          "name": "stderr",
          "text": [
            " 95%|█████████▍| 3782/4000 [06:56<00:21, 10.17it/s]"
          ]
        },
        {
          "output_type": "stream",
          "name": "stdout",
          "text": [
            "Processed sentence for image 552533.\n",
            "Processed sentence for image 72013.\n",
            "Processed sentence for image 656889.\n"
          ]
        },
        {
          "output_type": "stream",
          "name": "stderr",
          "text": [
            "\r 95%|█████████▍| 3784/4000 [06:56<00:21, 10.08it/s]"
          ]
        },
        {
          "output_type": "stream",
          "name": "stdout",
          "text": [
            "Processed sentence for image 92872.\n",
            "Processed sentence for image 1299955.\n"
          ]
        },
        {
          "output_type": "stream",
          "name": "stderr",
          "text": [
            " 95%|█████████▍| 3787/4000 [06:56<00:24,  8.66it/s]"
          ]
        },
        {
          "output_type": "stream",
          "name": "stdout",
          "text": [
            "Processed sentence for image 73565.\n",
            "Processed sentence for image 126384.\n",
            "Processed sentence for image 1289558.\n"
          ]
        },
        {
          "output_type": "stream",
          "name": "stderr",
          "text": [
            " 95%|█████████▍| 3790/4000 [06:57<00:22,  9.23it/s]"
          ]
        },
        {
          "output_type": "stream",
          "name": "stdout",
          "text": [
            "Processed sentence for image 110150.\n",
            "Processed sentence for image 45735.\n",
            "Processed sentence for image 572797.\n"
          ]
        },
        {
          "output_type": "stream",
          "name": "stderr",
          "text": [
            "\r 95%|█████████▍| 3792/4000 [06:57<00:21,  9.67it/s]"
          ]
        },
        {
          "output_type": "stream",
          "name": "stdout",
          "text": [
            "Processed sentence for image 35916.\n",
            "Processed sentence for image 856474.\n"
          ]
        },
        {
          "output_type": "stream",
          "name": "stderr",
          "text": [
            " 95%|█████████▍| 3795/4000 [06:57<00:20, 10.14it/s]"
          ]
        },
        {
          "output_type": "stream",
          "name": "stdout",
          "text": [
            "Processed sentence for image 410848.\n",
            "Processed sentence for image 705468.\n",
            "Processed sentence for image 74892.\n"
          ]
        },
        {
          "output_type": "stream",
          "name": "stderr",
          "text": [
            "\r 95%|█████████▍| 3797/4000 [06:57<00:19, 10.29it/s]"
          ]
        },
        {
          "output_type": "stream",
          "name": "stdout",
          "text": [
            "Processed sentence for image 161160.\n",
            "Processed sentence for image 258547.\n",
            "Processed sentence for image 656280.\n"
          ]
        },
        {
          "output_type": "stream",
          "name": "stderr",
          "text": [
            " 95%|█████████▌| 3801/4000 [06:58<00:17, 11.06it/s]"
          ]
        },
        {
          "output_type": "stream",
          "name": "stdout",
          "text": [
            "Processed sentence for image 34551.\n",
            "Processed sentence for image 1751718.\n",
            "Processed sentence for image 72634.\n"
          ]
        },
        {
          "output_type": "stream",
          "name": "stderr",
          "text": [
            "\r 95%|█████████▌| 3803/4000 [06:58<00:17, 11.23it/s]"
          ]
        },
        {
          "output_type": "stream",
          "name": "stdout",
          "text": [
            "Processed sentence for image 1300748.\n",
            "Processed sentence for image 125767.\n",
            "Processed sentence for image 943572.\n"
          ]
        },
        {
          "output_type": "stream",
          "name": "stderr",
          "text": [
            "\r 95%|█████████▌| 3805/4000 [06:58<00:17, 11.25it/s]"
          ]
        },
        {
          "output_type": "stream",
          "name": "stdout",
          "text": [
            "Processed sentence for image 15286.\n",
            "Processed sentence for image 560264.\n"
          ]
        },
        {
          "output_type": "stream",
          "name": "stderr",
          "text": [
            " 95%|█████████▌| 3809/4000 [06:58<00:18, 10.30it/s]"
          ]
        },
        {
          "output_type": "stream",
          "name": "stdout",
          "text": [
            "Processed sentence for image 117533.\n",
            "Processed sentence for image 1717249.\n",
            "Processed sentence for image 14002.\n"
          ]
        },
        {
          "output_type": "stream",
          "name": "stderr",
          "text": [
            "\r 95%|█████████▌| 3811/4000 [06:59<00:19,  9.94it/s]"
          ]
        },
        {
          "output_type": "stream",
          "name": "stdout",
          "text": [
            "Processed sentence for image 1329448.\n",
            "Processed sentence for image 1038122.\n",
            "Processed sentence for image 696701.\n"
          ]
        },
        {
          "output_type": "stream",
          "name": "stderr",
          "text": [
            " 95%|█████████▌| 3815/4000 [06:59<00:17, 10.36it/s]"
          ]
        },
        {
          "output_type": "stream",
          "name": "stdout",
          "text": [
            "Processed sentence for image 13883.\n",
            "Processed sentence for image 491947.\n",
            "Processed sentence for image 21387.\n"
          ]
        },
        {
          "output_type": "stream",
          "name": "stderr",
          "text": [
            "\r 95%|█████████▌| 3817/4000 [06:59<00:19,  9.41it/s]"
          ]
        },
        {
          "output_type": "stream",
          "name": "stdout",
          "text": [
            "Processed sentence for image 1949946.\n",
            "Processed sentence for image 9228.\n"
          ]
        },
        {
          "output_type": "stream",
          "name": "stderr",
          "text": [
            " 95%|█████████▌| 3819/4000 [07:00<00:20,  8.86it/s]"
          ]
        },
        {
          "output_type": "stream",
          "name": "stdout",
          "text": [
            "Processed sentence for image 402407.\n",
            "Processed sentence for image 23796.\n"
          ]
        },
        {
          "output_type": "stream",
          "name": "stderr",
          "text": [
            " 96%|█████████▌| 3821/4000 [07:00<00:22,  7.86it/s]"
          ]
        },
        {
          "output_type": "stream",
          "name": "stdout",
          "text": [
            "Processed sentence for image 74266.\n",
            "Processed sentence for image 1056382.\n"
          ]
        },
        {
          "output_type": "stream",
          "name": "stderr",
          "text": [
            "\r 96%|█████████▌| 3823/4000 [07:00<00:18,  9.51it/s]"
          ]
        },
        {
          "output_type": "stream",
          "name": "stdout",
          "text": [
            "Processed sentence for image 48665.\n",
            "Processed sentence for image 458119.\n",
            "Processed sentence for image 1059833.\n"
          ]
        },
        {
          "output_type": "stream",
          "name": "stderr",
          "text": [
            "\r 96%|█████████▌| 3825/4000 [07:00<00:15, 11.06it/s]"
          ]
        },
        {
          "output_type": "stream",
          "name": "stdout",
          "text": [
            "Processed sentence for image 74136.\n",
            "Processed sentence for image 117338.\n"
          ]
        },
        {
          "output_type": "stream",
          "name": "stderr",
          "text": [
            "\r 96%|█████████▌| 3827/4000 [07:00<00:16, 10.37it/s]"
          ]
        },
        {
          "output_type": "stream",
          "name": "stdout",
          "text": [
            "Processed sentence for image 1739563.\n",
            "Processed sentence for image 575598.\n"
          ]
        },
        {
          "output_type": "stream",
          "name": "stderr",
          "text": [
            " 96%|█████████▌| 3831/4000 [07:01<00:17,  9.89it/s]"
          ]
        },
        {
          "output_type": "stream",
          "name": "stdout",
          "text": [
            "Processed sentence for image 90245.\n",
            "Processed sentence for image 139261.\n",
            "Processed sentence for image 859356.\n"
          ]
        },
        {
          "output_type": "stream",
          "name": "stderr",
          "text": [
            "\r 96%|█████████▌| 3833/4000 [07:01<00:18,  8.94it/s]"
          ]
        },
        {
          "output_type": "stream",
          "name": "stdout",
          "text": [
            "Processed sentence for image 699177.\n",
            "Processed sentence for image 73441.\n"
          ]
        },
        {
          "output_type": "stream",
          "name": "stderr",
          "text": [
            "\r 96%|█████████▌| 3835/4000 [07:01<00:16,  9.75it/s]"
          ]
        },
        {
          "output_type": "stream",
          "name": "stdout",
          "text": [
            "Processed sentence for image 123364.\n",
            "Processed sentence for image 337204.\n",
            "Processed sentence for image 110699.\n"
          ]
        },
        {
          "output_type": "stream",
          "name": "stderr",
          "text": [
            " 96%|█████████▌| 3839/4000 [07:02<00:15, 10.66it/s]"
          ]
        },
        {
          "output_type": "stream",
          "name": "stdout",
          "text": [
            "Processed sentence for image 565004.\n",
            "Processed sentence for image 490003.\n",
            "Processed sentence for image 609482.\n"
          ]
        },
        {
          "output_type": "stream",
          "name": "stderr",
          "text": [
            "\r 96%|█████████▌| 3841/4000 [07:02<00:14, 10.69it/s]"
          ]
        },
        {
          "output_type": "stream",
          "name": "stdout",
          "text": [
            "Processed sentence for image 37673.\n",
            "Processed sentence for image 73247.\n",
            "Processed sentence for image 1816758.\n"
          ]
        },
        {
          "output_type": "stream",
          "name": "stderr",
          "text": [
            " 96%|█████████▌| 3845/4000 [07:02<00:14, 10.97it/s]"
          ]
        },
        {
          "output_type": "stream",
          "name": "stdout",
          "text": [
            "Processed sentence for image 1913874.\n",
            "Processed sentence for image 222745.\n",
            "Processed sentence for image 71269.\n"
          ]
        },
        {
          "output_type": "stream",
          "name": "stderr",
          "text": [
            "\r 96%|█████████▌| 3847/4000 [07:02<00:14, 10.87it/s]"
          ]
        },
        {
          "output_type": "stream",
          "name": "stdout",
          "text": [
            "Processed sentence for image 1037091.\n",
            "Processed sentence for image 825646.\n",
            "Processed sentence for image 1710936.\n"
          ]
        },
        {
          "output_type": "stream",
          "name": "stderr",
          "text": [
            "\r 96%|█████████▌| 3849/4000 [07:03<00:14, 10.65it/s]"
          ]
        },
        {
          "output_type": "stream",
          "name": "stdout",
          "text": [
            "Processed sentence for image 593471.\n",
            "Processed sentence for image 179127.\n"
          ]
        },
        {
          "output_type": "stream",
          "name": "stderr",
          "text": [
            "\r 96%|█████████▋| 3851/4000 [07:03<00:14,  9.96it/s]"
          ]
        },
        {
          "output_type": "stream",
          "name": "stdout",
          "text": [
            "Processed sentence for image 72697.\n",
            "Processed sentence for image 590298.\n"
          ]
        },
        {
          "output_type": "stream",
          "name": "stderr",
          "text": [
            " 96%|█████████▋| 3854/4000 [07:03<00:15,  9.13it/s]"
          ]
        },
        {
          "output_type": "stream",
          "name": "stdout",
          "text": [
            "Processed sentence for image 72081.\n",
            "Processed sentence for image 1320888.\n"
          ]
        },
        {
          "output_type": "stream",
          "name": "stderr",
          "text": [
            " 96%|█████████▋| 3856/4000 [07:03<00:16,  8.70it/s]"
          ]
        },
        {
          "output_type": "stream",
          "name": "stdout",
          "text": [
            "Processed sentence for image 16169.\n",
            "Processed sentence for image 1992762.\n"
          ]
        },
        {
          "output_type": "stream",
          "name": "stderr",
          "text": [
            " 96%|█████████▋| 3859/4000 [07:04<00:15,  9.39it/s]"
          ]
        },
        {
          "output_type": "stream",
          "name": "stdout",
          "text": [
            "Processed sentence for image 90512.\n",
            "Processed sentence for image 67473.\n",
            "Processed sentence for image 118395.\n"
          ]
        },
        {
          "output_type": "stream",
          "name": "stderr",
          "text": [
            "\r 97%|█████████▋| 3861/4000 [07:04<00:14,  9.59it/s]"
          ]
        },
        {
          "output_type": "stream",
          "name": "stdout",
          "text": [
            "Processed sentence for image 1953977.\n",
            "Processed sentence for image 72317.\n"
          ]
        },
        {
          "output_type": "stream",
          "name": "stderr",
          "text": [
            " 97%|█████████▋| 3863/4000 [07:04<00:17,  7.89it/s]"
          ]
        },
        {
          "output_type": "stream",
          "name": "stdout",
          "text": [
            "Processed sentence for image 64633.\n",
            "Processed sentence for image 665163.\n",
            "Processed sentence for image 13303.\n"
          ]
        },
        {
          "output_type": "stream",
          "name": "stderr",
          "text": [
            "\r 97%|█████████▋| 3865/4000 [07:04<00:13,  9.88it/s]"
          ]
        },
        {
          "output_type": "stream",
          "name": "stdout",
          "text": [
            "Processed sentence for image 15847.\n",
            "Processed sentence for image 635107.\n"
          ]
        },
        {
          "output_type": "stream",
          "name": "stderr",
          "text": [
            " 97%|█████████▋| 3868/4000 [07:05<00:16,  8.23it/s]"
          ]
        },
        {
          "output_type": "stream",
          "name": "stdout",
          "text": [
            "Processed sentence for image 538405.\n",
            "Processed sentence for image 71239.\n"
          ]
        },
        {
          "output_type": "stream",
          "name": "stderr",
          "text": [
            " 97%|█████████▋| 3870/4000 [07:05<00:16,  8.12it/s]"
          ]
        },
        {
          "output_type": "stream",
          "name": "stdout",
          "text": [
            "Processed sentence for image 569602.\n",
            "Processed sentence for image 46201.\n",
            "Processed sentence for image 1482680.\n"
          ]
        },
        {
          "output_type": "stream",
          "name": "stderr",
          "text": [
            " 97%|█████████▋| 3873/4000 [07:05<00:14,  8.51it/s]"
          ]
        },
        {
          "output_type": "stream",
          "name": "stdout",
          "text": [
            "Processed sentence for image 1143738.\n",
            "Processed sentence for image 465045.\n"
          ]
        },
        {
          "output_type": "stream",
          "name": "stderr",
          "text": [
            " 97%|█████████▋| 3876/4000 [07:06<00:12,  9.63it/s]"
          ]
        },
        {
          "output_type": "stream",
          "name": "stdout",
          "text": [
            "Processed sentence for image 73258.\n",
            "Processed sentence for image 1953545.\n",
            "Processed sentence for image 830057.\n"
          ]
        },
        {
          "output_type": "stream",
          "name": "stderr",
          "text": [
            " 97%|█████████▋| 3878/4000 [07:06<00:14,  8.43it/s]"
          ]
        },
        {
          "output_type": "stream",
          "name": "stdout",
          "text": [
            "Processed sentence for image 70784.\n",
            "Processed sentence for image 1810154.\n"
          ]
        },
        {
          "output_type": "stream",
          "name": "stderr",
          "text": [
            " 97%|█████████▋| 3880/4000 [07:06<00:13,  8.57it/s]"
          ]
        },
        {
          "output_type": "stream",
          "name": "stdout",
          "text": [
            "Processed sentence for image 344479.\n",
            "Processed sentence for image 45690.\n",
            "Processed sentence for image 15001.\n"
          ]
        },
        {
          "output_type": "stream",
          "name": "stderr",
          "text": [
            " 97%|█████████▋| 3883/4000 [07:06<00:12,  9.04it/s]"
          ]
        },
        {
          "output_type": "stream",
          "name": "stdout",
          "text": [
            "Processed sentence for image 72250.\n",
            "Processed sentence for image 1020981.\n"
          ]
        },
        {
          "output_type": "stream",
          "name": "stderr",
          "text": [
            " 97%|█████████▋| 3885/4000 [07:07<00:13,  8.56it/s]"
          ]
        },
        {
          "output_type": "stream",
          "name": "stdout",
          "text": [
            "Processed sentence for image 8775.\n",
            "Processed sentence for image 776220.\n",
            "Processed sentence for image 742151.\n"
          ]
        },
        {
          "output_type": "stream",
          "name": "stderr",
          "text": [
            " 97%|█████████▋| 3889/4000 [07:07<00:10, 10.65it/s]"
          ]
        },
        {
          "output_type": "stream",
          "name": "stdout",
          "text": [
            "Processed sentence for image 74819.\n",
            "Processed sentence for image 650901.\n",
            "Processed sentence for image 5995.\n"
          ]
        },
        {
          "output_type": "stream",
          "name": "stderr",
          "text": [
            "\r 97%|█████████▋| 3891/4000 [07:07<00:09, 11.65it/s]"
          ]
        },
        {
          "output_type": "stream",
          "name": "stdout",
          "text": [
            "Processed sentence for image 6219.\n",
            "Processed sentence for image 638788.\n",
            "Processed sentence for image 64914.\n"
          ]
        },
        {
          "output_type": "stream",
          "name": "stderr",
          "text": [
            " 97%|█████████▋| 3895/4000 [07:08<00:09, 11.56it/s]"
          ]
        },
        {
          "output_type": "stream",
          "name": "stdout",
          "text": [
            "Processed sentence for image 213611.\n",
            "Processed sentence for image 122195.\n",
            "Processed sentence for image 167617.\n"
          ]
        },
        {
          "output_type": "stream",
          "name": "stderr",
          "text": [
            "\r 97%|█████████▋| 3897/4000 [07:08<00:09, 10.78it/s]"
          ]
        },
        {
          "output_type": "stream",
          "name": "stdout",
          "text": [
            "Processed sentence for image 72449.\n",
            "Processed sentence for image 70413.\n"
          ]
        },
        {
          "output_type": "stream",
          "name": "stderr",
          "text": [
            "\r 97%|█████████▋| 3899/4000 [07:08<00:09, 10.15it/s]"
          ]
        },
        {
          "output_type": "stream",
          "name": "stdout",
          "text": [
            "Processed sentence for image 319246.\n",
            "Processed sentence for image 1038040.\n",
            "Processed sentence for image 72015.\n"
          ]
        },
        {
          "output_type": "stream",
          "name": "stderr",
          "text": [
            " 98%|█████████▊| 3903/4000 [07:08<00:09, 10.25it/s]"
          ]
        },
        {
          "output_type": "stream",
          "name": "stdout",
          "text": [
            "Processed sentence for image 122539.\n",
            "Processed sentence for image 1100566.\n",
            "Processed sentence for image 896410.\n"
          ]
        },
        {
          "output_type": "stream",
          "name": "stderr",
          "text": [
            "\r 98%|█████████▊| 3905/4000 [07:09<00:09, 10.30it/s]"
          ]
        },
        {
          "output_type": "stream",
          "name": "stdout",
          "text": [
            "Processed sentence for image 778361.\n",
            "Processed sentence for image 1030758.\n"
          ]
        },
        {
          "output_type": "stream",
          "name": "stderr",
          "text": [
            " 98%|█████████▊| 3909/4000 [07:09<00:07, 12.08it/s]"
          ]
        },
        {
          "output_type": "stream",
          "name": "stdout",
          "text": [
            "Processed sentence for image 38819.\n",
            "Processed sentence for image 1826534.\n",
            "Processed sentence for image 415398.\n",
            "Processed sentence for image 74152.\n"
          ]
        },
        {
          "output_type": "stream",
          "name": "stderr",
          "text": [
            "\r 98%|█████████▊| 3911/4000 [07:09<00:06, 12.98it/s]"
          ]
        },
        {
          "output_type": "stream",
          "name": "stdout",
          "text": [
            "Processed sentence for image 456040.\n",
            "Processed sentence for image 72861.\n",
            "Processed sentence for image 122517.\n",
            "Processed sentence for image 122346.\n"
          ]
        },
        {
          "output_type": "stream",
          "name": "stderr",
          "text": [
            " 98%|█████████▊| 3916/4000 [07:09<00:05, 15.72it/s]"
          ]
        },
        {
          "output_type": "stream",
          "name": "stdout",
          "text": [
            "Processed sentence for image 480647.\n",
            "Processed sentence for image 828828.\n",
            "Processed sentence for image 25443.\n",
            "Processed sentence for image 1014188.\n"
          ]
        },
        {
          "output_type": "stream",
          "name": "stderr",
          "text": [
            " 98%|█████████▊| 3920/4000 [07:09<00:05, 15.11it/s]"
          ]
        },
        {
          "output_type": "stream",
          "name": "stdout",
          "text": [
            "Processed sentence for image 27041.\n",
            "Processed sentence for image 553009.\n",
            "Processed sentence for image 1369636.\n"
          ]
        },
        {
          "output_type": "stream",
          "name": "stderr",
          "text": [
            "\r 98%|█████████▊| 3922/4000 [07:10<00:05, 13.25it/s]"
          ]
        },
        {
          "output_type": "stream",
          "name": "stdout",
          "text": [
            "Processed sentence for image 424585.\n",
            "Processed sentence for image 592655.\n",
            "Processed sentence for image 74790.\n"
          ]
        },
        {
          "output_type": "stream",
          "name": "stderr",
          "text": [
            " 98%|█████████▊| 3926/4000 [07:10<00:05, 13.11it/s]"
          ]
        },
        {
          "output_type": "stream",
          "name": "stdout",
          "text": [
            "Processed sentence for image 113313.\n",
            "Processed sentence for image 1086050.\n",
            "Processed sentence for image 1405444.\n"
          ]
        },
        {
          "output_type": "stream",
          "name": "stderr",
          "text": [
            " 98%|█████████▊| 3931/4000 [07:10<00:04, 16.28it/s]"
          ]
        },
        {
          "output_type": "stream",
          "name": "stdout",
          "text": [
            "Processed sentence for image 34096.\n",
            "Processed sentence for image 10625.\n",
            "Processed sentence for image 14707.\n",
            "Processed sentence for image 554970.\n",
            "Processed sentence for image 73466.\n"
          ]
        },
        {
          "output_type": "stream",
          "name": "stderr",
          "text": [
            "\r 98%|█████████▊| 3933/4000 [07:10<00:04, 14.60it/s]"
          ]
        },
        {
          "output_type": "stream",
          "name": "stdout",
          "text": [
            "Processed sentence for image 510500.\n",
            "Processed sentence for image 634211.\n",
            "Processed sentence for image 40674.\n"
          ]
        },
        {
          "output_type": "stream",
          "name": "stderr",
          "text": [
            " 98%|█████████▊| 3937/4000 [07:11<00:04, 12.93it/s]"
          ]
        },
        {
          "output_type": "stream",
          "name": "stdout",
          "text": [
            "Processed sentence for image 157454.\n",
            "Processed sentence for image 20901.\n",
            "Processed sentence for image 1043925.\n",
            "Processed sentence for image 73916.\n"
          ]
        },
        {
          "output_type": "stream",
          "name": "stderr",
          "text": [
            "\r 98%|█████████▊| 3940/4000 [07:11<00:04, 14.86it/s]"
          ]
        },
        {
          "output_type": "stream",
          "name": "stdout",
          "text": [
            "Processed sentence for image 671524.\n",
            "Processed sentence for image 1402972.\n",
            "Processed sentence for image 665306.\n"
          ]
        },
        {
          "output_type": "stream",
          "name": "stderr",
          "text": [
            " 99%|█████████▊| 3945/4000 [07:11<00:03, 15.98it/s]"
          ]
        },
        {
          "output_type": "stream",
          "name": "stdout",
          "text": [
            "Processed sentence for image 128451.\n",
            "Processed sentence for image 703281.\n",
            "Processed sentence for image 520959.\n",
            "Processed sentence for image 73526.\n"
          ]
        },
        {
          "output_type": "stream",
          "name": "stderr",
          "text": [
            " 99%|█████████▊| 3949/4000 [07:12<00:03, 14.38it/s]"
          ]
        },
        {
          "output_type": "stream",
          "name": "stdout",
          "text": [
            "Processed sentence for image 1335744.\n",
            "Processed sentence for image 254230.\n",
            "Processed sentence for image 791629.\n",
            "Processed sentence for image 594393.\n"
          ]
        },
        {
          "output_type": "stream",
          "name": "stderr",
          "text": [
            " 99%|█████████▉| 3953/4000 [07:12<00:03, 14.69it/s]"
          ]
        },
        {
          "output_type": "stream",
          "name": "stdout",
          "text": [
            "Processed sentence for image 2036738.\n",
            "Processed sentence for image 119193.\n",
            "Processed sentence for image 736935.\n",
            "Processed sentence for image 28649.\n"
          ]
        },
        {
          "output_type": "stream",
          "name": "stderr",
          "text": [
            " 99%|█████████▉| 3957/4000 [07:12<00:02, 15.88it/s]"
          ]
        },
        {
          "output_type": "stream",
          "name": "stdout",
          "text": [
            "Processed sentence for image 23808.\n",
            "Processed sentence for image 63466.\n",
            "Processed sentence for image 301575.\n",
            "Processed sentence for image 29142.\n"
          ]
        },
        {
          "output_type": "stream",
          "name": "stderr",
          "text": [
            "\r 99%|█████████▉| 3959/4000 [07:12<00:02, 13.81it/s]"
          ]
        },
        {
          "output_type": "stream",
          "name": "stdout",
          "text": [
            "Processed sentence for image 485223.\n",
            "Processed sentence for image 720943.\n",
            "Processed sentence for image 744197.\n"
          ]
        },
        {
          "output_type": "stream",
          "name": "stderr",
          "text": [
            " 99%|█████████▉| 3963/4000 [07:13<00:02, 13.13it/s]"
          ]
        },
        {
          "output_type": "stream",
          "name": "stdout",
          "text": [
            "Processed sentence for image 1873925.\n",
            "Processed sentence for image 327043.\n",
            "Processed sentence for image 478957.\n"
          ]
        },
        {
          "output_type": "stream",
          "name": "stderr",
          "text": [
            "\r 99%|█████████▉| 3965/4000 [07:13<00:02, 13.54it/s]"
          ]
        },
        {
          "output_type": "stream",
          "name": "stdout",
          "text": [
            "Processed sentence for image 1125773.\n",
            "Processed sentence for image 73837.\n",
            "Processed sentence for image 1059975.\n"
          ]
        },
        {
          "output_type": "stream",
          "name": "stderr",
          "text": [
            " 99%|█████████▉| 3969/4000 [07:13<00:02, 13.01it/s]"
          ]
        },
        {
          "output_type": "stream",
          "name": "stdout",
          "text": [
            "Processed sentence for image 122769.\n",
            "Processed sentence for image 933511.\n",
            "Processed sentence for image 1792617.\n"
          ]
        },
        {
          "output_type": "stream",
          "name": "stderr",
          "text": [
            "\r 99%|█████████▉| 3971/4000 [07:13<00:02, 12.23it/s]"
          ]
        },
        {
          "output_type": "stream",
          "name": "stdout",
          "text": [
            "Processed sentence for image 356303.\n",
            "Processed sentence for image 121050.\n",
            "Processed sentence for image 67077.\n"
          ]
        },
        {
          "output_type": "stream",
          "name": "stderr",
          "text": [
            " 99%|█████████▉| 3975/4000 [07:14<00:02, 12.06it/s]"
          ]
        },
        {
          "output_type": "stream",
          "name": "stdout",
          "text": [
            "Processed sentence for image 1952705.\n",
            "Processed sentence for image 92112.\n",
            "Processed sentence for image 474833.\n"
          ]
        },
        {
          "output_type": "stream",
          "name": "stderr",
          "text": [
            "\r 99%|█████████▉| 3977/4000 [07:14<00:01, 12.37it/s]"
          ]
        },
        {
          "output_type": "stream",
          "name": "stdout",
          "text": [
            "Processed sentence for image 13140.\n",
            "Processed sentence for image 1993706.\n",
            "Processed sentence for image 10139.\n"
          ]
        },
        {
          "output_type": "stream",
          "name": "stderr",
          "text": [
            "100%|█████████▉| 3981/4000 [07:14<00:01, 12.17it/s]"
          ]
        },
        {
          "output_type": "stream",
          "name": "stdout",
          "text": [
            "Processed sentence for image 116790.\n",
            "Processed sentence for image 8678.\n",
            "Processed sentence for image 943698.\n"
          ]
        },
        {
          "output_type": "stream",
          "name": "stderr",
          "text": [
            "\r100%|█████████▉| 3983/4000 [07:14<00:01, 12.00it/s]"
          ]
        },
        {
          "output_type": "stream",
          "name": "stdout",
          "text": [
            "Processed sentence for image 1346126.\n",
            "Processed sentence for image 1031361.\n",
            "Processed sentence for image 485472.\n"
          ]
        },
        {
          "output_type": "stream",
          "name": "stderr",
          "text": [
            "100%|█████████▉| 3987/4000 [07:15<00:01, 12.68it/s]"
          ]
        },
        {
          "output_type": "stream",
          "name": "stdout",
          "text": [
            "Processed sentence for image 1118649.\n",
            "Processed sentence for image 74657.\n",
            "Processed sentence for image 575414.\n"
          ]
        },
        {
          "output_type": "stream",
          "name": "stderr",
          "text": [
            "\r100%|█████████▉| 3989/4000 [07:15<00:00, 13.29it/s]"
          ]
        },
        {
          "output_type": "stream",
          "name": "stdout",
          "text": [
            "Processed sentence for image 1077062.\n",
            "Processed sentence for image 50045.\n",
            "Processed sentence for image 471150.\n"
          ]
        },
        {
          "output_type": "stream",
          "name": "stderr",
          "text": [
            "100%|█████████▉| 3993/4000 [07:15<00:00, 13.22it/s]"
          ]
        },
        {
          "output_type": "stream",
          "name": "stdout",
          "text": [
            "Processed sentence for image 71966.\n",
            "Processed sentence for image 113501.\n",
            "Processed sentence for image 9763.\n"
          ]
        },
        {
          "output_type": "stream",
          "name": "stderr",
          "text": [
            "\r100%|█████████▉| 3995/4000 [07:15<00:00, 13.38it/s]"
          ]
        },
        {
          "output_type": "stream",
          "name": "stdout",
          "text": [
            "Processed sentence for image 46211.\n",
            "Processed sentence for image 90479.\n",
            "Processed sentence for image 1497144.\n",
            "Processed sentence for image 7632.\n"
          ]
        },
        {
          "output_type": "stream",
          "name": "stderr",
          "text": [
            "100%|██████████| 4000/4000 [07:15<00:00,  9.18it/s]"
          ]
        },
        {
          "output_type": "stream",
          "name": "stdout",
          "text": [
            "Processed sentence for image 72560.\n",
            "Processed sentence for image 72269.\n",
            "Processed sentence for image 33008.\n"
          ]
        },
        {
          "output_type": "stream",
          "name": "stderr",
          "text": [
            "\n"
          ]
        },
        {
          "output_type": "stream",
          "name": "stdout",
          "text": [
            "All sentences have been processed and the consolidated JSON file has been saved.\n"
          ]
        }
      ]
    },
    {
      "cell_type": "code",
      "source": [
        "from google.colab import drive\n",
        "drive.mount('/content/test_output')"
      ],
      "metadata": {
        "id": "jFzXdv1MpnAH",
        "outputId": "ac2869cf-1a24-4494-a641-be7365a4df60",
        "colab": {
          "base_uri": "https://localhost:8080/",
          "height": 304
        }
      },
      "execution_count": 37,
      "outputs": [
        {
          "output_type": "error",
          "ename": "ValueError",
          "evalue": "Mountpoint must not already contain files",
          "traceback": [
            "\u001b[0;31m---------------------------------------------------------------------------\u001b[0m",
            "\u001b[0;31mValueError\u001b[0m                                Traceback (most recent call last)",
            "\u001b[0;32m<ipython-input-37-1a53f4ed2356>\u001b[0m in \u001b[0;36m<cell line: 2>\u001b[0;34m()\u001b[0m\n\u001b[1;32m      1\u001b[0m \u001b[0;32mfrom\u001b[0m \u001b[0mgoogle\u001b[0m\u001b[0;34m.\u001b[0m\u001b[0mcolab\u001b[0m \u001b[0;32mimport\u001b[0m \u001b[0mdrive\u001b[0m\u001b[0;34m\u001b[0m\u001b[0;34m\u001b[0m\u001b[0m\n\u001b[0;32m----> 2\u001b[0;31m \u001b[0mdrive\u001b[0m\u001b[0;34m.\u001b[0m\u001b[0mmount\u001b[0m\u001b[0;34m(\u001b[0m\u001b[0;34m'/content/test_output'\u001b[0m\u001b[0;34m)\u001b[0m\u001b[0;34m\u001b[0m\u001b[0;34m\u001b[0m\u001b[0m\n\u001b[0m",
            "\u001b[0;32m/usr/local/lib/python3.10/dist-packages/google/colab/drive.py\u001b[0m in \u001b[0;36mmount\u001b[0;34m(mountpoint, force_remount, timeout_ms, readonly)\u001b[0m\n\u001b[1;32m     98\u001b[0m \u001b[0;32mdef\u001b[0m \u001b[0mmount\u001b[0m\u001b[0;34m(\u001b[0m\u001b[0mmountpoint\u001b[0m\u001b[0;34m,\u001b[0m \u001b[0mforce_remount\u001b[0m\u001b[0;34m=\u001b[0m\u001b[0;32mFalse\u001b[0m\u001b[0;34m,\u001b[0m \u001b[0mtimeout_ms\u001b[0m\u001b[0;34m=\u001b[0m\u001b[0;36m120000\u001b[0m\u001b[0;34m,\u001b[0m \u001b[0mreadonly\u001b[0m\u001b[0;34m=\u001b[0m\u001b[0;32mFalse\u001b[0m\u001b[0;34m)\u001b[0m\u001b[0;34m:\u001b[0m\u001b[0;34m\u001b[0m\u001b[0;34m\u001b[0m\u001b[0m\n\u001b[1;32m     99\u001b[0m   \u001b[0;34m\"\"\"Mount your Google Drive at the specified mountpoint path.\"\"\"\u001b[0m\u001b[0;34m\u001b[0m\u001b[0;34m\u001b[0m\u001b[0m\n\u001b[0;32m--> 100\u001b[0;31m   return _mount(\n\u001b[0m\u001b[1;32m    101\u001b[0m       \u001b[0mmountpoint\u001b[0m\u001b[0;34m,\u001b[0m\u001b[0;34m\u001b[0m\u001b[0;34m\u001b[0m\u001b[0m\n\u001b[1;32m    102\u001b[0m       \u001b[0mforce_remount\u001b[0m\u001b[0;34m=\u001b[0m\u001b[0mforce_remount\u001b[0m\u001b[0;34m,\u001b[0m\u001b[0;34m\u001b[0m\u001b[0;34m\u001b[0m\u001b[0m\n",
            "\u001b[0;32m/usr/local/lib/python3.10/dist-packages/google/colab/drive.py\u001b[0m in \u001b[0;36m_mount\u001b[0;34m(mountpoint, force_remount, timeout_ms, ephemeral, readonly)\u001b[0m\n\u001b[1;32m    197\u001b[0m       \u001b[0;32mraise\u001b[0m \u001b[0mValueError\u001b[0m\u001b[0;34m(\u001b[0m\u001b[0;34m'Mountpoint must not be a symlink'\u001b[0m\u001b[0;34m)\u001b[0m\u001b[0;34m\u001b[0m\u001b[0;34m\u001b[0m\u001b[0m\n\u001b[1;32m    198\u001b[0m     \u001b[0;32mif\u001b[0m \u001b[0m_os\u001b[0m\u001b[0;34m.\u001b[0m\u001b[0mpath\u001b[0m\u001b[0;34m.\u001b[0m\u001b[0misdir\u001b[0m\u001b[0;34m(\u001b[0m\u001b[0mmountpoint\u001b[0m\u001b[0;34m)\u001b[0m \u001b[0;32mand\u001b[0m \u001b[0m_os\u001b[0m\u001b[0;34m.\u001b[0m\u001b[0mlistdir\u001b[0m\u001b[0;34m(\u001b[0m\u001b[0mmountpoint\u001b[0m\u001b[0;34m)\u001b[0m\u001b[0;34m:\u001b[0m\u001b[0;34m\u001b[0m\u001b[0;34m\u001b[0m\u001b[0m\n\u001b[0;32m--> 199\u001b[0;31m       \u001b[0;32mraise\u001b[0m \u001b[0mValueError\u001b[0m\u001b[0;34m(\u001b[0m\u001b[0;34m'Mountpoint must not already contain files'\u001b[0m\u001b[0;34m)\u001b[0m\u001b[0;34m\u001b[0m\u001b[0;34m\u001b[0m\u001b[0m\n\u001b[0m\u001b[1;32m    200\u001b[0m     \u001b[0;32mif\u001b[0m \u001b[0;32mnot\u001b[0m \u001b[0m_os\u001b[0m\u001b[0;34m.\u001b[0m\u001b[0mpath\u001b[0m\u001b[0;34m.\u001b[0m\u001b[0misdir\u001b[0m\u001b[0;34m(\u001b[0m\u001b[0mmountpoint\u001b[0m\u001b[0;34m)\u001b[0m \u001b[0;32mand\u001b[0m \u001b[0m_os\u001b[0m\u001b[0;34m.\u001b[0m\u001b[0mpath\u001b[0m\u001b[0;34m.\u001b[0m\u001b[0mexists\u001b[0m\u001b[0;34m(\u001b[0m\u001b[0mmountpoint\u001b[0m\u001b[0;34m)\u001b[0m\u001b[0;34m:\u001b[0m\u001b[0;34m\u001b[0m\u001b[0;34m\u001b[0m\u001b[0m\n\u001b[1;32m    201\u001b[0m       \u001b[0;32mraise\u001b[0m \u001b[0mValueError\u001b[0m\u001b[0;34m(\u001b[0m\u001b[0;34m'Mountpoint must either be a directory or not exist'\u001b[0m\u001b[0;34m)\u001b[0m\u001b[0;34m\u001b[0m\u001b[0;34m\u001b[0m\u001b[0m\n",
            "\u001b[0;31mValueError\u001b[0m: Mountpoint must not already contain files"
          ]
        }
      ]
    },
    {
      "cell_type": "markdown",
      "metadata": {
        "id": "W435Lwc4YqKb"
      },
      "source": [
        "## 6. Other Resources\n",
        "\n",
        "- [Stanza Homepage](https://stanfordnlp.github.io/stanza/)\n",
        "- [FAQs](https://stanfordnlp.github.io/stanza/faq.html)\n",
        "- [GitHub Repo](https://github.com/stanfordnlp/stanza)\n",
        "- [Reporting Issues](https://github.com/stanfordnlp/stanza/issues)\n"
      ]
    },
    {
      "cell_type": "code",
      "source": [
        "from google.colab import drive\n",
        "drive.mount('/content/drive')"
      ],
      "metadata": {
        "id": "-4qz60DQsmPe",
        "outputId": "bf485997-fa9b-4fd5-ed29-b19903277cbe",
        "colab": {
          "base_uri": "https://localhost:8080/"
        }
      },
      "execution_count": 38,
      "outputs": [
        {
          "output_type": "stream",
          "name": "stdout",
          "text": [
            "Mounted at /content/drive\n"
          ]
        }
      ]
    },
    {
      "cell_type": "code",
      "source": [],
      "metadata": {
        "id": "DtuXGuNfsn4G"
      },
      "execution_count": null,
      "outputs": []
    }
  ]
}